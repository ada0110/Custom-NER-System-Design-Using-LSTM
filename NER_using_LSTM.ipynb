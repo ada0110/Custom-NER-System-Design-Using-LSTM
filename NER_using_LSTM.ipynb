{
  "nbformat": 4,
  "nbformat_minor": 0,
  "metadata": {
    "colab": {
      "name": "NLP_Assignment_2_Q1.ipynb",
      "provenance": [],
      "collapsed_sections": [],
      "toc_visible": true
    },
    "kernelspec": {
      "display_name": "Python 3",
      "name": "python3"
    },
    "language_info": {
      "name": "python"
    },
    "accelerator": "GPU"
  },
  "cells": [
    {
      "cell_type": "markdown",
      "metadata": {
        "id": "0gn4iKq89KQd"
      },
      "source": [
        "__Use 20Newsgroups dataset [link] and do the following tasks:__\n",
        "\n",
        "a) Run Stanford NER and Spacy NER and extract Named Entities from the data.\n",
        "\n",
        "\n",
        "b) Find the top 100 LOC and PERSON entities from the data set. What is the degree of correlation between the two systems? Consider partial and full matches.\n",
        "\n",
        "\n",
        "c) Generate Word2vec, Glove, Fasttext and BERT word vectors for the above corpus.\n",
        "\n",
        "\n",
        "d) Use the NERs detected in Step (a). to create annotated documents for NER detection. Divide the document collection into training, validation and test data sets. Implement a custom NER systems (for all 4 vector embedding techniques mentioned in (c)) using\n",
        "--> LSTM.\n",
        "--> BERT.\n",
        "\n",
        "Compare the results of the two systems on the test data collection for all embedding techniques.\n",
        "\n",
        "e) Submit full documentation of the system - along with comparative performances of all the systems.\n"
      ]
    },
    {
      "cell_type": "markdown",
      "metadata": {
        "id": "qNR8dvUoxHgS"
      },
      "source": [
        "## Imports"
      ]
    },
    {
      "cell_type": "code",
      "metadata": {
        "colab": {
          "base_uri": "https://localhost:8080/"
        },
        "id": "-14asIOnH6Kc",
        "outputId": "4a7dfc46-9816-4c32-8a45-73b0f97c2b2b"
      },
      "source": [
        "!pip install stanza"
      ],
      "execution_count": null,
      "outputs": [
        {
          "output_type": "stream",
          "text": [
            "Collecting stanza\n",
            "\u001b[?25l  Downloading https://files.pythonhosted.org/packages/50/ae/a70a58ce6b4e2daad538688806ee0f238dbe601954582a74ea57cde6c532/stanza-1.2-py3-none-any.whl (282kB)\n",
            "\u001b[K     |████████████████████████████████| 286kB 7.9MB/s \n",
            "\u001b[?25hRequirement already satisfied: torch>=1.3.0 in /usr/local/lib/python3.7/dist-packages (from stanza) (1.8.1+cu101)\n",
            "Requirement already satisfied: numpy in /usr/local/lib/python3.7/dist-packages (from stanza) (1.19.5)\n",
            "Requirement already satisfied: requests in /usr/local/lib/python3.7/dist-packages (from stanza) (2.23.0)\n",
            "Requirement already satisfied: protobuf in /usr/local/lib/python3.7/dist-packages (from stanza) (3.12.4)\n",
            "Requirement already satisfied: tqdm in /usr/local/lib/python3.7/dist-packages (from stanza) (4.41.1)\n",
            "Requirement already satisfied: typing-extensions in /usr/local/lib/python3.7/dist-packages (from torch>=1.3.0->stanza) (3.7.4.3)\n",
            "Requirement already satisfied: idna<3,>=2.5 in /usr/local/lib/python3.7/dist-packages (from requests->stanza) (2.10)\n",
            "Requirement already satisfied: urllib3!=1.25.0,!=1.25.1,<1.26,>=1.21.1 in /usr/local/lib/python3.7/dist-packages (from requests->stanza) (1.24.3)\n",
            "Requirement already satisfied: certifi>=2017.4.17 in /usr/local/lib/python3.7/dist-packages (from requests->stanza) (2020.12.5)\n",
            "Requirement already satisfied: chardet<4,>=3.0.2 in /usr/local/lib/python3.7/dist-packages (from requests->stanza) (3.0.4)\n",
            "Requirement already satisfied: six>=1.9 in /usr/local/lib/python3.7/dist-packages (from protobuf->stanza) (1.15.0)\n",
            "Requirement already satisfied: setuptools in /usr/local/lib/python3.7/dist-packages (from protobuf->stanza) (56.1.0)\n",
            "Installing collected packages: stanza\n",
            "Successfully installed stanza-1.2\n"
          ],
          "name": "stdout"
        }
      ]
    },
    {
      "cell_type": "code",
      "metadata": {
        "colab": {
          "base_uri": "https://localhost:8080/"
        },
        "id": "tlq-g2o1aidX",
        "outputId": "581e5303-4d7c-4add-9085-55c5754650a8"
      },
      "source": [
        "!pip install fasttext"
      ],
      "execution_count": null,
      "outputs": [
        {
          "output_type": "stream",
          "text": [
            "Collecting fasttext\n",
            "\u001b[?25l  Downloading https://files.pythonhosted.org/packages/f8/85/e2b368ab6d3528827b147fdb814f8189acc981a4bc2f99ab894650e05c40/fasttext-0.9.2.tar.gz (68kB)\n",
            "\r\u001b[K     |████▊                           | 10kB 20.2MB/s eta 0:00:01\r\u001b[K     |█████████▌                      | 20kB 27.7MB/s eta 0:00:01\r\u001b[K     |██████████████▎                 | 30kB 24.4MB/s eta 0:00:01\r\u001b[K     |███████████████████             | 40kB 18.0MB/s eta 0:00:01\r\u001b[K     |███████████████████████▉        | 51kB 9.2MB/s eta 0:00:01\r\u001b[K     |████████████████████████████▋   | 61kB 9.5MB/s eta 0:00:01\r\u001b[K     |████████████████████████████████| 71kB 5.6MB/s \n",
            "\u001b[?25hRequirement already satisfied: pybind11>=2.2 in /usr/local/lib/python3.7/dist-packages (from fasttext) (2.6.2)\n",
            "Requirement already satisfied: setuptools>=0.7.0 in /usr/local/lib/python3.7/dist-packages (from fasttext) (56.1.0)\n",
            "Requirement already satisfied: numpy in /usr/local/lib/python3.7/dist-packages (from fasttext) (1.19.5)\n",
            "Building wheels for collected packages: fasttext\n",
            "  Building wheel for fasttext (setup.py) ... \u001b[?25l\u001b[?25hdone\n",
            "  Created wheel for fasttext: filename=fasttext-0.9.2-cp37-cp37m-linux_x86_64.whl size=3094831 sha256=e5660032403c5051627074da1ff967e83671b56d58bd4c458d3672e970afa885\n",
            "  Stored in directory: /root/.cache/pip/wheels/98/ba/7f/b154944a1cf5a8cee91c154b75231136cc3a3321ab0e30f592\n",
            "Successfully built fasttext\n",
            "Installing collected packages: fasttext\n",
            "Successfully installed fasttext-0.9.2\n"
          ],
          "name": "stdout"
        }
      ]
    },
    {
      "cell_type": "code",
      "metadata": {
        "colab": {
          "base_uri": "https://localhost:8080/",
          "height": 1000
        },
        "id": "BeeUltbG8jh7",
        "outputId": "81bcf36f-a6a9-43e2-f26c-c7429a366562"
      },
      "source": [
        "!pip install simpletransformers"
      ],
      "execution_count": null,
      "outputs": [
        {
          "output_type": "stream",
          "text": [
            "Collecting simpletransformers\n",
            "\u001b[?25l  Downloading https://files.pythonhosted.org/packages/af/62/c27d9781c7469d4abe7a6e6658120bfb4a41535e8212d11f9d41d379af5d/simpletransformers-0.61.5-py3-none-any.whl (220kB)\n",
            "\r\u001b[K     |█▌                              | 10kB 20.6MB/s eta 0:00:01\r\u001b[K     |███                             | 20kB 28.6MB/s eta 0:00:01\r\u001b[K     |████▌                           | 30kB 25.3MB/s eta 0:00:01\r\u001b[K     |██████                          | 40kB 16.1MB/s eta 0:00:01\r\u001b[K     |███████▍                        | 51kB 10.4MB/s eta 0:00:01\r\u001b[K     |█████████                       | 61kB 9.2MB/s eta 0:00:01\r\u001b[K     |██████████▍                     | 71kB 10.4MB/s eta 0:00:01\r\u001b[K     |████████████                    | 81kB 11.4MB/s eta 0:00:01\r\u001b[K     |█████████████▍                  | 92kB 12.2MB/s eta 0:00:01\r\u001b[K     |██████████████▉                 | 102kB 10.1MB/s eta 0:00:01\r\u001b[K     |████████████████▍               | 112kB 10.1MB/s eta 0:00:01\r\u001b[K     |█████████████████▉              | 122kB 10.1MB/s eta 0:00:01\r\u001b[K     |███████████████████▎            | 133kB 10.1MB/s eta 0:00:01\r\u001b[K     |████████████████████▉           | 143kB 10.1MB/s eta 0:00:01\r\u001b[K     |██████████████████████▎         | 153kB 10.1MB/s eta 0:00:01\r\u001b[K     |███████████████████████▉        | 163kB 10.1MB/s eta 0:00:01\r\u001b[K     |█████████████████████████▎      | 174kB 10.1MB/s eta 0:00:01\r\u001b[K     |██████████████████████████▊     | 184kB 10.1MB/s eta 0:00:01\r\u001b[K     |████████████████████████████▎   | 194kB 10.1MB/s eta 0:00:01\r\u001b[K     |█████████████████████████████▊  | 204kB 10.1MB/s eta 0:00:01\r\u001b[K     |███████████████████████████████▏| 215kB 10.1MB/s eta 0:00:01\r\u001b[K     |████████████████████████████████| 225kB 10.1MB/s \n",
            "\u001b[?25hRequirement already satisfied: scikit-learn in /usr/local/lib/python3.7/dist-packages (from simpletransformers) (0.22.2.post1)\n",
            "Collecting transformers>=4.2.0\n",
            "\u001b[?25l  Downloading https://files.pythonhosted.org/packages/d5/43/cfe4ee779bbd6a678ac6a97c5a5cdeb03c35f9eaebbb9720b036680f9a2d/transformers-4.6.1-py3-none-any.whl (2.2MB)\n",
            "\u001b[K     |████████████████████████████████| 2.3MB 16.4MB/s \n",
            "\u001b[?25hCollecting seqeval\n",
            "\u001b[?25l  Downloading https://files.pythonhosted.org/packages/9d/2d/233c79d5b4e5ab1dbf111242299153f3caddddbb691219f363ad55ce783d/seqeval-1.2.2.tar.gz (43kB)\n",
            "\u001b[K     |████████████████████████████████| 51kB 8.4MB/s \n",
            "\u001b[?25hCollecting wandb\n",
            "\u001b[?25l  Downloading https://files.pythonhosted.org/packages/98/5f/45439b4767334b868e1c8c35b1b0ba3747d8c21be77b79f09eed7aa3c72b/wandb-0.10.30-py2.py3-none-any.whl (1.8MB)\n",
            "\u001b[K     |████████████████████████████████| 1.8MB 48.3MB/s \n",
            "\u001b[?25hRequirement already satisfied: requests in /usr/local/lib/python3.7/dist-packages (from simpletransformers) (2.23.0)\n",
            "Collecting datasets\n",
            "\u001b[?25l  Downloading https://files.pythonhosted.org/packages/46/1a/b9f9b3bfef624686ae81c070f0a6bb635047b17cdb3698c7ad01281e6f9a/datasets-1.6.2-py3-none-any.whl (221kB)\n",
            "\u001b[K     |████████████████████████████████| 225kB 50.8MB/s \n",
            "\u001b[?25hCollecting tqdm>=4.47.0\n",
            "\u001b[?25l  Downloading https://files.pythonhosted.org/packages/72/8a/34efae5cf9924328a8f34eeb2fdaae14c011462d9f0e3fcded48e1266d1c/tqdm-4.60.0-py2.py3-none-any.whl (75kB)\n",
            "\u001b[K     |████████████████████████████████| 81kB 11.7MB/s \n",
            "\u001b[?25hRequirement already satisfied: numpy in /usr/local/lib/python3.7/dist-packages (from simpletransformers) (1.19.5)\n",
            "Requirement already satisfied: pandas in /usr/local/lib/python3.7/dist-packages (from simpletransformers) (1.1.5)\n",
            "Collecting tensorboardx\n",
            "\u001b[?25l  Downloading https://files.pythonhosted.org/packages/07/84/46421bd3e0e89a92682b1a38b40efc22dafb6d8e3d947e4ceefd4a5fabc7/tensorboardX-2.2-py2.py3-none-any.whl (120kB)\n",
            "\u001b[K     |████████████████████████████████| 122kB 58.5MB/s \n",
            "\u001b[?25hCollecting tokenizers\n",
            "\u001b[?25l  Downloading https://files.pythonhosted.org/packages/ae/04/5b870f26a858552025a62f1649c20d29d2672c02ff3c3fb4c688ca46467a/tokenizers-0.10.2-cp37-cp37m-manylinux2010_x86_64.whl (3.3MB)\n",
            "\u001b[K     |████████████████████████████████| 3.3MB 53.3MB/s \n",
            "\u001b[?25hCollecting streamlit\n",
            "\u001b[?25l  Downloading https://files.pythonhosted.org/packages/04/11/57097e14f72a2d1b2a1bbe86c2a8bc375661bfd5c30b5e8cee7c2fad9a44/streamlit-0.82.0-py2.py3-none-any.whl (8.2MB)\n",
            "\u001b[K     |████████████████████████████████| 8.2MB 30.8MB/s \n",
            "\u001b[?25hRequirement already satisfied: scipy in /usr/local/lib/python3.7/dist-packages (from simpletransformers) (1.4.1)\n",
            "Collecting sentencepiece\n",
            "\u001b[?25l  Downloading https://files.pythonhosted.org/packages/f5/99/e0808cb947ba10f575839c43e8fafc9cc44e4a7a2c8f79c60db48220a577/sentencepiece-0.1.95-cp37-cp37m-manylinux2014_x86_64.whl (1.2MB)\n",
            "\u001b[K     |████████████████████████████████| 1.2MB 50.7MB/s \n",
            "\u001b[?25hRequirement already satisfied: regex in /usr/local/lib/python3.7/dist-packages (from simpletransformers) (2019.12.20)\n",
            "Requirement already satisfied: joblib>=0.11 in /usr/local/lib/python3.7/dist-packages (from scikit-learn->simpletransformers) (1.0.1)\n",
            "Requirement already satisfied: packaging in /usr/local/lib/python3.7/dist-packages (from transformers>=4.2.0->simpletransformers) (20.9)\n",
            "Requirement already satisfied: importlib-metadata; python_version < \"3.8\" in /usr/local/lib/python3.7/dist-packages (from transformers>=4.2.0->simpletransformers) (4.0.1)\n",
            "Requirement already satisfied: filelock in /usr/local/lib/python3.7/dist-packages (from transformers>=4.2.0->simpletransformers) (3.0.12)\n",
            "Collecting sacremoses\n",
            "\u001b[?25l  Downloading https://files.pythonhosted.org/packages/75/ee/67241dc87f266093c533a2d4d3d69438e57d7a90abb216fa076e7d475d4a/sacremoses-0.0.45-py3-none-any.whl (895kB)\n",
            "\u001b[K     |████████████████████████████████| 901kB 43.7MB/s \n",
            "\u001b[?25hCollecting huggingface-hub==0.0.8\n",
            "  Downloading https://files.pythonhosted.org/packages/a1/88/7b1e45720ecf59c6c6737ff332f41c955963090a18e72acbcbeac6b25e86/huggingface_hub-0.0.8-py3-none-any.whl\n",
            "Requirement already satisfied: protobuf>=3.12.0 in /usr/local/lib/python3.7/dist-packages (from wandb->simpletransformers) (3.12.4)\n",
            "Requirement already satisfied: psutil>=5.0.0 in /usr/local/lib/python3.7/dist-packages (from wandb->simpletransformers) (5.4.8)\n",
            "Requirement already satisfied: Click>=7.0 in /usr/local/lib/python3.7/dist-packages (from wandb->simpletransformers) (8.0.0)\n",
            "Requirement already satisfied: promise<3,>=2.0 in /usr/local/lib/python3.7/dist-packages (from wandb->simpletransformers) (2.3)\n",
            "Collecting pathtools\n",
            "  Downloading https://files.pythonhosted.org/packages/e7/7f/470d6fcdf23f9f3518f6b0b76be9df16dcc8630ad409947f8be2eb0ed13a/pathtools-0.1.2.tar.gz\n",
            "Requirement already satisfied: python-dateutil>=2.6.1 in /usr/local/lib/python3.7/dist-packages (from wandb->simpletransformers) (2.8.1)\n",
            "Collecting sentry-sdk>=0.4.0\n",
            "\u001b[?25l  Downloading https://files.pythonhosted.org/packages/1c/4a/a54b254f67d8f4052338d54ebe90126f200693440a93ef76d254d581e3ec/sentry_sdk-1.1.0-py2.py3-none-any.whl (131kB)\n",
            "\u001b[K     |████████████████████████████████| 133kB 54.7MB/s \n",
            "\u001b[?25hRequirement already satisfied: six>=1.13.0 in /usr/local/lib/python3.7/dist-packages (from wandb->simpletransformers) (1.15.0)\n",
            "Collecting configparser>=3.8.1\n",
            "  Downloading https://files.pythonhosted.org/packages/fd/01/ff260a18caaf4457eb028c96eeb405c4a230ca06c8ec9c1379f813caa52e/configparser-5.0.2-py3-none-any.whl\n",
            "Requirement already satisfied: PyYAML in /usr/local/lib/python3.7/dist-packages (from wandb->simpletransformers) (3.13)\n",
            "Collecting shortuuid>=0.5.0\n",
            "  Downloading https://files.pythonhosted.org/packages/25/a6/2ecc1daa6a304e7f1b216f0896b26156b78e7c38e1211e9b798b4716c53d/shortuuid-1.0.1-py3-none-any.whl\n",
            "Collecting GitPython>=1.0.0\n",
            "\u001b[?25l  Downloading https://files.pythonhosted.org/packages/27/da/6f6224fdfc47dab57881fe20c0d1bc3122be290198ba0bf26a953a045d92/GitPython-3.1.17-py3-none-any.whl (166kB)\n",
            "\u001b[K     |████████████████████████████████| 174kB 58.7MB/s \n",
            "\u001b[?25hCollecting subprocess32>=3.5.3\n",
            "\u001b[?25l  Downloading https://files.pythonhosted.org/packages/32/c8/564be4d12629b912ea431f1a50eb8b3b9d00f1a0b1ceff17f266be190007/subprocess32-3.5.4.tar.gz (97kB)\n",
            "\u001b[K     |████████████████████████████████| 102kB 14.9MB/s \n",
            "\u001b[?25hCollecting docker-pycreds>=0.4.0\n",
            "  Downloading https://files.pythonhosted.org/packages/f5/e8/f6bd1eee09314e7e6dee49cbe2c5e22314ccdb38db16c9fc72d2fa80d054/docker_pycreds-0.4.0-py2.py3-none-any.whl\n",
            "Requirement already satisfied: certifi>=2017.4.17 in /usr/local/lib/python3.7/dist-packages (from requests->simpletransformers) (2020.12.5)\n",
            "Requirement already satisfied: urllib3!=1.25.0,!=1.25.1,<1.26,>=1.21.1 in /usr/local/lib/python3.7/dist-packages (from requests->simpletransformers) (1.24.3)\n",
            "Requirement already satisfied: chardet<4,>=3.0.2 in /usr/local/lib/python3.7/dist-packages (from requests->simpletransformers) (3.0.4)\n",
            "Requirement already satisfied: idna<3,>=2.5 in /usr/local/lib/python3.7/dist-packages (from requests->simpletransformers) (2.10)\n",
            "Requirement already satisfied: multiprocess in /usr/local/lib/python3.7/dist-packages (from datasets->simpletransformers) (0.70.11.1)\n",
            "Collecting xxhash\n",
            "\u001b[?25l  Downloading https://files.pythonhosted.org/packages/7d/4f/0a862cad26aa2ed7a7cd87178cbbfa824fc1383e472d63596a0d018374e7/xxhash-2.0.2-cp37-cp37m-manylinux2010_x86_64.whl (243kB)\n",
            "\u001b[K     |████████████████████████████████| 245kB 37.9MB/s \n",
            "\u001b[?25hRequirement already satisfied: dill in /usr/local/lib/python3.7/dist-packages (from datasets->simpletransformers) (0.3.3)\n",
            "Collecting fsspec\n",
            "\u001b[?25l  Downloading https://files.pythonhosted.org/packages/bc/52/816d1a3a599176057bf29dfacb1f8fadb61d35fbd96cb1bab4aaa7df83c0/fsspec-2021.5.0-py3-none-any.whl (111kB)\n",
            "\u001b[K     |████████████████████████████████| 112kB 59.0MB/s \n",
            "\u001b[?25hRequirement already satisfied: pyarrow>=1.0.0<4.0.0 in /usr/local/lib/python3.7/dist-packages (from datasets->simpletransformers) (3.0.0)\n",
            "Requirement already satisfied: pytz>=2017.2 in /usr/local/lib/python3.7/dist-packages (from pandas->simpletransformers) (2018.9)\n",
            "Requirement already satisfied: toml in /usr/local/lib/python3.7/dist-packages (from streamlit->simpletransformers) (0.10.2)\n",
            "Collecting blinker\n",
            "\u001b[?25l  Downloading https://files.pythonhosted.org/packages/1b/51/e2a9f3b757eb802f61dc1f2b09c8c99f6eb01cf06416c0671253536517b6/blinker-1.4.tar.gz (111kB)\n",
            "\u001b[K     |████████████████████████████████| 112kB 48.9MB/s \n",
            "\u001b[?25hRequirement already satisfied: tornado>=5.0 in /usr/local/lib/python3.7/dist-packages (from streamlit->simpletransformers) (5.1.1)\n",
            "Collecting base58\n",
            "  Downloading https://files.pythonhosted.org/packages/b8/a1/d9f565e9910c09fd325dc638765e8843a19fa696275c16cc08cf3b0a3c25/base58-2.1.0-py3-none-any.whl\n",
            "Collecting pydeck>=0.1.dev5\n",
            "\u001b[?25l  Downloading https://files.pythonhosted.org/packages/d6/bc/f0e44828e4290367c869591d50d3671a4d0ee94926da6cb734b7b200308c/pydeck-0.6.2-py2.py3-none-any.whl (4.2MB)\n",
            "\u001b[K     |████████████████████████████████| 4.2MB 37.1MB/s \n",
            "\u001b[?25hRequirement already satisfied: altair>=3.2.0 in /usr/local/lib/python3.7/dist-packages (from streamlit->simpletransformers) (4.1.0)\n",
            "Requirement already satisfied: tzlocal in /usr/local/lib/python3.7/dist-packages (from streamlit->simpletransformers) (1.5.1)\n",
            "Collecting watchdog; platform_system != \"Darwin\"\n",
            "\u001b[?25l  Downloading https://files.pythonhosted.org/packages/f2/5b/36b3b11e557830de6fc1dc06e9aa3ee274119b8cea9cc98175dbbf72cf87/watchdog-2.1.2-py3-none-manylinux2014_x86_64.whl (74kB)\n",
            "\u001b[K     |████████████████████████████████| 81kB 12.1MB/s \n",
            "\u001b[?25hRequirement already satisfied: astor in /usr/local/lib/python3.7/dist-packages (from streamlit->simpletransformers) (0.8.1)\n",
            "Requirement already satisfied: pillow>=6.2.0 in /usr/local/lib/python3.7/dist-packages (from streamlit->simpletransformers) (7.1.2)\n",
            "Collecting validators\n",
            "  Downloading https://files.pythonhosted.org/packages/db/2f/7fed3ee94ad665ad2c1de87f858f10a7785251ff75b4fd47987888d07ef1/validators-0.18.2-py3-none-any.whl\n",
            "Requirement already satisfied: cachetools>=4.0 in /usr/local/lib/python3.7/dist-packages (from streamlit->simpletransformers) (4.2.2)\n",
            "Requirement already satisfied: pyparsing>=2.0.2 in /usr/local/lib/python3.7/dist-packages (from packaging->transformers>=4.2.0->simpletransformers) (2.4.7)\n",
            "Requirement already satisfied: typing-extensions>=3.6.4; python_version < \"3.8\" in /usr/local/lib/python3.7/dist-packages (from importlib-metadata; python_version < \"3.8\"->transformers>=4.2.0->simpletransformers) (3.7.4.3)\n",
            "Requirement already satisfied: zipp>=0.5 in /usr/local/lib/python3.7/dist-packages (from importlib-metadata; python_version < \"3.8\"->transformers>=4.2.0->simpletransformers) (3.4.1)\n",
            "Requirement already satisfied: setuptools in /usr/local/lib/python3.7/dist-packages (from protobuf>=3.12.0->wandb->simpletransformers) (56.1.0)\n",
            "Collecting gitdb<5,>=4.0.1\n",
            "\u001b[?25l  Downloading https://files.pythonhosted.org/packages/ea/e8/f414d1a4f0bbc668ed441f74f44c116d9816833a48bf81d22b697090dba8/gitdb-4.0.7-py3-none-any.whl (63kB)\n",
            "\u001b[K     |████████████████████████████████| 71kB 11.8MB/s \n",
            "\u001b[?25hRequirement already satisfied: traitlets>=4.3.2 in /usr/local/lib/python3.7/dist-packages (from pydeck>=0.1.dev5->streamlit->simpletransformers) (5.0.5)\n",
            "Requirement already satisfied: ipywidgets>=7.0.0 in /usr/local/lib/python3.7/dist-packages (from pydeck>=0.1.dev5->streamlit->simpletransformers) (7.6.3)\n",
            "Collecting ipykernel>=5.1.2; python_version >= \"3.4\"\n",
            "\u001b[?25l  Downloading https://files.pythonhosted.org/packages/90/6d/6c8fe4b658f77947d4244ce81f60230c4c8d1dc1a21ae83e63b269339178/ipykernel-5.5.5-py3-none-any.whl (120kB)\n",
            "\u001b[K     |████████████████████████████████| 122kB 59.7MB/s \n",
            "\u001b[?25hRequirement already satisfied: jinja2>=2.10.1 in /usr/local/lib/python3.7/dist-packages (from pydeck>=0.1.dev5->streamlit->simpletransformers) (2.11.3)\n",
            "Requirement already satisfied: toolz in /usr/local/lib/python3.7/dist-packages (from altair>=3.2.0->streamlit->simpletransformers) (0.11.1)\n",
            "Requirement already satisfied: entrypoints in /usr/local/lib/python3.7/dist-packages (from altair>=3.2.0->streamlit->simpletransformers) (0.3)\n",
            "Requirement already satisfied: jsonschema in /usr/local/lib/python3.7/dist-packages (from altair>=3.2.0->streamlit->simpletransformers) (2.6.0)\n",
            "Requirement already satisfied: decorator>=3.4.0 in /usr/local/lib/python3.7/dist-packages (from validators->streamlit->simpletransformers) (4.4.2)\n",
            "Collecting smmap<5,>=3.0.1\n",
            "  Downloading https://files.pythonhosted.org/packages/68/ee/d540eb5e5996eb81c26ceffac6ee49041d473bc5125f2aa995cf51ec1cf1/smmap-4.0.0-py2.py3-none-any.whl\n",
            "Requirement already satisfied: ipython-genutils in /usr/local/lib/python3.7/dist-packages (from traitlets>=4.3.2->pydeck>=0.1.dev5->streamlit->simpletransformers) (0.2.0)\n",
            "Requirement already satisfied: jupyterlab-widgets>=1.0.0; python_version >= \"3.6\" in /usr/local/lib/python3.7/dist-packages (from ipywidgets>=7.0.0->pydeck>=0.1.dev5->streamlit->simpletransformers) (1.0.0)\n",
            "Requirement already satisfied: ipython>=4.0.0; python_version >= \"3.3\" in /usr/local/lib/python3.7/dist-packages (from ipywidgets>=7.0.0->pydeck>=0.1.dev5->streamlit->simpletransformers) (5.5.0)\n",
            "Requirement already satisfied: widgetsnbextension~=3.5.0 in /usr/local/lib/python3.7/dist-packages (from ipywidgets>=7.0.0->pydeck>=0.1.dev5->streamlit->simpletransformers) (3.5.1)\n",
            "Requirement already satisfied: nbformat>=4.2.0 in /usr/local/lib/python3.7/dist-packages (from ipywidgets>=7.0.0->pydeck>=0.1.dev5->streamlit->simpletransformers) (5.1.3)\n",
            "Requirement already satisfied: jupyter-client in /usr/local/lib/python3.7/dist-packages (from ipykernel>=5.1.2; python_version >= \"3.4\"->pydeck>=0.1.dev5->streamlit->simpletransformers) (5.3.5)\n",
            "Requirement already satisfied: MarkupSafe>=0.23 in /usr/local/lib/python3.7/dist-packages (from jinja2>=2.10.1->pydeck>=0.1.dev5->streamlit->simpletransformers) (2.0.0)\n",
            "Requirement already satisfied: pickleshare in /usr/local/lib/python3.7/dist-packages (from ipython>=4.0.0; python_version >= \"3.3\"->ipywidgets>=7.0.0->pydeck>=0.1.dev5->streamlit->simpletransformers) (0.7.5)\n",
            "Requirement already satisfied: pygments in /usr/local/lib/python3.7/dist-packages (from ipython>=4.0.0; python_version >= \"3.3\"->ipywidgets>=7.0.0->pydeck>=0.1.dev5->streamlit->simpletransformers) (2.6.1)\n",
            "Requirement already satisfied: simplegeneric>0.8 in /usr/local/lib/python3.7/dist-packages (from ipython>=4.0.0; python_version >= \"3.3\"->ipywidgets>=7.0.0->pydeck>=0.1.dev5->streamlit->simpletransformers) (0.8.1)\n",
            "Requirement already satisfied: pexpect; sys_platform != \"win32\" in /usr/local/lib/python3.7/dist-packages (from ipython>=4.0.0; python_version >= \"3.3\"->ipywidgets>=7.0.0->pydeck>=0.1.dev5->streamlit->simpletransformers) (4.8.0)\n",
            "Requirement already satisfied: prompt-toolkit<2.0.0,>=1.0.4 in /usr/local/lib/python3.7/dist-packages (from ipython>=4.0.0; python_version >= \"3.3\"->ipywidgets>=7.0.0->pydeck>=0.1.dev5->streamlit->simpletransformers) (1.0.18)\n",
            "Requirement already satisfied: notebook>=4.4.1 in /usr/local/lib/python3.7/dist-packages (from widgetsnbextension~=3.5.0->ipywidgets>=7.0.0->pydeck>=0.1.dev5->streamlit->simpletransformers) (5.3.1)\n",
            "Requirement already satisfied: jupyter-core in /usr/local/lib/python3.7/dist-packages (from nbformat>=4.2.0->ipywidgets>=7.0.0->pydeck>=0.1.dev5->streamlit->simpletransformers) (4.7.1)\n",
            "Requirement already satisfied: pyzmq>=13 in /usr/local/lib/python3.7/dist-packages (from jupyter-client->ipykernel>=5.1.2; python_version >= \"3.4\"->pydeck>=0.1.dev5->streamlit->simpletransformers) (22.0.3)\n",
            "Requirement already satisfied: ptyprocess>=0.5 in /usr/local/lib/python3.7/dist-packages (from pexpect; sys_platform != \"win32\"->ipython>=4.0.0; python_version >= \"3.3\"->ipywidgets>=7.0.0->pydeck>=0.1.dev5->streamlit->simpletransformers) (0.7.0)\n",
            "Requirement already satisfied: wcwidth in /usr/local/lib/python3.7/dist-packages (from prompt-toolkit<2.0.0,>=1.0.4->ipython>=4.0.0; python_version >= \"3.3\"->ipywidgets>=7.0.0->pydeck>=0.1.dev5->streamlit->simpletransformers) (0.2.5)\n",
            "Requirement already satisfied: nbconvert in /usr/local/lib/python3.7/dist-packages (from notebook>=4.4.1->widgetsnbextension~=3.5.0->ipywidgets>=7.0.0->pydeck>=0.1.dev5->streamlit->simpletransformers) (5.6.1)\n",
            "Requirement already satisfied: Send2Trash in /usr/local/lib/python3.7/dist-packages (from notebook>=4.4.1->widgetsnbextension~=3.5.0->ipywidgets>=7.0.0->pydeck>=0.1.dev5->streamlit->simpletransformers) (1.5.0)\n",
            "Requirement already satisfied: terminado>=0.8.1 in /usr/local/lib/python3.7/dist-packages (from notebook>=4.4.1->widgetsnbextension~=3.5.0->ipywidgets>=7.0.0->pydeck>=0.1.dev5->streamlit->simpletransformers) (0.9.5)\n",
            "Requirement already satisfied: pandocfilters>=1.4.1 in /usr/local/lib/python3.7/dist-packages (from nbconvert->notebook>=4.4.1->widgetsnbextension~=3.5.0->ipywidgets>=7.0.0->pydeck>=0.1.dev5->streamlit->simpletransformers) (1.4.3)\n",
            "Requirement already satisfied: testpath in /usr/local/lib/python3.7/dist-packages (from nbconvert->notebook>=4.4.1->widgetsnbextension~=3.5.0->ipywidgets>=7.0.0->pydeck>=0.1.dev5->streamlit->simpletransformers) (0.4.4)\n",
            "Requirement already satisfied: mistune<2,>=0.8.1 in /usr/local/lib/python3.7/dist-packages (from nbconvert->notebook>=4.4.1->widgetsnbextension~=3.5.0->ipywidgets>=7.0.0->pydeck>=0.1.dev5->streamlit->simpletransformers) (0.8.4)\n",
            "Requirement already satisfied: bleach in /usr/local/lib/python3.7/dist-packages (from nbconvert->notebook>=4.4.1->widgetsnbextension~=3.5.0->ipywidgets>=7.0.0->pydeck>=0.1.dev5->streamlit->simpletransformers) (3.3.0)\n",
            "Requirement already satisfied: defusedxml in /usr/local/lib/python3.7/dist-packages (from nbconvert->notebook>=4.4.1->widgetsnbextension~=3.5.0->ipywidgets>=7.0.0->pydeck>=0.1.dev5->streamlit->simpletransformers) (0.7.1)\n",
            "Requirement already satisfied: webencodings in /usr/local/lib/python3.7/dist-packages (from bleach->nbconvert->notebook>=4.4.1->widgetsnbextension~=3.5.0->ipywidgets>=7.0.0->pydeck>=0.1.dev5->streamlit->simpletransformers) (0.5.1)\n",
            "Building wheels for collected packages: seqeval, pathtools, subprocess32, blinker\n",
            "  Building wheel for seqeval (setup.py) ... \u001b[?25l\u001b[?25hdone\n",
            "  Created wheel for seqeval: filename=seqeval-1.2.2-cp37-none-any.whl size=16172 sha256=18875ea9998e20e4ad98516754c7e6a9ec1dc9c9a350c2cc5b82fbcaceb0ddb7\n",
            "  Stored in directory: /root/.cache/pip/wheels/52/df/1b/45d75646c37428f7e626214704a0e35bd3cfc32eda37e59e5f\n",
            "  Building wheel for pathtools (setup.py) ... \u001b[?25l\u001b[?25hdone\n",
            "  Created wheel for pathtools: filename=pathtools-0.1.2-cp37-none-any.whl size=8786 sha256=e69c5aa2fe86f32d4093b2987ecf54898637b88b42ac66301af918a96bd0118c\n",
            "  Stored in directory: /root/.cache/pip/wheels/0b/04/79/c3b0c3a0266a3cb4376da31e5bfe8bba0c489246968a68e843\n",
            "  Building wheel for subprocess32 (setup.py) ... \u001b[?25l\u001b[?25hdone\n",
            "  Created wheel for subprocess32: filename=subprocess32-3.5.4-cp37-none-any.whl size=6489 sha256=dd30d369deaf195d3f83bf3ee6fb4668c406816a60ca5d14064836d17e6a13d2\n",
            "  Stored in directory: /root/.cache/pip/wheels/68/39/1a/5e402bdfdf004af1786c8b853fd92f8c4a04f22aad179654d1\n",
            "  Building wheel for blinker (setup.py) ... \u001b[?25l\u001b[?25hdone\n",
            "  Created wheel for blinker: filename=blinker-1.4-cp37-none-any.whl size=13448 sha256=ed1400afcff3d8c5768627c7540c015b3b13d28a581fe65009fd28aa411f843c\n",
            "  Stored in directory: /root/.cache/pip/wheels/92/a0/00/8690a57883956a301d91cf4ec999cc0b258b01e3f548f86e89\n",
            "Successfully built seqeval pathtools subprocess32 blinker\n",
            "\u001b[31mERROR: google-colab 1.0.0 has requirement ipykernel~=4.10, but you'll have ipykernel 5.5.5 which is incompatible.\u001b[0m\n",
            "\u001b[31mERROR: datasets 1.6.2 has requirement tqdm<4.50.0,>=4.27, but you'll have tqdm 4.60.0 which is incompatible.\u001b[0m\n",
            "\u001b[31mERROR: streamlit 0.82.0 has requirement click<8.0,>=7.0, but you'll have click 8.0.0 which is incompatible.\u001b[0m\n",
            "Installing collected packages: tqdm, sacremoses, tokenizers, huggingface-hub, transformers, seqeval, pathtools, sentry-sdk, configparser, shortuuid, smmap, gitdb, GitPython, subprocess32, docker-pycreds, wandb, xxhash, fsspec, datasets, tensorboardx, blinker, base58, ipykernel, pydeck, watchdog, validators, streamlit, sentencepiece, simpletransformers\n",
            "  Found existing installation: tqdm 4.41.1\n",
            "    Uninstalling tqdm-4.41.1:\n",
            "      Successfully uninstalled tqdm-4.41.1\n",
            "  Found existing installation: ipykernel 4.10.1\n",
            "    Uninstalling ipykernel-4.10.1:\n",
            "      Successfully uninstalled ipykernel-4.10.1\n",
            "Successfully installed GitPython-3.1.17 base58-2.1.0 blinker-1.4 configparser-5.0.2 datasets-1.6.2 docker-pycreds-0.4.0 fsspec-2021.5.0 gitdb-4.0.7 huggingface-hub-0.0.8 ipykernel-5.5.5 pathtools-0.1.2 pydeck-0.6.2 sacremoses-0.0.45 sentencepiece-0.1.95 sentry-sdk-1.1.0 seqeval-1.2.2 shortuuid-1.0.1 simpletransformers-0.61.5 smmap-4.0.0 streamlit-0.82.0 subprocess32-3.5.4 tensorboardx-2.2 tokenizers-0.10.2 tqdm-4.60.0 transformers-4.6.1 validators-0.18.2 wandb-0.10.30 watchdog-2.1.2 xxhash-2.0.2\n"
          ],
          "name": "stdout"
        },
        {
          "output_type": "display_data",
          "data": {
            "application/vnd.colab-display-data+json": {
              "pip_warning": {
                "packages": [
                  "ipykernel",
                  "tqdm"
                ]
              }
            }
          },
          "metadata": {
            "tags": []
          }
        }
      ]
    },
    {
      "cell_type": "code",
      "metadata": {
        "id": "MjT7yHqHY6US"
      },
      "source": [
        "import stanza\n",
        "import fasttext\n",
        "import fasttext.util"
      ],
      "execution_count": null,
      "outputs": []
    },
    {
      "cell_type": "code",
      "metadata": {
        "id": "K7unVVBHAC9P"
      },
      "source": [
        "import random\n",
        "import os\n",
        "import re\n",
        "import pandas as pd\n",
        "import numpy as np\n",
        "from scipy import spatial\n",
        "import matplotlib.pyplot as plt\n",
        "import seaborn as sns\n",
        "from sklearn.manifold import TSNE\n",
        "\n",
        "from IPython.display import display, HTML\n",
        "\n",
        "import gensim\n",
        "import spacy\n",
        "from spacy import displacy\n",
        "import en_core_web_sm\n",
        "\n",
        "from collections import Counter\n",
        "from sklearn.datasets import fetch_20newsgroups\n",
        "\n",
        "from sklearn.metrics import classification_report, confusion_matrix, accuracy_score, recall_score, precision_score, f1_score\n",
        "from sklearn.utils.class_weight import compute_class_weight\n",
        "from sklearn.model_selection import train_test_split\n",
        "\n",
        "import tensorflow as tf\n",
        "from tensorflow.keras.preprocessing.text import Tokenizer\n",
        "from tensorflow.keras.preprocessing.sequence import pad_sequences\n",
        "\n",
        "from tensorflow.keras.models import Model\n",
        "from tensorflow.keras.layers import Input, Dense, Embedding, LSTM, Bidirectional, TimeDistributed, Flatten, Reshape\n",
        "from tensorflow.keras.layers import Conv1D, MaxPooling1D, GlobalMaxPooling1D\n",
        "from tensorflow.keras.layers import Dropout, Activation, concatenate, Concatenate\n",
        "from tensorflow.keras import regularizers, layers, optimizers, losses, metrics\n",
        "from tensorflow.keras.callbacks import ModelCheckpoint, EarlyStopping\n",
        "\n",
        "\n",
        "import logging\n",
        "\n",
        "import pandas as pd\n",
        "from simpletransformers.ner import NERModel, NERArgs\n",
        "\n",
        "\n",
        "logging.basicConfig(level=logging.INFO)\n",
        "transformers_logger = logging.getLogger(\"transformers\")\n",
        "transformers_logger.setLevel(logging.WARNING)"
      ],
      "execution_count": null,
      "outputs": []
    },
    {
      "cell_type": "markdown",
      "metadata": {
        "id": "Vz2h29BmT_qA"
      },
      "source": [
        "## Load data"
      ]
    },
    {
      "cell_type": "code",
      "metadata": {
        "id": "oSlNbWL9yf9Y",
        "colab": {
          "base_uri": "https://localhost:8080/"
        },
        "outputId": "1bc29bb2-7600-4446-ecb7-bc525edabe99"
      },
      "source": [
        "newsgroup_data = fetch_20newsgroups(subset=\"all\")"
      ],
      "execution_count": null,
      "outputs": [
        {
          "output_type": "stream",
          "text": [
            "Downloading 20news dataset. This may take a few minutes.\n",
            "INFO:sklearn.datasets._twenty_newsgroups:Downloading 20news dataset. This may take a few minutes.\n",
            "Downloading dataset from https://ndownloader.figshare.com/files/5975967 (14 MB)\n",
            "INFO:sklearn.datasets._twenty_newsgroups:Downloading dataset from https://ndownloader.figshare.com/files/5975967 (14 MB)\n"
          ],
          "name": "stderr"
        }
      ]
    },
    {
      "cell_type": "code",
      "metadata": {
        "colab": {
          "base_uri": "https://localhost:8080/"
        },
        "id": "-ES3_9Jvy5AV",
        "outputId": "710dcb9b-2691-4761-aa6d-0c41c2341056"
      },
      "source": [
        "# checking shape of the file\n",
        "# The real data lies in the filenames and target attributes. \n",
        "print(newsgroup_data.filenames.shape, len(newsgroup_data.data))"
      ],
      "execution_count": null,
      "outputs": [
        {
          "output_type": "stream",
          "text": [
            "(18846,) 18846\n"
          ],
          "name": "stdout"
        }
      ]
    },
    {
      "cell_type": "code",
      "metadata": {
        "colab": {
          "base_uri": "https://localhost:8080/"
        },
        "id": "fysHaxprXsBo",
        "outputId": "f60d70e6-2b6f-41d8-db1d-aba94efe3143"
      },
      "source": [
        "# a single sample\n",
        "print(newsgroup_data.data[0])\n",
        "print(\"\")\n",
        "\n",
        "# remove \\n and join all sentences\n",
        "print(\" \".join(newsgroup_data.data[0].split(\"\\n\")))"
      ],
      "execution_count": null,
      "outputs": [
        {
          "output_type": "stream",
          "text": [
            "From: Mamatha Devineni Ratnam <mr47+@andrew.cmu.edu>\n",
            "Subject: Pens fans reactions\n",
            "Organization: Post Office, Carnegie Mellon, Pittsburgh, PA\n",
            "Lines: 12\n",
            "NNTP-Posting-Host: po4.andrew.cmu.edu\n",
            "\n",
            "\n",
            "\n",
            "I am sure some bashers of Pens fans are pretty confused about the lack\n",
            "of any kind of posts about the recent Pens massacre of the Devils. Actually,\n",
            "I am  bit puzzled too and a bit relieved. However, I am going to put an end\n",
            "to non-PIttsburghers' relief with a bit of praise for the Pens. Man, they\n",
            "are killing those Devils worse than I thought. Jagr just showed you why\n",
            "he is much better than his regular season stats. He is also a lot\n",
            "fo fun to watch in the playoffs. Bowman should let JAgr have a lot of\n",
            "fun in the next couple of games since the Pens are going to beat the pulp out of Jersey anyway. I was very disappointed not to see the Islanders lose the final\n",
            "regular season game.          PENS RULE!!!\n",
            "\n",
            "\n",
            "\n",
            "From: Mamatha Devineni Ratnam <mr47+@andrew.cmu.edu> Subject: Pens fans reactions Organization: Post Office, Carnegie Mellon, Pittsburgh, PA Lines: 12 NNTP-Posting-Host: po4.andrew.cmu.edu    I am sure some bashers of Pens fans are pretty confused about the lack of any kind of posts about the recent Pens massacre of the Devils. Actually, I am  bit puzzled too and a bit relieved. However, I am going to put an end to non-PIttsburghers' relief with a bit of praise for the Pens. Man, they are killing those Devils worse than I thought. Jagr just showed you why he is much better than his regular season stats. He is also a lot fo fun to watch in the playoffs. Bowman should let JAgr have a lot of fun in the next couple of games since the Pens are going to beat the pulp out of Jersey anyway. I was very disappointed not to see the Islanders lose the final regular season game.          PENS RULE!!!  \n"
          ],
          "name": "stdout"
        }
      ]
    },
    {
      "cell_type": "markdown",
      "metadata": {
        "id": "zkqmBgUqWaU_"
      },
      "source": [
        "### create dataframe"
      ]
    },
    {
      "cell_type": "code",
      "metadata": {
        "colab": {
          "base_uri": "https://localhost:8080/"
        },
        "id": "ThhditcWWZcT",
        "outputId": "9d0ef318-a4a5-4feb-f4f0-104ffed5af83"
      },
      "source": [
        "df_data = pd.DataFrame({'text': [\" \".join(doc.split(\"\\n\")) for doc in newsgroup_data.data]})\n",
        "df_data.shape"
      ],
      "execution_count": null,
      "outputs": [
        {
          "output_type": "execute_result",
          "data": {
            "text/plain": [
              "(18846, 1)"
            ]
          },
          "metadata": {
            "tags": []
          },
          "execution_count": 8
        }
      ]
    },
    {
      "cell_type": "code",
      "metadata": {
        "colab": {
          "base_uri": "https://localhost:8080/",
          "height": 348
        },
        "id": "KHLGbh9HYub7",
        "outputId": "d18d8c07-9b2f-4d6b-ccd9-cc39af289abc"
      },
      "source": [
        "df_data.head(10)"
      ],
      "execution_count": null,
      "outputs": [
        {
          "output_type": "execute_result",
          "data": {
            "text/html": [
              "<div>\n",
              "<style scoped>\n",
              "    .dataframe tbody tr th:only-of-type {\n",
              "        vertical-align: middle;\n",
              "    }\n",
              "\n",
              "    .dataframe tbody tr th {\n",
              "        vertical-align: top;\n",
              "    }\n",
              "\n",
              "    .dataframe thead th {\n",
              "        text-align: right;\n",
              "    }\n",
              "</style>\n",
              "<table border=\"1\" class=\"dataframe\">\n",
              "  <thead>\n",
              "    <tr style=\"text-align: right;\">\n",
              "      <th></th>\n",
              "      <th>text</th>\n",
              "    </tr>\n",
              "  </thead>\n",
              "  <tbody>\n",
              "    <tr>\n",
              "      <th>0</th>\n",
              "      <td>From: Mamatha Devineni Ratnam &lt;mr47+@andrew.cm...</td>\n",
              "    </tr>\n",
              "    <tr>\n",
              "      <th>1</th>\n",
              "      <td>From: mblawson@midway.ecn.uoknor.edu (Matthew ...</td>\n",
              "    </tr>\n",
              "    <tr>\n",
              "      <th>2</th>\n",
              "      <td>From: hilmi-er@dsv.su.se (Hilmi Eren) Subject:...</td>\n",
              "    </tr>\n",
              "    <tr>\n",
              "      <th>3</th>\n",
              "      <td>From: guyd@austin.ibm.com (Guy Dawson) Subject...</td>\n",
              "    </tr>\n",
              "    <tr>\n",
              "      <th>4</th>\n",
              "      <td>From: Alexander Samuel McDiarmid &lt;am2o+@andrew...</td>\n",
              "    </tr>\n",
              "    <tr>\n",
              "      <th>5</th>\n",
              "      <td>From: tell@cs.unc.edu (Stephen Tell) Subject: ...</td>\n",
              "    </tr>\n",
              "    <tr>\n",
              "      <th>6</th>\n",
              "      <td>From: lpa8921@tamuts.tamu.edu (Louis Paul Adam...</td>\n",
              "    </tr>\n",
              "    <tr>\n",
              "      <th>7</th>\n",
              "      <td>From: dchhabra@stpl.ists.ca (Deepak Chhabra) S...</td>\n",
              "    </tr>\n",
              "    <tr>\n",
              "      <th>8</th>\n",
              "      <td>From: dchhabra@stpl.ists.ca (Deepak Chhabra) S...</td>\n",
              "    </tr>\n",
              "    <tr>\n",
              "      <th>9</th>\n",
              "      <td>From: arromdee@jyusenkyou.cs.jhu.edu (Ken Arro...</td>\n",
              "    </tr>\n",
              "  </tbody>\n",
              "</table>\n",
              "</div>"
            ],
            "text/plain": [
              "                                                text\n",
              "0  From: Mamatha Devineni Ratnam <mr47+@andrew.cm...\n",
              "1  From: mblawson@midway.ecn.uoknor.edu (Matthew ...\n",
              "2  From: hilmi-er@dsv.su.se (Hilmi Eren) Subject:...\n",
              "3  From: guyd@austin.ibm.com (Guy Dawson) Subject...\n",
              "4  From: Alexander Samuel McDiarmid <am2o+@andrew...\n",
              "5  From: tell@cs.unc.edu (Stephen Tell) Subject: ...\n",
              "6  From: lpa8921@tamuts.tamu.edu (Louis Paul Adam...\n",
              "7  From: dchhabra@stpl.ists.ca (Deepak Chhabra) S...\n",
              "8  From: dchhabra@stpl.ists.ca (Deepak Chhabra) S...\n",
              "9  From: arromdee@jyusenkyou.cs.jhu.edu (Ken Arro..."
            ]
          },
          "metadata": {
            "tags": []
          },
          "execution_count": 9
        }
      ]
    },
    {
      "cell_type": "markdown",
      "metadata": {
        "id": "YRyq9D60W_bU"
      },
      "source": [
        "### data cleaning "
      ]
    },
    {
      "cell_type": "code",
      "metadata": {
        "id": "jqkMMqm-WX68"
      },
      "source": [
        "# clean data\n",
        "def clean_df(df):\n",
        "  # remove email starts\n",
        "  df.text = df.text.replace(re.compile(r\"From|\\S*@\\S*\\s?|Subject\"), \"\")\n",
        "\n",
        "  # remove - and _ and :\n",
        "  df.text = df.text.replace(re.compile(\"[\\-_:]\"), \" \")\n",
        "\n",
        "  # remove extra spaces\n",
        "  df.text = df.text.replace(re.compile(\"\\s+\"), \" \")\n",
        "\n",
        "  # remove other chars\n",
        "  df.text = df.text.replace(re.compile(\"[^a-zA-Z0-9\\.,$ ]\"), \"\")\n",
        "\n",
        "  df.text = df.text.apply(lambda x: x.strip())\n",
        "\n",
        "  return df\n",
        " "
      ],
      "execution_count": null,
      "outputs": []
    },
    {
      "cell_type": "code",
      "metadata": {
        "colab": {
          "base_uri": "https://localhost:8080/",
          "height": 139
        },
        "id": "rW2I1yz1c2md",
        "outputId": "9e4b9694-ae7d-4b7f-e07b-3b0e09bbb992"
      },
      "source": [
        "# original text\n",
        "text = \" \".join(df_data.iloc[0].text.split(\"\\n\"))\n",
        "# print(text)\n",
        "text"
      ],
      "execution_count": null,
      "outputs": [
        {
          "output_type": "execute_result",
          "data": {
            "application/vnd.google.colaboratory.intrinsic+json": {
              "type": "string"
            },
            "text/plain": [
              "\"From: Mamatha Devineni Ratnam <mr47+@andrew.cmu.edu> Subject: Pens fans reactions Organization: Post Office, Carnegie Mellon, Pittsburgh, PA Lines: 12 NNTP-Posting-Host: po4.andrew.cmu.edu    I am sure some bashers of Pens fans are pretty confused about the lack of any kind of posts about the recent Pens massacre of the Devils. Actually, I am  bit puzzled too and a bit relieved. However, I am going to put an end to non-PIttsburghers' relief with a bit of praise for the Pens. Man, they are killing those Devils worse than I thought. Jagr just showed you why he is much better than his regular season stats. He is also a lot fo fun to watch in the playoffs. Bowman should let JAgr have a lot of fun in the next couple of games since the Pens are going to beat the pulp out of Jersey anyway. I was very disappointed not to see the Islanders lose the final regular season game.          PENS RULE!!!  \""
            ]
          },
          "metadata": {
            "tags": []
          },
          "execution_count": 11
        }
      ]
    },
    {
      "cell_type": "code",
      "metadata": {
        "colab": {
          "base_uri": "https://localhost:8080/",
          "height": 156
        },
        "id": "8LR4HNMHbvgV",
        "outputId": "12111957-9133-48e7-b2d2-79e66ad053dc"
      },
      "source": [
        "# test after cleaning\n",
        "df = clean_df(df_data[:10].copy())\n",
        "print(df.shape)\n",
        "\n",
        "text = \" \".join(df.iloc[0].text.split(\"\\n\"))\n",
        "# print(text)\n",
        "text"
      ],
      "execution_count": null,
      "outputs": [
        {
          "output_type": "stream",
          "text": [
            "(10, 1)\n"
          ],
          "name": "stdout"
        },
        {
          "output_type": "execute_result",
          "data": {
            "application/vnd.google.colaboratory.intrinsic+json": {
              "type": "string"
            },
            "text/plain": [
              "'Mamatha Devineni Ratnam Pens fans reactions Organization Post Office, Carnegie Mellon, Pittsburgh, PA Lines 12 NNTP Posting Host po4.andrew.cmu.edu I am sure some bashers of Pens fans are pretty confused about the lack of any kind of posts about the recent Pens massacre of the Devils. Actually, I am bit puzzled too and a bit relieved. However, I am going to put an end to non PIttsburghers relief with a bit of praise for the Pens. Man, they are killing those Devils worse than I thought. Jagr just showed you why he is much better than his regular season stats. He is also a lot fo fun to watch in the playoffs. Bowman should let JAgr have a lot of fun in the next couple of games since the Pens are going to beat the pulp out of Jersey anyway. I was very disappointed not to see the Islanders lose the final regular season game. PENS RULE'"
            ]
          },
          "metadata": {
            "tags": []
          },
          "execution_count": 12
        }
      ]
    },
    {
      "cell_type": "code",
      "metadata": {
        "colab": {
          "base_uri": "https://localhost:8080/"
        },
        "id": "DWV-SQySdl6f",
        "outputId": "44b8a927-f5c2-4095-c421-bf68e3157e1b"
      },
      "source": [
        "%%time\n",
        "# clean all data\n",
        "df_data = clean_df(df_data)\n",
        "print(df_data.shape)"
      ],
      "execution_count": null,
      "outputs": [
        {
          "output_type": "stream",
          "text": [
            "(18846, 1)\n",
            "CPU times: user 4.63 s, sys: 40.9 ms, total: 4.67 s\n",
            "Wall time: 4.67 s\n"
          ],
          "name": "stdout"
        }
      ]
    },
    {
      "cell_type": "code",
      "metadata": {
        "colab": {
          "base_uri": "https://localhost:8080/",
          "height": 348
        },
        "id": "6pUDirJRd0wb",
        "outputId": "699bc170-db01-4d43-957b-dbfac987c542"
      },
      "source": [
        "df_data.head(10)"
      ],
      "execution_count": null,
      "outputs": [
        {
          "output_type": "execute_result",
          "data": {
            "text/html": [
              "<div>\n",
              "<style scoped>\n",
              "    .dataframe tbody tr th:only-of-type {\n",
              "        vertical-align: middle;\n",
              "    }\n",
              "\n",
              "    .dataframe tbody tr th {\n",
              "        vertical-align: top;\n",
              "    }\n",
              "\n",
              "    .dataframe thead th {\n",
              "        text-align: right;\n",
              "    }\n",
              "</style>\n",
              "<table border=\"1\" class=\"dataframe\">\n",
              "  <thead>\n",
              "    <tr style=\"text-align: right;\">\n",
              "      <th></th>\n",
              "      <th>text</th>\n",
              "    </tr>\n",
              "  </thead>\n",
              "  <tbody>\n",
              "    <tr>\n",
              "      <th>0</th>\n",
              "      <td>Mamatha Devineni Ratnam Pens fans reactions Or...</td>\n",
              "    </tr>\n",
              "    <tr>\n",
              "      <th>1</th>\n",
              "      <td>Matthew B Lawson Which high performance VLB vi...</td>\n",
              "    </tr>\n",
              "    <tr>\n",
              "      <th>2</th>\n",
              "      <td>Hilmi Eren Re ARMENIA SAYS IT COULD SHOOT DOWN...</td>\n",
              "    </tr>\n",
              "    <tr>\n",
              "      <th>3</th>\n",
              "      <td>Guy Dawson Re IDE vs SCSI, DMA and detach Orig...</td>\n",
              "    </tr>\n",
              "    <tr>\n",
              "      <th>4</th>\n",
              "      <td>Alexander Samuel McDiarmid driver  Organizatio...</td>\n",
              "    </tr>\n",
              "    <tr>\n",
              "      <th>5</th>\n",
              "      <td>Stephen Tell Re subliminal message flashing on...</td>\n",
              "    </tr>\n",
              "    <tr>\n",
              "      <th>6</th>\n",
              "      <td>Louis Paul Adams Re Number for Applied Enginee...</td>\n",
              "    </tr>\n",
              "    <tr>\n",
              "      <th>7</th>\n",
              "      <td>Deepak Chhabra Re Atlanta Hockey Hell Nntp Pos...</td>\n",
              "    </tr>\n",
              "    <tr>\n",
              "      <th>8</th>\n",
              "      <td>Deepak Chhabra Re Goalie masks Nntp Posting Ho...</td>\n",
              "    </tr>\n",
              "    <tr>\n",
              "      <th>9</th>\n",
              "      <td>Ken Arromdee Re Christians above the Law was C...</td>\n",
              "    </tr>\n",
              "  </tbody>\n",
              "</table>\n",
              "</div>"
            ],
            "text/plain": [
              "                                                text\n",
              "0  Mamatha Devineni Ratnam Pens fans reactions Or...\n",
              "1  Matthew B Lawson Which high performance VLB vi...\n",
              "2  Hilmi Eren Re ARMENIA SAYS IT COULD SHOOT DOWN...\n",
              "3  Guy Dawson Re IDE vs SCSI, DMA and detach Orig...\n",
              "4  Alexander Samuel McDiarmid driver  Organizatio...\n",
              "5  Stephen Tell Re subliminal message flashing on...\n",
              "6  Louis Paul Adams Re Number for Applied Enginee...\n",
              "7  Deepak Chhabra Re Atlanta Hockey Hell Nntp Pos...\n",
              "8  Deepak Chhabra Re Goalie masks Nntp Posting Ho...\n",
              "9  Ken Arromdee Re Christians above the Law was C..."
            ]
          },
          "metadata": {
            "tags": []
          },
          "execution_count": 14
        }
      ]
    },
    {
      "cell_type": "markdown",
      "metadata": {
        "id": "vlhhWa9qycjP"
      },
      "source": [
        "## Spacy NER"
      ]
    },
    {
      "cell_type": "code",
      "metadata": {
        "id": "T_x4WFP2QWPJ"
      },
      "source": [
        "nlp = en_core_web_sm.load()"
      ],
      "execution_count": null,
      "outputs": []
    },
    {
      "cell_type": "code",
      "metadata": {
        "colab": {
          "base_uri": "https://localhost:8080/"
        },
        "id": "Gae6UIH2B5LP",
        "outputId": "f61d3cde-7087-4be2-d099-82b93769e683"
      },
      "source": [
        "print(spacy.explain('NORP'), '\\n', spacy.explain('CARDINAL'))"
      ],
      "execution_count": null,
      "outputs": [
        {
          "output_type": "stream",
          "text": [
            "Nationalities or religious or political groups \n",
            " Numerals that do not fall under another type\n"
          ],
          "name": "stdout"
        }
      ]
    },
    {
      "cell_type": "markdown",
      "metadata": {
        "id": "5ymVKE9YPV7V"
      },
      "source": [
        "we want to extract named entities and print in a dataframe "
      ]
    },
    {
      "cell_type": "code",
      "metadata": {
        "id": "DqyzsCokHM76"
      },
      "source": [
        "def show_ents(doc):\n",
        "  if doc.ents:\n",
        "    for ent in doc.ents:\n",
        "      print(ent.text + ' - ' + ent.label_ + ' - ' + str(spacy.explain(ent.label_)))   \n",
        "  else: \n",
        "    print('No named entities found.')"
      ],
      "execution_count": null,
      "outputs": []
    },
    {
      "cell_type": "code",
      "metadata": {
        "id": "Bvn5q-uTYKbU"
      },
      "source": [
        "# doc = nlp('May I go to Washington DC next May to see the Washington Monument?') \n",
        "# # x =  [may, i, go , to, washington , dc, next, may, to, see, the, washington, monumemnt] \n",
        "# # y =  [o, o, o, o, b-loc, o, b-misc, i-misc, o, o, b-org, i-org, i-org] -> labels\n",
        "\n",
        "# # doc = nlp(\"\\n\".join(newsgroup_train.data[0].split(\"\\n\")))\n",
        "# show_ents(doc)"
      ],
      "execution_count": null,
      "outputs": []
    },
    {
      "cell_type": "code",
      "metadata": {
        "colab": {
          "base_uri": "https://localhost:8080/"
        },
        "id": "TFICpUHyusTq",
        "outputId": "27c00b54-55c9-46ce-aaf7-d785fe993f94"
      },
      "source": [
        "example = nlp('Narendra Modi is Prime Minister of India')\n",
        "show_ents(example)\n"
      ],
      "execution_count": null,
      "outputs": [
        {
          "output_type": "stream",
          "text": [
            "Narendra Modi - PERSON - People, including fictional\n",
            "India - GPE - Countries, cities, states\n"
          ],
          "name": "stdout"
        }
      ]
    },
    {
      "cell_type": "markdown",
      "metadata": {
        "id": "MTpp_JyuJMAy"
      },
      "source": [
        "### Performing for one example"
      ]
    },
    {
      "cell_type": "code",
      "metadata": {
        "colab": {
          "base_uri": "https://localhost:8080/"
        },
        "id": "ZbSqG7QabIzL",
        "outputId": "78f2aed1-d40b-47d6-dcfd-62473975782d"
      },
      "source": [
        "from google.colab import drive\n",
        "drive.mount('/content/drive')"
      ],
      "execution_count": null,
      "outputs": [
        {
          "output_type": "stream",
          "text": [
            "Mounted at /content/drive\n"
          ],
          "name": "stdout"
        }
      ]
    },
    {
      "cell_type": "code",
      "metadata": {
        "colab": {
          "base_uri": "https://localhost:8080/"
        },
        "id": "0nYyZb1VLcZz",
        "outputId": "fb466ad4-9139-46ef-de0b-c9ee8e769921"
      },
      "source": [
        "doc = nlp(df_data.iloc[0].text)\n",
        "\n",
        "person_list = []\n",
        "loc_list = []\n",
        "ent_text = []\n",
        "ent_label = []\n",
        "ent_desr = []\n",
        "\n",
        "for ent in doc.ents:\n",
        "  ent_text.append(ent.text)\n",
        "  ent_label.append(ent.label_)\n",
        "  ent_desr.append(str(spacy.explain(ent.label_)))\n",
        "  \n",
        "  if ent.label_ == 'PERSON':\n",
        "    person_list.append(ent.text)\n",
        "  elif ent.label_ == 'LOC':\n",
        "    loc_list.append(ent.text)\n",
        "        \n",
        "print(len(ent_text), len(ent_label), len(ent_desr), len(person_list))\n"
      ],
      "execution_count": null,
      "outputs": [
        {
          "output_type": "stream",
          "text": [
            "14 14 14 3\n"
          ],
          "name": "stdout"
        }
      ]
    },
    {
      "cell_type": "code",
      "metadata": {
        "colab": {
          "base_uri": "https://localhost:8080/"
        },
        "id": "rdxO0HPLT0YM",
        "outputId": "0ab7988e-bce6-471a-e959-f34b27baec28"
      },
      "source": [
        "person_counts = Counter(person_list).most_common(100)\n",
        "loc_counts = Counter(loc_list).most_common(100)\n",
        "\n",
        "df_ent = pd.DataFrame(data = {'Text':ent_text,\n",
        "                              'Label': ent_label,\n",
        "                              'Description': ent_desr\n",
        "                              }\n",
        "                      )\n",
        "\n",
        "df_person = pd.DataFrame(person_counts, columns =['Person', 'Count'])\n",
        "df_location = pd.DataFrame(loc_counts, columns=['Location', 'Count'])\n",
        "\n",
        "df_ent.shape, df_person.shape, df_location.shape"
      ],
      "execution_count": null,
      "outputs": [
        {
          "output_type": "execute_result",
          "data": {
            "text/plain": [
              "((14, 3), (3, 2), (1, 2))"
            ]
          },
          "metadata": {
            "tags": []
          },
          "execution_count": 22
        }
      ]
    },
    {
      "cell_type": "markdown",
      "metadata": {
        "id": "ElScCxhqCk-0"
      },
      "source": [
        "#### saving and reading dataframe on drive"
      ]
    },
    {
      "cell_type": "code",
      "metadata": {
        "colab": {
          "base_uri": "https://localhost:8080/",
          "height": 462
        },
        "id": "Xd0_nu1dV2AS",
        "outputId": "228d098e-cbea-43fe-9652-15980ce76cd9"
      },
      "source": [
        "df_ent"
      ],
      "execution_count": null,
      "outputs": [
        {
          "output_type": "execute_result",
          "data": {
            "text/html": [
              "<div>\n",
              "<style scoped>\n",
              "    .dataframe tbody tr th:only-of-type {\n",
              "        vertical-align: middle;\n",
              "    }\n",
              "\n",
              "    .dataframe tbody tr th {\n",
              "        vertical-align: top;\n",
              "    }\n",
              "\n",
              "    .dataframe thead th {\n",
              "        text-align: right;\n",
              "    }\n",
              "</style>\n",
              "<table border=\"1\" class=\"dataframe\">\n",
              "  <thead>\n",
              "    <tr style=\"text-align: right;\">\n",
              "      <th></th>\n",
              "      <th>Text</th>\n",
              "      <th>Label</th>\n",
              "      <th>Description</th>\n",
              "    </tr>\n",
              "  </thead>\n",
              "  <tbody>\n",
              "    <tr>\n",
              "      <th>0</th>\n",
              "      <td>Devineni Ratnam</td>\n",
              "      <td>PERSON</td>\n",
              "      <td>People, including fictional</td>\n",
              "    </tr>\n",
              "    <tr>\n",
              "      <th>1</th>\n",
              "      <td>Pens</td>\n",
              "      <td>ORG</td>\n",
              "      <td>Companies, agencies, institutions, etc.</td>\n",
              "    </tr>\n",
              "    <tr>\n",
              "      <th>2</th>\n",
              "      <td>Organization Post Office</td>\n",
              "      <td>ORG</td>\n",
              "      <td>Companies, agencies, institutions, etc.</td>\n",
              "    </tr>\n",
              "    <tr>\n",
              "      <th>3</th>\n",
              "      <td>Carnegie Mellon</td>\n",
              "      <td>ORG</td>\n",
              "      <td>Companies, agencies, institutions, etc.</td>\n",
              "    </tr>\n",
              "    <tr>\n",
              "      <th>4</th>\n",
              "      <td>Pittsburgh</td>\n",
              "      <td>GPE</td>\n",
              "      <td>Countries, cities, states</td>\n",
              "    </tr>\n",
              "    <tr>\n",
              "      <th>5</th>\n",
              "      <td>PA Lines</td>\n",
              "      <td>ORG</td>\n",
              "      <td>Companies, agencies, institutions, etc.</td>\n",
              "    </tr>\n",
              "    <tr>\n",
              "      <th>6</th>\n",
              "      <td>Pens</td>\n",
              "      <td>ORG</td>\n",
              "      <td>Companies, agencies, institutions, etc.</td>\n",
              "    </tr>\n",
              "    <tr>\n",
              "      <th>7</th>\n",
              "      <td>Devils</td>\n",
              "      <td>LOC</td>\n",
              "      <td>Non-GPE locations, mountain ranges, bodies of ...</td>\n",
              "    </tr>\n",
              "    <tr>\n",
              "      <th>8</th>\n",
              "      <td>PIttsburghers</td>\n",
              "      <td>ORG</td>\n",
              "      <td>Companies, agencies, institutions, etc.</td>\n",
              "    </tr>\n",
              "    <tr>\n",
              "      <th>9</th>\n",
              "      <td>Pens</td>\n",
              "      <td>ORG</td>\n",
              "      <td>Companies, agencies, institutions, etc.</td>\n",
              "    </tr>\n",
              "    <tr>\n",
              "      <th>10</th>\n",
              "      <td>JAgr</td>\n",
              "      <td>PERSON</td>\n",
              "      <td>People, including fictional</td>\n",
              "    </tr>\n",
              "    <tr>\n",
              "      <th>11</th>\n",
              "      <td>Pens</td>\n",
              "      <td>ORG</td>\n",
              "      <td>Companies, agencies, institutions, etc.</td>\n",
              "    </tr>\n",
              "    <tr>\n",
              "      <th>12</th>\n",
              "      <td>Jersey</td>\n",
              "      <td>PERSON</td>\n",
              "      <td>People, including fictional</td>\n",
              "    </tr>\n",
              "    <tr>\n",
              "      <th>13</th>\n",
              "      <td>Islanders</td>\n",
              "      <td>ORG</td>\n",
              "      <td>Companies, agencies, institutions, etc.</td>\n",
              "    </tr>\n",
              "  </tbody>\n",
              "</table>\n",
              "</div>"
            ],
            "text/plain": [
              "                        Text  ...                                        Description\n",
              "0            Devineni Ratnam  ...                        People, including fictional\n",
              "1                       Pens  ...            Companies, agencies, institutions, etc.\n",
              "2   Organization Post Office  ...            Companies, agencies, institutions, etc.\n",
              "3            Carnegie Mellon  ...            Companies, agencies, institutions, etc.\n",
              "4                 Pittsburgh  ...                          Countries, cities, states\n",
              "5                   PA Lines  ...            Companies, agencies, institutions, etc.\n",
              "6                       Pens  ...            Companies, agencies, institutions, etc.\n",
              "7                     Devils  ...  Non-GPE locations, mountain ranges, bodies of ...\n",
              "8              PIttsburghers  ...            Companies, agencies, institutions, etc.\n",
              "9                       Pens  ...            Companies, agencies, institutions, etc.\n",
              "10                      JAgr  ...                        People, including fictional\n",
              "11                      Pens  ...            Companies, agencies, institutions, etc.\n",
              "12                    Jersey  ...                        People, including fictional\n",
              "13                 Islanders  ...            Companies, agencies, institutions, etc.\n",
              "\n",
              "[14 rows x 3 columns]"
            ]
          },
          "metadata": {
            "tags": []
          },
          "execution_count": 23
        }
      ]
    },
    {
      "cell_type": "code",
      "metadata": {
        "id": "4-7jmfSPBUvO"
      },
      "source": [
        "# saving the file\n",
        "df_ent.to_pickle('/content/drive/MyDrive/NLP/NLP_Ass2/df_ent.pkl')"
      ],
      "execution_count": null,
      "outputs": []
    },
    {
      "cell_type": "code",
      "metadata": {
        "id": "SwkWVyXvCUCt"
      },
      "source": [
        "# reading the stored file\n",
        "df_ent2 = pd.read_pickle('/content/drive/MyDrive/NLP/NLP_Ass2/df_ent.pkl')"
      ],
      "execution_count": null,
      "outputs": []
    },
    {
      "cell_type": "code",
      "metadata": {
        "colab": {
          "base_uri": "https://localhost:8080/",
          "height": 462
        },
        "id": "xzlI36M7CiQc",
        "outputId": "c1d716b7-1b1a-4a42-b456-9023c980313f"
      },
      "source": [
        "df_ent2"
      ],
      "execution_count": null,
      "outputs": [
        {
          "output_type": "execute_result",
          "data": {
            "text/html": [
              "<div>\n",
              "<style scoped>\n",
              "    .dataframe tbody tr th:only-of-type {\n",
              "        vertical-align: middle;\n",
              "    }\n",
              "\n",
              "    .dataframe tbody tr th {\n",
              "        vertical-align: top;\n",
              "    }\n",
              "\n",
              "    .dataframe thead th {\n",
              "        text-align: right;\n",
              "    }\n",
              "</style>\n",
              "<table border=\"1\" class=\"dataframe\">\n",
              "  <thead>\n",
              "    <tr style=\"text-align: right;\">\n",
              "      <th></th>\n",
              "      <th>Text</th>\n",
              "      <th>Label</th>\n",
              "      <th>Description</th>\n",
              "    </tr>\n",
              "  </thead>\n",
              "  <tbody>\n",
              "    <tr>\n",
              "      <th>0</th>\n",
              "      <td>Devineni Ratnam</td>\n",
              "      <td>PERSON</td>\n",
              "      <td>People, including fictional</td>\n",
              "    </tr>\n",
              "    <tr>\n",
              "      <th>1</th>\n",
              "      <td>Pens</td>\n",
              "      <td>ORG</td>\n",
              "      <td>Companies, agencies, institutions, etc.</td>\n",
              "    </tr>\n",
              "    <tr>\n",
              "      <th>2</th>\n",
              "      <td>Organization Post Office</td>\n",
              "      <td>ORG</td>\n",
              "      <td>Companies, agencies, institutions, etc.</td>\n",
              "    </tr>\n",
              "    <tr>\n",
              "      <th>3</th>\n",
              "      <td>Carnegie Mellon</td>\n",
              "      <td>ORG</td>\n",
              "      <td>Companies, agencies, institutions, etc.</td>\n",
              "    </tr>\n",
              "    <tr>\n",
              "      <th>4</th>\n",
              "      <td>Pittsburgh</td>\n",
              "      <td>GPE</td>\n",
              "      <td>Countries, cities, states</td>\n",
              "    </tr>\n",
              "    <tr>\n",
              "      <th>5</th>\n",
              "      <td>PA Lines</td>\n",
              "      <td>ORG</td>\n",
              "      <td>Companies, agencies, institutions, etc.</td>\n",
              "    </tr>\n",
              "    <tr>\n",
              "      <th>6</th>\n",
              "      <td>Pens</td>\n",
              "      <td>ORG</td>\n",
              "      <td>Companies, agencies, institutions, etc.</td>\n",
              "    </tr>\n",
              "    <tr>\n",
              "      <th>7</th>\n",
              "      <td>Devils</td>\n",
              "      <td>LOC</td>\n",
              "      <td>Non-GPE locations, mountain ranges, bodies of ...</td>\n",
              "    </tr>\n",
              "    <tr>\n",
              "      <th>8</th>\n",
              "      <td>PIttsburghers</td>\n",
              "      <td>ORG</td>\n",
              "      <td>Companies, agencies, institutions, etc.</td>\n",
              "    </tr>\n",
              "    <tr>\n",
              "      <th>9</th>\n",
              "      <td>Pens</td>\n",
              "      <td>ORG</td>\n",
              "      <td>Companies, agencies, institutions, etc.</td>\n",
              "    </tr>\n",
              "    <tr>\n",
              "      <th>10</th>\n",
              "      <td>JAgr</td>\n",
              "      <td>PERSON</td>\n",
              "      <td>People, including fictional</td>\n",
              "    </tr>\n",
              "    <tr>\n",
              "      <th>11</th>\n",
              "      <td>Pens</td>\n",
              "      <td>ORG</td>\n",
              "      <td>Companies, agencies, institutions, etc.</td>\n",
              "    </tr>\n",
              "    <tr>\n",
              "      <th>12</th>\n",
              "      <td>Jersey</td>\n",
              "      <td>PERSON</td>\n",
              "      <td>People, including fictional</td>\n",
              "    </tr>\n",
              "    <tr>\n",
              "      <th>13</th>\n",
              "      <td>Islanders</td>\n",
              "      <td>ORG</td>\n",
              "      <td>Companies, agencies, institutions, etc.</td>\n",
              "    </tr>\n",
              "  </tbody>\n",
              "</table>\n",
              "</div>"
            ],
            "text/plain": [
              "                        Text  ...                                        Description\n",
              "0            Devineni Ratnam  ...                        People, including fictional\n",
              "1                       Pens  ...            Companies, agencies, institutions, etc.\n",
              "2   Organization Post Office  ...            Companies, agencies, institutions, etc.\n",
              "3            Carnegie Mellon  ...            Companies, agencies, institutions, etc.\n",
              "4                 Pittsburgh  ...                          Countries, cities, states\n",
              "5                   PA Lines  ...            Companies, agencies, institutions, etc.\n",
              "6                       Pens  ...            Companies, agencies, institutions, etc.\n",
              "7                     Devils  ...  Non-GPE locations, mountain ranges, bodies of ...\n",
              "8              PIttsburghers  ...            Companies, agencies, institutions, etc.\n",
              "9                       Pens  ...            Companies, agencies, institutions, etc.\n",
              "10                      JAgr  ...                        People, including fictional\n",
              "11                      Pens  ...            Companies, agencies, institutions, etc.\n",
              "12                    Jersey  ...                        People, including fictional\n",
              "13                 Islanders  ...            Companies, agencies, institutions, etc.\n",
              "\n",
              "[14 rows x 3 columns]"
            ]
          },
          "metadata": {
            "tags": []
          },
          "execution_count": 28
        }
      ]
    },
    {
      "cell_type": "code",
      "metadata": {
        "colab": {
          "base_uri": "https://localhost:8080/"
        },
        "id": "CrVFTjd1V_P5",
        "outputId": "11b26892-a401-488e-90b8-eb872de11f15"
      },
      "source": [
        "# count of all labels\n",
        "# df_ent['Label'].value_counts()\n",
        "\n",
        "df_ent.Label.value_counts()"
      ],
      "execution_count": null,
      "outputs": [
        {
          "output_type": "execute_result",
          "data": {
            "text/plain": [
              "ORG       9\n",
              "PERSON    3\n",
              "GPE       1\n",
              "LOC       1\n",
              "Name: Label, dtype: int64"
            ]
          },
          "metadata": {
            "tags": []
          },
          "execution_count": 29
        }
      ]
    },
    {
      "cell_type": "markdown",
      "metadata": {
        "id": "NCR1xq-dTyos"
      },
      "source": [
        "### for entire dataset"
      ]
    },
    {
      "cell_type": "code",
      "metadata": {
        "colab": {
          "base_uri": "https://localhost:8080/"
        },
        "id": "gjl_PSVk3TZy",
        "outputId": "5252af50-6f91-436e-dada-3c3c739e838a"
      },
      "source": [
        "%%time\n",
        "person_list = []\n",
        "loc_list = []\n",
        "\n",
        "ent_doc_id = []\n",
        "ent_text = []\n",
        "ent_label = []\n",
        "ent_desr = []\n",
        "\n",
        "\n",
        "for i, text in enumerate(df_data.text.tolist()):\n",
        "  # print(text, '\\n')\n",
        "  doc = nlp(text)\n",
        "  # show_ents(doc)\n",
        "  # print('\\n')\n",
        "  for ent in doc.ents:\n",
        "    ent_doc_id.append(i)\n",
        "    ent_text.append(ent.text)\n",
        "    ent_label.append(ent.label_)\n",
        "    ent_desr.append(str(spacy.explain(ent.label_)))\n",
        "    \n",
        "    if ent.label_ == 'PERSON':\n",
        "      person_list.append(ent.text)\n",
        "    elif ent.label_ == 'LOC':\n",
        "      loc_list.append(ent.text)\n",
        "\n",
        "print(len(ent_text), len(ent_label), len(ent_desr), len(person_list), len(loc_list))"
      ],
      "execution_count": null,
      "outputs": [
        {
          "output_type": "stream",
          "text": [
            "516431 516431 516431 113138 4932\n",
            "CPU times: user 31min 16s, sys: 35 s, total: 31min 51s\n",
            "Wall time: 31min 46s\n"
          ],
          "name": "stdout"
        }
      ]
    },
    {
      "cell_type": "code",
      "metadata": {
        "colab": {
          "base_uri": "https://localhost:8080/"
        },
        "id": "__NmQxsLZhUm",
        "outputId": "85ad6360-f1b7-4443-8ca5-ff0dedf244d0"
      },
      "source": [
        "person_counts = Counter(person_list).most_common(100)\n",
        "loc_counts = Counter(loc_list).most_common(100)\n",
        "\n",
        "df_ent = pd.DataFrame(data = {'doc_id': ent_doc_id,\n",
        "                              'text':ent_text,\n",
        "                              'label': ent_label,\n",
        "                              'description': ent_desr\n",
        "                              }\n",
        "                      )\n",
        "\n",
        "df_person = pd.DataFrame(person_counts, columns = ['person', 'cnt'])\n",
        "df_location = pd.DataFrame(loc_counts, columns = ['location', 'cnt'])\n",
        "\n",
        "df_ent.shape, df_person.shape, df_location.shape"
      ],
      "execution_count": null,
      "outputs": [
        {
          "output_type": "execute_result",
          "data": {
            "text/plain": [
              "((516431, 4), (100, 2), (100, 2))"
            ]
          },
          "metadata": {
            "tags": []
          },
          "execution_count": 48
        }
      ]
    },
    {
      "cell_type": "code",
      "metadata": {
        "colab": {
          "base_uri": "https://localhost:8080/",
          "height": 639
        },
        "id": "U7XHNnahaWw_",
        "outputId": "f5d58920-a318-44a2-f3c5-acbe688dbc0a"
      },
      "source": [
        "df_ent.head(20)"
      ],
      "execution_count": null,
      "outputs": [
        {
          "output_type": "execute_result",
          "data": {
            "text/html": [
              "<div>\n",
              "<style scoped>\n",
              "    .dataframe tbody tr th:only-of-type {\n",
              "        vertical-align: middle;\n",
              "    }\n",
              "\n",
              "    .dataframe tbody tr th {\n",
              "        vertical-align: top;\n",
              "    }\n",
              "\n",
              "    .dataframe thead th {\n",
              "        text-align: right;\n",
              "    }\n",
              "</style>\n",
              "<table border=\"1\" class=\"dataframe\">\n",
              "  <thead>\n",
              "    <tr style=\"text-align: right;\">\n",
              "      <th></th>\n",
              "      <th>doc_id</th>\n",
              "      <th>text</th>\n",
              "      <th>label</th>\n",
              "      <th>description</th>\n",
              "    </tr>\n",
              "  </thead>\n",
              "  <tbody>\n",
              "    <tr>\n",
              "      <th>0</th>\n",
              "      <td>0</td>\n",
              "      <td>Devineni Ratnam</td>\n",
              "      <td>PERSON</td>\n",
              "      <td>People, including fictional</td>\n",
              "    </tr>\n",
              "    <tr>\n",
              "      <th>1</th>\n",
              "      <td>0</td>\n",
              "      <td>Organization:</td>\n",
              "      <td>ORG</td>\n",
              "      <td>Companies, agencies, institutions, etc.</td>\n",
              "    </tr>\n",
              "    <tr>\n",
              "      <th>2</th>\n",
              "      <td>0</td>\n",
              "      <td>Carnegie Mellon</td>\n",
              "      <td>ORG</td>\n",
              "      <td>Companies, agencies, institutions, etc.</td>\n",
              "    </tr>\n",
              "    <tr>\n",
              "      <th>3</th>\n",
              "      <td>0</td>\n",
              "      <td>Pittsburgh</td>\n",
              "      <td>GPE</td>\n",
              "      <td>Countries, cities, states</td>\n",
              "    </tr>\n",
              "    <tr>\n",
              "      <th>4</th>\n",
              "      <td>0</td>\n",
              "      <td>12</td>\n",
              "      <td>CARDINAL</td>\n",
              "      <td>Numerals that do not fall under another type</td>\n",
              "    </tr>\n",
              "    <tr>\n",
              "      <th>5</th>\n",
              "      <td>0</td>\n",
              "      <td>Devils</td>\n",
              "      <td>LOC</td>\n",
              "      <td>Non-GPE locations, mountain ranges, bodies of ...</td>\n",
              "    </tr>\n",
              "    <tr>\n",
              "      <th>6</th>\n",
              "      <td>0</td>\n",
              "      <td>Pens</td>\n",
              "      <td>ORG</td>\n",
              "      <td>Companies, agencies, institutions, etc.</td>\n",
              "    </tr>\n",
              "    <tr>\n",
              "      <th>7</th>\n",
              "      <td>0</td>\n",
              "      <td>JAgr</td>\n",
              "      <td>PERSON</td>\n",
              "      <td>People, including fictional</td>\n",
              "    </tr>\n",
              "    <tr>\n",
              "      <th>8</th>\n",
              "      <td>0</td>\n",
              "      <td>Pens</td>\n",
              "      <td>ORG</td>\n",
              "      <td>Companies, agencies, institutions, etc.</td>\n",
              "    </tr>\n",
              "    <tr>\n",
              "      <th>9</th>\n",
              "      <td>0</td>\n",
              "      <td>Jersey</td>\n",
              "      <td>PERSON</td>\n",
              "      <td>People, including fictional</td>\n",
              "    </tr>\n",
              "    <tr>\n",
              "      <th>10</th>\n",
              "      <td>0</td>\n",
              "      <td>Islanders</td>\n",
              "      <td>ORG</td>\n",
              "      <td>Companies, agencies, institutions, etc.</td>\n",
              "    </tr>\n",
              "    <tr>\n",
              "      <th>11</th>\n",
              "      <td>1</td>\n",
              "      <td>Matthew B Lawson</td>\n",
              "      <td>PERSON</td>\n",
              "      <td>People, including fictional</td>\n",
              "    </tr>\n",
              "    <tr>\n",
              "      <th>12</th>\n",
              "      <td>1</td>\n",
              "      <td>VLB</td>\n",
              "      <td>PRODUCT</td>\n",
              "      <td>Objects, vehicles, foods, etc. (not services)</td>\n",
              "    </tr>\n",
              "    <tr>\n",
              "      <th>13</th>\n",
              "      <td>1</td>\n",
              "      <td>VLB</td>\n",
              "      <td>PRODUCT</td>\n",
              "      <td>Objects, vehicles, foods, etc. (not services)</td>\n",
              "    </tr>\n",
              "    <tr>\n",
              "      <th>14</th>\n",
              "      <td>1</td>\n",
              "      <td>Organization:</td>\n",
              "      <td>ORG</td>\n",
              "      <td>Companies, agencies, institutions, etc.</td>\n",
              "    </tr>\n",
              "    <tr>\n",
              "      <th>15</th>\n",
              "      <td>1</td>\n",
              "      <td>University of Oklahoma</td>\n",
              "      <td>ORG</td>\n",
              "      <td>Companies, agencies, institutions, etc.</td>\n",
              "    </tr>\n",
              "    <tr>\n",
              "      <th>16</th>\n",
              "      <td>1</td>\n",
              "      <td>Norman</td>\n",
              "      <td>NORP</td>\n",
              "      <td>Nationalities or religious or political groups</td>\n",
              "    </tr>\n",
              "    <tr>\n",
              "      <th>17</th>\n",
              "      <td>1</td>\n",
              "      <td>USA Keywords</td>\n",
              "      <td>GPE</td>\n",
              "      <td>Countries, cities, states</td>\n",
              "    </tr>\n",
              "    <tr>\n",
              "      <th>18</th>\n",
              "      <td>1</td>\n",
              "      <td>21</td>\n",
              "      <td>CARDINAL</td>\n",
              "      <td>Numerals that do not fall under another type</td>\n",
              "    </tr>\n",
              "    <tr>\n",
              "      <th>19</th>\n",
              "      <td>1</td>\n",
              "      <td>1</td>\n",
              "      <td>CARDINAL</td>\n",
              "      <td>Numerals that do not fall under another type</td>\n",
              "    </tr>\n",
              "  </tbody>\n",
              "</table>\n",
              "</div>"
            ],
            "text/plain": [
              "    doc_id  ...                                        description\n",
              "0        0  ...                        People, including fictional\n",
              "1        0  ...            Companies, agencies, institutions, etc.\n",
              "2        0  ...            Companies, agencies, institutions, etc.\n",
              "3        0  ...                          Countries, cities, states\n",
              "4        0  ...       Numerals that do not fall under another type\n",
              "5        0  ...  Non-GPE locations, mountain ranges, bodies of ...\n",
              "6        0  ...            Companies, agencies, institutions, etc.\n",
              "7        0  ...                        People, including fictional\n",
              "8        0  ...            Companies, agencies, institutions, etc.\n",
              "9        0  ...                        People, including fictional\n",
              "10       0  ...            Companies, agencies, institutions, etc.\n",
              "11       1  ...                        People, including fictional\n",
              "12       1  ...      Objects, vehicles, foods, etc. (not services)\n",
              "13       1  ...      Objects, vehicles, foods, etc. (not services)\n",
              "14       1  ...            Companies, agencies, institutions, etc.\n",
              "15       1  ...            Companies, agencies, institutions, etc.\n",
              "16       1  ...     Nationalities or religious or political groups\n",
              "17       1  ...                          Countries, cities, states\n",
              "18       1  ...       Numerals that do not fall under another type\n",
              "19       1  ...       Numerals that do not fall under another type\n",
              "\n",
              "[20 rows x 4 columns]"
            ]
          },
          "metadata": {
            "tags": []
          },
          "execution_count": 49
        }
      ]
    },
    {
      "cell_type": "code",
      "metadata": {
        "id": "53zvwX1xIKne"
      },
      "source": [
        "# saving the file\n",
        "df_ent.to_pickle('/content/drive/MyDrive/NLP/NLP_Ass2/df_ent_full.pkl')"
      ],
      "execution_count": null,
      "outputs": []
    },
    {
      "cell_type": "code",
      "metadata": {
        "id": "Biekgy7db_M1"
      },
      "source": [
        "# reading the stored file\n",
        "df_ent2 = pd.read_pickle('/content/drive/MyDrive/NLP/NLP_Ass2/df_ent_full.pkl')"
      ],
      "execution_count": null,
      "outputs": []
    },
    {
      "cell_type": "code",
      "metadata": {
        "colab": {
          "base_uri": "https://localhost:8080/",
          "height": 195
        },
        "id": "Ci14JEhDsGOm",
        "outputId": "7a7e9d36-9240-42e9-da01-71a7e94dcbde"
      },
      "source": [
        "df_ent2.tail()"
      ],
      "execution_count": null,
      "outputs": [
        {
          "output_type": "execute_result",
          "data": {
            "text/html": [
              "<div>\n",
              "<style scoped>\n",
              "    .dataframe tbody tr th:only-of-type {\n",
              "        vertical-align: middle;\n",
              "    }\n",
              "\n",
              "    .dataframe tbody tr th {\n",
              "        vertical-align: top;\n",
              "    }\n",
              "\n",
              "    .dataframe thead th {\n",
              "        text-align: right;\n",
              "    }\n",
              "</style>\n",
              "<table border=\"1\" class=\"dataframe\">\n",
              "  <thead>\n",
              "    <tr style=\"text-align: right;\">\n",
              "      <th></th>\n",
              "      <th>doc_id</th>\n",
              "      <th>text</th>\n",
              "      <th>label</th>\n",
              "      <th>description</th>\n",
              "    </tr>\n",
              "  </thead>\n",
              "  <tbody>\n",
              "    <tr>\n",
              "      <th>516426</th>\n",
              "      <td>18845</td>\n",
              "      <td>Chris Silvester</td>\n",
              "      <td>PERSON</td>\n",
              "      <td>People, including fictional</td>\n",
              "    </tr>\n",
              "    <tr>\n",
              "      <th>516427</th>\n",
              "      <td>18845</td>\n",
              "      <td>|</td>\n",
              "      <td>PERSON</td>\n",
              "      <td>People, including fictional</td>\n",
              "    </tr>\n",
              "    <tr>\n",
              "      <th>516428</th>\n",
              "      <td>18845</td>\n",
              "      <td>Douglas Adams</td>\n",
              "      <td>PERSON</td>\n",
              "      <td>People, including fictional</td>\n",
              "    </tr>\n",
              "    <tr>\n",
              "      <th>516429</th>\n",
              "      <td>18845</td>\n",
              "      <td>Hitchhiker</td>\n",
              "      <td>ORG</td>\n",
              "      <td>Companies, agencies, institutions, etc.</td>\n",
              "    </tr>\n",
              "    <tr>\n",
              "      <th>516430</th>\n",
              "      <td>18845</td>\n",
              "      <td>Galaxy</td>\n",
              "      <td>ORG</td>\n",
              "      <td>Companies, agencies, institutions, etc.</td>\n",
              "    </tr>\n",
              "  </tbody>\n",
              "</table>\n",
              "</div>"
            ],
            "text/plain": [
              "        doc_id  ...                              description\n",
              "516426   18845  ...              People, including fictional\n",
              "516427   18845  ...              People, including fictional\n",
              "516428   18845  ...              People, including fictional\n",
              "516429   18845  ...  Companies, agencies, institutions, etc.\n",
              "516430   18845  ...  Companies, agencies, institutions, etc.\n",
              "\n",
              "[5 rows x 4 columns]"
            ]
          },
          "metadata": {
            "tags": []
          },
          "execution_count": 53
        }
      ]
    },
    {
      "cell_type": "code",
      "metadata": {
        "colab": {
          "base_uri": "https://localhost:8080/"
        },
        "id": "5pn7Jm63dy-u",
        "outputId": "ac2bb4e0-9e03-4f3e-9a67-75cdd19bda7a"
      },
      "source": [
        "df_ent['label'].value_counts()"
      ],
      "execution_count": null,
      "outputs": [
        {
          "output_type": "execute_result",
          "data": {
            "text/plain": [
              "CARDINAL       117408\n",
              "ORG            115251\n",
              "PERSON         113138\n",
              "GPE             46191\n",
              "DATE            37411\n",
              "NORP            25943\n",
              "MONEY           11231\n",
              "PRODUCT         10497\n",
              "ORDINAL          8434\n",
              "WORK_OF_ART      7690\n",
              "LOC              4932\n",
              "TIME             4434\n",
              "FAC              3759\n",
              "QUANTITY         3736\n",
              "PERCENT          2807\n",
              "LAW              1508\n",
              "EVENT            1430\n",
              "LANGUAGE          631\n",
              "Name: label, dtype: int64"
            ]
          },
          "metadata": {
            "tags": []
          },
          "execution_count": 54
        }
      ]
    },
    {
      "cell_type": "code",
      "metadata": {
        "colab": {
          "base_uri": "https://localhost:8080/"
        },
        "id": "HDR5KPOSfL4z",
        "outputId": "417272f1-a762-4d45-bd8f-bae3bd4a004b"
      },
      "source": [
        "df_ent[df_ent['label'] == 'PERSON'].shape"
      ],
      "execution_count": null,
      "outputs": [
        {
          "output_type": "execute_result",
          "data": {
            "text/plain": [
              "(113138, 4)"
            ]
          },
          "metadata": {
            "tags": []
          },
          "execution_count": 55
        }
      ]
    },
    {
      "cell_type": "code",
      "metadata": {
        "id": "3IQI0CQPeoAH"
      },
      "source": [
        " df_per = df_ent[df_ent['label'] == 'PERSON']"
      ],
      "execution_count": null,
      "outputs": []
    },
    {
      "cell_type": "code",
      "metadata": {
        "colab": {
          "base_uri": "https://localhost:8080/"
        },
        "id": "Ci8rrsmXeHym",
        "outputId": "e72d0420-df7d-41aa-e14f-d770a6decbf7"
      },
      "source": [
        "# take out 100 persons from df_ent\n",
        "df_per.shape"
      ],
      "execution_count": null,
      "outputs": [
        {
          "output_type": "execute_result",
          "data": {
            "text/plain": [
              "(113138, 4)"
            ]
          },
          "metadata": {
            "tags": []
          },
          "execution_count": 57
        }
      ]
    },
    {
      "cell_type": "markdown",
      "metadata": {
        "id": "svMclToZar5Q"
      },
      "source": [
        "### top 100 LOC and PERSON entities"
      ]
    },
    {
      "cell_type": "markdown",
      "metadata": {
        "id": "lhPrP8jhDHfl"
      },
      "source": [
        "#### PERSON entities"
      ]
    },
    {
      "cell_type": "code",
      "metadata": {
        "colab": {
          "base_uri": "https://localhost:8080/"
        },
        "id": "CeDIOsORaYC0",
        "outputId": "57be544b-798e-4d54-8a68-afbcf8587356"
      },
      "source": [
        "for i, row in df_person.iterrows():\n",
        "  print(i, row['person'], row['cnt'])\n",
        "  if i==100:\n",
        "    break"
      ],
      "execution_count": null,
      "outputs": [
        {
          "output_type": "stream",
          "text": [
            "0 Jesus 1631\n",
            "1 Clinton 643\n",
            "2 Paul 449\n",
            "3 Mac 435\n",
            "4 Sun 405\n",
            "5 David 292\n",
            "6 Mary 282\n",
            "7 John 246\n",
            "8 Keywords 244\n",
            "9 Mike 232\n",
            "10 Steve 218\n",
            "11 Matthew 211\n",
            "12 Windows 208\n",
            "13 God 205\n",
            "14 MYERS 198\n",
            "15 Jim 193\n",
            "16 Henry Spencer 188\n",
            "17 Mark 185\n",
            "18 Peter 175\n",
            "19 Hitler 169\n",
            "20 David Sternlight 166\n",
            "21 Bill 164\n",
            "22 Michael 158\n",
            "23 Nntp-Posting-Host 154\n",
            "24 David Koresh 153\n",
            "25 Clayton Cramer 151\n",
            "26 Xlib 147\n",
            "27 Jesus Christ 147\n",
            "28 Morris 146\n",
            "29 Disclaimer 144\n",
            "30 Rushdie 143\n",
            "31 Roger 142\n",
            "32 Law 139\n",
            "33 Kent Sandvik 135\n",
            "34 Bob 135\n",
            "35 Pat 134\n",
            "36 Moon 133\n",
            "37 Bush 131\n",
            "38 Nntp-Posting- 127\n",
            "39 Dave 127\n",
            "40 Brian 126\n",
            "41 Sahak Melkonian - 1920 125\n",
            "42 Ed 123\n",
            "43 Frank O'Dwyer 120\n",
            "44 Luke 119\n",
            "45 Jake Livni 118\n",
            "46 Kent 117\n",
            "47 Gordon Banks 117\n",
            "48 Waco 112\n",
            "49 David Davidian 111\n",
            "50 Quadra 111\n",
            "51 Greeks 111\n",
            "52 CWRU.Edu 109\n",
            "53 Gary L Dare 108\n",
            "54 Joseph 107\n",
            "55 Tim Clock 105\n",
            "56 David Veal 105\n",
            "57 Keith Allan Schneider 101\n",
            "58 Roger Maynard 101\n",
            "59 Andrew 100\n",
            "60 Don 99\n",
            "61 Tom 98\n",
            "62 NULL 98\n",
            "63 Jon Livesey 95\n",
            "64 Janet Reno 95\n",
            "65 | 94\n",
            "66 Matt 93\n",
            "67 James 93\n",
            "68 Joe 92\n",
            "69 Tim 92\n",
            "70 Fri 90\n",
            "71 Judas 90\n",
            "72 Nyx 88\n",
            "73 Bill Clinton 87\n",
            "74 Pat Myrto 87\n",
            "75 Jehovah 86\n",
            "76 Ron 85\n",
            "77 Phill Hallam-Baker 85\n",
            "78 Dan 83\n",
            "79 BATF 83\n",
            "80 Mario 83\n",
            "81 Chris BeHanna 82\n",
            "82 George 82\n",
            "83 Mark Singer 81\n",
            "84 Ron Baalke 81\n",
            "85 Ted 79\n",
            "86 Michael Covington 79\n",
            "87 Steve Hendricks 79\n",
            "88 UUCP 78\n",
            "89 JFIF 77\n",
            "90 KSAND 76\n",
            "91 Larson 75\n",
            "92 Bruins 74\n",
            "93 Aaron 74\n",
            "94 Tony 74\n",
            "95 Gregg Jaeger 73\n",
            "96 Robert Weiss 73\n",
            "97 Keith M. Ryan 72\n",
            "98 pyramid}!optilink!cramer 72\n",
            "99 Bill Conner 72\n"
          ],
          "name": "stdout"
        }
      ]
    },
    {
      "cell_type": "code",
      "metadata": {
        "colab": {
          "base_uri": "https://localhost:8080/",
          "height": 793
        },
        "id": "mztjF_-ddDpQ",
        "outputId": "86761a24-b61c-4dad-c7d5-915f07bb2111"
      },
      "source": [
        "df_person[76:]\n",
        "# df_person[-25:]"
      ],
      "execution_count": null,
      "outputs": [
        {
          "output_type": "execute_result",
          "data": {
            "text/html": [
              "<div>\n",
              "<style scoped>\n",
              "    .dataframe tbody tr th:only-of-type {\n",
              "        vertical-align: middle;\n",
              "    }\n",
              "\n",
              "    .dataframe tbody tr th {\n",
              "        vertical-align: top;\n",
              "    }\n",
              "\n",
              "    .dataframe thead th {\n",
              "        text-align: right;\n",
              "    }\n",
              "</style>\n",
              "<table border=\"1\" class=\"dataframe\">\n",
              "  <thead>\n",
              "    <tr style=\"text-align: right;\">\n",
              "      <th></th>\n",
              "      <th>person</th>\n",
              "      <th>cnt</th>\n",
              "    </tr>\n",
              "  </thead>\n",
              "  <tbody>\n",
              "    <tr>\n",
              "      <th>76</th>\n",
              "      <td>Ron</td>\n",
              "      <td>85</td>\n",
              "    </tr>\n",
              "    <tr>\n",
              "      <th>77</th>\n",
              "      <td>Phill Hallam-Baker</td>\n",
              "      <td>85</td>\n",
              "    </tr>\n",
              "    <tr>\n",
              "      <th>78</th>\n",
              "      <td>Dan</td>\n",
              "      <td>83</td>\n",
              "    </tr>\n",
              "    <tr>\n",
              "      <th>79</th>\n",
              "      <td>BATF</td>\n",
              "      <td>83</td>\n",
              "    </tr>\n",
              "    <tr>\n",
              "      <th>80</th>\n",
              "      <td>Mario</td>\n",
              "      <td>83</td>\n",
              "    </tr>\n",
              "    <tr>\n",
              "      <th>81</th>\n",
              "      <td>Chris BeHanna</td>\n",
              "      <td>82</td>\n",
              "    </tr>\n",
              "    <tr>\n",
              "      <th>82</th>\n",
              "      <td>George</td>\n",
              "      <td>82</td>\n",
              "    </tr>\n",
              "    <tr>\n",
              "      <th>83</th>\n",
              "      <td>Mark Singer</td>\n",
              "      <td>81</td>\n",
              "    </tr>\n",
              "    <tr>\n",
              "      <th>84</th>\n",
              "      <td>Ron Baalke</td>\n",
              "      <td>81</td>\n",
              "    </tr>\n",
              "    <tr>\n",
              "      <th>85</th>\n",
              "      <td>Ted</td>\n",
              "      <td>79</td>\n",
              "    </tr>\n",
              "    <tr>\n",
              "      <th>86</th>\n",
              "      <td>Michael Covington</td>\n",
              "      <td>79</td>\n",
              "    </tr>\n",
              "    <tr>\n",
              "      <th>87</th>\n",
              "      <td>Steve Hendricks</td>\n",
              "      <td>79</td>\n",
              "    </tr>\n",
              "    <tr>\n",
              "      <th>88</th>\n",
              "      <td>UUCP</td>\n",
              "      <td>78</td>\n",
              "    </tr>\n",
              "    <tr>\n",
              "      <th>89</th>\n",
              "      <td>JFIF</td>\n",
              "      <td>77</td>\n",
              "    </tr>\n",
              "    <tr>\n",
              "      <th>90</th>\n",
              "      <td>KSAND</td>\n",
              "      <td>76</td>\n",
              "    </tr>\n",
              "    <tr>\n",
              "      <th>91</th>\n",
              "      <td>Larson</td>\n",
              "      <td>75</td>\n",
              "    </tr>\n",
              "    <tr>\n",
              "      <th>92</th>\n",
              "      <td>Bruins</td>\n",
              "      <td>74</td>\n",
              "    </tr>\n",
              "    <tr>\n",
              "      <th>93</th>\n",
              "      <td>Aaron</td>\n",
              "      <td>74</td>\n",
              "    </tr>\n",
              "    <tr>\n",
              "      <th>94</th>\n",
              "      <td>Tony</td>\n",
              "      <td>74</td>\n",
              "    </tr>\n",
              "    <tr>\n",
              "      <th>95</th>\n",
              "      <td>Gregg Jaeger</td>\n",
              "      <td>73</td>\n",
              "    </tr>\n",
              "    <tr>\n",
              "      <th>96</th>\n",
              "      <td>Robert Weiss</td>\n",
              "      <td>73</td>\n",
              "    </tr>\n",
              "    <tr>\n",
              "      <th>97</th>\n",
              "      <td>Keith M. Ryan</td>\n",
              "      <td>72</td>\n",
              "    </tr>\n",
              "    <tr>\n",
              "      <th>98</th>\n",
              "      <td>pyramid}!optilink!cramer</td>\n",
              "      <td>72</td>\n",
              "    </tr>\n",
              "    <tr>\n",
              "      <th>99</th>\n",
              "      <td>Bill Conner</td>\n",
              "      <td>72</td>\n",
              "    </tr>\n",
              "  </tbody>\n",
              "</table>\n",
              "</div>"
            ],
            "text/plain": [
              "                      person  cnt\n",
              "76                       Ron   85\n",
              "77        Phill Hallam-Baker   85\n",
              "78                       Dan   83\n",
              "79                      BATF   83\n",
              "80                     Mario   83\n",
              "81             Chris BeHanna   82\n",
              "82                    George   82\n",
              "83               Mark Singer   81\n",
              "84                Ron Baalke   81\n",
              "85                       Ted   79\n",
              "86         Michael Covington   79\n",
              "87           Steve Hendricks   79\n",
              "88                      UUCP   78\n",
              "89                      JFIF   77\n",
              "90                     KSAND   76\n",
              "91                    Larson   75\n",
              "92                    Bruins   74\n",
              "93                     Aaron   74\n",
              "94                      Tony   74\n",
              "95              Gregg Jaeger   73\n",
              "96              Robert Weiss   73\n",
              "97             Keith M. Ryan   72\n",
              "98  pyramid}!optilink!cramer   72\n",
              "99               Bill Conner   72"
            ]
          },
          "metadata": {
            "tags": []
          },
          "execution_count": 74
        }
      ]
    },
    {
      "cell_type": "markdown",
      "metadata": {
        "id": "kdJtAXkJDNeQ"
      },
      "source": [
        "#### LOC entities"
      ]
    },
    {
      "cell_type": "code",
      "metadata": {
        "colab": {
          "base_uri": "https://localhost:8080/",
          "height": 359
        },
        "id": "RTEfVTWgbUBj",
        "outputId": "3800541b-8a0d-4bd1-c8d8-6dedec42c9ad"
      },
      "source": [
        "df_location[:10]"
      ],
      "execution_count": null,
      "outputs": [
        {
          "output_type": "execute_result",
          "data": {
            "text/html": [
              "<div>\n",
              "<style scoped>\n",
              "    .dataframe tbody tr th:only-of-type {\n",
              "        vertical-align: middle;\n",
              "    }\n",
              "\n",
              "    .dataframe tbody tr th {\n",
              "        vertical-align: top;\n",
              "    }\n",
              "\n",
              "    .dataframe thead th {\n",
              "        text-align: right;\n",
              "    }\n",
              "</style>\n",
              "<table border=\"1\" class=\"dataframe\">\n",
              "  <thead>\n",
              "    <tr style=\"text-align: right;\">\n",
              "      <th></th>\n",
              "      <th>location</th>\n",
              "      <th>cnt</th>\n",
              "    </tr>\n",
              "  </thead>\n",
              "  <tbody>\n",
              "    <tr>\n",
              "      <th>0</th>\n",
              "      <td>Earth</td>\n",
              "      <td>399</td>\n",
              "    </tr>\n",
              "    <tr>\n",
              "      <th>1</th>\n",
              "      <td>Europe</td>\n",
              "      <td>358</td>\n",
              "    </tr>\n",
              "    <tr>\n",
              "      <th>2</th>\n",
              "      <td>earth</td>\n",
              "      <td>203</td>\n",
              "    </tr>\n",
              "    <tr>\n",
              "      <th>3</th>\n",
              "      <td>Mars</td>\n",
              "      <td>142</td>\n",
              "    </tr>\n",
              "    <tr>\n",
              "      <th>4</th>\n",
              "      <td>Jupiter</td>\n",
              "      <td>118</td>\n",
              "    </tr>\n",
              "    <tr>\n",
              "      <th>5</th>\n",
              "      <td>Venus</td>\n",
              "      <td>109</td>\n",
              "    </tr>\n",
              "    <tr>\n",
              "      <th>6</th>\n",
              "      <td>East</td>\n",
              "      <td>72</td>\n",
              "    </tr>\n",
              "    <tr>\n",
              "      <th>7</th>\n",
              "      <td>West</td>\n",
              "      <td>67</td>\n",
              "    </tr>\n",
              "    <tr>\n",
              "      <th>8</th>\n",
              "      <td>Sun</td>\n",
              "      <td>62</td>\n",
              "    </tr>\n",
              "    <tr>\n",
              "      <th>9</th>\n",
              "      <td>Devils</td>\n",
              "      <td>47</td>\n",
              "    </tr>\n",
              "  </tbody>\n",
              "</table>\n",
              "</div>"
            ],
            "text/plain": [
              "  location  cnt\n",
              "0    Earth  399\n",
              "1   Europe  358\n",
              "2    earth  203\n",
              "3     Mars  142\n",
              "4  Jupiter  118\n",
              "5    Venus  109\n",
              "6     East   72\n",
              "7     West   67\n",
              "8      Sun   62\n",
              "9   Devils   47"
            ]
          },
          "metadata": {
            "tags": []
          },
          "execution_count": 81
        }
      ]
    },
    {
      "cell_type": "code",
      "metadata": {
        "colab": {
          "base_uri": "https://localhost:8080/"
        },
        "id": "iAESys2Zc0-7",
        "outputId": "f8c0de19-3a13-4a47-ae2c-72cb316a2e25"
      },
      "source": [
        "for i, row in df_location.iterrows():\n",
        "  print(i, row['location'], row['cnt'])\n",
        "  if i==100:\n",
        "    break"
      ],
      "execution_count": null,
      "outputs": [
        {
          "output_type": "stream",
          "text": [
            "0 Earth 399\n",
            "1 Europe 358\n",
            "2 earth 203\n",
            "3 Mars 142\n",
            "4 Jupiter 118\n",
            "5 Venus 109\n",
            "6 East 72\n",
            "7 West 67\n",
            "8 Sun 62\n",
            "9 Devils 47\n",
            "10 Marina 46\n",
            "11 North America 44\n",
            "12 Africa 32\n",
            "13 Nope 30\n",
            "14 the Middle East 28\n",
            "15 BATF 28\n",
            "16 Neptune 25\n",
            "17 Karina 25\n",
            "18 the middle east 24\n",
            "19 Azerbaijanis 24\n",
            "20 South Georgia Island 24\n",
            "21 Asia 20\n",
            "22 Erzurum 20\n",
            "23 South 20\n",
            "24 Strip 19\n",
            "25 europe 19\n",
            "26 Gulf 19\n",
            "27 Nords 19\n",
            "28 Atlantic 18\n",
            "29 Kars 17\n",
            "30 Xserver 17\n",
            "31 Oilers 17\n",
            "32 South America 17\n",
            "33 Stanley Cup 17\n",
            "34 Eastern Anatolia 17\n",
            "35 the Stanley Cup 17\n",
            "36 the Near East 16\n",
            "37 Western Digital 16\n",
            "38 Pacific 15\n",
            "39 Psalms 15\n",
            "40 Mathematica 15\n",
            "41 the Middle-East 14\n",
            "42 RE 14\n",
            "43 Watts 14\n",
            "44 the New Testament 14\n",
            "45 North 14\n",
            "46 Balkans 13\n",
            "47 Titan 13\n",
            "48 Delta 13\n",
            "49 Holocaust 13\n",
            "50 River 13\n",
            "51 mideast 13\n",
            "52 Macs 13\n",
            "53 Southeastern Europe 13\n",
            "54 Keywords 12\n",
            "55 jupiter 12\n",
            "56 the North Stars 12\n",
            "57 New England 12\n",
            "58 Gauche and Proud 12\n",
            "59 Satan 12\n",
            "60 Scandinavia 12\n",
            "61 Middle East 12\n",
            "62 the South Atlantic 12\n",
            "63 Mediterranean 11\n",
            "64 Sound 11\n",
            "65 Eastern Europe 11\n",
            "66 Western Europe 11\n",
            "67 Bay Area 11\n",
            "68 Southern California 11\n",
            "69 Rockies 11\n",
            "70 Siberia 11\n",
            "71 EAST 11\n",
            "72 Azeris 10\n",
            "73 Ohms 10\n",
            "74 Eden 10\n",
            "75 premises 10\n",
            "76 West Coast 10\n",
            "77 the Bay Area 10\n",
            "78 SC 10\n",
            "79 the Winnipeg Jets 10\n",
            "80 Paradise 9\n",
            "81 Latin America 9\n",
            "82 Northern Israel 9\n",
            "83 Territories 9\n",
            "84 JUMPY 9\n",
            "85 Silicon Valley 9\n",
            "86 Allies 9\n",
            "87 Tartars 9\n",
            "88 the Southern Hemisphere 9\n",
            "89 the Black Sea 8\n",
            "90 AZERIS 8\n",
            "91 the NL East 8\n",
            "92 the west coast 8\n",
            "93 this North America 8\n",
            "94 The Desert Brat 8\n",
            "95 Imakefile 8\n",
            "96 Midwest 8\n",
            "97 Moon 8\n",
            "98 Comet Shoemaker-Levy 8\n",
            "99 Nagorno-Karabagh 8\n"
          ],
          "name": "stdout"
        }
      ]
    },
    {
      "cell_type": "markdown",
      "metadata": {
        "id": "HNWwawwWf6LO"
      },
      "source": [
        "# Stanford NER"
      ]
    },
    {
      "cell_type": "code",
      "metadata": {
        "colab": {
          "base_uri": "https://localhost:8080/"
        },
        "id": "P7h5p2S7IRB2",
        "outputId": "6e16e185-282b-487c-9b0b-6238d23c40cd"
      },
      "source": [
        "stanza.download('en')\n",
        "nlp_s = stanza.Pipeline('en')"
      ],
      "execution_count": null,
      "outputs": [
        {
          "output_type": "stream",
          "text": [
            "Downloading https://raw.githubusercontent.com/stanfordnlp/stanza-resources/master/resources_1.2.0.json: 128kB [00:00, 28.8MB/s]                    \n",
            "2021-05-15 06:45:35 INFO: Downloading default packages for language: en (English)...\n",
            "Downloading http://nlp.stanford.edu/software/stanza/1.2.0/en/default.zip: 100%|██████████| 411M/411M [01:20<00:00, 5.09MB/s]\n",
            "2021-05-15 06:47:01 INFO: Finished downloading models and saved to /root/stanza_resources.\n",
            "2021-05-15 06:47:02 INFO: Loading these models for language: en (English):\n",
            "=========================\n",
            "| Processor | Package   |\n",
            "-------------------------\n",
            "| tokenize  | combined  |\n",
            "| pos       | combined  |\n",
            "| lemma     | combined  |\n",
            "| depparse  | combined  |\n",
            "| sentiment | sstplus   |\n",
            "| ner       | ontonotes |\n",
            "=========================\n",
            "\n",
            "2021-05-15 06:47:02 INFO: Use device: gpu\n",
            "2021-05-15 06:47:02 INFO: Loading: tokenize\n",
            "2021-05-15 06:47:13 INFO: Loading: pos\n",
            "2021-05-15 06:47:13 INFO: Loading: lemma\n",
            "2021-05-15 06:47:13 INFO: Loading: depparse\n",
            "2021-05-15 06:47:14 INFO: Loading: sentiment\n",
            "2021-05-15 06:47:14 INFO: Loading: ner\n",
            "2021-05-15 06:47:15 INFO: Done loading processors!\n"
          ],
          "name": "stderr"
        }
      ]
    },
    {
      "cell_type": "code",
      "metadata": {
        "colab": {
          "base_uri": "https://localhost:8080/"
        },
        "id": "eFnLJ2a4Ijjo",
        "outputId": "2bd31ab1-225c-466f-e577-0c73467c6602"
      },
      "source": [
        "nlp_s = stanza.Pipeline(lang='en', processors='tokenize,ner')"
      ],
      "execution_count": null,
      "outputs": [
        {
          "output_type": "stream",
          "text": [
            "2021-05-15 06:47:40 INFO: Loading these models for language: en (English):\n",
            "=========================\n",
            "| Processor | Package   |\n",
            "-------------------------\n",
            "| tokenize  | combined  |\n",
            "| ner       | ontonotes |\n",
            "=========================\n",
            "\n",
            "2021-05-15 06:47:40 INFO: Use device: gpu\n",
            "2021-05-15 06:47:40 INFO: Loading: tokenize\n",
            "2021-05-15 06:47:40 INFO: Loading: ner\n",
            "2021-05-15 06:47:40 INFO: Done loading processors!\n"
          ],
          "name": "stderr"
        }
      ]
    },
    {
      "cell_type": "code",
      "metadata": {
        "id": "txGgFdSGKOo-"
      },
      "source": [
        "def show_ents_stanford(text):\n",
        "    doc = nlp_s(text)\n",
        "    if doc.ents:\n",
        "        for ent in doc.ents:\n",
        "            print(ent.text + ' - ' + ent.type )\n",
        "    else: \n",
        "        print('No named entities found.')"
      ],
      "execution_count": null,
      "outputs": []
    },
    {
      "cell_type": "code",
      "metadata": {
        "colab": {
          "base_uri": "https://localhost:8080/"
        },
        "id": "zd_qaKv2Kogt",
        "outputId": "28b93eb0-3b94-4bea-f7a1-bdf4c5617a0f"
      },
      "source": [
        "print(df_data.iloc[0].text)"
      ],
      "execution_count": null,
      "outputs": [
        {
          "output_type": "stream",
          "text": [
            "From: Mamatha Devineni Ratnam <mr47+@andrew.cmu.edu> Subject: Pens fans reactions Organization: Post Office, Carnegie Mellon, Pittsburgh, PA Lines: 12 NNTP-Posting-Host: po4.andrew.cmu.edu    I am sure some bashers of Pens fans are pretty confused about the lack of any kind of posts about the recent Pens massacre of the Devils. Actually, I am  bit puzzled too and a bit relieved. However, I am going to put an end to non-PIttsburghers' relief with a bit of praise for the Pens. Man, they are killing those Devils worse than I thought. Jagr just showed you why he is much better than his regular season stats. He is also a lot fo fun to watch in the playoffs. Bowman should let JAgr have a lot of fun in the next couple of games since the Pens are going to beat the pulp out of Jersey anyway. I was very disappointed not to see the Islanders lose the final regular season game.          PENS RULE!!!  \n"
          ],
          "name": "stdout"
        }
      ]
    },
    {
      "cell_type": "code",
      "metadata": {
        "colab": {
          "base_uri": "https://localhost:8080/"
        },
        "id": "8O-t18ynNXJd",
        "outputId": "541e6508-867b-4228-86e4-e3f0100e0b7c"
      },
      "source": [
        "show_ents_stanford(text)"
      ],
      "execution_count": null,
      "outputs": [
        {
          "output_type": "stream",
          "text": [
            "Chris Silvester - PERSON\n",
            "Production Hold\" - WORK_OF_ART\n",
            "93 Firebird/Camaro - WORK_OF_ART\n",
            "6 - CARDINAL\n",
            "Netcom - Online Communication Services - ORG\n",
            "408 - CARDINAL\n",
            "241-9760 - CARDINAL\n",
            "30 - CARDINAL\n",
            "Gary Crum - PERSON\n",
            "the Phone with \"Pontiac Systems\" - WORK_OF_ART\n",
            "Pontaic Customer Service\" - WORK_OF_ART\n",
            "Production Hold - WORK_OF_ART\n",
            "the Formula Firebird - PRODUCT\n",
            "Trans Am - PRODUCT\n",
            "a \"Firebird Specialist\" - WORK_OF_ART\n",
            "first - ORDINAL\n",
            "3:23 - CARDINAL\n",
            "Second - ORDINAL\n",
            "Manual - PRODUCT\n",
            "Camaro - ORG\n",
            "Chris S. -- - PERSON\n",
            "Chris Silvester - PERSON\n",
            "Douglas Adams - PERSON\n",
            "The Hitchhiker's Guide to the Galaxy - WORK_OF_ART\n"
          ],
          "name": "stdout"
        }
      ]
    },
    {
      "cell_type": "code",
      "metadata": {
        "id": "coi52DLGKr-R",
        "colab": {
          "base_uri": "https://localhost:8080/"
        },
        "outputId": "df0bfd7f-1ac2-4927-f61a-6e8dbdf7fc5e"
      },
      "source": [
        "person_list = []\n",
        "loc_list = []\n",
        "\n",
        "ent_doc_id = []\n",
        "ent_text = []\n",
        "ent_type = []\n",
        "ent_desr = []\n",
        "\n",
        "\n",
        "for i, text in enumerate(df_data.text.tolist()):\n",
        "  # print(text, '\\n')\n",
        "  # print(i)\n",
        "  doc = nlp_s(text)\n",
        "  # show_ents(doc)\n",
        "  # print('\\n')\n",
        "  for ent in doc.ents:\n",
        "    ent_doc_id.append(i)\n",
        "    ent_text.append(ent.text)\n",
        "    ent_type.append(ent.type)\n",
        "    # ent_desr.append(str(spacy.explain(ent.label_)))\n",
        "    \n",
        "    if ent.type == 'PERSON':\n",
        "      person_list.append(ent.text)\n",
        "    elif ent.type == 'LOC':\n",
        "      loc_list.append(ent.text)\n",
        "\n",
        "print(len(ent_text), len(ent_type), len(person_list), len(loc_list))"
      ],
      "execution_count": null,
      "outputs": [
        {
          "output_type": "stream",
          "text": [
            "450223 450223 96057 3498\n"
          ],
          "name": "stdout"
        }
      ]
    },
    {
      "cell_type": "code",
      "metadata": {
        "id": "V6jgJiyyMO7b",
        "colab": {
          "base_uri": "https://localhost:8080/"
        },
        "outputId": "9dd5b5ce-f6fb-4777-cbd8-605711c2ba4b"
      },
      "source": [
        "person_counts = Counter(person_list).most_common(100)\n",
        "loc_counts = Counter(loc_list).most_common(100)\n",
        "\n",
        "df_ent = pd.DataFrame(data = {'doc_id': ent_doc_id,\n",
        "                              'text':ent_text,\n",
        "                              'label': ent_type,\n",
        "                              }\n",
        "                      )\n",
        "\n",
        "df_person = pd.DataFrame(person_counts, columns = ['person', 'cnt'])\n",
        "df_location = pd.DataFrame(loc_counts, columns = ['location', 'cnt'])\n",
        "\n",
        "df_ent.shape, df_person.shape, df_location.shape"
      ],
      "execution_count": null,
      "outputs": [
        {
          "output_type": "execute_result",
          "data": {
            "text/plain": [
              "((450223, 3), (100, 2), (100, 2))"
            ]
          },
          "metadata": {
            "tags": []
          },
          "execution_count": 89
        }
      ]
    },
    {
      "cell_type": "code",
      "metadata": {
        "id": "34NezBoASfwD",
        "colab": {
          "base_uri": "https://localhost:8080/",
          "height": 639
        },
        "outputId": "7b5c8b33-6c24-489f-d047-827df5b7cd63"
      },
      "source": [
        "df_ent.head(20)"
      ],
      "execution_count": null,
      "outputs": [
        {
          "output_type": "execute_result",
          "data": {
            "text/html": [
              "<div>\n",
              "<style scoped>\n",
              "    .dataframe tbody tr th:only-of-type {\n",
              "        vertical-align: middle;\n",
              "    }\n",
              "\n",
              "    .dataframe tbody tr th {\n",
              "        vertical-align: top;\n",
              "    }\n",
              "\n",
              "    .dataframe thead th {\n",
              "        text-align: right;\n",
              "    }\n",
              "</style>\n",
              "<table border=\"1\" class=\"dataframe\">\n",
              "  <thead>\n",
              "    <tr style=\"text-align: right;\">\n",
              "      <th></th>\n",
              "      <th>doc_id</th>\n",
              "      <th>text</th>\n",
              "      <th>label</th>\n",
              "    </tr>\n",
              "  </thead>\n",
              "  <tbody>\n",
              "    <tr>\n",
              "      <th>0</th>\n",
              "      <td>0</td>\n",
              "      <td>Mamatha Devineni</td>\n",
              "      <td>PERSON</td>\n",
              "    </tr>\n",
              "    <tr>\n",
              "      <th>1</th>\n",
              "      <td>0</td>\n",
              "      <td>Post Office</td>\n",
              "      <td>ORG</td>\n",
              "    </tr>\n",
              "    <tr>\n",
              "      <th>2</th>\n",
              "      <td>0</td>\n",
              "      <td>Carnegie Mellon</td>\n",
              "      <td>ORG</td>\n",
              "    </tr>\n",
              "    <tr>\n",
              "      <th>3</th>\n",
              "      <td>0</td>\n",
              "      <td>Pittsburgh</td>\n",
              "      <td>GPE</td>\n",
              "    </tr>\n",
              "    <tr>\n",
              "      <th>4</th>\n",
              "      <td>0</td>\n",
              "      <td>PA Lines</td>\n",
              "      <td>ORG</td>\n",
              "    </tr>\n",
              "    <tr>\n",
              "      <th>5</th>\n",
              "      <td>0</td>\n",
              "      <td>12</td>\n",
              "      <td>CARDINAL</td>\n",
              "    </tr>\n",
              "    <tr>\n",
              "      <th>6</th>\n",
              "      <td>0</td>\n",
              "      <td>Pens</td>\n",
              "      <td>ORG</td>\n",
              "    </tr>\n",
              "    <tr>\n",
              "      <th>7</th>\n",
              "      <td>0</td>\n",
              "      <td>Pens</td>\n",
              "      <td>ORG</td>\n",
              "    </tr>\n",
              "    <tr>\n",
              "      <th>8</th>\n",
              "      <td>0</td>\n",
              "      <td>PIttsburghers</td>\n",
              "      <td>NORP</td>\n",
              "    </tr>\n",
              "    <tr>\n",
              "      <th>9</th>\n",
              "      <td>0</td>\n",
              "      <td>Devils</td>\n",
              "      <td>NORP</td>\n",
              "    </tr>\n",
              "    <tr>\n",
              "      <th>10</th>\n",
              "      <td>0</td>\n",
              "      <td>Jagr</td>\n",
              "      <td>PERSON</td>\n",
              "    </tr>\n",
              "    <tr>\n",
              "      <th>11</th>\n",
              "      <td>0</td>\n",
              "      <td>Bowman</td>\n",
              "      <td>PERSON</td>\n",
              "    </tr>\n",
              "    <tr>\n",
              "      <th>12</th>\n",
              "      <td>0</td>\n",
              "      <td>JAgr</td>\n",
              "      <td>ORG</td>\n",
              "    </tr>\n",
              "    <tr>\n",
              "      <th>13</th>\n",
              "      <td>0</td>\n",
              "      <td>Pens</td>\n",
              "      <td>ORG</td>\n",
              "    </tr>\n",
              "    <tr>\n",
              "      <th>14</th>\n",
              "      <td>0</td>\n",
              "      <td>Jersey</td>\n",
              "      <td>GPE</td>\n",
              "    </tr>\n",
              "    <tr>\n",
              "      <th>15</th>\n",
              "      <td>0</td>\n",
              "      <td>Islanders</td>\n",
              "      <td>NORP</td>\n",
              "    </tr>\n",
              "    <tr>\n",
              "      <th>16</th>\n",
              "      <td>1</td>\n",
              "      <td>Matthew B Lawson</td>\n",
              "      <td>PERSON</td>\n",
              "    </tr>\n",
              "    <tr>\n",
              "      <th>17</th>\n",
              "      <td>1</td>\n",
              "      <td>VLB</td>\n",
              "      <td>ORG</td>\n",
              "    </tr>\n",
              "    <tr>\n",
              "      <th>18</th>\n",
              "      <td>1</td>\n",
              "      <td>Engineering Computer Network</td>\n",
              "      <td>ORG</td>\n",
              "    </tr>\n",
              "    <tr>\n",
              "      <th>19</th>\n",
              "      <td>1</td>\n",
              "      <td>University of Oklahoma</td>\n",
              "      <td>ORG</td>\n",
              "    </tr>\n",
              "  </tbody>\n",
              "</table>\n",
              "</div>"
            ],
            "text/plain": [
              "    doc_id                          text     label\n",
              "0        0              Mamatha Devineni    PERSON\n",
              "1        0                   Post Office       ORG\n",
              "2        0               Carnegie Mellon       ORG\n",
              "3        0                    Pittsburgh       GPE\n",
              "4        0                      PA Lines       ORG\n",
              "5        0                            12  CARDINAL\n",
              "6        0                          Pens       ORG\n",
              "7        0                          Pens       ORG\n",
              "8        0                 PIttsburghers      NORP\n",
              "9        0                        Devils      NORP\n",
              "10       0                          Jagr    PERSON\n",
              "11       0                        Bowman    PERSON\n",
              "12       0                          JAgr       ORG\n",
              "13       0                          Pens       ORG\n",
              "14       0                        Jersey       GPE\n",
              "15       0                     Islanders      NORP\n",
              "16       1              Matthew B Lawson    PERSON\n",
              "17       1                           VLB       ORG\n",
              "18       1  Engineering Computer Network       ORG\n",
              "19       1        University of Oklahoma       ORG"
            ]
          },
          "metadata": {
            "tags": []
          },
          "execution_count": 90
        }
      ]
    },
    {
      "cell_type": "code",
      "metadata": {
        "id": "YHaEhUnLNdPY"
      },
      "source": [
        "df_ent.to_pickle('/content/drive/MyDrive/NLP/NLP_Ass2/df_ent_stanford.pkl')"
      ],
      "execution_count": null,
      "outputs": []
    },
    {
      "cell_type": "code",
      "metadata": {
        "id": "f05wfbUh96Se"
      },
      "source": [
        "# reading the stored file\n",
        "df_ent2 = pd.read_pickle('/content/drive/MyDrive/NLP/NLP_Ass2/df_ent_stanford.pkl')"
      ],
      "execution_count": null,
      "outputs": []
    },
    {
      "cell_type": "code",
      "metadata": {
        "colab": {
          "base_uri": "https://localhost:8080/",
          "height": 195
        },
        "id": "EfZR_aUA-GoN",
        "outputId": "24b322ca-a324-438a-9ba5-d1c52b5e670f"
      },
      "source": [
        "df_ent2.head()"
      ],
      "execution_count": null,
      "outputs": [
        {
          "output_type": "execute_result",
          "data": {
            "text/html": [
              "<div>\n",
              "<style scoped>\n",
              "    .dataframe tbody tr th:only-of-type {\n",
              "        vertical-align: middle;\n",
              "    }\n",
              "\n",
              "    .dataframe tbody tr th {\n",
              "        vertical-align: top;\n",
              "    }\n",
              "\n",
              "    .dataframe thead th {\n",
              "        text-align: right;\n",
              "    }\n",
              "</style>\n",
              "<table border=\"1\" class=\"dataframe\">\n",
              "  <thead>\n",
              "    <tr style=\"text-align: right;\">\n",
              "      <th></th>\n",
              "      <th>doc_id</th>\n",
              "      <th>text</th>\n",
              "      <th>label</th>\n",
              "    </tr>\n",
              "  </thead>\n",
              "  <tbody>\n",
              "    <tr>\n",
              "      <th>0</th>\n",
              "      <td>0</td>\n",
              "      <td>Mamatha Devineni</td>\n",
              "      <td>PERSON</td>\n",
              "    </tr>\n",
              "    <tr>\n",
              "      <th>1</th>\n",
              "      <td>0</td>\n",
              "      <td>Post Office</td>\n",
              "      <td>ORG</td>\n",
              "    </tr>\n",
              "    <tr>\n",
              "      <th>2</th>\n",
              "      <td>0</td>\n",
              "      <td>Carnegie Mellon</td>\n",
              "      <td>ORG</td>\n",
              "    </tr>\n",
              "    <tr>\n",
              "      <th>3</th>\n",
              "      <td>0</td>\n",
              "      <td>Pittsburgh</td>\n",
              "      <td>GPE</td>\n",
              "    </tr>\n",
              "    <tr>\n",
              "      <th>4</th>\n",
              "      <td>0</td>\n",
              "      <td>PA Lines</td>\n",
              "      <td>ORG</td>\n",
              "    </tr>\n",
              "  </tbody>\n",
              "</table>\n",
              "</div>"
            ],
            "text/plain": [
              "   doc_id              text   label\n",
              "0       0  Mamatha Devineni  PERSON\n",
              "1       0       Post Office     ORG\n",
              "2       0   Carnegie Mellon     ORG\n",
              "3       0        Pittsburgh     GPE\n",
              "4       0          PA Lines     ORG"
            ]
          },
          "metadata": {
            "tags": []
          },
          "execution_count": 93
        }
      ]
    },
    {
      "cell_type": "code",
      "metadata": {
        "id": "x9Y1MbitTQLK",
        "colab": {
          "base_uri": "https://localhost:8080/"
        },
        "outputId": "8f406aaf-a8a1-470e-9f68-9d258bad4695"
      },
      "source": [
        "df_ent['label'].value_counts()"
      ],
      "execution_count": null,
      "outputs": [
        {
          "output_type": "execute_result",
          "data": {
            "text/plain": [
              "ORG            101201\n",
              "PERSON          96057\n",
              "CARDINAL        89155\n",
              "GPE             42291\n",
              "DATE            27880\n",
              "NORP            25061\n",
              "PRODUCT         15863\n",
              "MONEY            9728\n",
              "WORK_OF_ART      9560\n",
              "ORDINAL          8039\n",
              "QUANTITY         6680\n",
              "TIME             5237\n",
              "PERCENT          3756\n",
              "LOC              3498\n",
              "FAC              2311\n",
              "LAW              1807\n",
              "EVENT            1501\n",
              "LANGUAGE          598\n",
              "Name: label, dtype: int64"
            ]
          },
          "metadata": {
            "tags": []
          },
          "execution_count": 94
        }
      ]
    },
    {
      "cell_type": "markdown",
      "metadata": {
        "id": "g1PRBLJNLEd3"
      },
      "source": [
        "### top 100 LOC and PERSON entities"
      ]
    },
    {
      "cell_type": "markdown",
      "metadata": {
        "id": "BholZn8b26jx"
      },
      "source": [
        "##### PERSON entities"
      ]
    },
    {
      "cell_type": "code",
      "metadata": {
        "id": "1X6sxC_uTUGr",
        "colab": {
          "base_uri": "https://localhost:8080/",
          "height": 758
        },
        "outputId": "1f4ac9d2-5f98-4f5b-de8c-c040b7dc933f"
      },
      "source": [
        "df_person[76:]"
      ],
      "execution_count": null,
      "outputs": [
        {
          "output_type": "execute_result",
          "data": {
            "text/html": [
              "<div>\n",
              "<style scoped>\n",
              "    .dataframe tbody tr th:only-of-type {\n",
              "        vertical-align: middle;\n",
              "    }\n",
              "\n",
              "    .dataframe tbody tr th {\n",
              "        vertical-align: top;\n",
              "    }\n",
              "\n",
              "    .dataframe thead th {\n",
              "        text-align: right;\n",
              "    }\n",
              "</style>\n",
              "<table border=\"1\" class=\"dataframe\">\n",
              "  <thead>\n",
              "    <tr style=\"text-align: right;\">\n",
              "      <th></th>\n",
              "      <th>person</th>\n",
              "      <th>cnt</th>\n",
              "    </tr>\n",
              "  </thead>\n",
              "  <tbody>\n",
              "    <tr>\n",
              "      <th>76</th>\n",
              "      <td>Gretzky</td>\n",
              "      <td>77</td>\n",
              "    </tr>\n",
              "    <tr>\n",
              "      <th>77</th>\n",
              "      <td>Mark Singer</td>\n",
              "      <td>76</td>\n",
              "    </tr>\n",
              "    <tr>\n",
              "      <th>78</th>\n",
              "      <td>Jake Livni</td>\n",
              "      <td>76</td>\n",
              "    </tr>\n",
              "    <tr>\n",
              "      <th>79</th>\n",
              "      <td>James</td>\n",
              "      <td>76</td>\n",
              "    </tr>\n",
              "    <tr>\n",
              "      <th>80</th>\n",
              "      <td>Clemens</td>\n",
              "      <td>76</td>\n",
              "    </tr>\n",
              "    <tr>\n",
              "      <th>81</th>\n",
              "      <td>King</td>\n",
              "      <td>75</td>\n",
              "    </tr>\n",
              "    <tr>\n",
              "      <th>82</th>\n",
              "      <td>Chris BeHanna</td>\n",
              "      <td>75</td>\n",
              "    </tr>\n",
              "    <tr>\n",
              "      <th>83</th>\n",
              "      <td>Chris</td>\n",
              "      <td>75</td>\n",
              "    </tr>\n",
              "    <tr>\n",
              "      <th>84</th>\n",
              "      <td>Michael Covington</td>\n",
              "      <td>74</td>\n",
              "    </tr>\n",
              "    <tr>\n",
              "      <th>85</th>\n",
              "      <td>Tony</td>\n",
              "      <td>74</td>\n",
              "    </tr>\n",
              "    <tr>\n",
              "      <th>86</th>\n",
              "      <td>Matt</td>\n",
              "      <td>74</td>\n",
              "    </tr>\n",
              "    <tr>\n",
              "      <th>87</th>\n",
              "      <td>McConkie</td>\n",
              "      <td>74</td>\n",
              "    </tr>\n",
              "    <tr>\n",
              "      <th>88</th>\n",
              "      <td>Ron Baalke</td>\n",
              "      <td>73</td>\n",
              "    </tr>\n",
              "    <tr>\n",
              "      <th>89</th>\n",
              "      <td>Robert Weiss</td>\n",
              "      <td>73</td>\n",
              "    </tr>\n",
              "    <tr>\n",
              "      <th>90</th>\n",
              "      <td>Murray</td>\n",
              "      <td>73</td>\n",
              "    </tr>\n",
              "    <tr>\n",
              "      <th>91</th>\n",
              "      <td>Amanda Walker</td>\n",
              "      <td>73</td>\n",
              "    </tr>\n",
              "    <tr>\n",
              "      <th>92</th>\n",
              "      <td>Nick</td>\n",
              "      <td>72</td>\n",
              "    </tr>\n",
              "    <tr>\n",
              "      <th>93</th>\n",
              "      <td>Gerald</td>\n",
              "      <td>72</td>\n",
              "    </tr>\n",
              "    <tr>\n",
              "      <th>94</th>\n",
              "      <td>Messiah</td>\n",
              "      <td>71</td>\n",
              "    </tr>\n",
              "    <tr>\n",
              "      <th>95</th>\n",
              "      <td>Nixon</td>\n",
              "      <td>70</td>\n",
              "    </tr>\n",
              "    <tr>\n",
              "      <th>96</th>\n",
              "      <td>Andrew</td>\n",
              "      <td>70</td>\n",
              "    </tr>\n",
              "    <tr>\n",
              "      <th>97</th>\n",
              "      <td>Steve Hendricks</td>\n",
              "      <td>70</td>\n",
              "    </tr>\n",
              "    <tr>\n",
              "      <th>98</th>\n",
              "      <td>Eric</td>\n",
              "      <td>69</td>\n",
              "    </tr>\n",
              "    <tr>\n",
              "      <th>99</th>\n",
              "      <td>Jagr</td>\n",
              "      <td>68</td>\n",
              "    </tr>\n",
              "  </tbody>\n",
              "</table>\n",
              "</div>"
            ],
            "text/plain": [
              "               person  cnt\n",
              "76            Gretzky   77\n",
              "77        Mark Singer   76\n",
              "78         Jake Livni   76\n",
              "79              James   76\n",
              "80            Clemens   76\n",
              "81               King   75\n",
              "82      Chris BeHanna   75\n",
              "83              Chris   75\n",
              "84  Michael Covington   74\n",
              "85               Tony   74\n",
              "86               Matt   74\n",
              "87           McConkie   74\n",
              "88         Ron Baalke   73\n",
              "89       Robert Weiss   73\n",
              "90             Murray   73\n",
              "91      Amanda Walker   73\n",
              "92               Nick   72\n",
              "93             Gerald   72\n",
              "94            Messiah   71\n",
              "95              Nixon   70\n",
              "96             Andrew   70\n",
              "97    Steve Hendricks   70\n",
              "98               Eric   69\n",
              "99               Jagr   68"
            ]
          },
          "metadata": {
            "tags": []
          },
          "execution_count": 101
        }
      ]
    },
    {
      "cell_type": "markdown",
      "metadata": {
        "id": "2njDoW-G3IHu"
      },
      "source": [
        "#### LOC entities"
      ]
    },
    {
      "cell_type": "code",
      "metadata": {
        "id": "tZ0L-QNgTWlE",
        "colab": {
          "base_uri": "https://localhost:8080/",
          "height": 758
        },
        "outputId": "e3607b73-bc29-400d-c5e3-3c864b5b05c1"
      },
      "source": [
        "df_location[76:]"
      ],
      "execution_count": null,
      "outputs": [
        {
          "output_type": "execute_result",
          "data": {
            "text/html": [
              "<div>\n",
              "<style scoped>\n",
              "    .dataframe tbody tr th:only-of-type {\n",
              "        vertical-align: middle;\n",
              "    }\n",
              "\n",
              "    .dataframe tbody tr th {\n",
              "        vertical-align: top;\n",
              "    }\n",
              "\n",
              "    .dataframe thead th {\n",
              "        text-align: right;\n",
              "    }\n",
              "</style>\n",
              "<table border=\"1\" class=\"dataframe\">\n",
              "  <thead>\n",
              "    <tr style=\"text-align: right;\">\n",
              "      <th></th>\n",
              "      <th>location</th>\n",
              "      <th>cnt</th>\n",
              "    </tr>\n",
              "  </thead>\n",
              "  <tbody>\n",
              "    <tr>\n",
              "      <th>76</th>\n",
              "      <td>Central America</td>\n",
              "      <td>6</td>\n",
              "    </tr>\n",
              "    <tr>\n",
              "      <th>77</th>\n",
              "      <td>the Golan Heights</td>\n",
              "      <td>6</td>\n",
              "    </tr>\n",
              "    <tr>\n",
              "      <th>78</th>\n",
              "      <td>Northern Israel</td>\n",
              "      <td>6</td>\n",
              "    </tr>\n",
              "    <tr>\n",
              "      <th>79</th>\n",
              "      <td>the Occupied Territories</td>\n",
              "      <td>6</td>\n",
              "    </tr>\n",
              "    <tr>\n",
              "      <th>80</th>\n",
              "      <td>Orient</td>\n",
              "      <td>6</td>\n",
              "    </tr>\n",
              "    <tr>\n",
              "      <th>81</th>\n",
              "      <td>Western Palestine</td>\n",
              "      <td>6</td>\n",
              "    </tr>\n",
              "    <tr>\n",
              "      <th>82</th>\n",
              "      <td>the Erevan guberniia</td>\n",
              "      <td>6</td>\n",
              "    </tr>\n",
              "    <tr>\n",
              "      <th>83</th>\n",
              "      <td>Central Vancouver Island</td>\n",
              "      <td>5</td>\n",
              "    </tr>\n",
              "    <tr>\n",
              "      <th>84</th>\n",
              "      <td>Islands</td>\n",
              "      <td>5</td>\n",
              "    </tr>\n",
              "    <tr>\n",
              "      <th>85</th>\n",
              "      <td>Gaza</td>\n",
              "      <td>5</td>\n",
              "    </tr>\n",
              "    <tr>\n",
              "      <th>86</th>\n",
              "      <td>Mt. Everest</td>\n",
              "      <td>5</td>\n",
              "    </tr>\n",
              "    <tr>\n",
              "      <th>87</th>\n",
              "      <td>Cherry</td>\n",
              "      <td>5</td>\n",
              "    </tr>\n",
              "    <tr>\n",
              "      <th>88</th>\n",
              "      <td>Midwest</td>\n",
              "      <td>5</td>\n",
              "    </tr>\n",
              "    <tr>\n",
              "      <th>89</th>\n",
              "      <td>Americas</td>\n",
              "      <td>5</td>\n",
              "    </tr>\n",
              "    <tr>\n",
              "      <th>90</th>\n",
              "      <td>Northeast</td>\n",
              "      <td>5</td>\n",
              "    </tr>\n",
              "    <tr>\n",
              "      <th>91</th>\n",
              "      <td>the East coast</td>\n",
              "      <td>5</td>\n",
              "    </tr>\n",
              "    <tr>\n",
              "      <th>92</th>\n",
              "      <td>Empire</td>\n",
              "      <td>5</td>\n",
              "    </tr>\n",
              "    <tr>\n",
              "      <th>93</th>\n",
              "      <td>Galapagos</td>\n",
              "      <td>5</td>\n",
              "    </tr>\n",
              "    <tr>\n",
              "      <th>94</th>\n",
              "      <td>Adriatic</td>\n",
              "      <td>4</td>\n",
              "    </tr>\n",
              "    <tr>\n",
              "      <th>95</th>\n",
              "      <td>the AL east</td>\n",
              "      <td>4</td>\n",
              "    </tr>\n",
              "    <tr>\n",
              "      <th>96</th>\n",
              "      <td>Trinity</td>\n",
              "      <td>4</td>\n",
              "    </tr>\n",
              "    <tr>\n",
              "      <th>97</th>\n",
              "      <td>the Grand Canyon</td>\n",
              "      <td>4</td>\n",
              "    </tr>\n",
              "    <tr>\n",
              "      <th>98</th>\n",
              "      <td>Antarctic</td>\n",
              "      <td>4</td>\n",
              "    </tr>\n",
              "    <tr>\n",
              "      <th>99</th>\n",
              "      <td>an XmDrawingArea</td>\n",
              "      <td>4</td>\n",
              "    </tr>\n",
              "  </tbody>\n",
              "</table>\n",
              "</div>"
            ],
            "text/plain": [
              "                    location  cnt\n",
              "76           Central America    6\n",
              "77         the Golan Heights    6\n",
              "78           Northern Israel    6\n",
              "79  the Occupied Territories    6\n",
              "80                    Orient    6\n",
              "81         Western Palestine    6\n",
              "82      the Erevan guberniia    6\n",
              "83  Central Vancouver Island    5\n",
              "84                   Islands    5\n",
              "85                      Gaza    5\n",
              "86               Mt. Everest    5\n",
              "87                    Cherry    5\n",
              "88                   Midwest    5\n",
              "89                  Americas    5\n",
              "90                 Northeast    5\n",
              "91            the East coast    5\n",
              "92                    Empire    5\n",
              "93                 Galapagos    5\n",
              "94                  Adriatic    4\n",
              "95               the AL east    4\n",
              "96                   Trinity    4\n",
              "97          the Grand Canyon    4\n",
              "98                 Antarctic    4\n",
              "99          an XmDrawingArea    4"
            ]
          },
          "metadata": {
            "tags": []
          },
          "execution_count": 105
        }
      ]
    },
    {
      "cell_type": "markdown",
      "metadata": {
        "id": "zZ6oeXkVaIoo"
      },
      "source": [
        "# 3. Generate Word2vec, Glove, Fasttext and BERT word vectors for the above corpus.\n"
      ]
    },
    {
      "cell_type": "code",
      "metadata": {
        "colab": {
          "base_uri": "https://localhost:8080/"
        },
        "id": "avGvVSme1RNO",
        "outputId": "d443b85e-2d00-4871-ce27-333b8be8b4d7"
      },
      "source": [
        "# converting list of list of  tokens to a single list\n",
        "vocab = []\n",
        "for word_list in df_annotated.tokens.tolist():\n",
        "    # print(word_list)\n",
        "    vocab.extend(word_list)\n",
        "\n",
        "print(\"all words:\", len(vocab))\n",
        "\n",
        "# getting unique words into vocab list\n",
        "vocab_set = list(set(vocab))\n",
        "print(\"unique words:\", len(vocab_set))\n"
      ],
      "execution_count": null,
      "outputs": [
        {
          "output_type": "stream",
          "text": [
            "all words: 2625407\n",
            "unique words: 140450\n"
          ],
          "name": "stdout"
        }
      ]
    },
    {
      "cell_type": "code",
      "metadata": {
        "colab": {
          "base_uri": "https://localhost:8080/"
        },
        "id": "c4FVT1P31RNQ",
        "outputId": "6158875f-79c7-4789-c931-544debe1c208"
      },
      "source": [
        "# taking top 50k words \n",
        "vocab_cntr = Counter(vocab)\n",
        "print(len(vocab_cntr))\n",
        "vocab_50k = vocab_cntr.most_common(50000)\n",
        "print(vocab_50k[:10]) \n"
      ],
      "execution_count": null,
      "outputs": [
        {
          "output_type": "stream",
          "text": [
            "140450\n",
            "[('nt', 25975), ('lines', 19653), ('organization', 18632), ('writes', 13330), ('article', 12256), ('x', 9894), ('$', 9682), ('like', 9661), ('university', 9414), ('people', 9281)]\n"
          ],
          "name": "stdout"
        }
      ]
    },
    {
      "cell_type": "code",
      "metadata": {
        "colab": {
          "base_uri": "https://localhost:8080/"
        },
        "id": "n9ue8ix41RNR",
        "outputId": "1c738ac2-398b-4a74-c505-0c2ba87e56db"
      },
      "source": [
        "# by looking at top and bottom 100 tokens we can do more pre-processing \n",
        "# take only tokens which has length greater than 1 and less than 15 characters\n",
        "print(vocab_cntr.most_common()[:100])\n",
        "print('\\n')\n",
        "print(vocab_cntr.most_common()[-100:])\n"
      ],
      "execution_count": null,
      "outputs": [
        {
          "output_type": "stream",
          "text": [
            "[('nt', 25975), ('lines', 19653), ('organization', 18632), ('writes', 13330), ('article', 12256), ('x', 9894), ('$', 9682), ('like', 9661), ('university', 9414), ('people', 9281), ('posting', 9120), ('know', 8602), ('m', 8379), ('host', 8367), ('nntp', 8100), ('think', 7500), ('s', 7211), ('time', 6663), ('use', 6649), ('new', 6337), ('good', 5920), ('way', 5016), ('distribution', 4551), ('right', 4531), ('ve', 4479), ('system', 4476), ('god', 4382), ('d', 4322), ('want', 4185), ('world', 4160), ('reply', 4007), ('said', 3996), ('need', 3954), ('work', 3791), ('problem', 3599), ('computer', 3533), ('believe', 3431), ('maxaxaxaxaxaxaxaxaxaxaxaxaxaxax', 3305), ('going', 3239), ('windows', 3211), ('help', 3162), ('find', 3154), ('file', 3145), ('state', 3143), ('information', 3137), ('mail', 3109), ('years', 3106), ('point', 3067), ('question', 3014), ('thanks', 2965), ('year', 2956), ('things', 2932), ('government', 2931), ('better', 2924), ('read', 2889), ('software', 2888), ('usa', 2868), ('number', 2776), ('sure', 2765), ('etc', 2692), ('got', 2686), ('case', 2630), ('data', 2611), ('program', 2607), ('david', 2603), ('drive', 2592), ('long', 2564), ('bit', 2562), ('space', 2550), ('thing', 2529), ('version', 2523), ('look', 2508), ('available', 2493), ('come', 2405), ('day', 2375), ('power', 2371), ('little', 2365), ('e', 2360), ('fact', 2344), ('law', 2284), ('best', 2247), ('probably', 2219), ('game', 2195), ('key', 2185), ('true', 2174), ('different', 2171), ('john', 2167), ('group', 2149), ('run', 2149), ('line', 2138), ('public', 2137), ('set', 2133), ('tell', 2131), ('try', 2102), ('car', 2095), ('science', 2071), ('course', 2062), ('lot', 2052), ('actually', 2050), ('great', 2045)]\n",
            "\n",
            "\n",
            "[('officefax', 1), ('415.599.4876', 1), ('voicepager', 1), ('amaccs', 1), ('bcarh929', 1), ('nubuspds', 1), ('fax613', 1), ('uslnovell', 1), ('benfits', 1), ('mommesso', 1), ('cobarruvias', 1), ('snick', 1), ('mustered', 1), ('roooster', 1), ('72mb', 1), ('at72', 1), ('news.1993apr6.052552.18045', 1), ('spooled', 1), ('zippppppppppp', 1), ('cirlce', 1), ('it,,,,so', 1), ('drive,,,no', 1), ('impalla', 1), ('orca', 1), ('tweeks', 1), ('barge', 1), ('xxxdate', 1), ('xuseragent', 1), ('xxxmessageid', 1), ('nntppostinghost', 1), ('youbatf', 1), ('borst', 1), ('bitgraypixel', 1), ('melpar', 1), ('citoh', 1), ('ccu1.1993apr23.021150.1065', 1), ('montante', 1), ('news.1993apr1.162131.4673', 1), ('dyskaryotic', 1), ('castelletto', 1), ('july26', 1), ('aug6', 1), ('aug30', 1), ('sept10', 1), ('astelletto', 1), ('51843895tor', 1), ('fmsrl7.1pqep5inn88e', 1), ('atoz', 1), ('streetmap', 1), ('firefighter', 1), ('givesell', 1), ('68kgs', 1), ('23.11.74', 1), ('bodycheckings', 1), ('harlamov', 1), ('mediaplayer', 1), ('winjammer', 1), ('dare2dream', 1), ('mappers', 1), ('opl3', 1), ('ashe', 1), ('milgram', 1), ('psychologysociology', 1), ('130.187.85.113', 1), ('nns', 1), ('dennett', 1), ('71611,365', 1), ('syllabi', 1), ('mentors', 1), ('compuserves', 1), ('simpilistic', 1), ('1024x768x16bpp', 1), ('select2', 1), ('poll2', 1), ('connectionnumber', 1), ('plagiarize', 1), ('appleusa', 1), ('c610s', 1), ('gratis', 1), ('ccmb', 1), ('alesis', 1), ('kneecaps', 1), ('ramcoelectronics', 1), ('sylvanwellington', 1), ('repairmans', 1), ('methodical', 1), ('sufffered', 1), ('shoul', 1), ('ofthe', 1), ('sured', 1), ('chein', 1), ('intracranial', 1), ('paroxysmal', 1), ('hemicrania', 1), ('millie', 1), ('millies', 1), ('aneurysm', 1), ('recepticles', 1), ('firebirdcamaro', 1), ('pontaic', 1)]\n"
          ],
          "name": "stdout"
        }
      ]
    },
    {
      "cell_type": "code",
      "metadata": {
        "colab": {
          "base_uri": "https://localhost:8080/"
        },
        "id": "zxyifSPr1RNR",
        "outputId": "d6f0a60b-ab48-4850-9fc1-e97ade10b065"
      },
      "source": [
        "# vocab_final = []\n",
        "# for word, cnt in vocab_50k:\n",
        "#     vocab_final.append(word)\n",
        "# or\n",
        "vocab_final = [word for word, cnt in vocab_50k]\n",
        "print(len(vocab_final))\n"
      ],
      "execution_count": null,
      "outputs": [
        {
          "output_type": "stream",
          "text": [
            "50000\n"
          ],
          "name": "stdout"
        }
      ]
    },
    {
      "cell_type": "markdown",
      "metadata": {
        "id": "6A1b44o0aLh0"
      },
      "source": [
        "## Fasttext"
      ]
    },
    {
      "cell_type": "code",
      "metadata": {
        "id": "EY9fI3eHaSbR",
        "colab": {
          "base_uri": "https://localhost:8080/",
          "height": 35
        },
        "outputId": "b7c8c284-e9b5-4b05-86fd-338378cf1845"
      },
      "source": [
        "fasttext.util.download_model('en', if_exists='ignore')"
      ],
      "execution_count": null,
      "outputs": [
        {
          "output_type": "execute_result",
          "data": {
            "application/vnd.google.colaboratory.intrinsic+json": {
              "type": "string"
            },
            "text/plain": [
              "'cc.en.300.bin'"
            ]
          },
          "metadata": {
            "tags": []
          },
          "execution_count": 9
        }
      ]
    },
    {
      "cell_type": "code",
      "metadata": {
        "id": "aN7OILKUa0rY",
        "colab": {
          "base_uri": "https://localhost:8080/"
        },
        "outputId": "9e42577a-8c67-4b75-974b-6bcbdf53b661"
      },
      "source": [
        "ft = fasttext.load_model('cc.en.300.bin')"
      ],
      "execution_count": null,
      "outputs": [
        {
          "output_type": "stream",
          "text": [
            "Warning : `load_model` does not return WordVectorModel or SupervisedModel any more, but a `FastText` object which is very similar.\n"
          ],
          "name": "stderr"
        }
      ]
    },
    {
      "cell_type": "code",
      "metadata": {
        "id": "ulj6OgQQbQJM",
        "colab": {
          "base_uri": "https://localhost:8080/"
        },
        "outputId": "7d379367-108d-462e-e582-d7582ee188c1"
      },
      "source": [
        "ft.get_dimension()"
      ],
      "execution_count": null,
      "outputs": [
        {
          "output_type": "execute_result",
          "data": {
            "text/plain": [
              "300"
            ]
          },
          "metadata": {
            "tags": []
          },
          "execution_count": 11
        }
      ]
    },
    {
      "cell_type": "code",
      "metadata": {
        "id": "yYNeyC_ybWI4"
      },
      "source": [
        "# reducing dimension to 50\n",
        "fasttext.util.reduce_model(ft, 50)\n",
        "ft.get_dimension()"
      ],
      "execution_count": null,
      "outputs": []
    },
    {
      "cell_type": "code",
      "metadata": {
        "id": "pTOZf_pExbPD",
        "colab": {
          "base_uri": "https://localhost:8080/"
        },
        "outputId": "98ea0288-85d9-471f-c3fc-12c721d4bfdd"
      },
      "source": [
        "ft.get_nearest_neighbors('microsoft', k=50)"
      ],
      "execution_count": null,
      "outputs": [
        {
          "output_type": "execute_result",
          "data": {
            "text/plain": [
              "[(0.805526077747345, 'microsft'),\n",
              " (0.7803288698196411, 'micrsoft'),\n",
              " (0.7566455006599426, 'microsofts'),\n",
              " (0.7424650192260742, 'mircosoft'),\n",
              " (0.6832096576690674, 'microsoft.'),\n",
              " (0.6750713586807251, 'Microsft'),\n",
              " (0.6660794615745544, 'Micrsoft'),\n",
              " (0.637310266494751, 'msft'),\n",
              " (0.6314657330513, 'Mircosoft'),\n",
              " (0.6286622881889343, 'symantec'),\n",
              " (0.6219303607940674, 'wordperfect'),\n",
              " (0.614840567111969, '-Microsoft'),\n",
              " (0.6141690611839294, 'Micorsoft'),\n",
              " (0.613628089427948, 'Microsofts'),\n",
              " (0.6108835339546204, 'Microsoft'),\n",
              " (0.6089588403701782, 'Miscrosoft'),\n",
              " (0.5983697175979614, 'Micosoft'),\n",
              " (0.5980483293533325, 'zune'),\n",
              " (0.5954290628433228, 'openoffice'),\n",
              " (0.5926812291145325, 'onedrive'),\n",
              " (0.5906116366386414, 'lindows'),\n",
              " (0.5858259201049805, 'windows8'),\n",
              " (0.5826097130775452, 'ballmer'),\n",
              " (0.5818806290626526, 'Msoft'),\n",
              " (0.5811493992805481, 'onenote'),\n",
              " (0.5780439972877502, 'Microsof'),\n",
              " (0.5779175758361816, 'msoffice'),\n",
              " (0.5768163800239563, 'Microsoft.'),\n",
              " (0.5724976062774658, 'Mircrosoft'),\n",
              " (0.5705575346946716, 'microsoft.com'),\n",
              " (0.5678725838661194, 'MicroSoft'),\n",
              " (0.5674926042556763, 'Mirosoft'),\n",
              " (0.5666446685791016, 'wintel'),\n",
              " (0.5656995177268982, 'win8'),\n",
              " (0.5639580488204956, 'MIcrosoft'),\n",
              " (0.5633193254470825, 'MSoft'),\n",
              " (0.5615681409835815, 'iwork'),\n",
              " (0.5611264109611511, 'sony'),\n",
              " (0.5577983260154724, 'non-microsoft'),\n",
              " (0.5576744675636292, 'MSOffice'),\n",
              " (0.5557757616043091, 'zdnet'),\n",
              " (0.5549956560134888, 'nokia'),\n",
              " (0.5549135804176331, 'openoffice.org'),\n",
              " (0.5546616315841675, 'macromedia'),\n",
              " (0.5541940331459045, 'visio'),\n",
              " (0.5540075898170471, 'nt4'),\n",
              " (0.5536350011825562, 'win2k'),\n",
              " (0.5535972118377686, 'winxp'),\n",
              " (0.5518980026245117, 'windoze'),\n",
              " (0.5484086275100708, 'winblows')]"
            ]
          },
          "metadata": {
            "tags": []
          },
          "execution_count": 12
        }
      ]
    },
    {
      "cell_type": "code",
      "metadata": {
        "id": "gmULyeTs2z7a",
        "colab": {
          "base_uri": "https://localhost:8080/"
        },
        "outputId": "204c1a17-3f00-422c-992d-9ff02a3f7dea"
      },
      "source": [
        "# even if the word is not present in fasttext vocabulory it will generate its embedding based on \n",
        "# sub-word (splitting words into chunks who's representation is known) model.\n",
        "ft.get_nearest_neighbors('Applepedia')"
      ],
      "execution_count": null,
      "outputs": [
        {
          "output_type": "execute_result",
          "data": {
            "text/plain": [
              "[(0.5119317173957825,\n",
              "  'MobileCOOLPADCUBOTDEXPDOOGEEElephoneEvercossGFIVEGIONEEHAIERHDCHisenseHTCHUAWEIINEWInnJooIntexJIAKEJIAYUKarbonnKataKingZoneLandvoLAVALeagooLeEcoLENOVOLGM-HorseMICROMAXMOTOROLAN0.1NEWMANOPPOORROOukitelQMobileReal'),\n",
              " (0.5012233853340149,\n",
              "  'RossBreguetBreitlingBvlgariCartierChanelChopardCorumFranck'),\n",
              " (0.4882017970085144, 'ArabiaSenegalSeychellesSierra'),\n",
              " (0.4837532639503479, 'Stroudsburgwmhclarkfuneralhome.com'),\n",
              " (0.4766097962856293, 'MontenegroSeychellesSierra'),\n",
              " (0.47050416469573975, 'More56k6.6k126Softango'),\n",
              " (0.4693417251110077, 'ChanceSharpieSharproShortgrassSkechers'),\n",
              " (0.45837917923927307, 'MullerGrahamGucciHublotIWCJacob'),\n",
              " (0.4451282322406769, 'PilanesbergHluhluweKruger'),\n",
              " (0.44191640615463257, 'LionheartPulsePurfloQuinnyRainbowRecaroRed')]"
            ]
          },
          "metadata": {
            "tags": []
          },
          "execution_count": 13
        }
      ]
    },
    {
      "cell_type": "code",
      "metadata": {
        "id": "nmexjOSn3uh7",
        "colab": {
          "base_uri": "https://localhost:8080/"
        },
        "outputId": "0614e5d2-a272-4aa1-94d6-62d7c78a12d7"
      },
      "source": [
        "ft.get_nearest_neighbors('zxyzz')"
      ],
      "execution_count": null,
      "outputs": [
        {
          "output_type": "execute_result",
          "data": {
            "text/plain": [
              "[(0.4375116527080536,\n",
              "  'QQFZAAEACwAAAAAGQASAAAIjgAJCBQIoGDBgQgTKiwooGHDgwshDgTgsOLDhAAGaAQwUYBBhx85EtS4cWLGjR5JSjxZkgDFkwwLohTJUqTLlANiwvQ4seVNjwwfBoVokKjFo0Jlksz506NFiklZtoQKFSjIoktLVv1YsahSn1WP0vzq02VYoAjJMsVYVKHZrDbdupW6Vq5cunHtRjQoMCAAIfkECRQABAAsCQADAAQABAAACAsABQgkILCgwYEBAQAh'),\n",
              " (0.41153204441070557, 'HorizonteBrasiliaCampinasCampo'),\n",
              " (0.40184900164604187, 'QuailDove'),\n",
              " (0.39256876707077026, '8923063edfe0b62061dceb045023e79b'),\n",
              " (0.3829341232776642, 'CauseDeadline'),\n",
              " (0.3820338547229767, 'KinshasaCook'),\n",
              " (0.37926164269447327,\n",
              "  'Slavyansk-on-KubanTimashevskBelorechenskKrymskPrimorsko-AkhtarskTemryukGoryachy'),\n",
              " (0.3789069652557373, 'CityDaeguKwangjuSeoulUlsanYeosuVayama.com'),\n",
              " (0.3757433295249939, 'SteinermilestonesHeadlinesRasmusson-ImberyHeidt'),\n",
              " (0.3749874234199524,\n",
              "  'deblogueroreflejoantecedentesexitlacuachebateysuteindesignableabsorbersexilatifundiosexibrezarsutemultiétnicosexiplinrapobrezarcorrentosoVd.lazadafisiochillidomabrezarsico-chuzaoutcolodrablogueroin')]"
            ]
          },
          "metadata": {
            "tags": []
          },
          "execution_count": 14
        }
      ]
    },
    {
      "cell_type": "code",
      "metadata": {
        "id": "mEOI0UUXzj-q"
      },
      "source": [
        "def find_closest_embeddings(embed, word, k=10):\n",
        "    if word in embed:\n",
        "      return sorted(embed.keys(), key=lambda x: spatial.distance.euclidean(embed[x], embed[word]))[:k]\n",
        "    return -1"
      ],
      "execution_count": null,
      "outputs": []
    },
    {
      "cell_type": "code",
      "metadata": {
        "id": "0N3H3_Y21J1Q",
        "colab": {
          "base_uri": "https://localhost:8080/"
        },
        "outputId": "3dd2d6ed-e8de-4681-cd59-9ae109aee407"
      },
      "source": [
        "find_closest_embeddings(glove_embed, 'apple')"
      ],
      "execution_count": null,
      "outputs": [
        {
          "output_type": "execute_result",
          "data": {
            "text/plain": [
              "['apple',\n",
              " 'macintosh',\n",
              " 'iphone',\n",
              " 'ipad',\n",
              " 'instance',\n",
              " 'timewrn',\n",
              " 'microsoft',\n",
              " 'intel',\n",
              " 'ipod',\n",
              " 'ibm']"
            ]
          },
          "metadata": {
            "tags": []
          },
          "execution_count": 287
        }
      ]
    },
    {
      "cell_type": "code",
      "metadata": {
        "id": "r6UHfpo21cT6"
      },
      "source": [
        "find_closest_embeddings('aarti')"
      ],
      "execution_count": null,
      "outputs": []
    },
    {
      "cell_type": "markdown",
      "metadata": {
        "id": "CiYslXwP3DJc"
      },
      "source": [
        "## Word2Vec"
      ]
    },
    {
      "cell_type": "code",
      "metadata": {
        "colab": {
          "base_uri": "https://localhost:8080/"
        },
        "id": "yW6q2urdWVoX",
        "outputId": "e88c3566-0ccc-4c20-93c1-8975285bea78"
      },
      "source": [
        "# download spacy model\n",
        "!python -m spacy download en_core_web_lg"
      ],
      "execution_count": null,
      "outputs": [
        {
          "output_type": "stream",
          "text": [
            "Collecting en_core_web_lg==2.2.5\n",
            "\u001b[?25l  Downloading https://github.com/explosion/spacy-models/releases/download/en_core_web_lg-2.2.5/en_core_web_lg-2.2.5.tar.gz (827.9MB)\n",
            "\u001b[K     |████████████████████████████████| 827.9MB 1.2MB/s \n",
            "\u001b[?25hRequirement already satisfied: spacy>=2.2.2 in /usr/local/lib/python3.7/dist-packages (from en_core_web_lg==2.2.5) (2.2.4)\n",
            "Requirement already satisfied: catalogue<1.1.0,>=0.0.7 in /usr/local/lib/python3.7/dist-packages (from spacy>=2.2.2->en_core_web_lg==2.2.5) (1.0.0)\n",
            "Requirement already satisfied: setuptools in /usr/local/lib/python3.7/dist-packages (from spacy>=2.2.2->en_core_web_lg==2.2.5) (56.1.0)\n",
            "Requirement already satisfied: preshed<3.1.0,>=3.0.2 in /usr/local/lib/python3.7/dist-packages (from spacy>=2.2.2->en_core_web_lg==2.2.5) (3.0.5)\n",
            "Requirement already satisfied: wasabi<1.1.0,>=0.4.0 in /usr/local/lib/python3.7/dist-packages (from spacy>=2.2.2->en_core_web_lg==2.2.5) (0.8.2)\n",
            "Requirement already satisfied: tqdm<5.0.0,>=4.38.0 in /usr/local/lib/python3.7/dist-packages (from spacy>=2.2.2->en_core_web_lg==2.2.5) (4.41.1)\n",
            "Requirement already satisfied: blis<0.5.0,>=0.4.0 in /usr/local/lib/python3.7/dist-packages (from spacy>=2.2.2->en_core_web_lg==2.2.5) (0.4.1)\n",
            "Requirement already satisfied: plac<1.2.0,>=0.9.6 in /usr/local/lib/python3.7/dist-packages (from spacy>=2.2.2->en_core_web_lg==2.2.5) (1.1.3)\n",
            "Requirement already satisfied: requests<3.0.0,>=2.13.0 in /usr/local/lib/python3.7/dist-packages (from spacy>=2.2.2->en_core_web_lg==2.2.5) (2.23.0)\n",
            "Requirement already satisfied: numpy>=1.15.0 in /usr/local/lib/python3.7/dist-packages (from spacy>=2.2.2->en_core_web_lg==2.2.5) (1.19.5)\n",
            "Requirement already satisfied: cymem<2.1.0,>=2.0.2 in /usr/local/lib/python3.7/dist-packages (from spacy>=2.2.2->en_core_web_lg==2.2.5) (2.0.5)\n",
            "Requirement already satisfied: thinc==7.4.0 in /usr/local/lib/python3.7/dist-packages (from spacy>=2.2.2->en_core_web_lg==2.2.5) (7.4.0)\n",
            "Requirement already satisfied: srsly<1.1.0,>=1.0.2 in /usr/local/lib/python3.7/dist-packages (from spacy>=2.2.2->en_core_web_lg==2.2.5) (1.0.5)\n",
            "Requirement already satisfied: murmurhash<1.1.0,>=0.28.0 in /usr/local/lib/python3.7/dist-packages (from spacy>=2.2.2->en_core_web_lg==2.2.5) (1.0.5)\n",
            "Requirement already satisfied: importlib-metadata>=0.20; python_version < \"3.8\" in /usr/local/lib/python3.7/dist-packages (from catalogue<1.1.0,>=0.0.7->spacy>=2.2.2->en_core_web_lg==2.2.5) (3.10.1)\n",
            "Requirement already satisfied: idna<3,>=2.5 in /usr/local/lib/python3.7/dist-packages (from requests<3.0.0,>=2.13.0->spacy>=2.2.2->en_core_web_lg==2.2.5) (2.10)\n",
            "Requirement already satisfied: urllib3!=1.25.0,!=1.25.1,<1.26,>=1.21.1 in /usr/local/lib/python3.7/dist-packages (from requests<3.0.0,>=2.13.0->spacy>=2.2.2->en_core_web_lg==2.2.5) (1.24.3)\n",
            "Requirement already satisfied: certifi>=2017.4.17 in /usr/local/lib/python3.7/dist-packages (from requests<3.0.0,>=2.13.0->spacy>=2.2.2->en_core_web_lg==2.2.5) (2020.12.5)\n",
            "Requirement already satisfied: chardet<4,>=3.0.2 in /usr/local/lib/python3.7/dist-packages (from requests<3.0.0,>=2.13.0->spacy>=2.2.2->en_core_web_lg==2.2.5) (3.0.4)\n",
            "Requirement already satisfied: zipp>=0.5 in /usr/local/lib/python3.7/dist-packages (from importlib-metadata>=0.20; python_version < \"3.8\"->catalogue<1.1.0,>=0.0.7->spacy>=2.2.2->en_core_web_lg==2.2.5) (3.4.1)\n",
            "Requirement already satisfied: typing-extensions>=3.6.4; python_version < \"3.8\" in /usr/local/lib/python3.7/dist-packages (from importlib-metadata>=0.20; python_version < \"3.8\"->catalogue<1.1.0,>=0.0.7->spacy>=2.2.2->en_core_web_lg==2.2.5) (3.7.4.3)\n",
            "Building wheels for collected packages: en-core-web-lg\n",
            "  Building wheel for en-core-web-lg (setup.py) ... \u001b[?25l\u001b[?25hdone\n",
            "  Created wheel for en-core-web-lg: filename=en_core_web_lg-2.2.5-cp37-none-any.whl size=829180944 sha256=28a5d0a9bac6212606a89007aa4160247cf887300fc680efe4648a29a70aa72a\n",
            "  Stored in directory: /tmp/pip-ephem-wheel-cache-7r68gr3i/wheels/2a/c1/a6/fc7a877b1efca9bc6a089d6f506f16d3868408f9ff89f8dbfc\n",
            "Successfully built en-core-web-lg\n",
            "Installing collected packages: en-core-web-lg\n",
            "Successfully installed en-core-web-lg-2.2.5\n",
            "\u001b[38;5;2m✔ Download and installation successful\u001b[0m\n",
            "You can now load the model via spacy.load('en_core_web_lg')\n"
          ],
          "name": "stdout"
        }
      ]
    },
    {
      "cell_type": "code",
      "metadata": {
        "id": "f-znhXL845XO"
      },
      "source": [
        "# load the spacy model\n",
        "import en_core_web_lg\n",
        "nlp = en_core_web_lg.load()"
      ],
      "execution_count": null,
      "outputs": []
    },
    {
      "cell_type": "code",
      "metadata": {
        "colab": {
          "base_uri": "https://localhost:8080/"
        },
        "id": "2xEPbozK48Px",
        "outputId": "08b4a794-9a93-49d8-e875-16cb727a471f"
      },
      "source": [
        "doc = nlp(\"this is an apple sdsdf2342\")\n",
        "\n",
        "# sdsdf2342 is not a common word, so its not present in vocabulary of spacy and hence don't have vector\n",
        "# spacy's en_core_web_lg package includes 685k unique vectors\n",
        "# each token vector is of 300 dimension\n",
        "for token in doc:\n",
        "    print(token.text, token.has_vector, token.vector_norm, token.is_oov)"
      ],
      "execution_count": null,
      "outputs": [
        {
          "output_type": "stream",
          "text": [
            "this True 5.0461264 False\n",
            "is True 4.890306 False\n",
            "an True 5.5624833 False\n",
            "apple True 7.1346846 False\n",
            "sdsdf2342 False 0.0 True\n"
          ],
          "name": "stdout"
        }
      ]
    },
    {
      "cell_type": "code",
      "metadata": {
        "colab": {
          "base_uri": "https://localhost:8080/"
        },
        "id": "Qsf8nrvo5EYH",
        "outputId": "e0ae0879-9277-4920-ef02-5885a1160f1c"
      },
      "source": [
        "# Vector for document is average of vectors of individual token, so it's also of 300 dimension\n",
        "token.vector.shape, doc.vector.shape"
      ],
      "execution_count": null,
      "outputs": [
        {
          "output_type": "execute_result",
          "data": {
            "text/plain": [
              "((300,), (300,))"
            ]
          },
          "metadata": {
            "tags": []
          },
          "execution_count": 17
        }
      ]
    },
    {
      "cell_type": "code",
      "metadata": {
        "colab": {
          "base_uri": "https://localhost:8080/"
        },
        "id": "ftypLowcqQrB",
        "outputId": "d443b85e-2d00-4871-ce27-333b8be8b4d7"
      },
      "source": [
        "# converting list of list of  tokens to a single list\n",
        "vocab = []\n",
        "for word_list in df_annotated.tokens.tolist():\n",
        "    # print(word_list)\n",
        "    vocab.extend(word_list)\n",
        "\n",
        "print(\"all words:\", len(vocab))\n",
        "\n",
        "# getting unique words into vocab list\n",
        "vocab_set = list(set(vocab))\n",
        "print(\"unique words:\", len(vocab_set))\n",
        "\n"
      ],
      "execution_count": null,
      "outputs": [
        {
          "output_type": "stream",
          "text": [
            "all words: 2625407\n",
            "unique words: 140450\n"
          ],
          "name": "stdout"
        }
      ]
    },
    {
      "cell_type": "code",
      "metadata": {
        "colab": {
          "base_uri": "https://localhost:8080/"
        },
        "id": "C0LGrVSfsPve",
        "outputId": "6158875f-79c7-4789-c931-544debe1c208"
      },
      "source": [
        "# taking top 50k words \n",
        "vocab_cntr = Counter(vocab)\n",
        "print(len(vocab_cntr))\n",
        "vocab_50k = vocab_cntr.most_common(50000)\n",
        "print(vocab_50k[:10]) \n"
      ],
      "execution_count": null,
      "outputs": [
        {
          "output_type": "stream",
          "text": [
            "140450\n",
            "[('nt', 25975), ('lines', 19653), ('organization', 18632), ('writes', 13330), ('article', 12256), ('x', 9894), ('$', 9682), ('like', 9661), ('university', 9414), ('people', 9281)]\n"
          ],
          "name": "stdout"
        }
      ]
    },
    {
      "cell_type": "code",
      "metadata": {
        "colab": {
          "base_uri": "https://localhost:8080/"
        },
        "id": "YhPnAOGxzGf8",
        "outputId": "1c738ac2-398b-4a74-c505-0c2ba87e56db"
      },
      "source": [
        "# by looking at top and bottom 100 tokens we can do more pre-processing \n",
        "# take only tokens which has length greater than 1 and less than 15 characters\n",
        "print(vocab_cntr.most_common()[:100])\n",
        "print('\\n')\n",
        "print(vocab_cntr.most_common()[-100:])\n"
      ],
      "execution_count": null,
      "outputs": [
        {
          "output_type": "stream",
          "text": [
            "[('nt', 25975), ('lines', 19653), ('organization', 18632), ('writes', 13330), ('article', 12256), ('x', 9894), ('$', 9682), ('like', 9661), ('university', 9414), ('people', 9281), ('posting', 9120), ('know', 8602), ('m', 8379), ('host', 8367), ('nntp', 8100), ('think', 7500), ('s', 7211), ('time', 6663), ('use', 6649), ('new', 6337), ('good', 5920), ('way', 5016), ('distribution', 4551), ('right', 4531), ('ve', 4479), ('system', 4476), ('god', 4382), ('d', 4322), ('want', 4185), ('world', 4160), ('reply', 4007), ('said', 3996), ('need', 3954), ('work', 3791), ('problem', 3599), ('computer', 3533), ('believe', 3431), ('maxaxaxaxaxaxaxaxaxaxaxaxaxaxax', 3305), ('going', 3239), ('windows', 3211), ('help', 3162), ('find', 3154), ('file', 3145), ('state', 3143), ('information', 3137), ('mail', 3109), ('years', 3106), ('point', 3067), ('question', 3014), ('thanks', 2965), ('year', 2956), ('things', 2932), ('government', 2931), ('better', 2924), ('read', 2889), ('software', 2888), ('usa', 2868), ('number', 2776), ('sure', 2765), ('etc', 2692), ('got', 2686), ('case', 2630), ('data', 2611), ('program', 2607), ('david', 2603), ('drive', 2592), ('long', 2564), ('bit', 2562), ('space', 2550), ('thing', 2529), ('version', 2523), ('look', 2508), ('available', 2493), ('come', 2405), ('day', 2375), ('power', 2371), ('little', 2365), ('e', 2360), ('fact', 2344), ('law', 2284), ('best', 2247), ('probably', 2219), ('game', 2195), ('key', 2185), ('true', 2174), ('different', 2171), ('john', 2167), ('group', 2149), ('run', 2149), ('line', 2138), ('public', 2137), ('set', 2133), ('tell', 2131), ('try', 2102), ('car', 2095), ('science', 2071), ('course', 2062), ('lot', 2052), ('actually', 2050), ('great', 2045)]\n",
            "\n",
            "\n",
            "[('officefax', 1), ('415.599.4876', 1), ('voicepager', 1), ('amaccs', 1), ('bcarh929', 1), ('nubuspds', 1), ('fax613', 1), ('uslnovell', 1), ('benfits', 1), ('mommesso', 1), ('cobarruvias', 1), ('snick', 1), ('mustered', 1), ('roooster', 1), ('72mb', 1), ('at72', 1), ('news.1993apr6.052552.18045', 1), ('spooled', 1), ('zippppppppppp', 1), ('cirlce', 1), ('it,,,,so', 1), ('drive,,,no', 1), ('impalla', 1), ('orca', 1), ('tweeks', 1), ('barge', 1), ('xxxdate', 1), ('xuseragent', 1), ('xxxmessageid', 1), ('nntppostinghost', 1), ('youbatf', 1), ('borst', 1), ('bitgraypixel', 1), ('melpar', 1), ('citoh', 1), ('ccu1.1993apr23.021150.1065', 1), ('montante', 1), ('news.1993apr1.162131.4673', 1), ('dyskaryotic', 1), ('castelletto', 1), ('july26', 1), ('aug6', 1), ('aug30', 1), ('sept10', 1), ('astelletto', 1), ('51843895tor', 1), ('fmsrl7.1pqep5inn88e', 1), ('atoz', 1), ('streetmap', 1), ('firefighter', 1), ('givesell', 1), ('68kgs', 1), ('23.11.74', 1), ('bodycheckings', 1), ('harlamov', 1), ('mediaplayer', 1), ('winjammer', 1), ('dare2dream', 1), ('mappers', 1), ('opl3', 1), ('ashe', 1), ('milgram', 1), ('psychologysociology', 1), ('130.187.85.113', 1), ('nns', 1), ('dennett', 1), ('71611,365', 1), ('syllabi', 1), ('mentors', 1), ('compuserves', 1), ('simpilistic', 1), ('1024x768x16bpp', 1), ('select2', 1), ('poll2', 1), ('connectionnumber', 1), ('plagiarize', 1), ('appleusa', 1), ('c610s', 1), ('gratis', 1), ('ccmb', 1), ('alesis', 1), ('kneecaps', 1), ('ramcoelectronics', 1), ('sylvanwellington', 1), ('repairmans', 1), ('methodical', 1), ('sufffered', 1), ('shoul', 1), ('ofthe', 1), ('sured', 1), ('chein', 1), ('intracranial', 1), ('paroxysmal', 1), ('hemicrania', 1), ('millie', 1), ('millies', 1), ('aneurysm', 1), ('recepticles', 1), ('firebirdcamaro', 1), ('pontaic', 1)]\n"
          ],
          "name": "stdout"
        }
      ]
    },
    {
      "cell_type": "code",
      "metadata": {
        "colab": {
          "base_uri": "https://localhost:8080/"
        },
        "id": "Zg7SCgb2twFi",
        "outputId": "d6f0a60b-ab48-4850-9fc1-e97ade10b065"
      },
      "source": [
        "# vocab_final = []\n",
        "# for word, cnt in vocab_50k:\n",
        "#     vocab_final.append(word)\n",
        "# or\n",
        "vocab_final = [word for word, cnt in vocab_50k]\n",
        "print(len(vocab_final))\n"
      ],
      "execution_count": null,
      "outputs": [
        {
          "output_type": "stream",
          "text": [
            "50000\n"
          ],
          "name": "stdout"
        }
      ]
    },
    {
      "cell_type": "code",
      "metadata": {
        "id": "-SSrGO9c5VM0",
        "colab": {
          "base_uri": "https://localhost:8080/"
        },
        "outputId": "93fc878c-4b43-438e-bf67-7a2436f6a4f6"
      },
      "source": [
        "%%time\n",
        "# get vector representation of example words\n",
        "w2v_embed= list(nlp.pipe(['apple', 'organization', 'zzzzgfghasd'], disable=[\"tagger\", \"parser\", \"ner\", \"attribute_ruler\", \"lemmatizer\"]))\n",
        "print(len(w2v_embed))"
      ],
      "execution_count": null,
      "outputs": [
        {
          "output_type": "stream",
          "text": [
            "3\n",
            "CPU times: user 126 ms, sys: 1.62 ms, total: 127 ms\n",
            "Wall time: 130 ms\n"
          ],
          "name": "stdout"
        }
      ]
    },
    {
      "cell_type": "code",
      "metadata": {
        "colab": {
          "base_uri": "https://localhost:8080/"
        },
        "id": "z70p3s97vyfu",
        "outputId": "5e1ee319-ce37-451f-8a34-81890bfb5141"
      },
      "source": [
        "w2v_embed[0].vector_norm, w2v_embed[1].vector_norm, w2v_embed[2].has_vector"
      ],
      "execution_count": null,
      "outputs": [
        {
          "output_type": "execute_result",
          "data": {
            "text/plain": [
              "(7.134684580188168, 6.468698891089936, True)"
            ]
          },
          "metadata": {
            "tags": []
          },
          "execution_count": 51
        }
      ]
    },
    {
      "cell_type": "code",
      "metadata": {
        "colab": {
          "base_uri": "https://localhost:8080/"
        },
        "id": "VEA5Og7Gwvhm",
        "outputId": "3e2c5a40-c3af-41e9-9eee-5e3b2deae921"
      },
      "source": [
        "w2v_embed[2].vector"
      ],
      "execution_count": null,
      "outputs": [
        {
          "output_type": "execute_result",
          "data": {
            "text/plain": [
              "array([0., 0., 0., 0., 0., 0., 0., 0., 0., 0., 0., 0., 0., 0., 0., 0., 0.,\n",
              "       0., 0., 0., 0., 0., 0., 0., 0., 0., 0., 0., 0., 0., 0., 0., 0., 0.,\n",
              "       0., 0., 0., 0., 0., 0., 0., 0., 0., 0., 0., 0., 0., 0., 0., 0., 0.,\n",
              "       0., 0., 0., 0., 0., 0., 0., 0., 0., 0., 0., 0., 0., 0., 0., 0., 0.,\n",
              "       0., 0., 0., 0., 0., 0., 0., 0., 0., 0., 0., 0., 0., 0., 0., 0., 0.,\n",
              "       0., 0., 0., 0., 0., 0., 0., 0., 0., 0., 0., 0., 0., 0., 0., 0., 0.,\n",
              "       0., 0., 0., 0., 0., 0., 0., 0., 0., 0., 0., 0., 0., 0., 0., 0., 0.,\n",
              "       0., 0., 0., 0., 0., 0., 0., 0., 0., 0., 0., 0., 0., 0., 0., 0., 0.,\n",
              "       0., 0., 0., 0., 0., 0., 0., 0., 0., 0., 0., 0., 0., 0., 0., 0., 0.,\n",
              "       0., 0., 0., 0., 0., 0., 0., 0., 0., 0., 0., 0., 0., 0., 0., 0., 0.,\n",
              "       0., 0., 0., 0., 0., 0., 0., 0., 0., 0., 0., 0., 0., 0., 0., 0., 0.,\n",
              "       0., 0., 0., 0., 0., 0., 0., 0., 0., 0., 0., 0., 0., 0., 0., 0., 0.,\n",
              "       0., 0., 0., 0., 0., 0., 0., 0., 0., 0., 0., 0., 0., 0., 0., 0., 0.,\n",
              "       0., 0., 0., 0., 0., 0., 0., 0., 0., 0., 0., 0., 0., 0., 0., 0., 0.,\n",
              "       0., 0., 0., 0., 0., 0., 0., 0., 0., 0., 0., 0., 0., 0., 0., 0., 0.,\n",
              "       0., 0., 0., 0., 0., 0., 0., 0., 0., 0., 0., 0., 0., 0., 0., 0., 0.,\n",
              "       0., 0., 0., 0., 0., 0., 0., 0., 0., 0., 0., 0., 0., 0., 0., 0., 0.,\n",
              "       0., 0., 0., 0., 0., 0., 0., 0., 0., 0., 0.], dtype=float32)"
            ]
          },
          "metadata": {
            "tags": []
          },
          "execution_count": 53
        }
      ]
    },
    {
      "cell_type": "code",
      "metadata": {
        "id": "pOuG-MsL5jKy"
      },
      "source": [
        "# each review is a vector dimension 300\n",
        "reviews_w2v = np.array([review.vector for review in reviews_w2v])\n",
        "reviews_w2v.shape"
      ],
      "execution_count": null,
      "outputs": []
    },
    {
      "cell_type": "code",
      "metadata": {
        "id": "Y6i1Wb7U5mWV"
      },
      "source": [
        ""
      ],
      "execution_count": null,
      "outputs": []
    },
    {
      "cell_type": "markdown",
      "metadata": {
        "id": "Jtfgtc4wQsIl"
      },
      "source": [
        "# Get All Vector Embeddings"
      ]
    },
    {
      "cell_type": "code",
      "metadata": {
        "id": "lX9ZEQNIWMAa"
      },
      "source": [
        "!cp /content/drive/MyDrive/NLP/embeddings/glove.6B.300d.txt /content/\n",
        "!cp /content/drive/MyDrive/NLP/embeddings/wiki.simple.vec /content/\n",
        "!cp /content/drive/MyDrive/NLP/embeddings/GoogleNews-vectors-negative300.bin.gz /content/"
      ],
      "execution_count": null,
      "outputs": []
    },
    {
      "cell_type": "code",
      "metadata": {
        "id": "oGnVUKuDQnid"
      },
      "source": [
        "def load_embeddings(embed_path, type=\"glove\"):\n",
        "    print(f'loading word vectors from: {embed_path}')\n",
        "    embed = {}\n",
        "    \n",
        "    with open(embed_path) as f:\n",
        "        # skip first line\n",
        "        if type == \"ft\":\n",
        "            n, d = map(int, f.readline().split())\n",
        "\n",
        "        # space-separated text file in the format: word [vector of floats]\n",
        "        for line in f:\n",
        "            line = line.strip().split(' ')\n",
        "            embed[line[0]] = np.asarray(line[1:], dtype='float32')\n",
        "\n",
        "    print(f\"\\tembed word count: {len(embed)}\")\n",
        "    print(f\"\\tembed dim: {len(embed[line[0]])}\")\n",
        "    return embed\n",
        "\n",
        "\n",
        "def built_embed_matrix(embed, word2idx, VOCAB_SIZE, EMBED_DIM, type=\"\"):\n",
        "    print('\\nprepare embedding matrix...')\n",
        "\n",
        "    embedding_matrix = np.zeros((VOCAB_SIZE, EMBED_DIM))\n",
        "    embed_cnt = 0\n",
        "    unk_words = []\n",
        "\n",
        "    if type == \"w2v\":\n",
        "      for word, idx in word2idx.items():\n",
        "          try:\n",
        "              embedding_vector = embed.get_vector(word)\n",
        "              embedding_matrix[idx] = embedding_vector\n",
        "              embed_cnt += 1\n",
        "          except KeyError as e:\n",
        "              unk_words.append((word, idx))\n",
        "\n",
        "    else:\n",
        "        for word, idx in word2idx.items():\n",
        "            embedding_vector = embed.get(word)\n",
        "            if embedding_vector is not None:\n",
        "                embedding_matrix[idx] = embedding_vector\n",
        "                embed_cnt += 1\n",
        "            else:\n",
        "                unk_words.append((word, idx))\n",
        "          \n",
        "                \n",
        "    print(f\"\\tembedding matrix shape: {embedding_matrix.shape}\")\n",
        "    print(f\"\\tword embedding found: {embed_cnt}\")\n",
        "    print(f\"\\tword embedding not found: {len(unk_words)}\")\n",
        "\n",
        "    return embedding_matrix, unk_words\n",
        "    "
      ],
      "execution_count": null,
      "outputs": []
    },
    {
      "cell_type": "code",
      "metadata": {
        "colab": {
          "base_uri": "https://localhost:8080/"
        },
        "id": "B9EIuS84NlsA",
        "outputId": "7c52ed19-193a-4dcb-fd48-8e441805a03f"
      },
      "source": [
        "!zcat GoogleNews-vectors-negative300.bin.gz | head -n 1"
      ],
      "execution_count": null,
      "outputs": [
        {
          "output_type": "stream",
          "text": [
            "3000000 300\n"
          ],
          "name": "stdout"
        }
      ]
    },
    {
      "cell_type": "code",
      "metadata": {
        "colab": {
          "base_uri": "https://localhost:8080/"
        },
        "id": "GjbHIdaKnqez",
        "outputId": "1e6ad766-5db6-45d5-cd44-fc73a70a911a"
      },
      "source": [
        "!head glove.6B.300d.txt"
      ],
      "execution_count": null,
      "outputs": [
        {
          "output_type": "stream",
          "text": [
            "the 0.04656 0.21318 -0.0074364 -0.45854 -0.035639 0.23643 -0.28836 0.21521 -0.13486 -1.6413 -0.26091 0.032434 0.056621 -0.043296 -0.021672 0.22476 -0.075129 -0.067018 -0.14247 0.038825 -0.18951 0.29977 0.39305 0.17887 -0.17343 -0.21178 0.23617 -0.063681 -0.42318 -0.11661 0.093754 0.17296 -0.33073 0.49112 -0.68995 -0.092462 0.24742 -0.17991 0.097908 0.083118 0.15299 -0.27276 -0.038934 0.54453 0.53737 0.29105 -0.0073514 0.04788 -0.4076 -0.026759 0.17919 0.010977 -0.10963 -0.26395 0.07399 0.26236 -0.1508 0.34623 0.25758 0.11971 -0.037135 -0.071593 0.43898 -0.040764 0.016425 -0.4464 0.17197 0.046246 0.058639 0.041499 0.53948 0.52495 0.11361 -0.048315 -0.36385 0.18704 0.092761 -0.11129 -0.42085 0.13992 -0.39338 -0.067945 0.12188 0.16707 0.075169 -0.015529 -0.19499 0.19638 0.053194 0.2517 -0.34845 -0.10638 -0.34692 -0.19024 -0.2004 0.12154 -0.29208 0.023353 -0.11618 -0.35768 0.062304 0.35884 0.02906 0.0073005 0.0049482 -0.15048 -0.12313 0.19337 0.12173 0.44503 0.25147 0.10781 -0.17716 0.038691 0.08153 0.14667 0.063666 0.061332 -0.075569 -0.37724 0.01585 -0.30342 0.28374 -0.042013 -0.040715 -0.15269 0.07498 0.15577 0.10433 0.31393 0.19309 0.19429 0.15185 -0.10192 -0.018785 0.20791 0.13366 0.19038 -0.25558 0.304 -0.01896 0.20147 -0.4211 -0.0075156 -0.27977 -0.19314 0.046204 0.19971 -0.30207 0.25735 0.68107 -0.19409 0.23984 0.22493 0.65224 -0.13561 -0.17383 -0.048209 -0.1186 0.0021588 -0.019525 0.11948 0.19346 -0.4082 -0.082966 0.16626 -0.10601 0.35861 0.16922 0.07259 -0.24803 -0.10024 -0.52491 -0.17745 -0.36647 0.2618 -0.012077 0.08319 -0.21528 0.41045 0.29136 0.30869 0.078864 0.32207 -0.041023 -0.1097 -0.092041 -0.12339 -0.16416 0.35382 -0.082774 0.33171 -0.24738 -0.048928 0.15746 0.18988 -0.026642 0.063315 -0.010673 0.34089 1.4106 0.13417 0.28191 -0.2594 0.055267 -0.052425 -0.25789 0.019127 -0.022084 0.32113 0.068818 0.51207 0.16478 -0.20194 0.29232 0.098575 0.013145 -0.10652 0.1351 -0.045332 0.20697 -0.48425 -0.44706 0.0033305 0.0029264 -0.10975 -0.23325 0.22442 -0.10503 0.12339 0.10978 0.048994 -0.25157 0.40319 0.35318 0.18651 -0.023622 -0.12734 0.11475 0.27359 -0.21866 0.015794 0.81754 -0.023792 -0.85469 -0.16203 0.18076 0.028014 -0.1434 0.0013139 -0.091735 -0.089704 0.11105 -0.16703 0.068377 -0.087388 -0.039789 0.014184 0.21187 0.28579 -0.28797 -0.058996 -0.032436 -0.0047009 -0.17052 -0.034741 -0.11489 0.075093 0.099526 0.048183 -0.073775 -0.41817 0.0041268 0.44414 -0.16062 0.14294 -2.2628 -0.027347 0.81311 0.77417 -0.25639 -0.11576 -0.11982 -0.21363 0.028429 0.27261 0.031026 0.096782 0.0067769 0.14082 -0.013064 -0.29686 -0.079913 0.195 0.031549 0.28506 -0.087461 0.0090611 -0.20989 0.053913\n",
            ", -0.25539 -0.25723 0.13169 -0.042688 0.21817 -0.022702 -0.17854 0.10756 0.058936 -1.3854 0.58509 0.036501 -0.19846 0.19613 0.40929 0.15702 -0.15305 0.050447 0.30045 -0.11295 -0.017043 0.18593 0.19982 0.20053 -0.63141 -0.12622 0.2951 -0.26282 -0.15831 0.0012383 0.011784 0.58758 -0.15914 0.27731 -0.82343 -0.21134 0.013414 0.19637 -0.4147 0.0010276 0.13422 -0.14205 0.051545 0.34993 -0.29868 -0.3209 0.19566 0.47886 0.10744 0.010004 0.18503 0.080694 0.20739 -0.097365 -0.039448 0.020151 -0.17378 0.25679 0.24198 -0.351 0.18759 0.0063857 0.18395 -0.13929 0.0081855 -0.63109 0.29832 0.31731 0.13022 -0.32284 -0.050343 -0.114 0.12097 0.14687 -0.33244 -0.055789 -0.05849 0.27551 -0.043855 0.039664 0.15162 -0.086627 0.067729 0.23146 0.015351 -0.15142 -0.031975 0.45181 -0.068806 -0.077058 0.055193 0.054596 -0.24708 0.031113 -0.12826 0.12782 -0.46708 -0.026264 0.010387 -0.33174 0.17277 -0.26894 0.20467 -0.16181 -0.041519 -0.014878 0.10279 0.18868 -0.23396 -0.018436 -0.14747 -0.32685 -0.022055 -0.054 0.16264 0.27095 -0.22792 -0.0077006 0.11206 -0.039787 -0.11906 0.021773 0.05528 -0.13318 -0.056867 0.008304 -0.027021 0.23447 0.086864 0.12009 -0.30726 0.0024735 0.29041 -0.044887 0.12297 0.13077 0.090807 -0.39141 0.080546 0.18724 -0.097481 0.10397 0.11492 0.17775 -0.18167 0.24652 0.20136 -0.23395 -0.35018 -0.14061 0.17091 -0.095465 -0.10962 -0.09836 0.15344 0.08868 -0.22048 -0.13803 -0.11288 -0.08534 0.072735 -0.12732 -0.1964 -0.10586 0.0020616 0.13496 0.058912 -0.043979 -0.091375 0.24408 0.16872 0.24297 -0.43983 0.47089 -0.018595 0.16146 0.19828 -0.17237 -0.0026998 0.52097 -0.080197 0.43324 -0.066261 0.04324 0.084954 -0.14836 -0.41936 0.15988 -0.18411 0.1321 0.27476 0.27279 -0.13465 -0.091238 -0.32523 0.27936 0.023296 -0.33472 0.016878 -0.055544 0.92915 -0.33914 -0.14791 0.017301 0.18272 0.35108 -0.11438 0.13228 -0.021064 -0.27453 -0.10081 -0.046296 0.21689 -0.056319 0.14651 -0.023536 0.068026 -0.045453 -0.23851 -0.33868 0.31396 -0.031914 -0.019217 0.0018715 -0.13328 0.070148 -0.039761 0.070801 0.0018422 -0.12646 0.028675 -0.095728 0.26673 -0.35536 0.15286 0.064565 0.12647 0.23397 -0.046058 0.13519 -0.14549 0.23031 0.42066 0.16267 -0.16541 -0.0020155 0.080653 -0.30025 -0.076014 0.070612 0.3157 0.05352 -0.10721 -0.1366 0.32214 0.2004 0.11609 -0.22501 0.12155 -0.10851 -0.063187 -0.24553 -0.059751 0.068787 -0.11627 -0.0083402 0.0052044 -0.20159 -0.023663 0.17562 -0.31475 -0.11162 -0.12492 0.10949 -0.26913 0.34893 -1.6997 -0.2447 0.30292 0.05672 -0.31737 0.083612 0.095949 -0.1759 0.10235 0.36808 -0.3438 0.20607 0.19135 0.10992 0.075968 -0.014359 -0.073794 0.22176 0.14652 0.56686 0.053307 -0.2329 -0.12226 0.35499\n",
            ". -0.12559 0.01363 0.10306 -0.10123 0.098128 0.13627 -0.10721 0.23697 0.3287 -1.6785 0.22393 0.12409 -0.086708 0.3301 0.34375 -0.00087582 -0.29658 0.24417 -0.11592 -0.035742 -0.01083 0.20776 0.29285 -0.073491 -0.18598 -0.2009 -0.095366 0.0063732 -0.1362 0.092028 -0.039957 0.19027 -0.10456 0.002767 -0.71742 -0.12915 -0.0013451 0.27002 -0.053023 0.22148 0.13881 -0.15051 -0.1915 0.16402 0.097484 0.056841 0.39789 0.40725 0.14802 0.21569 -0.10671 -0.10232 0.02481 -0.221 -0.01072 0.14234 -0.28242 0.19254 0.08672 -0.3897 0.11321 0.0013779 0.0064009 -0.16206 -0.082153 -0.55397 0.36789 -0.0040159 0.2071 -0.37157 0.25135 -0.19544 -0.047059 0.17155 -0.24036 -0.046086 0.19429 -0.18939 -0.0071974 0.069481 0.059175 -0.17585 0.10653 0.16933 -0.036122 0.029911 -0.1183 0.13916 -0.037951 0.1069 -0.26069 -0.10307 -0.12272 -0.15032 -0.042409 0.013354 -0.2851 0.011248 0.16073 -0.16384 0.21233 -0.18476 -0.00090874 0.066687 0.16918 -0.35004 0.099016 0.46393 -0.19462 0.10346 -0.25668 -0.36516 -0.18963 -0.21933 0.024634 0.065627 -0.1112 -0.164 0.010874 -0.084688 -0.14923 -0.070223 0.028887 0.083497 -0.016193 -0.0024926 0.17186 0.0098749 0.080237 0.14774 0.043206 0.27716 0.57697 -0.041297 0.12765 -0.091517 0.14132 0.087579 0.093224 0.015346 -0.19856 0.017277 -0.10708 -0.013059 -0.37227 0.078568 0.16677 -0.15359 -0.33294 0.036986 0.11697 0.039781 0.038464 -0.16247 0.4128 -0.077491 0.04549 0.1133 0.0082177 -0.25052 0.070966 -0.11388 -0.11503 -0.11014 0.10499 0.15878 -0.27023 -0.011006 0.00076057 0.33902 0.25564 0.16342 -0.56019 0.13055 0.076311 -0.028334 0.28721 -0.027844 -0.11561 0.34925 -0.1242 0.21405 0.24116 -0.031343 0.10913 -0.24755 -0.045429 -0.082178 -0.18831 0.18446 -0.097074 0.32395 0.10658 -0.26676 -0.27311 0.017181 0.25796 -0.28048 0.3079 -0.218 0.87415 -0.12297 0.10991 -0.29797 0.13394 0.10615 -0.10789 -0.35976 -0.18311 -0.45133 0.034967 -0.19847 0.21965 0.08152 0.2581 0.040173 0.031394 0.19069 0.0758 -0.060638 0.20739 0.009839 -0.2693 0.066515 -0.10711 0.0059916 0.23284 -0.058663 0.098993 -0.081464 0.067004 -0.14305 0.25506 -0.31971 -0.03107 -0.092451 0.2944 0.28947 -0.059804 0.24286 -0.16755 0.042031 0.51261 0.24525 -0.65983 0.062456 0.052204 -0.025717 -0.080613 0.080869 0.22821 -0.10217 -0.20719 -0.012123 0.34916 0.086527 0.066288 -0.099828 0.25843 0.11943 -0.13667 -0.43962 0.23704 0.031296 0.074701 -0.22387 0.0078162 -0.19016 0.044444 0.20191 -0.20814 -0.28382 0.10427 -0.21098 0.18865 0.31659 -2.0753 -0.071045 0.52419 0.056023 -0.25295 -0.062168 -0.10989 -0.35755 -0.079244 0.37472 -0.28353 0.16337 0.11165 -0.098002 0.060148 -0.15619 -0.11949 0.23445 0.081367 0.24618 -0.15242 -0.34224 -0.022394 0.13684\n",
            "of -0.076947 -0.021211 0.21271 -0.72232 -0.13988 -0.12234 -0.17521 0.12137 -0.070866 -1.5721 -0.22464 0.04269 -0.4018 0.21006 0.014288 0.41628 0.017165 0.071732 0.0069246 0.18107 -0.15412 0.14933 -0.030493 0.29918 0.029479 -0.036147 -0.061125 0.083918 -0.12398 -0.10077 -0.0054142 0.3371 -0.25612 0.44388 -0.68922 0.1802 0.34898 -0.052284 -0.26226 -0.47109 0.21647 -0.4002 -0.049986 0.011376 0.54994 -0.22791 0.095873 0.47693 -0.056727 -0.17895 0.11756 0.14662 0.048948 0.13587 -0.093821 0.45968 -0.32062 0.29911 0.20656 -0.18503 -0.2769 -0.022545 0.70698 -0.23815 0.16437 -0.55044 -0.0010615 0.12266 0.11898 0.23985 0.29815 0.013207 0.16316 -0.61334 -0.37051 0.19444 -0.13621 -0.30426 -0.37715 0.065299 -0.15995 -0.56516 0.074696 0.40184 0.19328 0.041802 0.20572 0.28971 0.34783 0.33873 -0.10052 -0.16397 -0.15236 -0.086815 0.36522 0.14969 -0.40859 0.23106 0.17162 -0.60545 0.086019 0.37043 0.17937 -0.40282 -0.62471 -0.055919 0.15092 0.12554 -0.45344 0.34417 0.40042 -0.049512 -0.29969 -0.31761 0.30023 0.090029 0.3106 -0.033077 -0.21995 -0.40396 -0.34443 -0.21248 -0.37636 0.21835 -0.1785 -0.17261 0.16391 0.22753 0.2686 0.57541 -0.14912 0.20413 0.22187 -0.27014 0.068253 0.29115 -0.067943 0.10623 -0.16281 0.19939 -0.48613 0.035688 -0.12373 0.13707 0.33359 -0.12713 -0.31711 -0.13962 -0.04288 -0.0014614 0.76883 -0.41705 -0.092911 0.16315 0.29202 0.12119 -0.076683 0.14131 -0.093406 -0.042796 0.13738 0.014278 0.11918 -0.34215 -0.19076 -0.12499 0.24648 0.42259 0.091966 0.45351 0.14437 0.1878 -0.85876 0.059621 -0.32242 0.28627 0.12427 0.0090984 -0.1891 0.16638 0.099881 -0.048553 -0.026257 0.099904 0.12406 -0.015416 -0.29707 -0.4044 -0.17258 0.36468 -0.014118 -0.11889 -0.11686 -0.14124 0.28012 0.067644 0.1485 -0.35702 0.29626 0.36004 1.019 -0.067307 -0.11588 -0.2178 0.070191 0.23154 -0.13849 0.26441 0.28742 0.1941 -0.0060504 0.44105 0.12416 -0.27745 -0.25729 0.10992 0.18362 -0.34522 -0.21861 -0.18825 -0.037454 -0.20862 -0.25216 0.060842 0.068595 0.10275 0.10745 -0.061288 0.19725 -0.27739 -0.022559 0.052794 -0.24083 0.09199 0.30959 0.054999 0.063676 -0.087357 -0.34495 0.22793 -0.42405 0.24536 0.55708 0.19126 -0.797 -0.2048 0.32545 0.09235 0.084791 -0.16433 -0.066568 -0.099249 0.31526 -0.44465 0.087281 0.3288 -0.017809 -0.23855 -0.12848 0.041509 0.46728 0.48214 0.10548 0.065805 0.067221 0.13321 -0.27856 0.015532 0.30026 0.38748 -0.14401 -0.16131 0.17678 0.16448 -0.3244 0.007937 -2.2836 0.096945 0.66131 0.16857 -0.028877 -0.10791 -0.027445 -0.25695 0.046686 0.23087 -0.076458 0.27127 0.25185 0.054947 -0.36673 -0.38603 0.3029 0.015747 0.34036 0.47841 0.068617 0.18351 -0.29183 -0.046533\n",
            "to -0.25756 -0.057132 -0.6719 -0.38082 -0.36421 -0.082155 -0.010955 -0.082047 0.46056 -1.8477 -0.11258 -0.12955 0.27254 0.0072891 0.26038 0.12096 -0.23193 0.03226 -0.29472 -0.67594 -0.33844 -0.23297 0.1102 0.18816 -0.45184 -0.33833 0.11274 0.4949 -0.042132 0.079961 -0.013146 0.062284 0.20223 0.038279 -1.1154 -0.1214 0.089846 0.29702 -0.055794 -0.46021 -0.13194 0.087357 -0.27865 0.14981 0.25536 0.16698 -0.04452 0.067588 -0.11772 -0.13452 0.28694 -0.39844 -0.12806 -0.47818 0.067802 0.20353 -0.30677 0.60789 -0.18588 0.11997 -0.040508 -0.06586 0.30621 -0.055824 0.039448 -0.4557 0.21081 0.25889 0.14666 0.3095 0.14343 0.10524 0.15788 0.103 0.32211 -0.27939 -0.17139 0.32202 0.10784 -0.28209 0.12611 -0.23913 -0.089638 -0.39179 -0.26402 0.36796 -0.23691 0.62503 -0.027226 -0.038851 -0.37359 0.045442 -0.17169 -0.54477 -0.091772 -0.32952 -0.25522 0.087106 0.048685 -0.31684 -0.064198 0.044885 -0.49587 0.429 0.36198 -0.14682 0.20122 -0.030038 0.18736 0.31626 0.059023 -0.13473 -0.40664 -0.52983 0.072459 0.082531 -0.32495 -0.006691 0.43564 -0.12976 -0.26293 0.15975 0.25062 -0.064732 -0.30689 0.16084 0.4583 0.38565 0.12612 -0.00080485 0.18055 0.24757 0.5568 0.21701 0.33105 0.11991 0.0027257 -0.10679 -0.16922 0.25277 0.36024 -0.4762 -0.20035 0.38473 -0.71653 -0.13788 -0.12201 -0.16979 -0.29624 -0.010344 0.19216 0.063375 0.30977 -0.19759 0.57419 0.34018 -0.34795 -0.085304 -0.028243 -0.39182 0.23797 -0.092997 0.11981 -0.2368 0.098179 0.083047 0.12652 0.16026 -0.14166 0.14296 -0.12868 0.18181 -0.42337 0.18061 -0.051635 -0.17987 -0.097071 0.0013755 -0.42539 0.56817 0.057432 0.31577 0.18918 0.27639 -0.39906 0.18594 -0.54231 0.61376 0.37921 0.1366 -0.39842 0.58557 0.054558 0.061801 0.32546 -0.19615 -0.034329 -0.013225 0.67854 -0.16672 0.92439 0.11952 0.040351 0.35368 -0.25573 0.26648 -0.020954 0.18535 0.062376 -0.22976 -0.074563 -0.3289 0.28535 0.46959 -0.54324 0.14124 0.19964 0.1541 0.024155 0.144 0.30989 -0.15989 -0.11611 0.09102 -0.50317 -0.33662 0.059168 0.43838 -0.1428 -0.0053718 0.046505 0.21546 0.065006 -0.35175 -0.17137 0.20467 -0.07173 0.40879 0.20295 -0.014211 -0.21898 -0.12831 0.3224 0.17608 -0.60267 0.036737 0.54848 -0.47682 -0.56556 -0.083633 0.032302 -0.25262 0.39481 -0.019623 0.62547 -0.11369 -0.25727 0.073363 0.18437 0.14587 0.32708 -0.52049 0.037555 0.023667 -0.068237 -0.22916 0.017755 -0.18394 0.55107 -0.23965 0.39187 -0.017785 0.43113 0.27181 -0.16043 -0.347 -2.4194 -0.028952 0.95085 0.05804 -0.23623 0.18914 0.31192 0.23064 -0.30309 -0.18603 0.07618 0.37337 -0.14444 -0.028793 -0.012806 -0.59707 0.31734 -0.25267 0.54384 0.063007 -0.049795 -0.16043 0.046744 -0.070621\n",
            "and 0.038466 -0.039792 0.082747 -0.38923 -0.21431 0.1702 -0.025657 0.09578 0.2386 -1.6342 0.14332 -0.037958 -0.019583 0.38494 0.097319 0.29697 -0.34523 0.11742 -0.024189 0.16013 0.09824 0.12811 -0.17482 0.20976 -0.22362 -0.20656 0.24428 0.066875 -0.12594 -0.015706 0.064986 0.4754 -0.055405 0.54286 -0.75188 -0.083218 0.17896 0.073084 -0.3033 -0.17416 -0.17147 -0.1192 0.038308 -0.2066 0.088679 -0.055993 0.361 0.38658 -0.055434 0.097699 0.3686 -0.326 0.13023 -0.29897 -0.24709 0.051869 0.030422 0.18586 -0.046117 -0.14765 0.35895 0.10094 -0.087822 -0.17514 -0.25403 -0.35855 0.15801 -0.027074 0.12565 -0.17509 -0.13126 -0.13916 0.053628 -0.049429 0.051938 -0.048684 0.071719 0.080952 -0.20018 -0.10871 -0.26707 -0.35727 0.3712 0.016709 -0.034959 -0.047711 0.0024827 0.10847 0.0089053 -0.14874 0.046014 0.42702 -0.24684 0.12193 -0.27579 0.25844 -0.20991 -0.086667 0.14767 -0.17441 0.17054 -0.30868 -0.08797 -0.17195 -0.11743 0.12146 0.069268 0.13311 -0.13565 -0.24855 -0.0026393 -0.71169 -0.32594 -0.36397 0.053331 0.35714 -0.30035 0.041583 -0.11996 -0.02368 0.016728 0.15869 -0.16491 -0.2782 -0.13788 0.10178 -0.24177 0.096347 0.2367 0.20885 -0.28867 0.10772 0.15562 -0.012284 -0.22161 -0.1017 0.1257 -0.29579 -0.0089604 0.35075 0.020088 0.020389 0.0038884 0.31869 -0.19848 0.060458 0.28148 -0.23499 -0.17035 -0.22323 0.57975 0.26464 -0.10124 0.081058 0.14029 0.066431 -0.12212 0.040034 0.027548 -0.1476 0.31438 -0.23046 0.2645 -0.10945 -0.39033 0.1266 -0.030951 0.067389 0.16807 0.22373 0.13502 0.38235 -0.52807 0.54013 -0.043062 0.093211 0.045211 -0.24291 -0.49781 0.26425 0.0264 0.14347 0.11763 -0.011614 0.097932 -0.26632 -0.22143 0.25156 0.08128 0.10937 -0.12199 0.019255 -0.33463 -0.18181 0.064724 0.22921 -0.032425 -0.27295 0.31983 0.16134 0.93692 -0.1214 -0.012617 0.25274 0.24615 0.13214 0.16092 0.20576 -0.051567 -0.3784 0.19761 0.16993 -0.087151 0.026922 0.38035 0.083349 0.24715 -0.1094 0.15459 -0.051741 0.16604 -0.21335 -0.030744 -0.14574 -0.50462 0.34825 -0.12343 0.17733 0.2857 -0.30467 -0.15095 0.30346 -0.15678 0.064804 -0.073008 0.26499 0.16312 0.11889 -0.63938 0.15598 -0.23643 0.59644 0.38748 0.3358 -0.58647 0.12584 0.36144 -0.33622 0.38128 -0.10348 0.18825 -0.33686 0.0058178 -0.1345 0.55511 -0.056443 0.15094 -0.28438 0.025488 0.20392 0.052712 -0.45719 0.089267 0.095469 -0.19022 -0.17101 -0.37599 -0.182 -0.065605 -0.061388 -0.19467 -0.070368 -0.23977 0.39253 -0.21283 0.17221 -1.867 -0.22609 0.53976 -0.3358 -0.48587 -0.050246 0.31694 -0.15536 0.12244 0.38356 -0.1389 0.41886 0.23664 -0.31113 0.045194 -0.20405 -0.21097 -0.11025 0.021766 0.44129 0.32797 -0.33427 0.011807 0.059703\n",
            "in -0.44399 0.12817 -0.25247 -0.18582 -0.16614 0.25909 -0.22678 -0.069229 -0.077204 -1.5814 0.10753 0.15123 -0.039371 0.2006 0.15792 0.43324 -0.21626 0.025275 -0.16592 -0.29108 0.0021523 0.084663 0.36784 -0.032838 0.092125 -0.40108 0.1446 -0.25876 -0.11703 0.098804 -0.04319 0.022361 -0.37503 0.44156 -0.67719 -0.21881 -0.11522 0.18124 -0.58965 0.18788 0.2861 -0.28068 -0.0632 0.54372 -0.025678 0.11458 0.031563 0.52909 -0.088527 0.28774 -0.10665 0.09264 0.1355 -0.18419 0.4314 -0.020869 -0.25236 -0.22679 0.45321 0.043271 -0.13449 0.0049912 -0.14535 -0.29764 0.16016 -0.6684 0.27327 0.15247 0.073077 -0.19881 -0.087157 -0.044633 0.1115 -0.051241 -0.70671 0.023404 0.36067 -0.055768 -0.22948 -0.11894 0.08605 -0.15969 -0.34213 0.2975 0.23921 0.093323 -0.10786 -0.054065 -0.21083 0.13899 0.11314 0.23076 -0.0022573 0.24149 -0.080955 0.04065 -0.378 0.0082898 -0.4385 -0.28115 0.25843 0.15749 -0.043514 0.10557 -0.14622 0.1586 0.19999 0.42149 0.15598 -0.0075512 -0.098827 -0.29451 -0.25065 -0.10596 0.31253 0.029076 0.058986 0.23656 -0.20147 -0.3718 -0.064728 -0.31944 0.28854 -0.25287 -0.16296 -0.081592 0.32626 -0.17376 0.29944 -0.16743 -0.21161 0.262 0.40972 -0.04841 -0.19614 -0.055705 -0.48783 -0.063714 -0.12616 0.55167 -0.12978 -0.20938 -0.14516 0.28025 -0.33003 -0.10742 0.35705 0.019434 -0.19469 0.13617 0.29435 -0.1825 0.092357 0.14214 0.20934 -0.099252 -0.25698 0.11528 0.1976 -0.24459 -0.085121 -0.26033 -0.09665 -0.099706 0.1462 0.12409 0.44139 -0.082185 0.2398 0.33155 0.29472 -0.02574 -0.6724 0.17099 -0.44336 0.40155 0.035535 -0.33381 -0.30127 0.59352 0.06213 0.22637 0.12551 0.059679 0.55479 0.10582 -0.48949 0.33181 -0.07972 -0.35039 0.032213 0.20024 0.36333 -0.12796 0.003225 -0.045665 0.09832 -0.070857 -0.34799 0.27443 1.1264 0.053398 -0.079054 -0.13053 0.074163 -0.22822 -0.040045 0.25848 -0.41994 0.0017782 0.1322 0.22764 -0.20604 -0.013716 0.48998 0.63756 -0.11187 0.11135 -0.19104 -0.13215 0.0023801 -0.24815 -0.48574 0.19432 0.065064 -0.15393 0.14434 0.10069 -0.058673 -0.18539 0.050425 0.27535 -0.24751 -0.050139 0.29191 0.018815 0.36727 0.12812 -0.10293 0.16095 -0.30712 -0.17172 0.39917 0.3457 -0.53083 -0.3528 0.50422 0.14786 -0.071239 -0.019673 0.12915 0.15139 0.02374 0.059252 0.36249 -0.20221 0.21818 0.031545 0.36705 -0.046894 0.13735 -0.057606 0.027779 -0.033237 0.050452 -0.42195 -0.29115 -0.28406 0.25065 -0.23917 -0.16317 -0.1791 -0.12767 0.50467 0.21975 -0.32816 -2.1376 0.087901 0.47143 0.48375 -0.55058 -0.081249 -0.22943 -0.10266 -0.1082 0.37007 -0.4184 0.4504 -0.09231 -0.0079179 -0.2745 -0.037237 0.10104 0.10798 0.37727 0.87977 0.33583 -0.20043 -0.082191 -0.06255\n",
            "a -0.29712 0.094049 -0.096662 -0.344 -0.18483 -0.12329 -0.11656 -0.099692 0.17265 -1.6386 0.1022 0.034253 -0.24213 0.048212 0.2706 0.35996 -0.40779 0.23785 0.24245 -0.31107 -0.48287 0.26101 0.11878 0.51011 -0.31115 -0.37005 0.11625 -0.42061 -0.034391 0.11809 -0.48955 0.33693 -0.13387 0.34924 -0.837 0.56691 -0.5367 0.38559 -0.28975 0.6247 0.48489 0.36357 0.35868 0.089597 -0.05536 0.11218 0.25683 -0.076713 -0.19422 -0.18243 -0.32841 0.064014 0.051971 0.20494 0.099948 -0.2716 -0.46416 0.10966 0.38606 -0.38436 -0.38772 0.28296 0.62533 -0.21405 -0.3754 -0.57913 -0.1251 -0.17104 0.43539 -0.18758 0.017773 0.35395 0.30074 -0.19863 -0.37743 0.11643 -0.18239 0.021961 -0.37256 0.023748 -0.096721 0.1289 -0.064794 -0.23133 0.45646 0.14918 -0.039145 0.39048 -0.113 -0.031962 0.036758 0.24962 -0.11699 -0.57764 0.57354 -0.14273 0.2503 -0.059743 -0.18562 -0.068998 -0.03661 0.15586 0.19729 -0.33594 -0.16771 0.17228 0.12988 -0.064598 -0.60267 -0.43089 -0.288 0.5353 -0.085713 0.089749 0.93015 0.16516 -0.14327 -0.060793 0.065698 -0.011137 0.24506 0.3287 0.012378 0.34808 0.047224 -0.20778 0.62321 0.14988 0.30187 -0.32872 0.3404 0.22678 -0.53792 -0.11482 0.41729 0.15157 0.15916 -0.12746 0.23922 0.202 -0.20951 0.36117 0.11522 -0.028047 -0.72466 -0.011893 0.031583 0.1739 -0.1262 0.20053 0.33085 -0.26827 0.28153 -0.044422 0.46704 0.049405 -0.46265 -0.27114 0.097589 0.30885 -0.10546 -0.018832 0.18444 -0.015528 0.047652 -0.1205 -0.2874 0.084141 0.53238 0.2009 0.035318 -0.44411 -0.86037 0.2761 -0.16407 -0.23766 -0.53769 -0.046391 0.55086 0.24044 0.31387 0.24542 0.19868 0.27393 -0.24355 -0.4129 -0.46545 0.60012 -0.26015 0.1929 0.36024 0.18589 0.037866 -0.077942 -0.099914 0.034607 -0.12247 -0.27205 -0.13819 0.23319 0.96767 0.34317 0.044022 -0.31471 0.014663 -0.071928 -0.45375 0.029313 -0.22576 0.20704 0.029607 -0.41761 0.2603 0.23784 0.083533 0.12032 -0.19662 -0.2885 -0.25891 0.71359 0.28543 -0.0017777 -0.10196 0.47297 -0.006194 -0.024529 0.11389 0.059219 0.18821 -0.15918 0.19517 0.23143 -0.016216 -0.51149 0.36894 0.55447 0.17006 -0.081063 0.14756 0.43106 0.62111 -0.020083 -0.051027 -0.42335 -0.95094 -0.098285 0.49542 -0.1441 0.18742 -0.1606 -0.073652 0.067304 -0.097287 -0.27716 0.80758 0.20659 -0.34734 -0.17897 0.48319 0.59006 -0.22616 0.28727 0.49545 0.41908 -0.37884 0.023117 -0.11783 0.079173 0.5605 -0.17425 -0.33199 -0.72821 0.10046 0.041775 0.22655 -0.12865 -2.3832 0.2206 0.51407 0.08616 -0.21772 -0.055862 -0.040358 -0.22208 -0.042596 0.037001 -0.50139 0.10573 -0.16145 0.3616 0.075972 -0.42426 -0.3967 0.32683 0.62049 0.34719 0.26952 0.059717 -0.22853 0.29602\n",
            "\" 0.6947 0.22184 0.10526 0.012382 -0.2558 -0.32645 -0.48287 0.51755 -0.0872 -2.0289 0.35021 0.045363 -0.58554 -0.16147 0.35592 -0.12698 -0.389 0.027275 0.10101 0.010271 0.30711 0.32771 0.11769 0.24432 0.23224 0.88493 0.084191 0.019132 0.41142 0.17872 0.28685 0.32401 -0.1452 0.13602 -1.0021 0.15376 0.27661 -0.24772 -0.62897 0.47619 -0.35871 -0.82761 -0.41504 0.43143 -0.0085019 0.019796 0.30738 -0.06202 -0.41845 -0.0065542 -0.5164 0.14782 -0.0714 0.14323 -0.012224 0.22951 -0.086194 0.29748 0.46222 -0.56759 0.2868 0.068718 0.25969 0.1065 -0.38421 -0.24288 0.3652 -0.28178 0.02779 0.21189 -0.21838 -0.26429 -0.2053 -0.050045 -0.14675 0.43928 0.12568 0.2448 0.23945 -0.13081 0.061735 0.44339 0.66748 -0.30867 0.31239 0.050992 -0.20818 0.53632 0.017549 -0.62452 -0.017933 -0.15915 0.04842 -0.18007 -0.2852 0.24385 0.04839 0.0049169 0.070413 -0.25744 0.24731 0.076947 0.053461 0.36677 -0.17137 0.089144 -0.17755 -0.44276 0.58558 0.15683 0.04322 0.016737 0.026973 -0.44068 0.19796 -0.65142 0.0039067 0.064482 -0.18919 -0.42223 0.37854 -0.46292 0.01278 -0.080519 0.26873 -0.56258 -0.15363 0.53182 -0.091645 -0.49802 -0.1925 0.18915 -0.17388 -0.14453 -0.033144 -0.13589 -0.52306 -0.60742 0.066981 0.049356 0.039682 0.70251 0.19068 -0.0053267 0.026991 -0.45241 -0.11205 0.38563 -0.26384 0.66098 0.25433 -0.048764 -0.19554 0.21586 0.086974 -0.3031 0.23631 -0.12765 -0.013964 -0.5626 0.23265 -0.67844 0.083024 -0.33026 -0.83967 0.24366 -0.079742 -0.12785 -0.29069 0.075679 0.52596 0.26064 -0.17329 -0.27323 0.3122 0.32645 0.22285 0.86193 0.28423 -0.23161 0.50005 -0.081095 -0.14249 -0.33155 -0.39187 -0.33697 -0.28684 -0.077314 0.56339 0.14105 0.20169 0.53144 0.94135 -0.22078 -0.32236 -0.19445 -0.63195 -0.55729 -0.3093 -0.36269 1.3423 0.45712 0.095516 1.0522 -0.025737 -0.16478 -0.10284 0.49699 0.2979 0.084515 -0.37817 -0.32549 -0.25269 -0.19468 0.66512 -0.30682 0.27146 0.66712 0.28062 -0.63802 -0.20536 -0.058433 -0.3065 -0.10404 -0.35549 0.1365 0.071077 -0.24535 0.070016 -0.19833 -0.10835 -0.29371 -0.25792 -0.20339 -0.062024 -0.043849 -0.31949 -0.36047 -0.070991 -0.21235 -0.46852 -0.484 -0.16648 0.23164 -0.32893 0.087816 -0.081276 0.21032 0.40517 -0.051471 -0.091353 0.058312 -0.76205 0.39375 0.29967 -0.23293 0.19127 -0.21633 0.56827 0.014206 -0.16902 -0.53718 -0.20777 0.17868 -0.27838 -0.075129 -0.055254 -0.27411 0.019909 0.57986 0.077334 -0.046309 -0.286 -0.16093 0.30357 -0.11045 -1.8737 0.04662 0.88636 -0.074213 -0.21623 0.14911 -0.74491 0.15774 0.22384 -0.0085548 0.065872 0.056001 0.37591 0.080234 -0.32401 -0.39791 -0.35475 -0.064987 -0.35959 0.27407 0.28326 0.34871 -0.63079 0.38089\n",
            "'s -0.001272 0.36514 -0.077363 -0.26559 0.17987 0.15347 -0.15338 0.43267 -0.13364 -1.716 0.069153 -0.0079778 0.17582 0.28543 0.38667 0.44506 0.37369 0.17313 -0.19106 0.29733 0.83032 0.15301 0.25848 -0.046363 -0.32512 0.17635 0.16375 -0.021848 -0.33696 -0.3572 -0.14684 0.73045 -0.096603 0.35377 -1.2056 0.51558 0.24781 -0.1109 -0.17139 -0.47703 0.15555 0.24988 -0.12376 0.62701 -0.31196 0.19281 -0.10957 0.2915 -0.66135 -0.21631 -0.07754 -0.10975 0.070786 0.43514 0.33533 -0.0010721 -0.1285 0.54657 0.11623 0.063463 -0.16129 0.27799 0.023294 -0.16092 -0.020701 -0.042522 -0.013445 0.21933 0.13208 -0.08651 -0.15157 0.045004 0.22081 -0.3302 0.56354 0.13779 0.18951 -0.034288 -0.39261 0.479 0.025599 0.20667 -0.14304 -0.10036 0.26442 0.1191 -0.22048 -0.089946 -0.20849 -0.33173 -0.0465 -0.039867 -0.23478 -0.27917 0.009119 -0.36536 -0.25293 0.027104 0.11066 -0.39852 0.10786 0.074682 0.030254 0.2018 0.11648 -0.24248 0.38339 0.63444 -0.16731 0.24386 0.0578 -0.10832 0.016448 -0.077361 0.11561 0.11861 0.1586 0.33599 0.15333 -0.47698 -0.11412 -0.15998 0.18273 -0.46594 -0.022473 -0.22373 -0.28015 0.16083 0.063174 0.16524 0.17235 0.78742 -0.43266 -0.24705 0.34706 0.13913 0.16906 -0.19882 -0.10414 0.26749 0.17295 0.078849 0.58617 -0.24936 -0.30504 -0.40331 0.034397 -0.21471 -0.30321 -0.28646 0.5263 0.11751 0.24854 -0.14418 0.70013 0.065482 -0.20346 0.64396 0.63971 0.03147 0.39379 0.027267 0.80518 0.22757 -0.18351 -0.39773 -0.066513 0.15471 -0.13131 0.091 0.28648 0.48654 -1.2863 -0.352 -0.143 -0.10963 0.34816 0.1008 -0.45295 0.35414 0.2452 0.50821 0.13088 -0.0088304 0.11829 0.48728 0.037797 -0.31463 -0.84104 0.26889 -0.7261 0.037926 -0.61905 -0.090255 -0.060257 0.50222 0.2757 -0.034749 -0.35541 0.071836 1.7241 -0.53972 0.32166 -0.25462 -0.22476 0.21367 -0.25695 0.10421 0.25238 -0.038572 -0.31734 0.037501 0.28885 -0.4438 0.33324 0.24069 -0.23782 -0.35156 0.47037 -0.23308 0.096621 -0.083021 -0.32734 0.31101 -0.1255 0.18077 0.1032 -0.27682 -0.86378 -0.33937 -0.32415 0.070228 -0.0019138 -0.0039554 -0.071345 0.1667 0.31996 0.24855 0.6906 0.27341 0.16493 -0.35739 0.24218 -0.064732 -0.45739 0.16461 -0.12408 -0.30335 -0.24301 0.22162 0.32573 -0.041798 0.26151 -0.12885 0.55704 -0.34012 -0.12046 0.17767 0.23785 -0.50045 -0.19556 -0.11327 0.081786 -0.43105 -0.28843 0.39246 -0.017525 -0.089589 -0.021078 0.57783 -0.12208 -0.01884 0.39227 0.10745 0.18686 -0.60034 -1.7264 -0.35302 0.53372 0.40274 0.2427 0.26233 -0.21278 0.26437 -0.20814 0.13909 0.066891 0.23215 -0.20509 0.099417 -0.32295 0.01604 0.2739 0.046497 0.22002 0.50164 0.63324 -0.18361 -0.76518 0.39206\n"
          ],
          "name": "stdout"
        }
      ]
    },
    {
      "cell_type": "code",
      "metadata": {
        "colab": {
          "base_uri": "https://localhost:8080/"
        },
        "id": "JPwgXklpnleJ",
        "outputId": "fed0e51b-be99-4b75-ff30-9a82a7a1c025"
      },
      "source": [
        "!head wiki.simple.vec"
      ],
      "execution_count": null,
      "outputs": [
        {
          "output_type": "stream",
          "text": [
            "111051 300\n",
            "</s> 0.28922 -0.46075 0.35142 -0.41104 0.16421 0.17307 -0.21562 -0.090636 -0.079495 -0.11149 0.030614 -0.0062959 0.14929 0.17588 0.023571 -0.13192 0.24037 -0.023433 -0.090424 -0.1205 0.15024 -0.04173 0.22556 0.0088108 0.037523 -0.023573 0.088627 -0.21427 0.012018 -0.057337 -0.029528 0.10135 0.1427 -0.20236 -0.046452 -0.16167 0.43107 -0.017859 -0.15654 0.14826 -0.034114 -0.14649 -0.091926 -0.16326 -0.08863 -0.057991 -0.12135 0.032937 0.20307 0.20069 0.256 -0.10217 -0.22534 -0.1053 -0.35453 0.047078 0.0064066 0.16062 0.30925 0.084114 -0.10756 0.27985 -0.13681 -0.1818 -0.23974 -0.015328 0.047659 0.18575 -0.05236 0.021459 -0.20396 0.16799 -0.164 -0.10783 0.15601 -0.12507 -0.043054 -0.12134 0.035488 -0.055631 -0.010796 -0.14874 -0.0087224 -0.10568 -0.10334 0.27871 0.072898 0.02437 -0.21292 -0.12933 0.13453 -0.29429 -0.012638 0.32057 -0.0036427 -0.0692 -0.041341 -0.082506 0.080206 -0.12415 0.098575 0.018395 -0.030875 0.14337 -0.031857 0.0083619 0.1698 -0.22698 0.018308 0.0070261 -0.11076 0.30176 0.019704 -0.096599 -0.10573 -0.10037 0.053377 0.13537 -0.19165 -0.10802 0.35025 0.037928 -0.025666 -0.13706 -0.055297 -0.25373 0.089364 0.048505 0.063653 -0.076123 0.15775 -0.16222 0.048127 0.021253 0.034688 0.025495 0.025375 0.21207 -0.056502 -0.012027 -0.21509 0.27694 -0.1712 0.23526 0.093841 0.1569 0.084581 -0.20348 0.057066 0.17313 0.21994 0.075223 0.0029434 -0.10477 0.15655 0.08439 -0.054225 0.2591 0.09501 0.12065 -0.097624 -0.39088 -0.11872 0.055564 0.0030523 -0.1682 -0.11147 -0.2611 0.075417 0.22004 -0.2144 0.18776 -0.029542 0.12228 -0.097995 0.043922 0.00088643 -0.06877 0.010332 -0.28294 0.0090767 0.14283 -0.017587 0.34911 0.022856 0.20548 0.019219 0.16139 0.076971 -0.24604 -0.035292 0.019849 -0.005259 -0.064386 0.11798 0.079227 -0.21783 0.054348 -0.10345 -0.21179 -0.0080982 0.098216 0.12251 0.04682 0.18489 0.023274 -0.18824 -0.21202 -0.001573 -0.31142 -0.10275 0.051682 -0.010912 -0.092177 -0.089845 0.083772 -0.03581 0.23526 0.00339 -0.075118 -0.037055 0.36795 -0.22527 -0.013583 -0.21753 0.020199 0.16155 0.10071 -0.071392 -0.11245 0.1506 -0.0087441 0.01535 -0.045475 -0.052137 0.01161 -0.081927 -0.11045 -0.088656 0.076494 0.0027199 0.047671 -0.13635 0.071316 0.27536 0.13012 0.12835 0.068754 -0.067035 0.27232 -0.15474 -0.10152 -0.13648 0.11222 -0.0099446 -0.30343 -0.13898 0.16141 0.040906 0.17311 -0.17253 -0.034614 0.040535 0.39172 0.085643 -0.10927 -0.017601 -0.32394 -0.061749 -0.41945 -0.40244 0.092796 0.2124 -0.11956 -0.017501 -0.060142 0.15649 -0.15314 -0.049023 0.011875 0.25828 0.097162 -0.036877 -0.073488 -0.31932 0.04429 0.21113 0.18836 -0.52352 -0.081093 0.12632 -0.20521 -0.015346 0.20426 -0.20942 0.10423 -0.16121 0.13313 -0.23465 0.0053066 \n",
            ". 0.056857 -0.051956 0.27326 -0.46071 -0.092431 0.29899 -0.23999 -0.034116 -0.028948 -0.060919 0.046351 -0.046025 0.02116 0.21137 -0.090016 -0.04249 -0.10974 0.043862 -0.025069 -0.14857 0.029323 0.092049 0.1074 -0.11212 -0.11129 -0.037896 0.048354 -0.2177 -0.037957 -0.060364 0.098121 0.053865 -0.014206 0.017839 -0.13304 -0.050629 0.07498 -0.089129 -0.051945 0.064029 0.023864 -0.0065933 0.13133 -0.28459 0.20212 -0.026394 -0.030135 0.0649 0.10931 0.040948 0.12878 -0.04202 -0.078563 -0.016322 -0.13669 0.04769 0.14753 0.11339 0.10809 0.062785 -0.19802 0.16453 -0.058588 -0.05849 -0.03865 -0.17617 -0.1115 -0.012085 0.015707 0.076853 -0.11019 0.0066043 -0.058453 -0.0188 0.15071 -0.1378 0.12275 -0.05664 0.071154 0.026163 -0.043365 -0.038033 -0.014248 -0.061539 -0.012662 0.074463 -0.088092 0.054299 0.075228 -0.021442 0.010453 0.050412 -0.074295 0.019872 0.049167 -0.056176 -0.10473 0.16563 0.12843 0.044255 -0.062392 -0.10378 -0.1443 0.11944 0.026746 0.16505 -0.055049 -0.063078 0.080835 -0.020457 -0.044819 0.12974 0.10061 -0.026543 0.00085757 0.055645 0.11948 0.0060683 -0.012937 0.089136 0.1349 -0.20723 -0.091012 0.0053755 -0.12596 -0.16996 0.29034 -0.18323 -0.084379 -0.015998 0.15756 -0.018649 0.0024815 -0.17977 0.087252 0.11225 -0.064339 0.063719 -0.054939 0.12258 -0.18201 0.13309 0.094422 0.21075 0.1186 -0.1256 -0.025125 0.019638 -0.11898 -0.042123 0.010488 -0.11453 0.24084 0.014377 0.065836 -0.14333 0.015141 0.181 0.18458 0.17462 -0.12133 -0.009879 -0.099906 -0.12319 0.083214 -0.14751 -0.14448 -0.14138 0.12092 0.07143 -0.046933 0.041118 -0.0010656 0.13243 -0.16132 -0.0033545 0.064775 -0.080659 0.088812 -0.26851 -0.32682 0.027216 -0.12577 0.13937 0.098527 -0.060459 -0.043338 -0.044288 -0.042566 0.040217 0.058051 0.065905 0.14506 -0.061236 0.017149 -0.069948 -0.21149 0.11543 -0.16486 -0.15048 0.15899 -0.037115 -0.0012594 0.068619 0.041491 -0.091243 -0.041969 -0.11193 0.0059694 -0.20431 -0.20005 0.092947 0.056198 -0.058748 -0.060437 0.19373 0.028445 0.037236 0.072179 -0.026794 -0.067925 0.045572 -0.0050182 0.073284 -0.19174 -0.10344 -0.11012 -0.091861 -0.015515 -0.077527 -0.0081125 -0.094633 -0.017778 -0.032551 0.03989 -0.079704 -0.009064 -0.09813 0.10171 0.039219 0.10889 -0.039129 0.011014 0.032558 0.0010479 -0.04008 0.0069764 0.0036087 -0.013945 0.17785 -0.0030685 0.20397 -0.039429 0.071673 -0.19985 -0.19914 -0.057142 0.08412 -0.18126 0.28589 -0.025851 0.033137 0.10591 0.2526 0.044792 0.047398 -0.088104 -0.21021 -0.042949 -0.075586 -0.19448 -0.057406 0.10961 -0.043815 0.13866 -0.070032 0.069243 -0.054571 0.04147 0.15273 -0.0067433 0.010604 0.0276 -0.070456 -0.050473 0.1265 0.25396 0.17074 -0.19267 -0.0025199 -0.038779 -0.30563 0.077991 0.13188 -0.08366 0.057451 -0.19495 -0.069453 -0.16064 -0.098923 \n",
            ", 0.20132 0.010376 0.16235 -0.27298 0.039575 0.22115 -0.10703 -0.089337 -0.019734 -0.040641 0.060606 0.020317 0.01139 0.12455 -0.19771 -0.19208 0.011446 0.047472 -0.0086267 -0.13171 0.16265 0.13131 0.035543 -0.064897 -0.069441 -0.034721 0.044049 -0.16109 0.0057406 -0.027192 -0.047153 0.0751 -0.1214 0.043709 -0.043388 -0.19764 0.23133 -0.061207 0.003943 0.23344 0.013143 -0.049553 0.045145 -0.14777 0.13616 -0.070055 0.082417 0.042809 0.21347 -0.074479 0.065698 -0.018479 -0.074487 -0.062651 -0.13854 -0.0037865 0.024165 0.13881 -0.045226 0.17118 -0.095896 0.11095 -0.042478 -0.25836 -0.073653 -0.079577 -0.14143 0.10467 -0.016882 0.01106 -0.0337 -0.0056643 -0.25329 -0.0047637 0.084428 -0.11058 0.13527 -0.044014 0.10956 0.028919 -0.055579 0.0054216 -0.0063438 -0.084744 0.076347 0.042285 -0.01818 -0.026757 -0.15339 -0.21064 0.067622 -0.035973 -0.049801 0.10212 -0.025203 0.10096 -0.063524 0.10274 0.023295 0.085574 -0.24675 -0.17766 -0.085092 0.057953 -0.015669 0.058381 0.07239 -0.04815 0.12023 0.039538 -0.032813 0.081705 0.22117 0.0056921 -0.060281 -0.0044239 0.0042914 0.032582 0.070959 0.064393 0.10078 -0.18512 -0.0069208 -0.1013 -0.17805 -0.23741 0.25595 -0.10206 -0.086413 0.04197 0.14749 -0.13514 -0.099796 -0.026249 0.087611 -0.073098 -0.10105 -0.031685 0.00074453 0.003895 -0.29316 0.15227 0.12435 0.16154 0.060563 0.015597 0.064099 -0.023629 -0.11912 -0.0048181 0.048679 -0.021203 0.20704 0.031937 0.059534 -0.10469 -0.27658 0.1851 -0.043932 0.13621 0.065153 -0.054377 0.04423 -0.061533 0.049008 -0.1977 -0.011365 -0.033723 0.035109 -0.011275 -0.14128 0.13575 -0.070453 0.1479 -0.11463 0.12409 0.13165 -0.0022781 -0.090064 -0.099528 -0.074828 -0.076174 -0.092693 0.25677 0.01316 0.068883 -0.13932 0.081707 0.053813 -0.00074675 -0.020582 -0.044274 -0.051166 0.039138 -0.07003 -0.022407 -0.32211 0.02344 -0.20095 -0.11799 0.19371 0.016648 0.056803 -0.00055371 0.10025 -0.074327 -0.065021 0.0066075 -0.091382 -0.073934 -0.14649 0.083694 -0.035213 -0.087283 -0.057006 0.077968 0.038763 0.17835 0.081894 -0.0971 -0.031871 0.018737 -0.019699 0.097352 -0.11615 -0.034378 -0.12198 0.0079757 0.016624 -0.068652 0.034285 0.15716 0.036117 -0.052159 -0.047579 -0.040863 0.052896 -0.022907 -0.026849 0.058331 0.089692 -0.10283 -0.011006 0.18944 0.074844 -0.04362 0.13386 -0.018465 0.0054596 0.15301 0.067808 0.080059 -0.087902 0.022378 -0.059758 -0.20054 -0.092356 0.087527 0.051243 0.12098 -0.080872 -0.10659 0.067997 0.18941 -0.046046 -0.0026956 -0.055105 -0.14711 0.10203 -0.091393 -0.15196 -0.13909 0.0025392 -0.057733 -0.013033 -0.13366 0.10932 -0.1449 0.00070433 0.066741 0.068789 -0.017327 -0.10317 -0.017664 0.05046 0.11481 0.039092 0.18282 -0.35158 -0.022102 0.012218 -0.29477 0.082204 0.082302 -0.17245 0.0029101 -0.21745 -0.093056 -0.14075 -0.13264 \n",
            "the 0.010399 -0.18291 0.076084 -0.18541 0.099364 0.19839 -0.16722 -0.013452 -0.00028677 0.0026706 0.097921 -0.11183 -0.13611 0.13828 0.0013663 0.089178 0.062126 0.13424 0.019727 -0.13894 0.064864 0.011646 -0.069312 0.15011 -0.0083578 -0.073977 0.25229 -0.048231 0.086696 0.14083 0.02218 0.092541 0.029381 -0.025967 -0.066355 -0.013935 0.069898 0.070866 -0.21941 0.07805 0.063172 -0.033124 0.065174 -0.0091945 0.24218 0.13306 -0.077687 0.06803 0.070054 0.11193 0.03221 -0.27921 -0.034977 0.017082 -0.014469 0.014274 0.097878 0.068483 0.078639 0.06009 -0.14036 0.21027 -0.059627 -0.11493 -0.047982 -0.14682 -0.2126 0.094046 0.074551 -0.095217 -0.018776 -0.022611 0.13751 -0.020693 0.2187 -0.23951 -0.056583 -0.016129 0.15558 0.06521 -0.23285 -0.077124 -0.054202 0.097352 -0.066922 -0.016582 0.097675 -0.051532 -0.017892 -0.17215 0.11336 0.086711 -0.096829 0.13821 -0.15401 -0.010456 -0.23204 0.089269 0.10648 0.040647 0.067472 -0.22071 -0.074981 0.27198 0.016319 0.077116 -0.091699 -0.051382 0.02129 0.062556 0.057433 0.01485 0.013432 -0.11731 -0.12586 -0.021894 0.085081 0.11237 -0.12249 -0.12282 0.089167 -0.0054447 0.088936 0.098517 -0.099624 -0.14896 0.14992 0.041353 -0.095574 0.039965 0.16499 -0.14502 -0.051162 -0.12371 0.071031 0.0045226 -0.22223 -0.08847 -0.078513 -0.067817 -0.22093 0.10089 0.17588 0.058044 0.12856 -0.15203 -0.10861 0.013917 -0.081659 0.022254 0.00016271 -0.10578 0.16115 0.042607 -0.039906 -0.10973 -0.16324 0.025601 -0.020199 0.26956 0.01958 -0.1139 -0.013617 0.065689 0.1475 -0.00594 0.088879 -0.046882 0.1772 -0.048547 -0.072382 0.025995 0.027072 0.12051 -0.035767 -0.064676 0.13846 -0.03479 0.1552 -0.26046 -0.3161 -0.056528 -0.076097 -0.031598 0.11626 -0.10901 -0.049858 0.19496 -0.098112 -0.041852 -0.062388 0.10709 0.19639 0.15981 -0.091911 -0.022524 -0.2705 -0.033326 -0.11177 -0.20585 0.14961 -0.00068064 -0.068284 -0.043337 0.0074121 -0.041801 -0.06024 -0.025963 0.091652 -0.16726 -0.16791 0.13784 0.032672 0.11739 0.090783 0.0193 0.052226 -0.04193 0.059504 -0.046264 -0.016563 -0.04058 -0.021775 0.081641 -0.0046449 0.0043718 -0.10769 -0.040876 0.068326 0.050909 -0.19227 0.083436 0.063457 -0.06609 0.13743 -0.26015 -0.013104 -0.035255 -0.05689 -0.072095 0.20966 0.092019 -0.014434 0.11185 -0.19237 -0.075239 -0.075605 -0.19011 -0.064409 0.23007 -0.022825 0.24048 -0.08033 0.019474 -0.11032 -0.079904 -0.12847 0.2155 -0.098112 0.19185 -0.061134 -0.038616 -0.0043824 0.10866 0.008 0.095298 -0.091967 -0.16894 0.13984 -0.13564 -0.2104 0.092979 0.053614 -0.014827 0.17542 0.085917 0.03991 -0.23365 0.12 0.17197 0.039991 0.035964 -0.023448 0.12637 -0.21453 0.16352 -0.0075725 0.21089 -0.18115 -0.047806 -0.19214 -0.22286 0.18172 0.17968 -0.037763 0.12955 -0.093836 -0.13616 -0.22401 -0.05523 \n",
            "of 0.152 -0.30387 0.19315 -0.27381 0.031657 -0.021603 -0.14734 0.056411 0.055352 0.10192 0.15333 -0.065717 0.047937 0.22662 -0.030293 0.042524 -0.066271 0.18054 -0.13087 -0.15147 0.11548 0.11954 -0.10083 -0.04824 0.057461 -0.18379 0.18598 -0.19291 -0.065628 -0.015283 -0.06061 -0.011891 0.098398 0.12015 -0.09713 -0.20831 0.070985 0.043025 -0.1236 0.064096 0.22336 -0.033307 0.087605 -0.10943 0.083791 0.089888 -0.026923 0.051387 0.28972 0.15139 0.0099832 -0.15328 -0.15758 -0.037465 0.20731 0.038286 0.16805 -0.0039052 0.18805 0.04329 -0.11405 0.3186 -0.033822 -0.097701 -0.16085 -0.24612 -0.24673 0.12623 0.032184 0.027124 0.09692 -0.15171 0.11189 -0.09522 0.16055 -0.27642 0.091136 -0.03181 0.040239 -0.092068 -0.11764 -0.14466 0.039324 -0.018842 0.063901 0.079858 -0.14211 -0.050392 -0.041744 -0.22764 0.25444 -0.042312 -0.11426 0.090751 -0.13012 -0.078833 -0.16547 0.063562 0.20837 0.055514 0.0050153 -0.13101 0.029067 0.11206 0.14911 -0.016018 -0.06965 -0.034301 0.043024 0.023441 0.09281 0.13711 0.14221 -0.2022 -0.32416 -0.066022 0.11006 0.014027 -0.10504 -0.063046 0.1636 0.13258 0.028928 0.023726 -0.061891 0.016524 0.25289 -0.0044723 -0.052166 -0.027699 0.038357 -0.086458 0.035396 -0.21215 0.029495 0.072075 -0.23056 -0.094939 -0.011283 -0.09723 -0.29866 0.099484 0.28512 0.1077 0.035942 -0.15462 -0.069743 -0.1494 0.054638 0.053594 0.12574 -0.16119 0.081381 0.023411 -0.020761 0.04084 -0.13096 0.050483 0.0029795 0.22291 0.082668 -0.14186 -0.1991 0.033784 0.079241 0.024738 0.038078 -0.094141 0.05223 0.049677 -0.096407 0.052373 -0.075108 -0.068718 -0.069138 -0.13094 -0.034077 -0.13846 0.16386 -0.26645 -0.14363 -0.034031 -0.1364 0.01053 0.11249 -0.0095874 -0.026641 0.27509 0.080893 -0.063694 0.082667 -0.067101 0.085539 0.15598 -0.0014084 0.021236 -0.21938 -0.19356 -0.16517 -0.088198 0.3651 -0.12782 -0.022092 -0.13848 0.074826 -0.11672 -0.15319 0.098303 0.096584 -0.048456 -0.14025 0.054146 0.12095 -0.020803 0.18423 0.061669 0.020085 -0.0048278 0.069123 -0.017794 -0.074059 -0.024735 -0.02235 -0.05473 -0.2299 0.099174 -0.016623 -0.21078 0.21506 0.030604 -0.067963 0.14322 0.087946 -0.1371 0.16034 -0.12452 -0.091314 -0.016043 0.058554 0.025629 0.1728 0.092463 -0.068929 0.2469 -0.0054026 -0.069843 -0.080021 -0.16762 0.0053869 0.34893 0.059604 0.21905 -0.074548 -0.055138 -0.077719 -0.14034 0.006186 0.24022 -0.10647 0.14713 -0.16463 -0.0068313 0.019942 0.061868 0.0081375 0.16921 -0.087173 -0.23594 0.24109 -0.093363 -0.22897 0.25335 0.11631 -0.14167 0.034518 0.058257 0.046457 -0.25188 0.13996 0.10514 -0.10776 0.086381 -0.017083 0.14076 -0.25332 0.29013 -0.026532 0.1288 -0.3296 -0.1732 -0.18724 -0.16799 0.10372 0.077217 -0.21558 0.16684 -0.14167 -0.11314 -0.22346 0.026356 \n",
            "' 0.15977 0.15164 0.026385 -0.24701 0.19036 0.27808 -0.32979 -0.0022612 -0.26852 -0.16038 0.17061 -0.003773 0.07514 0.28534 0.072219 -0.14805 0.18111 0.11136 -0.11691 -0.099183 0.042106 -0.045972 0.060995 0.069956 -0.22294 0.16039 0.21913 0.1825 -0.079788 0.070686 -0.033894 0.16901 0.021055 0.001155 -0.14678 -0.059742 -0.12066 0.17759 0.12075 0.14376 0.13722 0.11582 0.024609 0.027684 0.21747 -0.21767 0.063616 -0.0095069 0.14726 -0.061574 0.046156 -0.067633 -0.19104 -0.19487 0.065391 0.074833 -0.039953 0.19675 0.17356 -0.066693 -0.22684 0.26428 -0.11941 -0.22419 0.061452 0.044535 -0.05809 0.24931 -0.0025688 0.090969 0.303 -0.0018062 -0.28857 -0.014478 0.094316 -0.12033 0.14032 -0.20069 0.086178 -0.13606 -0.052491 0.087851 -0.085296 0.21093 0.10044 -0.029238 0.28646 -0.15073 0.08903 -0.076189 0.020224 0.037354 -0.1055 -0.012144 0.027394 0.013416 -0.30001 0.092328 0.3197 0.070161 0.070852 -0.0039196 -0.00085505 0.018106 -0.15757 0.1457 -0.11213 0.055792 -0.034781 -0.075906 -0.05051 -0.051775 0.02497 0.019679 -0.1865 -0.044735 0.15812 0.017148 -0.053296 -0.021899 0.063507 -0.051744 0.04769 -0.17754 -0.21529 -0.030216 0.3961 0.047507 -0.088135 0.092663 0.17861 -0.22815 0.037425 -0.091712 0.11208 0.091722 -0.025873 0.10735 -0.08182 -0.11909 -0.13764 -0.09944 0.11976 0.20963 0.15348 0.16961 -0.0063729 -0.047677 -0.23569 -0.070279 0.18486 -0.010667 0.22941 0.035129 0.080122 0.039886 -0.26868 0.14688 -0.049099 0.26128 0.012303 -0.19097 -0.14644 0.020991 0.13326 -0.15212 -0.12643 -0.032614 -0.022713 0.096956 0.042609 0.040968 -0.013722 0.18879 -0.021067 0.056122 0.25831 -0.098074 0.097444 -0.043118 -0.13828 0.048283 -0.19204 0.15474 0.075592 0.069428 0.097791 0.13688 -0.045443 -0.16016 0.1047 0.085735 0.19008 -0.066893 0.015728 0.036265 -0.28007 -0.025483 0.023787 -0.17614 0.25816 -0.086048 0.17722 -0.045644 -0.08493 0.011294 -0.17687 -0.09317 -0.0623 -0.20414 -0.16803 -0.1556 0.062529 0.0009914 0.042785 0.032501 0.26892 -0.038444 0.15666 -0.016142 -0.045345 -0.16176 -0.21293 -0.0058252 -0.26016 0.026589 0.0031957 0.16343 -0.12345 -0.13105 -0.2565 0.011907 0.2593 -0.05669 -0.20541 0.014891 0.14748 0.044611 -0.29448 0.022538 0.16455 -0.27927 -0.13387 0.02908 -0.050387 -0.19186 0.099817 -0.11434 0.015586 0.040635 0.065596 0.037183 -0.033343 -0.032237 0.017675 -0.28525 -0.16198 0.27285 0.093623 0.29247 0.014918 0.018632 0.0051434 0.19067 0.008834 0.2465 0.15377 -0.15323 0.24495 -0.2022 -0.24634 0.10417 -0.066781 0.0015546 0.14611 -0.063732 0.018145 -0.11698 0.13366 0.20542 0.29858 -0.051472 0.051804 -0.064066 -0.048691 0.1882 0.17269 0.49881 -0.21354 -0.055656 0.04751 -0.35725 -0.12498 0.11733 0.062824 -0.10119 -0.20865 -0.01107 -0.10676 -0.17224 \n",
            "in 0.16634 -0.087657 0.093527 -0.35944 -0.043146 0.27784 -0.18632 -0.017069 0.13457 0.036473 -0.018171 -0.051409 -0.043888 0.10392 -0.025736 0.14737 0.14523 0.1326 0.012337 -0.2723 0.026947 0.066402 -0.041046 0.16667 -0.084669 0.04774 0.077406 0.037408 -0.095252 0.10058 0.067159 0.15074 0.10079 0.25552 -0.064015 -0.067525 0.11404 -0.0094943 -0.25809 0.14778 -0.062303 -0.047417 0.10621 -0.20722 0.1668 0.011905 -0.11424 -0.029148 0.033871 0.070341 0.23682 -0.11431 -0.14471 -0.032127 -0.030777 0.13013 0.087437 0.19786 0.14707 0.036159 -0.084811 0.21968 0.074034 -0.14384 -0.19962 -0.11872 -0.058557 0.12889 0.15021 0.18958 -0.14585 0.017084 0.013038 0.012302 0.12328 -0.13799 -0.14822 0.13965 0.19175 0.060193 -0.18319 0.11174 0.02732 0.14056 0.055599 -0.13851 0.098366 0.13784 -0.069509 -0.42988 0.0033114 0.027678 -0.03629 -0.12567 -0.082015 -0.0013497 -0.1765 0.083949 0.066652 0.16886 0.040361 -0.21968 0.020569 0.37539 0.063831 -0.0045825 -0.043956 -0.0085839 0.23843 0.00064433 -0.03208 -0.093995 0.0369 -0.069696 -0.0064156 -0.073577 0.097326 0.08866 -0.023683 -0.22654 0.20198 0.057883 0.024787 0.15617 -0.025114 -0.13121 0.23663 0.069825 0.01893 -0.011247 0.20379 0.012437 0.010101 -0.05698 0.11108 -0.056846 -0.041683 0.0067445 -0.097267 -0.039555 -0.25464 0.11694 0.09105 0.18127 0.074324 -0.11719 0.079185 -0.057761 -0.044968 -0.17848 -0.048576 -0.086028 0.17837 0.2265 0.0016192 0.021557 -0.13057 0.19967 0.1425 0.14203 0.074515 -0.16204 -0.078747 -0.025936 0.16551 0.0089422 -0.023963 -0.19544 0.045002 0.17889 -0.23461 -0.093699 0.029734 0.23608 -0.10191 0.013973 0.0075787 -0.0040358 0.1437 -0.332 -0.15482 -0.095936 -0.22387 0.042727 0.042317 0.10909 -0.059699 0.28314 0.11927 -0.14638 0.13821 -0.05063 0.31976 0.20595 -0.046286 -0.22834 -0.28277 -0.12297 -0.18312 -0.19604 0.16837 0.14621 -0.020683 -0.078992 -0.12442 -0.01129 -0.017729 -0.10913 0.010575 -0.13876 -0.11687 0.034715 0.027363 0.097036 0.25426 0.20773 0.053508 -0.11638 -0.13489 -0.15914 -0.056469 0.043296 -0.013997 0.069942 -0.057694 -0.077732 -0.10126 -0.19698 -0.024986 -0.090681 -0.10551 0.23864 0.02229 -0.059491 -0.050568 -0.081264 0.088373 0.017513 -0.02525 -0.19638 0.22054 0.11316 -0.032962 0.18408 -0.089702 -0.14167 0.01647 0.061158 -0.014253 0.1949 -0.014222 0.094273 0.033931 0.025727 -0.13396 -0.032638 -0.09072 0.17257 -0.1062 0.21417 -0.31258 -0.091583 0.023768 0.077109 -0.18204 0.074886 -0.067808 -0.14759 -0.034084 -0.029176 -0.21586 0.23201 0.16603 -0.12867 0.074298 0.00090507 0.093589 -0.098509 0.084271 0.14561 0.13483 0.037275 -0.17185 0.081289 0.073239 0.11793 0.069543 0.11528 -0.42202 -0.06718 0.061686 -0.29298 0.21911 0.2234 -0.11865 -0.011054 -0.019241 -0.19257 -0.092758 -0.10409 \n",
            "- -0.12909 0.052792 0.13302 -0.24402 0.20305 0.15934 -0.27643 0.06377 -0.19602 -0.2393 0.35262 -0.15205 0.082821 0.10078 -0.31712 -0.043194 0.11341 0.24245 -0.00072781 0.025649 0.1182 -0.24763 0.040451 0.10004 -0.056713 0.10823 0.05364 -0.10488 -0.077263 -0.011514 0.04716 0.20559 -0.088548 -0.10507 -0.042759 -0.1426 0.28797 -0.16445 -0.12504 0.084482 0.24122 -0.072926 0.18359 0.14659 0.45022 -0.081622 -0.045567 -0.025097 0.27637 -0.046661 -0.10743 0.033656 -0.049996 -0.090005 -0.13734 -0.18439 0.062874 -0.077922 0.46955 0.083336 -0.25318 0.16948 -0.096799 -0.05776 0.050138 -0.068942 -0.10805 -0.11384 -0.052928 0.055431 -0.26974 0.36123 -0.3789 0.12689 -0.010663 -0.16898 0.097092 -0.31332 0.13837 -0.070069 -0.24787 -0.25702 -0.0091732 -0.27983 0.17305 0.19412 0.025295 -0.054495 -0.015654 -0.1523 0.22641 -0.22507 0.080949 0.10601 0.142 0.077471 0.063363 0.30899 0.24318 0.18962 0.0057334 0.086927 0.084281 0.045238 0.032935 0.36772 -0.19415 0.078405 0.13439 0.14983 -0.10822 -0.042083 0.15726 -0.045337 0.1267 -0.16614 -0.0033046 0.14426 0.096335 0.11355 0.16328 0.016114 -0.1253 -0.070613 -0.25734 -0.081958 0.39525 -0.074679 -0.042507 -0.16997 0.093708 0.037248 -0.056487 -0.13056 0.29019 0.1386 -0.075736 0.013804 0.01059 0.033941 -0.080988 0.2113 -0.00019859 0.058166 -0.10624 0.19709 -0.17623 -0.064972 0.034857 0.19979 0.34179 0.17866 0.015775 -0.1566 0.12045 0.13923 -0.27657 0.18856 0.030052 0.13424 -0.041038 -0.25358 -0.19029 0.12127 -0.1321 -0.20965 0.21039 -0.29775 0.27918 0.22385 0.031158 0.051543 0.11177 0.13978 -0.15289 -0.28675 -0.076907 -0.015678 -0.063049 -0.1502 -0.23085 0.12708 0.22471 0.20459 -0.11193 0.069481 0.01869 -0.083501 -0.25773 -0.19454 -0.31423 0.1114 -0.17364 -0.1228 -0.1078 0.039794 -0.14232 -0.10412 -0.069467 -0.26572 0.13296 0.25891 0.14694 0.22401 0.15243 -0.018339 0.057989 -0.21086 0.21401 -0.059665 -0.16106 -0.29415 0.06833 -0.074218 -0.25153 0.13097 0.17383 -0.36132 0.031161 -0.10136 0.25109 0.13918 -0.13588 -0.09662 -0.22796 -0.1493 -0.13864 0.15166 -0.18032 -0.27213 -0.15213 0.075472 0.08184 -0.12387 0.024437 -0.099771 0.046445 0.0095203 -0.17367 0.11319 -0.11367 0.010165 -0.425 0.015879 0.13903 0.18096 0.1798 0.076183 -0.04256 0.1787 -0.0099609 0.082946 -0.073915 -0.0066227 0.0096015 -0.35737 -0.076328 0.36013 -0.052265 0.30298 0.0062523 -0.14882 -0.15516 0.49771 0.18826 0.21116 0.025474 -0.095766 0.059205 -0.47704 -0.24051 0.21574 0.074377 -0.1926 0.018825 0.24621 0.20258 -0.12365 0.2354 0.12591 0.28771 -0.24915 -0.045946 -0.14363 0.1996 0.13415 0.21541 0.27898 -0.47487 0.098793 0.12122 -0.27999 -0.068681 0.014232 -0.046814 0.28769 -0.038598 0.079713 -0.055816 0.021694 \n",
            "and 0.15128 -0.045277 0.21856 -0.15949 -0.093503 0.20204 -0.16912 -0.26244 0.0003714 -0.01635 0.049149 0.010213 0.040187 0.13497 -0.10924 0.037082 -0.097143 0.11986 -0.031909 -0.077047 0.11018 0.22243 -0.19151 -0.077974 0.028861 -0.020505 0.075305 -0.10621 -0.032137 -0.0002934 -0.0653 0.058939 -0.071896 -0.02388 -0.11382 -0.11318 0.0096851 -0.063726 -0.12786 0.046983 0.013934 -0.24272 0.070976 -0.18616 0.17917 0.072031 0.048804 -0.0327 0.057002 0.16965 0.069897 0.024915 -0.03407 0.1528 -0.10671 0.11156 0.094397 -0.0058346 -0.0033874 0.085981 -0.22315 0.10558 -0.0097228 -0.12282 -0.13337 -0.073765 -0.2382 -0.10468 -0.05208 -0.1682 0.015087 -0.095152 -0.074553 -0.080532 -0.0098507 -0.19695 0.1552 0.093419 -0.054487 0.086084 -0.1371 0.015056 0.11547 -0.085868 0.062399 0.091582 -0.089799 0.12112 -0.19479 -0.14879 0.045482 0.079319 -0.077478 0.014081 0.030109 -0.0072138 -0.03918 -0.08904 -0.11549 0.085165 -0.13532 -0.19592 -0.0040823 0.1213 -0.016802 0.12997 0.051226 -0.021325 0.044366 0.17739 -0.10056 0.063935 0.085118 -0.093893 -0.00237 -0.21932 0.046371 -0.0046655 -0.1112 -0.13248 0.17855 -0.19045 0.0011443 0.07141 -0.18811 -0.23006 0.18062 -0.078329 -0.095288 -0.031363 0.10756 -0.11638 -0.098684 0.073503 -0.0021027 0.014741 -0.037075 -0.14369 0.050311 0.064689 -0.20211 0.18736 0.19742 -0.032024 -0.036892 0.16503 0.15602 -0.18449 -0.0012655 -0.036589 -0.095201 -0.087705 0.11604 -0.040423 0.06235 -0.098731 -0.011967 0.10197 0.11266 0.20992 -0.027058 -0.027334 0.056652 -0.0092453 0.0017706 -0.13702 -0.0071661 -0.00201 0.019347 0.02498 -0.14818 0.080145 -0.021608 0.18829 0.052828 0.032748 0.12911 -0.090561 0.072337 -0.089725 -0.14243 -0.014046 -0.090273 0.065373 0.035841 0.095927 -0.17611 0.13507 0.0065086 -0.034983 -0.03315 -0.047992 -0.073096 0.010636 -0.044333 -0.072223 -0.22705 -0.016762 -0.083677 -0.056709 0.048781 0.005318 -0.0078401 0.01668 0.10406 -0.12705 -0.048265 -0.1663 -0.020095 0.0065544 -0.14712 0.0043846 0.12144 -0.18239 -0.10299 0.10919 -0.011106 0.059733 0.072226 -0.051421 -0.07392 -0.0067841 0.052099 -0.040927 -0.014547 -0.077612 -0.10818 0.032697 0.089819 0.064925 0.010216 0.26186 0.11565 -0.017904 -0.079687 -0.016315 -0.0067343 -0.086874 -0.05847 0.015064 0.21349 0.020108 -0.072548 0.11275 0.072237 -0.080682 0.086019 -0.057038 0.03706 0.19136 -0.15116 0.20097 -0.16287 0.085614 -0.10088 -0.16975 -0.14967 0.20991 -0.15403 0.30257 0.032549 -0.12105 0.0016815 0.2502 0.062821 -0.068426 -0.033627 -0.10733 0.053302 -0.062983 -0.095132 0.064112 0.1037 -0.17279 0.019721 -0.18514 0.15247 -0.19477 0.12475 0.1992 0.0018117 0.10925 -0.1814 0.031595 -0.15329 0.19458 0.062261 -0.038606 -0.31968 -0.034057 0.063835 -0.25937 0.11516 0.034223 -0.13024 0.058371 -0.21824 -0.15676 -0.12122 -0.17556 \n"
          ],
          "name": "stdout"
        }
      ]
    },
    {
      "cell_type": "markdown",
      "metadata": {
        "id": "AkT3qV4v6z_X"
      },
      "source": [
        "## GloVe"
      ]
    },
    {
      "cell_type": "code",
      "metadata": {
        "colab": {
          "base_uri": "https://localhost:8080/"
        },
        "id": "_mEG6qxaSGE-",
        "outputId": "8583e623-4b2c-4e2b-d81b-e48f4f18e1eb"
      },
      "source": [
        "EMBED_DIM = 300\n",
        "\n",
        "glove_embed = load_embeddings(\"glove.6B.300d.txt\")\n",
        "glove_embed_matrix, glove_unknown_words = built_embed_matrix(glove_embed, word2idx, VOCAB_SIZE, EMBED_DIM)"
      ],
      "execution_count": null,
      "outputs": [
        {
          "output_type": "stream",
          "text": [
            "loading word vectors from: glove.6B.300d.txt\n",
            "\tembed word count: 400000\n",
            "\tembed dim: 300\n",
            "\n",
            "prepare embedding matrix...\n",
            "\tembedding matrix shape: (35000, 300)\n",
            "\tword embedding found: 29861\n",
            "\tword embedding not found: 5139\n"
          ],
          "name": "stdout"
        }
      ]
    },
    {
      "cell_type": "code",
      "metadata": {
        "colab": {
          "base_uri": "https://localhost:8080/"
        },
        "id": "HjKt3hReSvI8",
        "outputId": "7918fbc0-a05c-4198-f12d-dc745bb66ef1"
      },
      "source": [
        "# some words not found on glove embedding\n",
        "glove_unknown_words[:10]"
      ],
      "execution_count": null,
      "outputs": [
        {
          "output_type": "execute_result",
          "data": {
            "text/plain": [
              "[('<unk>', 1),\n",
              " ('os2', 911),\n",
              " ('argic', 1122),\n",
              " ('xterm', 1360),\n",
              " ('vaxvms', 1517),\n",
              " ('pl8', 1548),\n",
              " ('x11r5', 1562),\n",
              " ('imho', 1615),\n",
              " ('34u', 1656),\n",
              " ('vnews', 1700)]"
            ]
          },
          "metadata": {
            "tags": []
          },
          "execution_count": 171
        }
      ]
    },
    {
      "cell_type": "markdown",
      "metadata": {
        "id": "xzNuDZPV62f8"
      },
      "source": [
        "## FastText"
      ]
    },
    {
      "cell_type": "code",
      "metadata": {
        "colab": {
          "base_uri": "https://localhost:8080/"
        },
        "id": "zuHiDOSinGcK",
        "outputId": "be7056d0-8ed8-4fe6-8283-1f96897c6328"
      },
      "source": [
        "EMBED_DIM = 300\n",
        "\n",
        "ft_embed = load_embeddings(\"wiki.simple.vec\", type=\"ft\")\n",
        "ft_embed_matrix, ft_unknown_words = built_embed_matrix(ft_embed, word2idx, VOCAB_SIZE, EMBED_DIM)"
      ],
      "execution_count": null,
      "outputs": [
        {
          "output_type": "stream",
          "text": [
            "loading word vectors from: wiki.simple.vec\n",
            "\tembed word count: 111023\n",
            "\tembed dim: 300\n",
            "\n",
            "prepare embedding matrix...\n",
            "\tembedding matrix shape: (35000, 300)\n",
            "\tword embedding found: 24682\n",
            "\tword embedding not found: 10318\n"
          ],
          "name": "stdout"
        }
      ]
    },
    {
      "cell_type": "code",
      "metadata": {
        "colab": {
          "base_uri": "https://localhost:8080/"
        },
        "id": "6WNwZJ97rRMr",
        "outputId": "b49c9cae-e800-42c7-d3bc-791a61655dc7"
      },
      "source": [
        "# some words not found on fasttext embedding\n",
        "ft_unknown_words[:10]"
      ],
      "execution_count": null,
      "outputs": [
        {
          "output_type": "execute_result",
          "data": {
            "text/plain": [
              "[('<unk>', 1),\n",
              " ('inc.', 122),\n",
              " ('1.1', 329),\n",
              " ('a.', 345),\n",
              " ('u.s.', 379),\n",
              " ('i.d.', 453),\n",
              " ('c.', 455),\n",
              " ('mr.', 465),\n",
              " ('j.', 466),\n",
              " ('d.', 566)]"
            ]
          },
          "metadata": {
            "tags": []
          },
          "execution_count": 172
        }
      ]
    },
    {
      "cell_type": "markdown",
      "metadata": {
        "id": "WadRu55n65we"
      },
      "source": [
        "## W2V"
      ]
    },
    {
      "cell_type": "code",
      "metadata": {
        "colab": {
          "base_uri": "https://localhost:8080/"
        },
        "id": "S03Rl-nnQu0O",
        "outputId": "c7979782-2140-444a-991f-259541facc3f"
      },
      "source": [
        "EMBED_DIM = 300\n",
        "\n",
        "w2v = gensim.models.KeyedVectors.load_word2vec_format('GoogleNews-vectors-negative300.bin.gz', binary=True)\n",
        "print(\"embed word count:\", len(w2v.vocab))\n",
        "print(\"embed dim:\", w2v.vector_size)\n",
        "\n",
        "w2v_embed_matrix, w2v_unknown_words = built_embed_matrix(w2v, word2idx, VOCAB_SIZE, EMBED_DIM, type=\"w2v\")"
      ],
      "execution_count": null,
      "outputs": [
        {
          "output_type": "stream",
          "text": [
            "embed word count: 3000000\n",
            "embed dim: 300\n",
            "\n",
            "prepare embedding matrix...\n",
            "\tembedding matrix shape: (35000, 300)\n",
            "\tword embedding found: 24746\n",
            "\tword embedding not found: 10254\n"
          ],
          "name": "stdout"
        }
      ]
    },
    {
      "cell_type": "code",
      "metadata": {
        "colab": {
          "base_uri": "https://localhost:8080/"
        },
        "id": "0_j_brn8Ub_a",
        "outputId": "01d53300-cfec-42b4-cd38-389fbe0e35e8"
      },
      "source": [
        "# some words not found on w2v embedding\n",
        "w2v_unknown_words[:10]"
      ],
      "execution_count": null,
      "outputs": [
        {
          "output_type": "execute_result",
          "data": {
            "text/plain": [
              "[('<unk>', 1),\n",
              " ('nntp', 13),\n",
              " ('1.1', 329),\n",
              " ('armenians', 378),\n",
              " ('u.s.', 379),\n",
              " ('i.d.', 453),\n",
              " ('mr.', 465),\n",
              " ('j.', 466),\n",
              " ('i.e.', 575),\n",
              " ('koresh', 633)]"
            ]
          },
          "metadata": {
            "tags": []
          },
          "execution_count": 273
        }
      ]
    },
    {
      "cell_type": "markdown",
      "metadata": {
        "id": "JTUkPdXLW77D"
      },
      "source": [
        "# Annotating documents "
      ]
    },
    {
      "cell_type": "code",
      "metadata": {
        "id": "DG1mP9joPDlD",
        "colab": {
          "base_uri": "https://localhost:8080/"
        },
        "outputId": "be6891a1-7400-4294-9bbe-53dd0d1199e2"
      },
      "source": [
        "# for 1 sentence\n",
        "doc = nlp(\"May I go to Washington DC next May to see the Washington Monument?\") \n",
        "\n",
        "for e in doc.ents: \n",
        "  print(e.text, e.start, e.end, e.label_) \n",
        "print(\"\")\n"
      ],
      "execution_count": null,
      "outputs": [
        {
          "output_type": "stream",
          "text": [
            "Washington DC 4 6 GPE\n",
            "next May 6 8 DATE\n",
            "the Washington Monument 10 13 ORG\n",
            "\n"
          ],
          "name": "stdout"
        }
      ]
    },
    {
      "cell_type": "code",
      "metadata": {
        "id": "Zra5APDjSNQ4",
        "colab": {
          "base_uri": "https://localhost:8080/"
        },
        "outputId": "6dd90491-9f68-47a9-f442-a541591bba0f"
      },
      "source": [
        "# for list of sentences\n",
        "texts = [\n",
        "    \"Net income was $9.4 million compared to the prior year of $2.7 million.\",\n",
        "    \"May I go to Washington DC next May to see the Washington Monument?\",\n",
        "    \"Is Rafael Nadal in Spain?\"\n",
        "]\n",
        "\n",
        "for doc in nlp.pipe(texts, disable=[\"tok2vec\", \"tagger\", \"parser\", \"attribute_ruler\", \"lemmatizer\"]):\n",
        "    print([(ent.text, ent.start, ent.end, ent.label_) for ent in doc.ents])"
      ],
      "execution_count": null,
      "outputs": [
        {
          "output_type": "stream",
          "text": [
            "[('$9.4 million', 3, 6, 'MONEY'), ('the prior year', 8, 11, 'DATE'), ('$2.7 million', 12, 15, 'MONEY')]\n",
            "[('Washington DC', 4, 6, 'GPE'), ('next May', 6, 8, 'DATE'), ('the Washington Monument', 10, 13, 'ORG')]\n",
            "[('Rafael Nadal', 1, 3, 'PERSON'), ('Spain', 4, 5, 'GPE')]\n"
          ],
          "name": "stdout"
        }
      ]
    },
    {
      "cell_type": "code",
      "metadata": {
        "id": "FFTc5PExQyOV",
        "colab": {
          "base_uri": "https://localhost:8080/"
        },
        "outputId": "0a6282cb-5c51-40ed-b859-dbbc57c50c05"
      },
      "source": [
        "# token labels\n",
        "for doc in nlp.pipe(texts, disable=[\"tok2vec\", \"tagger\", \"parser\", \"attribute_ruler\", \"lemmatizer\"]):\n",
        "    print([(token.text, token.ent_iob_, token.ent_type_) for token in doc])"
      ],
      "execution_count": null,
      "outputs": [
        {
          "output_type": "stream",
          "text": [
            "[('Net', 'O', ''), ('income', 'O', ''), ('was', 'O', ''), ('$', 'B', 'MONEY'), ('9.4', 'I', 'MONEY'), ('million', 'I', 'MONEY'), ('compared', 'O', ''), ('to', 'O', ''), ('the', 'B', 'DATE'), ('prior', 'I', 'DATE'), ('year', 'I', 'DATE'), ('of', 'O', ''), ('$', 'B', 'MONEY'), ('2.7', 'I', 'MONEY'), ('million', 'I', 'MONEY'), ('.', 'O', '')]\n",
            "[('May', 'O', ''), ('I', 'O', ''), ('go', 'O', ''), ('to', 'O', ''), ('Washington', 'B', 'GPE'), ('DC', 'I', 'GPE'), ('next', 'B', 'DATE'), ('May', 'I', 'DATE'), ('to', 'O', ''), ('see', 'O', ''), ('the', 'B', 'ORG'), ('Washington', 'I', 'ORG'), ('Monument', 'I', 'ORG'), ('?', 'O', '')]\n",
            "[('Is', 'O', ''), ('Rafael', 'B', 'PERSON'), ('Nadal', 'I', 'PERSON'), ('in', 'O', ''), ('Spain', 'B', 'GPE'), ('?', 'O', '')]\n"
          ],
          "name": "stdout"
        }
      ]
    },
    {
      "cell_type": "code",
      "metadata": {
        "colab": {
          "base_uri": "https://localhost:8080/"
        },
        "id": "Yf_z2rZ48dTc",
        "outputId": "15b942b0-781a-42e9-d5ff-088499f5af29"
      },
      "source": [
        "for token in doc:\n",
        "    print(token, token.text, len(token), len(token.text.strip()))"
      ],
      "execution_count": null,
      "outputs": [
        {
          "output_type": "stream",
          "text": [
            "Is Is 2 2\n",
            "Rafael Rafael 6 6\n",
            "Nadal Nadal 5 5\n",
            "in in 2 2\n",
            "Spain Spain 5 5\n",
            "? ? 1 1\n"
          ],
          "name": "stdout"
        }
      ]
    },
    {
      "cell_type": "markdown",
      "metadata": {
        "id": "rCkk5OR5oHXL"
      },
      "source": [
        "### single example"
      ]
    },
    {
      "cell_type": "code",
      "metadata": {
        "id": "3nnin5nDgoi7",
        "colab": {
          "base_uri": "https://localhost:8080/"
        },
        "outputId": "eddc2e87-8a37-435d-c39c-579ea507edb9"
      },
      "source": [
        "nlp = en_core_web_sm.load(disable=[\"tok2vec\", \"tagger\", \"parser\", \"attribute_ruler\", \"lemmatizer\"])\n",
        "nlp.pipe_names"
      ],
      "execution_count": null,
      "outputs": [
        {
          "output_type": "execute_result",
          "data": {
            "text/plain": [
              "['ner']"
            ]
          },
          "metadata": {
            "tags": []
          },
          "execution_count": 22
        }
      ]
    },
    {
      "cell_type": "code",
      "metadata": {
        "id": "dlu-08CkiXHE"
      },
      "source": [
        "def get_annotated_text(text, remove_extra=False):\n",
        "    doc_tokens = []\n",
        "    doc_labels = []\n",
        "\n",
        "    doc = nlp(text)\n",
        "    \n",
        "    for token in doc:\n",
        "        # we can skip these tokens to reduce vocab size\n",
        "        if remove_extra and any([token.is_digit, token.is_punct, token.is_stop, token.like_url, token.like_email]):\n",
        "            # print(token)\n",
        "            continue\n",
        "\n",
        "        doc_tokens.append(token.text.lower())\n",
        "\n",
        "        if token.ent_iob_ == 'O':\n",
        "            doc_labels.append(token.ent_iob_)\n",
        "\n",
        "        elif token.ent_type_ in ['LOC', 'ORG', 'PERSON']:\n",
        "            doc_labels.append(token.ent_iob_ + '-' + token.ent_type_)\n",
        "\n",
        "        elif token.ent_type_ == 'GPE':\n",
        "            doc_labels.append(token.ent_iob_ + '-' + 'LOC')\n",
        "        \n",
        "        else:\n",
        "            doc_labels.append(token.ent_iob_ + '-' + 'MISC')\n",
        "\n",
        "        assert len(doc_tokens) == len(doc_tokens), \"Length of tokens and labels are different\"\n",
        "\n",
        "    print(len(doc_tokens))\n",
        "    print(list(zip(doc_tokens, doc_labels)))\n"
      ],
      "execution_count": null,
      "outputs": []
    },
    {
      "cell_type": "markdown",
      "metadata": {
        "id": "tXC8GAi7x8yw"
      },
      "source": [
        "#  ** Demo to get annotated text **"
      ]
    },
    {
      "cell_type": "code",
      "metadata": {
        "id": "ERO5pEnxxxou"
      },
      "source": [
        ""
      ],
      "execution_count": null,
      "outputs": []
    },
    {
      "cell_type": "code",
      "metadata": {
        "id": "YoYwZ6ewyQ3L"
      },
      "source": [
        ""
      ],
      "execution_count": null,
      "outputs": []
    },
    {
      "cell_type": "code",
      "metadata": {
        "colab": {
          "base_uri": "https://localhost:8080/",
          "height": 198
        },
        "id": "ZnOsfowGjZZX",
        "outputId": "6ea7f670-0a33-48a2-f234-897cf907a9dd"
      },
      "source": [
        "df_data.head()"
      ],
      "execution_count": null,
      "outputs": [
        {
          "output_type": "execute_result",
          "data": {
            "text/html": [
              "<div>\n",
              "<style scoped>\n",
              "    .dataframe tbody tr th:only-of-type {\n",
              "        vertical-align: middle;\n",
              "    }\n",
              "\n",
              "    .dataframe tbody tr th {\n",
              "        vertical-align: top;\n",
              "    }\n",
              "\n",
              "    .dataframe thead th {\n",
              "        text-align: right;\n",
              "    }\n",
              "</style>\n",
              "<table border=\"1\" class=\"dataframe\">\n",
              "  <thead>\n",
              "    <tr style=\"text-align: right;\">\n",
              "      <th></th>\n",
              "      <th>text</th>\n",
              "    </tr>\n",
              "  </thead>\n",
              "  <tbody>\n",
              "    <tr>\n",
              "      <th>0</th>\n",
              "      <td>Mamatha Devineni Ratnam Pens fans reactions Or...</td>\n",
              "    </tr>\n",
              "    <tr>\n",
              "      <th>1</th>\n",
              "      <td>Matthew B Lawson Which high performance VLB vi...</td>\n",
              "    </tr>\n",
              "    <tr>\n",
              "      <th>2</th>\n",
              "      <td>Hilmi Eren Re ARMENIA SAYS IT COULD SHOOT DOWN...</td>\n",
              "    </tr>\n",
              "    <tr>\n",
              "      <th>3</th>\n",
              "      <td>Guy Dawson Re IDE vs SCSI, DMA and detach Orig...</td>\n",
              "    </tr>\n",
              "    <tr>\n",
              "      <th>4</th>\n",
              "      <td>Alexander Samuel McDiarmid driver  Organizatio...</td>\n",
              "    </tr>\n",
              "  </tbody>\n",
              "</table>\n",
              "</div>"
            ],
            "text/plain": [
              "                                                text\n",
              "0  Mamatha Devineni Ratnam Pens fans reactions Or...\n",
              "1  Matthew B Lawson Which high performance VLB vi...\n",
              "2  Hilmi Eren Re ARMENIA SAYS IT COULD SHOOT DOWN...\n",
              "3  Guy Dawson Re IDE vs SCSI, DMA and detach Orig...\n",
              "4  Alexander Samuel McDiarmid driver  Organizatio..."
            ]
          },
          "metadata": {
            "tags": []
          },
          "execution_count": 41
        }
      ]
    },
    {
      "cell_type": "code",
      "metadata": {
        "id": "YLc-e5xtjU8y",
        "colab": {
          "base_uri": "https://localhost:8080/"
        },
        "outputId": "94c22457-81b1-420b-882f-050dc9185408"
      },
      "source": [
        "get_annotated_text(df_data.iloc[0].text.strip())"
      ],
      "execution_count": null,
      "outputs": [
        {
          "output_type": "stream",
          "text": [
            "171\n",
            "[('mamatha', 'O'), ('devineni', 'O'), ('ratnam', 'B-PERSON'), ('pens', 'I-PERSON'), ('fans', 'O'), ('reactions', 'O'), ('organization', 'B-ORG'), ('post', 'I-ORG'), ('office', 'I-ORG'), (',', 'O'), ('carnegie', 'B-ORG'), ('mellon', 'I-ORG'), (',', 'O'), ('pittsburgh', 'B-LOC'), (',', 'O'), ('pa', 'B-ORG'), ('lines', 'I-ORG'), ('12', 'O'), ('nntp', 'O'), ('posting', 'O'), ('host', 'O'), ('po4.andrew.cmu.edu', 'O'), ('i', 'O'), ('am', 'O'), ('sure', 'O'), ('some', 'O'), ('bashers', 'O'), ('of', 'O'), ('pens', 'O'), ('fans', 'O'), ('are', 'O'), ('pretty', 'O'), ('confused', 'O'), ('about', 'O'), ('the', 'O'), ('lack', 'O'), ('of', 'O'), ('any', 'O'), ('kind', 'O'), ('of', 'O'), ('posts', 'O'), ('about', 'O'), ('the', 'O'), ('recent', 'O'), ('pens', 'B-ORG'), ('massacre', 'O'), ('of', 'O'), ('the', 'O'), ('devils', 'B-LOC'), ('.', 'O'), ('actually', 'O'), (',', 'O'), ('i', 'O'), ('am', 'O'), ('bit', 'O'), ('puzzled', 'O'), ('too', 'O'), ('and', 'O'), ('a', 'O'), ('bit', 'O'), ('relieved', 'O'), ('.', 'O'), ('however', 'O'), (',', 'O'), ('i', 'O'), ('am', 'O'), ('going', 'O'), ('to', 'O'), ('put', 'O'), ('an', 'O'), ('end', 'O'), ('to', 'O'), ('non', 'O'), ('pittsburghers', 'B-ORG'), ('relief', 'O'), ('with', 'O'), ('a', 'O'), ('bit', 'O'), ('of', 'O'), ('praise', 'O'), ('for', 'O'), ('the', 'O'), ('pens', 'B-ORG'), ('.', 'O'), ('man', 'O'), (',', 'O'), ('they', 'O'), ('are', 'O'), ('killing', 'O'), ('those', 'O'), ('devils', 'O'), ('worse', 'O'), ('than', 'O'), ('i', 'O'), ('thought', 'O'), ('.', 'O'), ('jagr', 'O'), ('just', 'O'), ('showed', 'O'), ('you', 'O'), ('why', 'O'), ('he', 'O'), ('is', 'O'), ('much', 'O'), ('better', 'O'), ('than', 'O'), ('his', 'O'), ('regular', 'O'), ('season', 'O'), ('stats', 'O'), ('.', 'O'), ('he', 'O'), ('is', 'O'), ('also', 'O'), ('a', 'O'), ('lot', 'O'), ('fo', 'O'), ('fun', 'O'), ('to', 'O'), ('watch', 'O'), ('in', 'O'), ('the', 'O'), ('playoffs', 'O'), ('.', 'O'), ('bowman', 'O'), ('should', 'O'), ('let', 'O'), ('jagr', 'B-PERSON'), ('have', 'O'), ('a', 'O'), ('lot', 'O'), ('of', 'O'), ('fun', 'O'), ('in', 'O'), ('the', 'O'), ('next', 'O'), ('couple', 'O'), ('of', 'O'), ('games', 'O'), ('since', 'O'), ('the', 'O'), ('pens', 'B-ORG'), ('are', 'O'), ('going', 'O'), ('to', 'O'), ('beat', 'O'), ('the', 'O'), ('pulp', 'O'), ('out', 'O'), ('of', 'O'), ('jersey', 'B-PERSON'), ('anyway', 'O'), ('.', 'O'), ('i', 'O'), ('was', 'O'), ('very', 'O'), ('disappointed', 'O'), ('not', 'O'), ('to', 'O'), ('see', 'O'), ('the', 'O'), ('islanders', 'B-ORG'), ('lose', 'O'), ('the', 'O'), ('final', 'O'), ('regular', 'O'), ('season', 'O'), ('game', 'O'), ('.', 'O'), ('pens', 'O'), ('rule', 'O')]\n"
          ],
          "name": "stdout"
        }
      ]
    },
    {
      "cell_type": "code",
      "metadata": {
        "id": "Ffbid0JKnHv0",
        "colab": {
          "base_uri": "https://localhost:8080/"
        },
        "outputId": "b77d42e2-b0e4-4ee4-919e-b72fd2235225"
      },
      "source": [
        "get_annotated_text(df_data.iloc[0].text.strip(), remove_extra=True)"
      ],
      "execution_count": null,
      "outputs": [
        {
          "output_type": "stream",
          "text": [
            "80\n",
            "[('mamatha', 'O'), ('devineni', 'O'), ('ratnam', 'B-PERSON'), ('pens', 'I-PERSON'), ('fans', 'O'), ('reactions', 'O'), ('organization', 'B-ORG'), ('post', 'I-ORG'), ('office', 'I-ORG'), ('carnegie', 'B-ORG'), ('mellon', 'I-ORG'), ('pittsburgh', 'B-LOC'), ('pa', 'B-ORG'), ('lines', 'I-ORG'), ('nntp', 'O'), ('posting', 'O'), ('host', 'O'), ('sure', 'O'), ('bashers', 'O'), ('pens', 'O'), ('fans', 'O'), ('pretty', 'O'), ('confused', 'O'), ('lack', 'O'), ('kind', 'O'), ('posts', 'O'), ('recent', 'O'), ('pens', 'B-ORG'), ('massacre', 'O'), ('devils', 'B-LOC'), ('actually', 'O'), ('bit', 'O'), ('puzzled', 'O'), ('bit', 'O'), ('relieved', 'O'), ('going', 'O'), ('end', 'O'), ('non', 'O'), ('pittsburghers', 'B-ORG'), ('relief', 'O'), ('bit', 'O'), ('praise', 'O'), ('pens', 'B-ORG'), ('man', 'O'), ('killing', 'O'), ('devils', 'O'), ('worse', 'O'), ('thought', 'O'), ('jagr', 'O'), ('showed', 'O'), ('better', 'O'), ('regular', 'O'), ('season', 'O'), ('stats', 'O'), ('lot', 'O'), ('fo', 'O'), ('fun', 'O'), ('watch', 'O'), ('playoffs', 'O'), ('bowman', 'O'), ('let', 'O'), ('jagr', 'B-PERSON'), ('lot', 'O'), ('fun', 'O'), ('couple', 'O'), ('games', 'O'), ('pens', 'B-ORG'), ('going', 'O'), ('beat', 'O'), ('pulp', 'O'), ('jersey', 'B-PERSON'), ('disappointed', 'O'), ('islanders', 'B-ORG'), ('lose', 'O'), ('final', 'O'), ('regular', 'O'), ('season', 'O'), ('game', 'O'), ('pens', 'O'), ('rule', 'O')]\n"
          ],
          "name": "stdout"
        }
      ]
    },
    {
      "cell_type": "markdown",
      "metadata": {
        "id": "yTbse-cmoKZi"
      },
      "source": [
        "### creating annotated dataframe"
      ]
    },
    {
      "cell_type": "code",
      "metadata": {
        "id": "Z-qlyoyweR5d"
      },
      "source": [
        "def get_annotated_df(df, remove_extra=False):\n",
        "  tokens = []\n",
        "  labels = []\n",
        "\n",
        "  for doc in nlp.pipe(df.text):\n",
        "    doc_tokens = []\n",
        "    doc_labels = []\n",
        "\n",
        "    for token in doc:\n",
        "        # we can skip these tokens to reduce vocab size\n",
        "        # if remove_extra and any([token.is_digit, token.is_punct, token.is_stop, token.like_url, token.like_email, len(token)<=1, len(token)>15]):\n",
        "        if remove_extra and any([token.is_digit, token.is_punct, token.is_stop, token.like_url, token.like_email, \n",
        "                                 len(token.text.strip())<=1, len(token.text.strip())>15]):\n",
        "            # print(token)\n",
        "            continue\n",
        "\n",
        "        doc_tokens.append(token.text.lower())\n",
        "\n",
        "        if token.ent_iob_ == 'O':\n",
        "            doc_labels.append(token.ent_iob_)\n",
        "\n",
        "        elif token.ent_type_ in ['LOC', 'ORG', 'PERSON']:\n",
        "            doc_labels.append(token.ent_iob_ + '-' + token.ent_type_)\n",
        "\n",
        "        elif token.ent_type_ == 'GPE':\n",
        "            doc_labels.append(token.ent_iob_ + '-' + 'LOC')\n",
        "        \n",
        "        else:\n",
        "            doc_labels.append(token.ent_iob_ + '-' + 'MISC')\n",
        "\n",
        "        assert len(doc_tokens) == len(doc_labels), \"Length of tokens and labels are different\"\n",
        "\n",
        "    # append tokens and labels from doc to final list\n",
        "    tokens.append(doc_tokens)\n",
        "    labels.append(doc_labels)\n",
        "\n",
        "  df['tokens'] = tokens\n",
        "  df['labels'] = labels\n",
        "\n",
        "  return df\n"
      ],
      "execution_count": null,
      "outputs": []
    },
    {
      "cell_type": "code",
      "metadata": {
        "id": "gB7KQK0pnS0O",
        "colab": {
          "base_uri": "https://localhost:8080/"
        },
        "outputId": "793edecd-4090-4385-cfa3-7acc0491b827"
      },
      "source": [
        "%%time\n",
        "df_annotated = get_annotated_df(df_data, remove_extra=True)\n",
        "print(df_annotated.shape)"
      ],
      "execution_count": null,
      "outputs": [
        {
          "output_type": "stream",
          "text": [
            "(18846, 3)\n",
            "CPU times: user 32min 25s, sys: 29 s, total: 32min 54s\n",
            "Wall time: 32min 51s\n"
          ],
          "name": "stdout"
        }
      ]
    },
    {
      "cell_type": "code",
      "metadata": {
        "id": "i9vs0stAkWL4"
      },
      "source": [
        "# saving\n",
        "df_annotated.to_pickle('/content/drive/MyDrive/NLP/NLP_Ass2/df_annotated_spacy.pkl')"
      ],
      "execution_count": null,
      "outputs": []
    },
    {
      "cell_type": "code",
      "metadata": {
        "colab": {
          "base_uri": "https://localhost:8080/"
        },
        "id": "lrMIVhkjYthz",
        "outputId": "6f8848f7-cde1-452e-f139-b2b2a5bf967f"
      },
      "source": [
        "# reading\n",
        "df_annotated = pd.read_pickle('/content/drive/MyDrive/NLP/NLP_Ass2/df_annotated_spacy.pkl')\n",
        "df_annotated.shape"
      ],
      "execution_count": null,
      "outputs": [
        {
          "output_type": "execute_result",
          "data": {
            "text/plain": [
              "(18846, 3)"
            ]
          },
          "metadata": {
            "tags": []
          },
          "execution_count": 117
        }
      ]
    },
    {
      "cell_type": "code",
      "metadata": {
        "colab": {
          "base_uri": "https://localhost:8080/",
          "height": 730
        },
        "id": "HqGOLHNLvM24",
        "outputId": "3775c88e-887d-4458-8bdd-3853a16aa6ff"
      },
      "source": [
        "display(HTML(df_annotated.sample(2).to_html()))"
      ],
      "execution_count": null,
      "outputs": [
        {
          "output_type": "display_data",
          "data": {
            "text/html": [
              "<table border=\"1\" class=\"dataframe\">\n",
              "  <thead>\n",
              "    <tr style=\"text-align: right;\">\n",
              "      <th></th>\n",
              "      <th>text</th>\n",
              "      <th>tokens</th>\n",
              "      <th>labels</th>\n",
              "    </tr>\n",
              "  </thead>\n",
              "  <tbody>\n",
              "    <tr>\n",
              "      <th>10929</th>\n",
              "      <td>Eliza Strickler Re I donwloaded a .bin file from a unix machine now what Organization Georgia State University Lines 42 Nikolaus E Schuessler writes In article Eliza Strickler writes I just donwloaded a .bin file from a unix machine which is supposed to be converted to a MAC format. Does anyone know what I need to do to this file to get it into any Dos, Mac or Unix readable format. Someone mentioned fetch on the unix machine is this correct Could someone explain the .bin format a little  This is almost certainly a MacBinary file which is an encoded version of a mac file so the Resource fork and Data fork get preserved. You need a program that converts this to a regular file. If this is a macbinary file, you may have downloaded it in Text mode and is probably corrupt if you did. If youre using FTP to transfer it at any point make sure you type binary first. If you can open the file with a text editor and find This file must be converted with Bin.... at the top, it is a BinHex file and can be decoded with BinHex 4.0 among other programs. I opened the file with a text editor and it looks like Vnetwork storyboardpictPICT8BIME...... I have already tried BinHex which does not seem to work. Any other ideas  Niko Schuessler Project Vincent Systems Manager email Iowa State University Computation Center voice 515 294 1672 Ames IA 50011 snail 291 Durham   0  0 Elizabeth Strickler   0</td>\n",
              "      <td>[eliza, strickler, donwloaded, .bin, file, unix, machine, organization, georgia, state, university, lines, nikolaus, e, schuessler, writes, article, eliza, strickler, writes, donwloaded, .bin, file, unix, machine, supposed, converted, mac, format, know, need, file, dos, mac, unix, readable, format, mentioned, fetch, unix, machine, correct, explain, .bin, format, little,  , certainly, macbinary, file, encoded, version, mac, file, resource, fork, data, fork, preserved, need, program, converts, regular, file, macbinary, file, downloaded, text, mode, probably, corrupt, ftp, transfer, point, sure, type, binary, open, file, text, editor, find, file, converted, bin, binhex, file, decoded, binhex, 4.0, programs, opened, file, text, editor, looks, like, vnetwork, storyboardpictpict8bime, tried, ...]</td>\n",
              "      <td>[B-PERSON, I-PERSON, O, O, O, O, O, B-ORG, I-ORG, I-ORG, I-ORG, I-ORG, B-MISC, I-MISC, I-MISC, O, O, B-PERSON, I-PERSON, O, O, O, O, O, O, O, O, B-ORG, O, O, O, O, B-ORG, B-PERSON, O, O, O, O, O, O, O, O, O, O, O, O, O, O, B-ORG, O, O, O, B-ORG, O, B-ORG, O, B-ORG, O, O, O, O, O, O, O, O, O, O, B-LOC, O, O, O, B-ORG, O, O, O, O, O, O, O, O, O, O, O, O, B-PERSON, O, O, O, O, O, O, O, O, O, O, O, O, B-PERSON, O, O, ...]</td>\n",
              "    </tr>\n",
              "    <tr>\n",
              "      <th>8002</th>\n",
              "      <td>Ken Kubey Re HBP BB BIG CAT Distribution na Organization Silicon Graphics, Inc., Mountain View, CA Lines 39 Nntp Posting Host summit.wpd.sgi.com In article writes Ken Kubey writes And finally, Id like to point out that many high OBP guys draw their walks more because pitchers are afraid to throw a strike to them, than because they have a great eye  This comes up periodically, and I just dont get it. Take, for example, Mark McGwire. He walked 90 times in 1993. If thats not a potential great example of what youre talking about then I dont know what is. Now lets look at what happens when McGwire doesnt walk  75 of the time he made an out.  10 of the time he hit a single.  5 of the time he hit a double.  10 of the time he hit a homer. Now, youre pitching against McGwire. Would you trade 20 walks for 2 homers, 1 double, 2 singles, and 15 outs I would. Why give him the base when you can get him out 3 times out of 4 I didnt say that pitchers fear of throwing strikes to guys like McGwire, Bonds, and Frank Thomas was rational. I just said that it exists. Then there are guys like Alex Cole, who has a career .363 OBP even though hes never had a batting average over .300 he did hit .300 in 227 AB in 1990 or hit a single home run. Yep, thats right, hes never hit a homer in 916 ABs through the end of 1992. Whod be afraid to throw a strike to him I dont know Alex Coles batting style at all. Some questions How tall is he Does he go into a crouch like Rickey HedersonPete Rose Does he foul off a lot of pitches like Brett Butler Does he take 1 or 2 strikes in each at bat It could be the Cole has a good batting eye. Look above, I said that many high OBP guys draw their walks because pitchers are afraid to throw a strike to them, not all high OBP guys. Ken Kubey 415 390 3536</td>\n",
              "      <td>[ken, kubey, hbp, bb, big, cat, distribution, na, organization, silicon, graphics, inc., mountain, view, lines, nntp, posting, host, article, writes, ken, kubey, writes, finally, d, like, point, high, obp, guys, draw, walks, pitchers, afraid, throw, strike, great, eye,  , comes, periodically, nt, example, mark, mcgwire, walked, times, s, potential, great, example, talking, nt, know, lets, look, happens, mcgwire, nt, walk,  , time,  , time, hit, single,  , time, hit, double,  , time, hit, homer, pitching, mcgwire, trade, walks, homers, double, singles, outs, base, times, nt, pitchers, fear, throwing, strikes, guys, like, mcgwire, bonds, frank, thomas, rational, said, exists, guys, like, ...]</td>\n",
              "      <td>[B-PERSON, I-PERSON, I-PERSON, I-PERSON, O, O, O, O, O, O, O, O, B-LOC, I-LOC, O, O, O, O, O, O, B-PERSON, I-PERSON, O, O, O, O, O, O, B-ORG, O, O, O, O, O, O, O, O, O, O, O, O, O, O, B-PERSON, I-PERSON, O, O, O, O, O, O, O, O, O, O, O, O, B-PERSON, O, O, O, O, O, O, O, O, O, O, O, O, O, O, O, O, O, B-PERSON, O, O, O, O, O, O, O, O, O, O, O, O, O, O, O, B-PERSON, B-ORG, B-PERSON, I-PERSON, O, O, O, O, O, ...]</td>\n",
              "    </tr>\n",
              "  </tbody>\n",
              "</table>"
            ],
            "text/plain": [
              "<IPython.core.display.HTML object>"
            ]
          },
          "metadata": {
            "tags": []
          }
        }
      ]
    },
    {
      "cell_type": "markdown",
      "metadata": {
        "id": "6g-rQ0qNzK8W"
      },
      "source": [
        "# Creating Dataframe and then checking for annotation"
      ]
    },
    {
      "cell_type": "code",
      "metadata": {
        "colab": {
          "base_uri": "https://localhost:8080/",
          "height": 110
        },
        "id": "WUtlTuApzRBX",
        "outputId": "45ba1794-ba27-4344-f1ca-b2381cb453c8"
      },
      "source": [
        "data_demo = ['Naredra Modi is Prime Minister of India. He recently visited U.K.']\n",
        "df_demo = pd.DataFrame(data_demo, columns=['text'])\n",
        "print(df_demo)\n",
        "get_annotated_df(df_demo)\n"
      ],
      "execution_count": null,
      "outputs": [
        {
          "output_type": "stream",
          "text": [
            "                                                text\n",
            "0  Naredra Modi is Prime Minister of India. He re...\n"
          ],
          "name": "stdout"
        },
        {
          "output_type": "execute_result",
          "data": {
            "text/html": [
              "<div>\n",
              "<style scoped>\n",
              "    .dataframe tbody tr th:only-of-type {\n",
              "        vertical-align: middle;\n",
              "    }\n",
              "\n",
              "    .dataframe tbody tr th {\n",
              "        vertical-align: top;\n",
              "    }\n",
              "\n",
              "    .dataframe thead th {\n",
              "        text-align: right;\n",
              "    }\n",
              "</style>\n",
              "<table border=\"1\" class=\"dataframe\">\n",
              "  <thead>\n",
              "    <tr style=\"text-align: right;\">\n",
              "      <th></th>\n",
              "      <th>text</th>\n",
              "      <th>tokens</th>\n",
              "      <th>labels</th>\n",
              "    </tr>\n",
              "  </thead>\n",
              "  <tbody>\n",
              "    <tr>\n",
              "      <th>0</th>\n",
              "      <td>Naredra Modi is Prime Minister of India. He re...</td>\n",
              "      <td>[naredra, modi, is, prime, minister, of, india...</td>\n",
              "      <td>[B-PERSON, I-PERSON, O, O, O, O, B-LOC, O, O, ...</td>\n",
              "    </tr>\n",
              "  </tbody>\n",
              "</table>\n",
              "</div>"
            ],
            "text/plain": [
              "                                                text  ...                                             labels\n",
              "0  Naredra Modi is Prime Minister of India. He re...  ...  [B-PERSON, I-PERSON, O, O, O, O, B-LOC, O, O, ...\n",
              "\n",
              "[1 rows x 3 columns]"
            ]
          },
          "metadata": {
            "tags": []
          },
          "execution_count": 31
        }
      ]
    },
    {
      "cell_type": "markdown",
      "metadata": {
        "id": "n8Rra1NLwPqI"
      },
      "source": [
        "## Analyze NERS"
      ]
    },
    {
      "cell_type": "code",
      "metadata": {
        "colab": {
          "base_uri": "https://localhost:8080/"
        },
        "id": "es8iB_x_wNlp",
        "outputId": "840e3ac3-ea9a-4c7b-afea-637f232bfd88"
      },
      "source": [
        "# all labels\n",
        "labels = []\n",
        "\n",
        "for sent_label in df_annotated.labels.tolist():\n",
        "    labels.extend(sent_label)\n",
        "\n",
        "Counter(labels)"
      ],
      "execution_count": null,
      "outputs": [
        {
          "output_type": "execute_result",
          "data": {
            "text/plain": [
              "Counter({'B-LOC': 44903,\n",
              "         'B-MISC': 79194,\n",
              "         'B-ORG': 99796,\n",
              "         'B-PERSON': 101019,\n",
              "         'I-LOC': 10734,\n",
              "         'I-MISC': 53472,\n",
              "         'I-ORG': 122826,\n",
              "         'I-PERSON': 87038,\n",
              "         'O': 1951871})"
            ]
          },
          "metadata": {
            "tags": []
          },
          "execution_count": 26
        }
      ]
    },
    {
      "cell_type": "markdown",
      "metadata": {
        "id": "oKitceXLGFNj"
      },
      "source": [
        "## Analyze vocab size"
      ]
    },
    {
      "cell_type": "code",
      "metadata": {
        "colab": {
          "base_uri": "https://localhost:8080/"
        },
        "id": "wgILWGozD8TB",
        "outputId": "ae2d1f57-242d-4cad-af48-d3508129824f"
      },
      "source": [
        "tokens = []\n",
        "\n",
        "for tl in df_annotated.tokens.tolist():\n",
        "    tokens.extend(tl)\n",
        "\n",
        "# all words in vocab\n",
        "print(\"total tokens:\", len(tokens))\n",
        "print(\"total unique tokens:\", len(set(tokens)))"
      ],
      "execution_count": null,
      "outputs": [
        {
          "output_type": "stream",
          "text": [
            "total tokens: 2550853\n",
            "total unique tokens: 131444\n"
          ],
          "name": "stdout"
        }
      ]
    },
    {
      "cell_type": "code",
      "metadata": {
        "colab": {
          "base_uri": "https://localhost:8080/"
        },
        "id": "cjuOV5zoGtSY",
        "outputId": "95195031-b148-4d0e-b806-f7eb06af0e9b"
      },
      "source": [
        "# number of tokens with fequency >= 5\n",
        "token_counter = Counter(tokens)\n",
        "\n",
        "for freq in [2, 3, 5, 10]:\n",
        "    temp = [elem for elem in token_counter.most_common() if elem[1]>=freq]\n",
        "    print(f\"tokens occuring >={freq} times:\", len(temp))"
      ],
      "execution_count": null,
      "outputs": [
        {
          "output_type": "stream",
          "text": [
            "tokens occuring >=2 times: 66551\n",
            "tokens occuring >=3 times: 48292\n",
            "tokens occuring >=5 times: 34153\n",
            "tokens occuring >=10 times: 21497\n"
          ],
          "name": "stdout"
        }
      ]
    },
    {
      "cell_type": "markdown",
      "metadata": {
        "id": "PWuoFqs-wV9t"
      },
      "source": [
        "## Analyze Token Lengths"
      ]
    },
    {
      "cell_type": "code",
      "metadata": {
        "id": "LVJ5CysK7UmO"
      },
      "source": [
        "df_annotated['num_tokens'] = df_annotated['tokens'].apply(lambda x: len(x))\n",
        "df_annotated['num_labels'] = df_annotated['labels'].apply(lambda x: len(x))\n",
        "\n",
        "df_annotated[\"tokens_joined\"] = df_annotated.tokens.apply(lambda x: \" \".join(x))\n",
        "df_annotated['num_tokens_joined'] = df_annotated['tokens_joined'].apply(lambda x: len(x.split()))"
      ],
      "execution_count": null,
      "outputs": []
    },
    {
      "cell_type": "code",
      "metadata": {
        "colab": {
          "base_uri": "https://localhost:8080/",
          "height": 48
        },
        "id": "MZ7mmhnz7cxx",
        "outputId": "e3ddbbcc-46cc-4b94-b370-108b23d3d3f7"
      },
      "source": [
        "df_annotated[df_annotated.num_tokens != df_annotated.num_labels].head()"
      ],
      "execution_count": null,
      "outputs": [
        {
          "output_type": "execute_result",
          "data": {
            "text/html": [
              "<div>\n",
              "<style scoped>\n",
              "    .dataframe tbody tr th:only-of-type {\n",
              "        vertical-align: middle;\n",
              "    }\n",
              "\n",
              "    .dataframe tbody tr th {\n",
              "        vertical-align: top;\n",
              "    }\n",
              "\n",
              "    .dataframe thead th {\n",
              "        text-align: right;\n",
              "    }\n",
              "</style>\n",
              "<table border=\"1\" class=\"dataframe\">\n",
              "  <thead>\n",
              "    <tr style=\"text-align: right;\">\n",
              "      <th></th>\n",
              "      <th>text</th>\n",
              "      <th>tokens</th>\n",
              "      <th>labels</th>\n",
              "      <th>num_tokens</th>\n",
              "      <th>num_labels</th>\n",
              "      <th>tokens_joined</th>\n",
              "      <th>num_tokens_joined</th>\n",
              "    </tr>\n",
              "  </thead>\n",
              "  <tbody>\n",
              "  </tbody>\n",
              "</table>\n",
              "</div>"
            ],
            "text/plain": [
              "Empty DataFrame\n",
              "Columns: [text, tokens, labels, num_tokens, num_labels, tokens_joined, num_tokens_joined]\n",
              "Index: []"
            ]
          },
          "metadata": {
            "tags": []
          },
          "execution_count": 30
        }
      ]
    },
    {
      "cell_type": "code",
      "metadata": {
        "colab": {
          "base_uri": "https://localhost:8080/",
          "height": 48
        },
        "id": "UdC1V-VH8Ae0",
        "outputId": "ef9295f5-6435-42b4-ce9d-8ab34ed8f058"
      },
      "source": [
        "df_annotated[df_annotated.num_tokens_joined != df_annotated.num_labels].head()"
      ],
      "execution_count": null,
      "outputs": [
        {
          "output_type": "execute_result",
          "data": {
            "text/html": [
              "<div>\n",
              "<style scoped>\n",
              "    .dataframe tbody tr th:only-of-type {\n",
              "        vertical-align: middle;\n",
              "    }\n",
              "\n",
              "    .dataframe tbody tr th {\n",
              "        vertical-align: top;\n",
              "    }\n",
              "\n",
              "    .dataframe thead th {\n",
              "        text-align: right;\n",
              "    }\n",
              "</style>\n",
              "<table border=\"1\" class=\"dataframe\">\n",
              "  <thead>\n",
              "    <tr style=\"text-align: right;\">\n",
              "      <th></th>\n",
              "      <th>text</th>\n",
              "      <th>tokens</th>\n",
              "      <th>labels</th>\n",
              "      <th>num_tokens</th>\n",
              "      <th>num_labels</th>\n",
              "      <th>tokens_joined</th>\n",
              "      <th>num_tokens_joined</th>\n",
              "    </tr>\n",
              "  </thead>\n",
              "  <tbody>\n",
              "  </tbody>\n",
              "</table>\n",
              "</div>"
            ],
            "text/plain": [
              "Empty DataFrame\n",
              "Columns: [text, tokens, labels, num_tokens, num_labels, tokens_joined, num_tokens_joined]\n",
              "Index: []"
            ]
          },
          "metadata": {
            "tags": []
          },
          "execution_count": 31
        }
      ]
    },
    {
      "cell_type": "markdown",
      "metadata": {
        "id": "I8P5K8C-7Xfc"
      },
      "source": [
        ""
      ]
    },
    {
      "cell_type": "code",
      "metadata": {
        "colab": {
          "base_uri": "https://localhost:8080/"
        },
        "id": "bMjxkmYhwVtB",
        "outputId": "b6243c50-d16a-4656-e571-66497aef3674"
      },
      "source": [
        "# stats for num length \n",
        "df_annotated['num_tokens'].describe()"
      ],
      "execution_count": null,
      "outputs": [
        {
          "output_type": "execute_result",
          "data": {
            "text/plain": [
              "count    18846.000000\n",
              "mean       135.352489\n",
              "std        259.944006\n",
              "min          7.000000\n",
              "25%         54.000000\n",
              "50%         84.000000\n",
              "75%        135.000000\n",
              "max       6194.000000\n",
              "Name: num_tokens, dtype: float64"
            ]
          },
          "metadata": {
            "tags": []
          },
          "execution_count": 32
        }
      ]
    },
    {
      "cell_type": "code",
      "metadata": {
        "colab": {
          "base_uri": "https://localhost:8080/",
          "height": 391
        },
        "id": "97SaH1tjxPsX",
        "outputId": "96e6e6f6-a7a0-49ef-d848-d391e9f5f65c"
      },
      "source": [
        "df_annotated.num_tokens.hist(bins = range(0, 1000, 50), figsize = (10, 6))"
      ],
      "execution_count": null,
      "outputs": [
        {
          "output_type": "execute_result",
          "data": {
            "text/plain": [
              "<matplotlib.axes._subplots.AxesSubplot at 0x7f6c96b936d0>"
            ]
          },
          "metadata": {
            "tags": []
          },
          "execution_count": 33
        },
        {
          "output_type": "display_data",
          "data": {
            "image/png": "[encoded data removed]",
            "text/plain": [
              "<Figure size 720x432 with 1 Axes>"
            ]
          },
          "metadata": {
            "tags": [],
            "needs_background": "light"
          }
        }
      ]
    },
    {
      "cell_type": "markdown",
      "metadata": {
        "id": "1i9JpJZ8I3LB"
      },
      "source": [
        "# build train/test data"
      ]
    },
    {
      "cell_type": "code",
      "metadata": {
        "id": "-IRuYNetwHj6"
      },
      "source": [
        "# to make experiments comparable, we set the seed\n",
        "SEED = 42\n",
        "np.random.seed(SEED)\n",
        "tf.random.set_seed(SEED)"
      ],
      "execution_count": null,
      "outputs": []
    },
    {
      "cell_type": "code",
      "metadata": {
        "colab": {
          "base_uri": "https://localhost:8080/",
          "height": 354
        },
        "id": "VHsL1QllSj_U",
        "outputId": "aa68f4db-0431-478e-fbbe-2974588813dc"
      },
      "source": [
        "df_annotated.head()"
      ],
      "execution_count": null,
      "outputs": [
        {
          "output_type": "execute_result",
          "data": {
            "text/html": [
              "<div>\n",
              "<style scoped>\n",
              "    .dataframe tbody tr th:only-of-type {\n",
              "        vertical-align: middle;\n",
              "    }\n",
              "\n",
              "    .dataframe tbody tr th {\n",
              "        vertical-align: top;\n",
              "    }\n",
              "\n",
              "    .dataframe thead th {\n",
              "        text-align: right;\n",
              "    }\n",
              "</style>\n",
              "<table border=\"1\" class=\"dataframe\">\n",
              "  <thead>\n",
              "    <tr style=\"text-align: right;\">\n",
              "      <th></th>\n",
              "      <th>text</th>\n",
              "      <th>tokens</th>\n",
              "      <th>labels</th>\n",
              "      <th>num_tokens</th>\n",
              "      <th>num_labels</th>\n",
              "      <th>tokens_joined</th>\n",
              "      <th>num_tokens_joined</th>\n",
              "    </tr>\n",
              "  </thead>\n",
              "  <tbody>\n",
              "    <tr>\n",
              "      <th>0</th>\n",
              "      <td>Mamatha Devineni Ratnam Pens fans reactions Or...</td>\n",
              "      <td>[mamatha, devineni, ratnam, pens, fans, reacti...</td>\n",
              "      <td>[O, O, B-PERSON, I-PERSON, O, O, B-ORG, I-ORG,...</td>\n",
              "      <td>80</td>\n",
              "      <td>80</td>\n",
              "      <td>mamatha devineni ratnam pens fans reactions or...</td>\n",
              "      <td>80</td>\n",
              "    </tr>\n",
              "    <tr>\n",
              "      <th>1</th>\n",
              "      <td>Matthew B Lawson Which high performance VLB vi...</td>\n",
              "      <td>[matthew, lawson, high, performance, vlb, vide...</td>\n",
              "      <td>[B-PERSON, I-PERSON, O, O, B-ORG, O, O, B-ORG,...</td>\n",
              "      <td>76</td>\n",
              "      <td>76</td>\n",
              "      <td>matthew lawson high performance vlb video card...</td>\n",
              "      <td>76</td>\n",
              "    </tr>\n",
              "    <tr>\n",
              "      <th>2</th>\n",
              "      <td>Hilmi Eren Re ARMENIA SAYS IT COULD SHOOT DOWN...</td>\n",
              "      <td>[hilmi, eren, armenia, says, shoot, turkish, p...</td>\n",
              "      <td>[O, O, O, O, B-ORG, O, O, O, O, O, O, O, O, O,...</td>\n",
              "      <td>276</td>\n",
              "      <td>276</td>\n",
              "      <td>hilmi eren armenia says shoot turkish planes h...</td>\n",
              "      <td>276</td>\n",
              "    </tr>\n",
              "    <tr>\n",
              "      <th>3</th>\n",
              "      <td>Guy Dawson Re IDE vs SCSI, DMA and detach Orig...</td>\n",
              "      <td>[guy, dawson, ide, vs, scsi, dma, detach, orig...</td>\n",
              "      <td>[B-PERSON, I-PERSON, O, O, O, O, O, B-ORG, I-O...</td>\n",
              "      <td>237</td>\n",
              "      <td>237</td>\n",
              "      <td>guy dawson ide vs scsi dma detach originator o...</td>\n",
              "      <td>237</td>\n",
              "    </tr>\n",
              "    <tr>\n",
              "      <th>4</th>\n",
              "      <td>Alexander Samuel McDiarmid driver  Organizatio...</td>\n",
              "      <td>[alexander, samuel, mcdiarmid, driver, organiz...</td>\n",
              "      <td>[B-PERSON, I-PERSON, I-PERSON, O, B-ORG, I-ORG...</td>\n",
              "      <td>68</td>\n",
              "      <td>68</td>\n",
              "      <td>alexander samuel mcdiarmid driver organization...</td>\n",
              "      <td>68</td>\n",
              "    </tr>\n",
              "  </tbody>\n",
              "</table>\n",
              "</div>"
            ],
            "text/plain": [
              "                                                text  ... num_tokens_joined\n",
              "0  Mamatha Devineni Ratnam Pens fans reactions Or...  ...                80\n",
              "1  Matthew B Lawson Which high performance VLB vi...  ...                76\n",
              "2  Hilmi Eren Re ARMENIA SAYS IT COULD SHOOT DOWN...  ...               276\n",
              "3  Guy Dawson Re IDE vs SCSI, DMA and detach Orig...  ...               237\n",
              "4  Alexander Samuel McDiarmid driver  Organizatio...  ...                68\n",
              "\n",
              "[5 rows x 7 columns]"
            ]
          },
          "metadata": {
            "tags": []
          },
          "execution_count": 119
        }
      ]
    },
    {
      "cell_type": "code",
      "metadata": {
        "colab": {
          "base_uri": "https://localhost:8080/"
        },
        "id": "OcUgEzoTI6q_",
        "outputId": "2060e297-b551-4692-c6a6-e4ffe5cbef84"
      },
      "source": [
        "# split data into train/test\n",
        "df_train, df_test = train_test_split(df_annotated, test_size=0.20, random_state=SEED)\n",
        "df_train.shape, df_test.shape"
      ],
      "execution_count": null,
      "outputs": [
        {
          "output_type": "execute_result",
          "data": {
            "text/plain": [
              "((15076, 7), (3770, 7))"
            ]
          },
          "metadata": {
            "tags": []
          },
          "execution_count": 120
        }
      ]
    },
    {
      "cell_type": "code",
      "metadata": {
        "colab": {
          "base_uri": "https://localhost:8080/"
        },
        "id": "R_QchxH7KFii",
        "outputId": "2e6f7dfd-2ecc-4e64-d2d7-1c854e2e9fad"
      },
      "source": [
        "x_train = df_train.tokens_joined.values\n",
        "y_train = df_train.labels.values\n",
        "\n",
        "x_test = df_test.tokens_joined.values\n",
        "y_test = df_test.labels.values\n",
        "\n",
        "len(x_train), len(y_train), len(x_test), len(y_test)"
      ],
      "execution_count": null,
      "outputs": [
        {
          "output_type": "execute_result",
          "data": {
            "text/plain": [
              "(15076, 15076, 3770, 3770)"
            ]
          },
          "metadata": {
            "tags": []
          },
          "execution_count": 121
        }
      ]
    },
    {
      "cell_type": "code",
      "metadata": {
        "id": "QzeDUgAkyjLn"
      },
      "source": [
        "train_labels = []\n",
        "test_labels = []\n",
        "\n",
        "for sent_label in y_train:\n",
        "    train_labels.extend(sent_label)\n",
        "\n",
        "for sent_label in y_test:\n",
        "    test_labels.extend(sent_label) "
      ],
      "execution_count": null,
      "outputs": []
    },
    {
      "cell_type": "code",
      "metadata": {
        "colab": {
          "base_uri": "https://localhost:8080/"
        },
        "id": "YgXnf6mVzEtS",
        "outputId": "c4300844-cec8-4030-ce63-61657c9c4ba8"
      },
      "source": [
        "Counter(train_labels)"
      ],
      "execution_count": null,
      "outputs": [
        {
          "output_type": "execute_result",
          "data": {
            "text/plain": [
              "Counter({'B-LOC': 35865,\n",
              "         'B-MISC': 62079,\n",
              "         'B-ORG': 79461,\n",
              "         'B-PERSON': 80080,\n",
              "         'I-LOC': 8664,\n",
              "         'I-MISC': 42424,\n",
              "         'I-ORG': 97946,\n",
              "         'I-PERSON': 69066,\n",
              "         'O': 1546828})"
            ]
          },
          "metadata": {
            "tags": []
          },
          "execution_count": 123
        }
      ]
    },
    {
      "cell_type": "code",
      "metadata": {
        "colab": {
          "base_uri": "https://localhost:8080/"
        },
        "id": "SZrbZSwzzS3S",
        "outputId": "0f608045-44d9-4d18-bcf0-91e4c0ca6658"
      },
      "source": [
        "Counter(test_labels)"
      ],
      "execution_count": null,
      "outputs": [
        {
          "output_type": "execute_result",
          "data": {
            "text/plain": [
              "Counter({'B-LOC': 9038,\n",
              "         'B-MISC': 17115,\n",
              "         'B-ORG': 20335,\n",
              "         'B-PERSON': 20939,\n",
              "         'I-LOC': 2070,\n",
              "         'I-MISC': 11048,\n",
              "         'I-ORG': 24880,\n",
              "         'I-PERSON': 17972,\n",
              "         'O': 405043})"
            ]
          },
          "metadata": {
            "tags": []
          },
          "execution_count": 124
        }
      ]
    },
    {
      "cell_type": "markdown",
      "metadata": {
        "id": "eTXlRun3Jkne"
      },
      "source": [
        "### tokenize data "
      ]
    },
    {
      "cell_type": "code",
      "metadata": {
        "colab": {
          "base_uri": "https://localhost:8080/"
        },
        "id": "icqk2sKOJhrj",
        "outputId": "583cdb50-474b-4f8c-8537-07c22629bec5"
      },
      "source": [
        "# after analyzing above vocab stats, we set our vocab size to be 35k\n",
        "VOCAB_SIZE = 35000\n",
        "\n",
        "tokenizer = Tokenizer(num_words=VOCAB_SIZE, oov_token=\"<unk>\", filters='')\n",
        "\n",
        "# we fit tokenizer on x_train data\n",
        "tokenizer.fit_on_texts(x_train)\n",
        "\n",
        "x_train_idx = tokenizer.texts_to_sequences(x_train)\n",
        "x_train_tok = tokenizer.sequences_to_texts(x_train_idx)\n",
        "\n",
        "x_test_idx = tokenizer.texts_to_sequences(x_test)\n",
        "x_test_tok = tokenizer.sequences_to_texts(x_test_idx)\n",
        "\n",
        "len(x_train_idx), len(x_train_tok), len(x_test_idx), len(x_test_tok)"
      ],
      "execution_count": null,
      "outputs": [
        {
          "output_type": "execute_result",
          "data": {
            "text/plain": [
              "(15076, 15076, 3770, 3770)"
            ]
          },
          "metadata": {
            "tags": []
          },
          "execution_count": 125
        }
      ]
    },
    {
      "cell_type": "code",
      "metadata": {
        "id": "mT0_fjRlLOd8"
      },
      "source": [
        "# displays a rendom sent and ids\n",
        "def display_sample(x_tok, x_idx, y, k=None):\n",
        "    if not k:\n",
        "        k = random.randint(0, len(x_tok))\n",
        "    print(\"k:\", k)\n",
        "    print(\"length of toks and idx:\", len(x_tok[k].split()), len(x_idx[k]), len(y[k]))\n",
        "    print(\"labels:\", y[k])\n",
        "    print(\"sent tok:\", x_tok[k].split())\n",
        "    print(\"sent idx:\", x_idx[k])"
      ],
      "execution_count": null,
      "outputs": []
    },
    {
      "cell_type": "code",
      "metadata": {
        "colab": {
          "base_uri": "https://localhost:8080/"
        },
        "id": "drghpgYPLpRi",
        "outputId": "b4ffc8b1-feff-4e8f-cf9b-4646789cd54e"
      },
      "source": [
        "display_sample(x_train_tok, x_train_idx, y_train)"
      ],
      "execution_count": null,
      "outputs": [
        {
          "output_type": "stream",
          "text": [
            "k: 10931\n",
            "length of toks and idx: 53 53 53\n",
            "labels: ['B-PERSON', 'I-PERSON', 'O', 'O', 'O', 'O', 'O', 'O', 'O', 'O', 'O', 'B-ORG', 'I-ORG', 'I-ORG', 'I-ORG', 'B-PERSON', 'I-PERSON', 'O', 'O', 'O', 'O', 'O', 'O', 'O', 'O', 'O', 'O', 'I-MISC', 'O', 'B-PERSON', 'I-PERSON', 'O', 'O', 'O', 'O', 'O', 'O', 'O', 'O', 'O', 'O', 'O', 'O', 'O', 'O', 'B-PERSON', 'O', 'O', 'O', 'O', 'O', 'O', 'O']\n",
            "sent tok: ['charles', 'sundheim', 'wanted', 'police', 'officers', 'answer', 'posting', 'nntp', 'posting', 'host', 'ursa', 'organization', 'calvin', 'college', 'lines', 'dan', 'sorenson', 'writes', '<unk>', 'heh', 'attitude', 'stopped', 'speaking', 'guy', 'recieved', 'verbal', 'warning', 'mph', 'laugh', 'hey', 'dan', 'potentially', 'cool', 'story', 'stuff', 'share', 'details', 'break', 'probably', 'nt', 'enlighten', '<unk>', 'let', 'live', '<unk>', '<unk>', 'story', 'erc', '<unk>', 'mi', 'usa', 'vfr750f', 'dod']\n",
            "sent idx: [1053, 13363, 274, 317, 1948, 214, 10, 13, 10, 12, 17494, 4, 7068, 267, 3, 776, 5770, 5, 1, 7287, 1577, 1769, 1335, 422, 9177, 10713, 1336, 1868, 3020, 1049, 776, 5449, 1919, 580, 202, 1281, 739, 801, 77, 2, 8284, 1, 117, 251, 1, 1, 580, 16284, 1, 2512, 52, 14530, 506]\n"
          ],
          "name": "stdout"
        }
      ]
    },
    {
      "cell_type": "code",
      "metadata": {
        "colab": {
          "base_uri": "https://localhost:8080/"
        },
        "id": "AhUrzoByMd6r",
        "outputId": "a5b9ca62-f3e3-40a6-e572-2811d9a63916"
      },
      "source": [
        "display_sample(x_test_tok, x_test_idx, y_test)"
      ],
      "execution_count": null,
      "outputs": [
        {
          "output_type": "stream",
          "text": [
            "k: 164\n",
            "length of toks and idx: 69 69 69\n",
            "labels: ['B-PERSON', 'I-PERSON', 'O', 'O', 'O', 'O', 'O', 'O', 'O', 'B-ORG', 'I-ORG', 'I-ORG', 'B-ORG', 'I-ORG', 'I-ORG', 'O', 'O', 'B-ORG', 'O', 'O', 'O', 'B-ORG', 'B-ORG', 'O', 'O', 'O', 'B-LOC', 'B-ORG', 'O', 'O', 'B-PERSON', 'O', 'O', 'O', 'O', 'O', 'B-PERSON', 'I-PERSON', 'B-ORG', 'O', 'O', 'B-MISC', 'B-MISC', 'O', 'O', 'B-MISC', 'O', 'B-ORG', 'O', 'O', 'O', 'B-PERSON', 'I-PERSON', 'O', 'O', 'O', 'O', 'O', 'O', 'B-PERSON', 'O', 'B-ORG', 'O', 'O', 'B-MISC', 'O', 'O', 'B-PERSON', 'O']\n",
            "sent tok: ['dave', 'tharp', 'cds', 'volvo', 'attack', 'distribution', 'na', 'organization', 'tektronix', 'colorado', 'data', 'systems', 'englewood', 'co', 'lines', 'article', 'writes', 'cookson', 'writes', 'rocket', 'launchers', 'vfr', 'batf', 'having', 'fire', 'sale', 'waco', 'tx', 'try', 'try', 'newsgroup', 'interesting', 'stuff', 'probably', 'classified', 'artillery', 'dave', 'tharp', 'dod', 'nt', 'wear', 'mra', 'indian', 'scout', 'k75s', 'indian', 'chief', 'ahrma', 'brother', 'chief', 'r90s151', 'tr', '2b751', 'ama', 'built', 'like', 'rocks', 'r502velorex', 'nsu', 'max', 'knocks', 'bmw', 'r12', 'compulsive', 'harleys', 'employer', 'idea', 'joiner', 'grief']\n",
            "sent idx: [407, 11038, 3178, 7757, 758, 22, 299, 4, 3240, 879, 61, 102, 19352, 1268, 3, 6, 5, 7891, 5, 1874, 8267, 9722, 843, 135, 310, 217, 732, 1261, 85, 85, 624, 454, 202, 77, 2808, 8305, 407, 11038, 506, 2, 2542, 18134, 6180, 7378, 15716, 6180, 2634, 20861, 1813, 2634, 20862, 11392, 20863, 3080, 538, 7, 3862, 20864, 16576, 1146, 14654, 1133, 10826, 12794, 9094, 1946, 178, 20865, 4810]\n"
          ],
          "name": "stdout"
        }
      ]
    },
    {
      "cell_type": "markdown",
      "metadata": {
        "id": "mBzbibmKM5NN"
      },
      "source": [
        "### pad data"
      ]
    },
    {
      "cell_type": "code",
      "metadata": {
        "colab": {
          "base_uri": "https://localhost:8080/"
        },
        "id": "dD4t5WeaM4Xd",
        "outputId": "dca46858-8d73-48ba-ef0b-a587e0647ea4"
      },
      "source": [
        "# we need to add <pad> token with index 0 to tokenizer.word_index \n",
        "tokenizer.word_index.update({'<pad>':0})\n",
        "tokenizer.index_word.update({0:'<pad>'})\n",
        "\n",
        "# since tokenizer.word_index has all words > we get only what's under VOCAB_SIZE\n",
        "word2idx = {w:idx for w,idx in tokenizer.word_index.items() if idx < VOCAB_SIZE}\n",
        "idx2word = {idx:w for w,idx in word2idx.items()}\n",
        "\n",
        "# adjust VOCAB_SIZE\n",
        "VOCAB_SIZE = len(word2idx)\n",
        "\n",
        "print(\"len word2idx: \", len(word2idx))\n",
        "print(\"len idx2word: \", len(idx2word))\n",
        "print(\"vocab size: \", VOCAB_SIZE)\n",
        "print(\"\")"
      ],
      "execution_count": null,
      "outputs": [
        {
          "output_type": "stream",
          "text": [
            "len word2idx:  35000\n",
            "len idx2word:  35000\n",
            "vocab size:  35000\n",
            "\n"
          ],
          "name": "stdout"
        }
      ]
    },
    {
      "cell_type": "code",
      "metadata": {
        "colab": {
          "base_uri": "https://localhost:8080/"
        },
        "id": "K87gWsPBNXyF",
        "outputId": "a0f9b3ba-9408-4d72-f585-185cffe97b30"
      },
      "source": [
        "# check idx2word and word2idx mapping\n",
        "list(zip(list(word2idx.items())[:10], list(idx2word.items())[:10]))"
      ],
      "execution_count": null,
      "outputs": [
        {
          "output_type": "execute_result",
          "data": {
            "text/plain": [
              "[(('<unk>', 1), (1, '<unk>')),\n",
              " (('nt', 2), (2, 'nt')),\n",
              " (('lines', 3), (3, 'lines')),\n",
              " (('organization', 4), (4, 'organization')),\n",
              " (('writes', 5), (5, 'writes')),\n",
              " (('article', 6), (6, 'article')),\n",
              " (('like', 7), (7, 'like')),\n",
              " (('university', 8), (8, 'university')),\n",
              " (('people', 9), (9, 'people')),\n",
              " (('posting', 10), (10, 'posting'))]"
            ]
          },
          "metadata": {
            "tags": []
          },
          "execution_count": 82
        }
      ]
    },
    {
      "cell_type": "markdown",
      "metadata": {
        "id": "f3qCK1Zo5N6B"
      },
      "source": [
        "### encode labels"
      ]
    },
    {
      "cell_type": "code",
      "metadata": {
        "colab": {
          "base_uri": "https://localhost:8080/"
        },
        "id": "ZXbKGEaxPA8t",
        "outputId": "f5285627-193b-46ac-9f95-ba5c2d5caaa4"
      },
      "source": [
        "possible_labels = ['O', 'B-PERSON', 'I-PERSON', 'B-ORG', 'I-ORG', 'B-LOC', 'I-LOC', 'B-MISC', 'I-MISC']\n",
        "\n",
        "lbl2idx = {lbl:i for i,lbl in enumerate(possible_labels)}\n",
        "idx2lbl = {i:lbl for lbl,i in lbl2idx.items()}\n",
        "\n",
        "len(lbl2idx), len(idx2lbl)"
      ],
      "execution_count": null,
      "outputs": [
        {
          "output_type": "execute_result",
          "data": {
            "text/plain": [
              "(9, 9)"
            ]
          },
          "metadata": {
            "tags": []
          },
          "execution_count": 214
        }
      ]
    },
    {
      "cell_type": "code",
      "metadata": {
        "colab": {
          "base_uri": "https://localhost:8080/"
        },
        "id": "jpp7dK5cQK31",
        "outputId": "617b9179-7110-4dd2-823c-45db9eddaeb8"
      },
      "source": [
        "lbl2idx"
      ],
      "execution_count": null,
      "outputs": [
        {
          "output_type": "execute_result",
          "data": {
            "text/plain": [
              "{'B-LOC': 5,\n",
              " 'B-MISC': 7,\n",
              " 'B-ORG': 3,\n",
              " 'B-PERSON': 1,\n",
              " 'I-LOC': 6,\n",
              " 'I-MISC': 8,\n",
              " 'I-ORG': 4,\n",
              " 'I-PERSON': 2,\n",
              " 'O': 0}"
            ]
          },
          "metadata": {
            "tags": []
          },
          "execution_count": 215
        }
      ]
    },
    {
      "cell_type": "code",
      "metadata": {
        "colab": {
          "base_uri": "https://localhost:8080/"
        },
        "id": "dEXnJlf7555n",
        "outputId": "593a3df3-95ac-4924-8505-94db5408b490"
      },
      "source": [
        "# replace <unk> tokens by 'O' \n",
        "y_train_idx = []\n",
        "y_test_idx = []\n",
        "\n",
        "for i in range(len(x_train_idx)):\n",
        "    for j in range(len(x_train_idx[i])):\n",
        "        if x_train_idx[i][j] == 1 or x_train_idx[i][j] == 0:\n",
        "            y_train[i][j] = 'O'\n",
        "    y_train_idx.append([lbl2idx[lbl] for lbl in y_train[i]])\n",
        "\n",
        "for i in range(len(x_test_idx)):\n",
        "    for j in range(len(x_test_idx[i])):\n",
        "        if x_test_idx[i][j] == 1 or x_test_idx[i][j] == 0:\n",
        "            y_test[i][j] = 'O'\n",
        "    y_test_idx.append([lbl2idx[lbl] for lbl in y_test[i]])\n",
        "                          \n",
        "len(y_train), len(y_train_idx), len(y_test), len(y_test_idx)"
      ],
      "execution_count": null,
      "outputs": [
        {
          "output_type": "execute_result",
          "data": {
            "text/plain": [
              "(15076, 15076, 3770, 3770)"
            ]
          },
          "metadata": {
            "tags": []
          },
          "execution_count": 144
        }
      ]
    },
    {
      "cell_type": "code",
      "metadata": {
        "colab": {
          "base_uri": "https://localhost:8080/"
        },
        "id": "07truxZqURp4",
        "outputId": "d8ee6a49-7322-45e3-9621-49dcc896b516"
      },
      "source": [
        "display_sample(x_train_tok, x_train_idx, y_train, 1)"
      ],
      "execution_count": null,
      "outputs": [
        {
          "output_type": "stream",
          "text": [
            "k: 1\n",
            "length of toks and idx: 41 41 41\n",
            "labels: ['B-PERSON', 'I-PERSON', 'O', 'O', 'O', 'B-ORG', 'I-ORG', 'O', 'I-ORG', 'I-ORG', 'O', 'O', 'O', 'O', 'O', 'O', 'B-MISC', 'O', 'O', 'O', 'O', 'O', 'O', 'O', 'O', 'I-MISC', 'O', 'O', 'O', 'O', 'O', 'O', 'O', 'O', 'B-PERSON', 'I-PERSON', 'O', 'O', 'O', 'O', 'O']\n",
            "sent tok: ['max', 'j.', '<unk>', 'speeding', 'ticket', 'chp', 'organization', '<unk>', 'lines', 'interesting', 'fight', 'ticket', 'chance', 'cop', 'wo', 'nt', 'secondly', 'point', 'lied', '<unk>', 'ticket', 'beleive', 'yore', 'charged', 'going', 'mph', 'posted', 'speed', 'severe', 'ticket', 'nt', 'possibly', 'going', 'right', 'max', 'j.', '<unk>', 'uunet', '<unk>', 'protect', 'want']\n",
            "sent idx: [1146, 466, 1, 6642, 1933, 18572, 4, 1, 3, 454, 1247, 1933, 664, 3071, 253, 2, 4263, 41, 8161, 1, 1933, 4923, 34720, 3396, 35, 1868, 450, 225, 2979, 1933, 2, 1042, 35, 20, 1146, 466, 1, 3226, 1, 880, 25]\n"
          ],
          "name": "stdout"
        }
      ]
    },
    {
      "cell_type": "code",
      "metadata": {
        "colab": {
          "base_uri": "https://localhost:8080/"
        },
        "id": "xOA9CUEENqZM",
        "outputId": "8d04a747-c904-4389-c571-e78d3745dd72"
      },
      "source": [
        "# we set MAX_SEQ_LEN analyzing the sequence length: mean: 144 and median: 90\n",
        "MAX_SEQ_LEN = 150\n",
        "\n",
        "# pad sequences so that we get a N x MAX_SEQ_LEN matrix\n",
        "x_train_idx_padded = pad_sequences(x_train_idx, maxlen=MAX_SEQ_LEN, padding='post', truncating='post', value=0)\n",
        "x_test_idx_padded = pad_sequences(x_test_idx, maxlen=MAX_SEQ_LEN, padding='post', truncating='post', value=0)\n",
        "\n",
        "y_train_idx_padded = pad_sequences(y_train_idx, maxlen=MAX_SEQ_LEN, padding='post', truncating='post', value=0)\n",
        "y_test_idx_padded = pad_sequences(y_test_idx, maxlen=MAX_SEQ_LEN, padding='post', truncating='post', value=0)\n",
        "\n",
        "print(x_train_idx_padded.shape, y_train_idx_padded.shape, x_test_idx_padded.shape, y_test_idx_padded.shape)"
      ],
      "execution_count": null,
      "outputs": [
        {
          "output_type": "stream",
          "text": [
            "(15076, 150) (15076, 150) (3770, 150) (3770, 150)\n"
          ],
          "name": "stdout"
        }
      ]
    },
    {
      "cell_type": "code",
      "metadata": {
        "colab": {
          "base_uri": "https://localhost:8080/"
        },
        "id": "J3PCFyLNP6wZ",
        "outputId": "b2f8e26c-aae4-4ca1-e2c6-7db504060c97"
      },
      "source": [
        "print(x_train_idx_padded[1])\n",
        "print(y_train_idx_padded[1])\n",
        "print(tokenizer.sequences_to_texts([x_train_idx_padded[1]]))"
      ],
      "execution_count": null,
      "outputs": [
        {
          "output_type": "stream",
          "text": [
            "[ 1146   466     1  6642  1933 18572     4     1     3   454  1247  1933\n",
            "   664  3071   253     2  4263    41  8161     1  1933  4923 34720  3396\n",
            "    35  1868   450   225  2979  1933     2  1042    35    20  1146   466\n",
            "     1  3226     1   880    25     0     0     0     0     0     0     0\n",
            "     0     0     0     0     0     0     0     0     0     0     0     0\n",
            "     0     0     0     0     0     0     0     0     0     0     0     0\n",
            "     0     0     0     0     0     0     0     0     0     0     0     0\n",
            "     0     0     0     0     0     0     0     0     0     0     0     0\n",
            "     0     0     0     0     0     0     0     0     0     0     0     0\n",
            "     0     0     0     0     0     0     0     0     0     0     0     0\n",
            "     0     0     0     0     0     0     0     0     0     0     0     0\n",
            "     0     0     0     0     0     0     0     0     0     0     0     0\n",
            "     0     0     0     0     0     0]\n",
            "[1 2 0 0 0 3 4 0 4 4 0 0 0 0 0 0 7 0 0 0 0 0 0 0 0 8 0 0 0 0 0 0 0 0 1 2 0\n",
            " 0 0 0 0 0 0 0 0 0 0 0 0 0 0 0 0 0 0 0 0 0 0 0 0 0 0 0 0 0 0 0 0 0 0 0 0 0\n",
            " 0 0 0 0 0 0 0 0 0 0 0 0 0 0 0 0 0 0 0 0 0 0 0 0 0 0 0 0 0 0 0 0 0 0 0 0 0\n",
            " 0 0 0 0 0 0 0 0 0 0 0 0 0 0 0 0 0 0 0 0 0 0 0 0 0 0 0 0 0 0 0 0 0 0 0 0 0\n",
            " 0 0]\n",
            "['max j. <unk> speeding ticket chp organization <unk> lines interesting fight ticket chance cop wo nt secondly point lied <unk> ticket beleive yore charged going mph posted speed severe ticket nt possibly going right max j. <unk> uunet <unk> protect want <pad> <pad> <pad> <pad> <pad> <pad> <pad> <pad> <pad> <pad> <pad> <pad> <pad> <pad> <pad> <pad> <pad> <pad> <pad> <pad> <pad> <pad> <pad> <pad> <pad> <pad> <pad> <pad> <pad> <pad> <pad> <pad> <pad> <pad> <pad> <pad> <pad> <pad> <pad> <pad> <pad> <pad> <pad> <pad> <pad> <pad> <pad> <pad> <pad> <pad> <pad> <pad> <pad> <pad> <pad> <pad> <pad> <pad> <pad> <pad> <pad> <pad> <pad> <pad> <pad> <pad> <pad> <pad> <pad> <pad> <pad> <pad> <pad> <pad> <pad> <pad> <pad> <pad> <pad> <pad> <pad> <pad> <pad> <pad> <pad> <pad> <pad> <pad> <pad> <pad> <pad> <pad> <pad> <pad> <pad> <pad> <pad> <pad> <pad> <pad> <pad> <pad> <pad> <pad> <pad> <pad> <pad> <pad> <pad>']\n"
          ],
          "name": "stdout"
        }
      ]
    },
    {
      "cell_type": "code",
      "metadata": {
        "colab": {
          "base_uri": "https://localhost:8080/"
        },
        "id": "ew-P5doXQi2O",
        "outputId": "ad4d90d4-b00e-4b8d-9bf9-db09b9754805"
      },
      "source": [
        "print(x_test_idx_padded[1])\n",
        "print(y_test_idx_padded[1])\n",
        "print(tokenizer.sequences_to_texts([x_test_idx_padded[1]]))"
      ],
      "execution_count": null,
      "outputs": [
        {
          "output_type": "stream",
          "text": [
            "[22102  9905 14619     4  1741   856  1259   382  1436     3     6  7031\n",
            "     5     7  2757  2208   735    11    18   300  1077     1 25028    56\n",
            "   300   631    55    54 24767   678 24767   678  2309   233    18  2030\n",
            "   667   151   128  6081  7143     1     1   735  6798 11491     1  8207\n",
            "    50  1480  6685  1173  5060    65   632  5498   632   243    98    82\n",
            "    25   739     1 13799  2370    38  5055   703  5258  1616 25028  5687\n",
            "  1095 24767   678   467  1303 22102  9905  4550     1   139  4962   331\n",
            " 14111  2220 15179     1  4424     0     0     0     0     0     0     0\n",
            "     0     0     0     0     0     0     0     0     0     0     0     0\n",
            "     0     0     0     0     0     0     0     0     0     0     0     0\n",
            "     0     0     0     0     0     0     0     0     0     0     0     0\n",
            "     0     0     0     0     0     0     0     0     0     0     0     0\n",
            "     0     0     0     0     0     0]\n",
            "[3 4 4 4 4 4 4 4 0 7 0 3 0 0 0 0 0 0 0 3 0 0 0 0 3 0 0 0 7 0 7 0 0 0 0 0 0\n",
            " 0 0 0 0 0 0 0 0 0 0 0 0 0 0 0 0 0 3 0 3 0 0 0 0 0 0 0 0 0 0 0 0 0 0 0 0 0\n",
            " 0 0 0 1 2 0 0 0 0 3 0 0 0 0 0 0 0 0 0 0 0 0 0 0 0 0 0 0 0 0 0 0 0 0 0 0 0\n",
            " 0 0 0 0 0 0 0 0 0 0 0 0 0 0 0 0 0 0 0 0 0 0 0 0 0 0 0 0 0 0 0 0 0 0 0 0 0\n",
            " 0 0]\n",
            "['mont pierce microcontroller organization netcom online communication services guest lines article cole writes like experiment intel family know good ftp sites <unk> assemblers etc ftp site got number signetics bbs signetics bbs contain pretty good items currently following files downloaded ml <unk> <unk> family macro assembler <unk> hex file load uart allows download program ram execute ram works great tell want details <unk> tsr feature help screens lots coding examples assemblers misc tools signetics bbs numbers fun mont pierce ham <unk> internet bands ibm vnet modes cw <unk> fm <pad> <pad> <pad> <pad> <pad> <pad> <pad> <pad> <pad> <pad> <pad> <pad> <pad> <pad> <pad> <pad> <pad> <pad> <pad> <pad> <pad> <pad> <pad> <pad> <pad> <pad> <pad> <pad> <pad> <pad> <pad> <pad> <pad> <pad> <pad> <pad> <pad> <pad> <pad> <pad> <pad> <pad> <pad> <pad> <pad> <pad> <pad> <pad> <pad> <pad> <pad> <pad> <pad> <pad> <pad> <pad> <pad> <pad> <pad> <pad> <pad>']\n"
          ],
          "name": "stdout"
        }
      ]
    },
    {
      "cell_type": "code",
      "metadata": {
        "id": "L5a4jRQ3PZU9"
      },
      "source": [
        ""
      ],
      "execution_count": null,
      "outputs": []
    },
    {
      "cell_type": "markdown",
      "metadata": {
        "id": "QWGYmhCDMtZe"
      },
      "source": [
        "Create annotated documents for NER detection.\n",
        "Divide the document collection into training, validation and test data sets. \n",
        "\n",
        "a) Implement a custom NER system for\n",
        "\n",
        "(i) LSTM with word2vec\n",
        "\n",
        "(ii) LSTM with glove\n",
        "\n",
        "(iii) LSTM with fast text\n",
        "\n",
        "(iv) LSTM with BERT embeddings.\n",
        "\n",
        "\n",
        "\n",
        "b) Implement a BERT based NER model. Compare the result of this model with those obtained in (d- (i))\n"
      ]
    },
    {
      "cell_type": "markdown",
      "metadata": {
        "id": "LVP7moOd79hQ"
      },
      "source": [
        "# Bi-LSTM based NER model using glove embedding\n",
        " \n"
      ]
    },
    {
      "cell_type": "code",
      "metadata": {
        "colab": {
          "base_uri": "https://localhost:8080/"
        },
        "id": "85llGM5WTZci",
        "outputId": "0ecbdb3f-dcaf-40dd-ac15-e9eef8502dfe"
      },
      "source": [
        "label_idxs = []\n",
        "for lbls in y_train_idx:\n",
        "    label_idxs.extend(lbls)\n",
        "\n",
        "Counter(label_idxs)"
      ],
      "execution_count": null,
      "outputs": [
        {
          "output_type": "execute_result",
          "data": {
            "text/plain": [
              "Counter({0: 1586599,\n",
              "         1: 74434,\n",
              "         2: 60044,\n",
              "         3: 72842,\n",
              "         4: 93841,\n",
              "         5: 33265,\n",
              "         6: 8286,\n",
              "         7: 53762,\n",
              "         8: 39340})"
            ]
          },
          "metadata": {
            "tags": []
          },
          "execution_count": 219
        }
      ]
    },
    {
      "cell_type": "code",
      "metadata": {
        "colab": {
          "base_uri": "https://localhost:8080/"
        },
        "id": "GINZBkg3jpe8",
        "outputId": "1279fb2f-6b4b-4b02-cd8e-18831441b89a"
      },
      "source": [
        "class_weights = compute_class_weight('balanced', np.unique(label_idxs), label_idxs)\n",
        "print(class_weights)\n",
        "\n",
        "class_weights = {i:round(val,4) for i,val in enumerate(class_weights)}\n",
        "class_weights"
      ],
      "execution_count": null,
      "outputs": [
        {
          "output_type": "stream",
          "text": [
            "[ 0.1416316   3.01895042  3.74246479  3.08493116  2.39460956  6.75522488\n",
            " 27.11954569  4.17976555  5.71206293]\n"
          ],
          "name": "stdout"
        },
        {
          "output_type": "execute_result",
          "data": {
            "text/plain": [
              "{0: 0.1416,\n",
              " 1: 3.019,\n",
              " 2: 3.7425,\n",
              " 3: 3.0849,\n",
              " 4: 2.3946,\n",
              " 5: 6.7552,\n",
              " 6: 27.1195,\n",
              " 7: 4.1798,\n",
              " 8: 5.7121}"
            ]
          },
          "metadata": {
            "tags": []
          },
          "execution_count": 237
        }
      ]
    },
    {
      "cell_type": "code",
      "metadata": {
        "id": "8lt5wp6lmLSJ"
      },
      "source": [
        ""
      ],
      "execution_count": null,
      "outputs": []
    },
    {
      "cell_type": "code",
      "metadata": {
        "id": "qiYU4PFqljE-"
      },
      "source": [
        ""
      ],
      "execution_count": null,
      "outputs": []
    },
    {
      "cell_type": "code",
      "metadata": {
        "id": "MDLHU5rqT43V"
      },
      "source": [
        "class LossHistory(tf.keras.callbacks.Callback):\n",
        "    def on_train_begin(self, logs={}):\n",
        "        self.losses = []\n",
        "        self.val_losses = []\n",
        "        self.accuracies = []\n",
        "        self.val_accuracies = []\n",
        "\n",
        "    def on_batch_end(self, batch, logs={}):\n",
        "        self.losses.append(logs.get('loss'))\n",
        "        self.val_losses.append(logs.get('val_loss'))\n",
        "        self.accuracies.append(logs.get('accuracy'))\n",
        "        self.val_accuracies.append(logs.get('val_accuracy'))\n",
        "        \n",
        "\n",
        "def build_lstm_model(embedding_matrix, EMBED_DIM, NUM_LABELS, loss):\n",
        "\n",
        "    input_ = Input(shape=(MAX_SEQ_LEN,), name=\"input\")\n",
        "\n",
        "    embed_layer = Embedding(input_dim=VOCAB_SIZE, output_dim=EMBED_DIM, input_length = MAX_SEQ_LEN,\n",
        "                      weights=[embedding_matrix], trainable=False, mask_zero=True)(input_)\n",
        "\n",
        "    lstm_layer = Bidirectional(LSTM(units=64, return_sequences=True, dropout=.1, recurrent_dropout=0.1,\n",
        "                               kernel_regularizer = regularizers.l2(0.01)), name=\"lstm\")(embed_layer)\n",
        "\n",
        "    out = TimeDistributed(Dense(NUM_LABELS, activation=\"softmax\"))(lstm_layer) \n",
        "    model = Model(input_, out)\n",
        "\n",
        "    model.compile(optimizer = tf.keras.optimizers.Adam(),\n",
        "                  loss = loss, \n",
        "                  metrics= [\"accuracy\"]) \n",
        "    \n",
        "    return model\n"
      ],
      "execution_count": null,
      "outputs": []
    },
    {
      "cell_type": "markdown",
      "metadata": {
        "id": "YKFx8Hl4roDC"
      },
      "source": [
        "### train on GloVe embeddings"
      ]
    },
    {
      "cell_type": "code",
      "metadata": {
        "colab": {
          "base_uri": "https://localhost:8080/"
        },
        "id": "pHtdVLgLYpOA",
        "outputId": "fca8f6dd-d10d-482c-fbee-3633a9f1dd0f"
      },
      "source": [
        "NUM_LABELS = len(possible_labels)\n",
        "NUM_LABELS"
      ],
      "execution_count": null,
      "outputs": [
        {
          "output_type": "execute_result",
          "data": {
            "text/plain": [
              "9"
            ]
          },
          "metadata": {
            "tags": []
          },
          "execution_count": 161
        }
      ]
    },
    {
      "cell_type": "code",
      "metadata": {
        "colab": {
          "base_uri": "https://localhost:8080/"
        },
        "id": "_lLs-Cy6BHTb",
        "outputId": "9dff2ca6-5190-4932-b130-c541338cf338"
      },
      "source": [
        "lstm_model_glove = build_lstm_model(glove_embed_matrix, 300, 9, 'sparse_categorical_crossentropy')\n",
        "lstm_model_glove.summary()"
      ],
      "execution_count": null,
      "outputs": [
        {
          "output_type": "stream",
          "text": [
            "Model: \"model_4\"\n",
            "_________________________________________________________________\n",
            "Layer (type)                 Output Shape              Param #   \n",
            "=================================================================\n",
            "input (InputLayer)           [(None, 150)]             0         \n",
            "_________________________________________________________________\n",
            "embedding_6 (Embedding)      (None, 150, 300)          10500000  \n",
            "_________________________________________________________________\n",
            "lstm (Bidirectional)         (None, 150, 128)          186880    \n",
            "_________________________________________________________________\n",
            "time_distributed_4 (TimeDist (None, 150, 9)            1161      \n",
            "=================================================================\n",
            "Total params: 10,688,041\n",
            "Trainable params: 188,041\n",
            "Non-trainable params: 10,500,000\n",
            "_________________________________________________________________\n"
          ],
          "name": "stdout"
        }
      ]
    },
    {
      "cell_type": "code",
      "metadata": {
        "id": "MKWiw69YBHTc"
      },
      "source": [
        "monitor_para = \"val_accuracy\"\n",
        "model_save_dir = \"lstm_glove/\"\n",
        "\n",
        "if not os.path.isdir(model_save_dir):\n",
        "    os.mkdir(model_save_dir)\n",
        "\n",
        "filepath = model_save_dir + \"%s-improve-{epoch:02d}-{%s:.4f}.hdf5\" % (monitor_para, monitor_para)\n",
        "\n",
        "log_history = LossHistory()\n",
        "checkpoint = ModelCheckpoint(filepath, monitor=monitor_para, verbose=1, save_best_only=True, mode='auto')\n",
        "early_stopping = EarlyStopping(monitor='val_loss', patience=3, min_delta=0, verbose=1, restore_best_weights=True)"
      ],
      "execution_count": null,
      "outputs": []
    },
    {
      "cell_type": "code",
      "metadata": {
        "colab": {
          "base_uri": "https://localhost:8080/"
        },
        "id": "MEQDUUEAUawE",
        "outputId": "c5630079-1d77-43f2-bc9e-78c6b40afa41"
      },
      "source": [
        "BATCH_SIZE = 128\n",
        "EPOCHS = 10\n",
        "history = lstm_model_glove.fit(x_train_idx_padded, y_train_idx_padded,\n",
        "                             batch_size = BATCH_SIZE,\n",
        "                             epochs = EPOCHS,\n",
        "                             # class_weight = class_weights,\n",
        "                             callbacks = [checkpoint, early_stopping, log_history],\n",
        "                             validation_data = (x_test_idx_padded, y_test_idx_padded)\n",
        "                             )"
      ],
      "execution_count": null,
      "outputs": [
        {
          "output_type": "stream",
          "text": [
            "Epoch 1/10\n",
            "118/118 [==============================] - 177s 1s/step - loss: 3.5576 - accuracy: 0.7348 - val_loss: 0.5231 - val_accuracy: 0.8007\n",
            "\n",
            "Epoch 00001: val_accuracy improved from -inf to 0.80066, saving model to lstm_glove/val_accuracy-improve-01-0.8007.hdf5\n",
            "Epoch 2/10\n",
            "118/118 [==============================] - 170s 1s/step - loss: 0.4791 - accuracy: 0.8018 - val_loss: 0.3928 - val_accuracy: 0.8218\n",
            "\n",
            "Epoch 00002: val_accuracy improved from 0.80066 to 0.82177, saving model to lstm_glove/val_accuracy-improve-02-0.8218.hdf5\n",
            "Epoch 3/10\n",
            "118/118 [==============================] - 169s 1s/step - loss: 0.3953 - accuracy: 0.8191 - val_loss: 0.3703 - val_accuracy: 0.8316\n",
            "\n",
            "Epoch 00003: val_accuracy improved from 0.82177 to 0.83161, saving model to lstm_glove/val_accuracy-improve-03-0.8316.hdf5\n",
            "Epoch 4/10\n",
            "118/118 [==============================] - 170s 1s/step - loss: 0.3781 - accuracy: 0.8252 - val_loss: 0.3584 - val_accuracy: 0.8350\n",
            "\n",
            "Epoch 00004: val_accuracy improved from 0.83161 to 0.83499, saving model to lstm_glove/val_accuracy-improve-04-0.8350.hdf5\n",
            "Epoch 5/10\n",
            "118/118 [==============================] - 170s 1s/step - loss: 0.3647 - accuracy: 0.8289 - val_loss: 0.3509 - val_accuracy: 0.8371\n",
            "\n",
            "Epoch 00005: val_accuracy improved from 0.83499 to 0.83706, saving model to lstm_glove/val_accuracy-improve-05-0.8371.hdf5\n",
            "Epoch 6/10\n",
            "118/118 [==============================] - 171s 1s/step - loss: 0.3593 - accuracy: 0.8310 - val_loss: 0.3454 - val_accuracy: 0.8372\n",
            "\n",
            "Epoch 00006: val_accuracy improved from 0.83706 to 0.83720, saving model to lstm_glove/val_accuracy-improve-06-0.8372.hdf5\n",
            "Epoch 7/10\n",
            "118/118 [==============================] - 171s 1s/step - loss: 0.3553 - accuracy: 0.8325 - val_loss: 0.3410 - val_accuracy: 0.8405\n",
            "\n",
            "Epoch 00007: val_accuracy improved from 0.83720 to 0.84051, saving model to lstm_glove/val_accuracy-improve-07-0.8405.hdf5\n",
            "Epoch 8/10\n",
            "118/118 [==============================] - 170s 1s/step - loss: 0.3509 - accuracy: 0.8341 - val_loss: 0.3379 - val_accuracy: 0.8386\n",
            "\n",
            "Epoch 00008: val_accuracy did not improve from 0.84051\n",
            "Epoch 9/10\n",
            "118/118 [==============================] - 170s 1s/step - loss: 0.3471 - accuracy: 0.8355 - val_loss: 0.3344 - val_accuracy: 0.8423\n",
            "\n",
            "Epoch 00009: val_accuracy improved from 0.84051 to 0.84230, saving model to lstm_glove/val_accuracy-improve-09-0.8423.hdf5\n",
            "Epoch 10/10\n",
            "118/118 [==============================] - 170s 1s/step - loss: 0.3441 - accuracy: 0.8375 - val_loss: 0.3312 - val_accuracy: 0.8425\n",
            "\n",
            "Epoch 00010: val_accuracy improved from 0.84230 to 0.84249, saving model to lstm_glove/val_accuracy-improve-10-0.8425.hdf5\n"
          ],
          "name": "stdout"
        }
      ]
    },
    {
      "cell_type": "code",
      "metadata": {
        "id": "Ldz0N7C9GQx3"
      },
      "source": [
        "drive_folder = \"/content/drive/MyDrive/NLP/NLP_Ass2/models/\" + model_save_dir\n",
        "if not os.path.isdir(drive_folder):\n",
        "    os.mkdir(drive_folder)\n",
        "\n",
        "!cp /content/lstm_glove/val_accuracy-improve-10-0.8425.hdf5 $drive_folder"
      ],
      "execution_count": null,
      "outputs": []
    },
    {
      "cell_type": "code",
      "metadata": {
        "colab": {
          "base_uri": "https://localhost:8080/",
          "height": 348
        },
        "id": "CfRtf6Zf1BNF",
        "outputId": "f9b14ac0-093e-41f5-85ae-1d751005248b"
      },
      "source": [
        "hist_glove = pd.DataFrame(history.history)\n",
        "hist_glove"
      ],
      "execution_count": null,
      "outputs": [
        {
          "output_type": "execute_result",
          "data": {
            "text/html": [
              "<div>\n",
              "<style scoped>\n",
              "    .dataframe tbody tr th:only-of-type {\n",
              "        vertical-align: middle;\n",
              "    }\n",
              "\n",
              "    .dataframe tbody tr th {\n",
              "        vertical-align: top;\n",
              "    }\n",
              "\n",
              "    .dataframe thead th {\n",
              "        text-align: right;\n",
              "    }\n",
              "</style>\n",
              "<table border=\"1\" class=\"dataframe\">\n",
              "  <thead>\n",
              "    <tr style=\"text-align: right;\">\n",
              "      <th></th>\n",
              "      <th>loss</th>\n",
              "      <th>accuracy</th>\n",
              "      <th>val_loss</th>\n",
              "      <th>val_accuracy</th>\n",
              "    </tr>\n",
              "  </thead>\n",
              "  <tbody>\n",
              "    <tr>\n",
              "      <th>0</th>\n",
              "      <td>2.014132</td>\n",
              "      <td>0.769962</td>\n",
              "      <td>0.523122</td>\n",
              "      <td>0.800662</td>\n",
              "    </tr>\n",
              "    <tr>\n",
              "      <th>1</th>\n",
              "      <td>0.442136</td>\n",
              "      <td>0.808138</td>\n",
              "      <td>0.392828</td>\n",
              "      <td>0.821773</td>\n",
              "    </tr>\n",
              "    <tr>\n",
              "      <th>2</th>\n",
              "      <td>0.390364</td>\n",
              "      <td>0.819999</td>\n",
              "      <td>0.370269</td>\n",
              "      <td>0.831606</td>\n",
              "    </tr>\n",
              "    <tr>\n",
              "      <th>3</th>\n",
              "      <td>0.374430</td>\n",
              "      <td>0.825234</td>\n",
              "      <td>0.358375</td>\n",
              "      <td>0.834994</td>\n",
              "    </tr>\n",
              "    <tr>\n",
              "      <th>4</th>\n",
              "      <td>0.365458</td>\n",
              "      <td>0.828500</td>\n",
              "      <td>0.350900</td>\n",
              "      <td>0.837056</td>\n",
              "    </tr>\n",
              "    <tr>\n",
              "      <th>5</th>\n",
              "      <td>0.358693</td>\n",
              "      <td>0.831056</td>\n",
              "      <td>0.345370</td>\n",
              "      <td>0.837203</td>\n",
              "    </tr>\n",
              "    <tr>\n",
              "      <th>6</th>\n",
              "      <td>0.353764</td>\n",
              "      <td>0.833363</td>\n",
              "      <td>0.341048</td>\n",
              "      <td>0.840506</td>\n",
              "    </tr>\n",
              "    <tr>\n",
              "      <th>7</th>\n",
              "      <td>0.349927</td>\n",
              "      <td>0.834539</td>\n",
              "      <td>0.337881</td>\n",
              "      <td>0.838649</td>\n",
              "    </tr>\n",
              "    <tr>\n",
              "      <th>8</th>\n",
              "      <td>0.346542</td>\n",
              "      <td>0.835741</td>\n",
              "      <td>0.334412</td>\n",
              "      <td>0.842304</td>\n",
              "    </tr>\n",
              "    <tr>\n",
              "      <th>9</th>\n",
              "      <td>0.343710</td>\n",
              "      <td>0.836972</td>\n",
              "      <td>0.331175</td>\n",
              "      <td>0.842486</td>\n",
              "    </tr>\n",
              "  </tbody>\n",
              "</table>\n",
              "</div>"
            ],
            "text/plain": [
              "       loss  accuracy  val_loss  val_accuracy\n",
              "0  2.014132  0.769962  0.523122      0.800662\n",
              "1  0.442136  0.808138  0.392828      0.821773\n",
              "2  0.390364  0.819999  0.370269      0.831606\n",
              "3  0.374430  0.825234  0.358375      0.834994\n",
              "4  0.365458  0.828500  0.350900      0.837056\n",
              "5  0.358693  0.831056  0.345370      0.837203\n",
              "6  0.353764  0.833363  0.341048      0.840506\n",
              "7  0.349927  0.834539  0.337881      0.838649\n",
              "8  0.346542  0.835741  0.334412      0.842304\n",
              "9  0.343710  0.836972  0.331175      0.842486"
            ]
          },
          "metadata": {
            "tags": []
          },
          "execution_count": 257
        }
      ]
    },
    {
      "cell_type": "code",
      "metadata": {
        "colab": {
          "base_uri": "https://localhost:8080/",
          "height": 388
        },
        "id": "x-yXOWys1-ka",
        "outputId": "532591ac-ba5e-45b2-cf11-9ef8e096392d"
      },
      "source": [
        "plt.figure(figsize=(10,6))\n",
        "plt.plot(hist_glove.loss, label=\"train Loss\")\n",
        "plt.plot(hist_glove.val_loss, label=\"validation Loss\")\n",
        "plt.xlabel(\"Epoch\")\n",
        "plt.ylabel(\"Loss\")\n",
        "plt.legend()\n",
        "plt.show()"
      ],
      "execution_count": null,
      "outputs": [
        {
          "output_type": "display_data",
          "data": {
            "image/png": "[encoded data removed]",
            "text/plain": [
              "<Figure size 720x432 with 1 Axes>"
            ]
          },
          "metadata": {
            "tags": [],
            "needs_background": "light"
          }
        }
      ]
    },
    {
      "cell_type": "code",
      "metadata": {
        "colab": {
          "base_uri": "https://localhost:8080/",
          "height": 388
        },
        "id": "Hf-81oiajv6B",
        "outputId": "e0bf013a-2a26-4763-b197-032c1e066529"
      },
      "source": [
        "plt.figure(figsize=(10,6))\n",
        "plt.plot(hist_glove.accuracy, label=\"train accuracy\")\n",
        "plt.plot(hist_glove.val_accuracy, label=\"validation accuracy\")\n",
        "plt.xlabel(\"Epoch\")\n",
        "plt.ylabel(\"Accuracy\")\n",
        "plt.legend()\n",
        "plt.show()"
      ],
      "execution_count": null,
      "outputs": [
        {
          "output_type": "display_data",
          "data": {
            "image/png": "[encoded data removed]",
            "text/plain": [
              "<Figure size 720x432 with 1 Axes>"
            ]
          },
          "metadata": {
            "tags": [],
            "needs_background": "light"
          }
        }
      ]
    },
    {
      "cell_type": "code",
      "metadata": {
        "colab": {
          "base_uri": "https://localhost:8080/",
          "height": 392
        },
        "id": "GEKluWBxCa1c",
        "outputId": "0691a7ed-06db-435e-ed8d-3d5cf90b0582"
      },
      "source": [
        "plt.figure(figsize=(10,6))\n",
        "plt.plot(log_history.losses, label=\"train Loss\")\n",
        "#plt.plot(log_history.val_losses, label=\"validation Loss\")\n",
        "plt.xlabel(\"Steps\")\n",
        "plt.ylabel(\"Loss\")\n",
        "plt.legend()\n",
        "plt.show()"
      ],
      "execution_count": null,
      "outputs": [
        {
          "output_type": "display_data",
          "data": {
            "image/png": "[encoded data removed]",
            "text/plain": [
              "<Figure size 720x432 with 1 Axes>"
            ]
          },
          "metadata": {
            "tags": [],
            "needs_background": "light"
          }
        }
      ]
    },
    {
      "cell_type": "code",
      "metadata": {
        "colab": {
          "base_uri": "https://localhost:8080/",
          "height": 388
        },
        "id": "ggLzKJuXCdCt",
        "outputId": "dafb2011-57e9-4802-b608-eb437708eef4"
      },
      "source": [
        "plt.figure(figsize=(10,6))\n",
        "plt.plot(log_history.accuracies, label=\"train accuracy\")\n",
        "plt.xlabel(\"Steps\")\n",
        "plt.ylabel(\"Accuracy\")\n",
        "plt.legend()\n",
        "plt.show()"
      ],
      "execution_count": null,
      "outputs": [
        {
          "output_type": "display_data",
          "data": {
            "image/png": "[encoded data removed]",
            "text/plain": [
              "<Figure size 720x432 with 1 Axes>"
            ]
          },
          "metadata": {
            "tags": [],
            "needs_background": "light"
          }
        }
      ]
    },
    {
      "cell_type": "markdown",
      "metadata": {
        "id": "qWOlazJCcT21"
      },
      "source": [
        "#### evaluate"
      ]
    },
    {
      "cell_type": "code",
      "metadata": {
        "colab": {
          "base_uri": "https://localhost:8080/"
        },
        "id": "bjfViRDr1TFK",
        "outputId": "06266720-1c89-40d9-d1f6-93533d7b0a5c"
      },
      "source": [
        "y_test_pred = lstm_model_glove.predict(x_test_idx_padded)\n",
        "y_test_pred_idx = y_test_pred.argmax(axis=-1)\n",
        "\n",
        "y_test_pred.shape, y_test_pred_idx.shape"
      ],
      "execution_count": null,
      "outputs": [
        {
          "output_type": "execute_result",
          "data": {
            "text/plain": [
              "((3770, 150, 9), (3770, 150))"
            ]
          },
          "metadata": {
            "tags": []
          },
          "execution_count": 263
        }
      ]
    },
    {
      "cell_type": "code",
      "metadata": {
        "colab": {
          "base_uri": "https://localhost:8080/"
        },
        "id": "mOvymlIi1TFM",
        "outputId": "db093e88-49b0-4e5f-9769-1057c1e27e62"
      },
      "source": [
        "y_test_flatten = []\n",
        "y_pred_flatten = []\n",
        "\n",
        "for t_list,p_list in zip(y_test_idx, y_test_pred_idx):\n",
        "    l = min(MAX_SEQ_LEN, len(t_list))\n",
        "    y_test_flatten.extend(t_list[:l])\n",
        "    y_pred_flatten.extend(p_list[:l])\n",
        "\n",
        "len(y_test_flatten), len(y_pred_flatten)"
      ],
      "execution_count": null,
      "outputs": [
        {
          "output_type": "execute_result",
          "data": {
            "text/plain": [
              "(340903, 340903)"
            ]
          },
          "metadata": {
            "tags": []
          },
          "execution_count": 264
        }
      ]
    },
    {
      "cell_type": "code",
      "metadata": {
        "colab": {
          "base_uri": "https://localhost:8080/"
        },
        "id": "9m6Nj7B41TFM",
        "outputId": "535da128-7cc6-4b8e-8138-51394d2a4113"
      },
      "source": [
        "print('\\nClassification Report:')\n",
        "print(classification_report(y_test_flatten, y_pred_flatten))"
      ],
      "execution_count": null,
      "outputs": [
        {
          "output_type": "stream",
          "text": [
            "\n",
            "Classification Report:\n",
            "              precision    recall  f1-score   support\n",
            "\n",
            "           0       0.87      0.97      0.92    264415\n",
            "           1       0.79      0.63      0.70     13608\n",
            "           2       0.71      0.62      0.66     11417\n",
            "           3       0.51      0.12      0.19     12478\n",
            "           4       0.61      0.48      0.54     18275\n",
            "           5       0.58      0.32      0.41      5246\n",
            "           6       0.56      0.05      0.10      1176\n",
            "           7       0.73      0.29      0.41      8049\n",
            "           8       0.78      0.20      0.32      6239\n",
            "\n",
            "    accuracy                           0.84    340903\n",
            "   macro avg       0.68      0.41      0.47    340903\n",
            "weighted avg       0.82      0.84      0.82    340903\n",
            "\n"
          ],
          "name": "stdout"
        }
      ]
    },
    {
      "cell_type": "code",
      "metadata": {
        "colab": {
          "base_uri": "https://localhost:8080/",
          "height": 538
        },
        "id": "bLLNlXJ21TFM",
        "outputId": "809e46e3-91b8-45f3-8b20-3644becc030c"
      },
      "source": [
        "mat = confusion_matrix(y_test_flatten, y_pred_flatten)\n",
        "plt.figure(figsize=(12,8))\n",
        "sns.heatmap(mat.T, square = True, annot=True, fmt = \"d\",  xticklabels=possible_labels, yticklabels=possible_labels)\n",
        "plt.xlabel(\"true labels\")\n",
        "plt.ylabel(\"predicted label\")\n",
        "plt.show()"
      ],
      "execution_count": null,
      "outputs": [
        {
          "output_type": "display_data",
          "data": {
            "image/png": "[encoded data removed]",
            "text/plain": [
              "<Figure size 864x576 with 2 Axes>"
            ]
          },
          "metadata": {
            "tags": [],
            "needs_background": "light"
          }
        }
      ]
    },
    {
      "cell_type": "code",
      "metadata": {
        "id": "X7qHrzFoce1Z"
      },
      "source": [
        "def display_predictions(x, y, y_pred):\n",
        "    tokens = [idx2word[i] for i in x]\n",
        "    y_lbl = [idx2lbl[i] for i in y]\n",
        "    y_pred_lbl = [idx2lbl[i] for i in y_pred]\n",
        "\n",
        "    print(\"{:15} :{:10} :{}\".format(\"Word\", \"True\", \"Pred\"))\n",
        "    print(\"-\"*35)\n",
        "\n",
        "    for tok, o, p in zip(tokens[:MAX_SEQ_LEN], y_lbl, y_pred_lbl):\n",
        "        print(f\"{tok:15} {o:10} {p}\")\n",
        "        # we only want words till ENDPAD\n",
        "        if tok == \"<pad>\":\n",
        "            break  "
      ],
      "execution_count": null,
      "outputs": []
    },
    {
      "cell_type": "code",
      "metadata": {
        "colab": {
          "base_uri": "https://localhost:8080/"
        },
        "id": "AYUa2Ymscgdq",
        "outputId": "331e4ed7-aafe-49d0-de00-46d1cfb15328"
      },
      "source": [
        "k =  random.randint(0, len(x_train_idx_padded)-1)\n",
        "display_infer(x_train_idx_padded[k], y_train_idx_padded[k], y_train_pred_idx[k])"
      ],
      "execution_count": null,
      "outputs": [
        {
          "output_type": "stream",
          "text": [
            "Word            :True       :Pred\n",
            "-----------------------------------\n",
            "['art', '<unk>', 'quadra', 'scsi', 'problems', 'organization', 'stratus', 'computers', 'inc.', 'lines', 'distribution', 'world', 'nntp', 'posting', 'host', 'article', '<unk>', 'van', 'der', 'linden', 'writes', 'like', 'info', 'anybody', 'exabyte', 'tapedrive', 'working', 'quadra', 'trying', 'september', 'replaced', 'cabling', 'inits', 'nt', 'know', 'industry', 'experts', 'phoned', 'tapedrive', 'dealer', 'apple', 'dealer', 'software', 'dealer', 'fault', 'nt', 'know', 'thing', 'said', 'needed', 'special', 'quadra', 'scsi', 'terminator', 'anybody', 'know', 'thanks', 'article', 'mark', 'h.', 'nodine', 'wrote', 'article', 'bill', 'johnston', 'writes', 'article', 'mark', 'h.', 'nodine', 'writes', 'nt', 'know', 'specific', 'problem', 'mentioned', 'message', 'definitely', 'scsi', 'problems', 'q700', 'venerable', 'jasmine', 'megadrive', 'cartridge', 'drives', 'solution', 'silverlining', 'loops', 'involved', 'blind', 'writes', 'worked', 'drives', 'fact', 'loop', 'worked', 'macintosh', 'software', 'loop', 'means', 'doubt', 'quadra', 'specific', 'problem', 'rid', 'venerable', 'bernoulli', 'year', 'cartridges', 'purchased', 'thing', 'worth', 'computer', 'tech', 'support', 'guys', 'ocean', 'microsystems', 'suggested', 'party', 'drivers', 'fix', 'problem', 'case', 'cartridges', 'nt', 'aux', 'know', 'megadrives', 'worked', 'perfectly', 'mac', 'plus', 'powerbook', 'reason', 'assumed', 'problem', 'quadra', 'quadra', 'worked', 'ok', 'problem', 'occurred', 'ejected', 'cartridge', 'drive', 'start', 'popping', 'dialog']\n",
            "['O', 'O', 'I-ORG', 'I-ORG', 'I-ORG', 'I-ORG', 'I-ORG', 'I-ORG', 'I-ORG', 'I-ORG', 'O', 'O', 'O', 'O', 'O', 'O', 'O', 'I-PERSON', 'I-PERSON', 'I-PERSON', 'O', 'O', 'O', 'O', 'B-PERSON', 'O', 'O', 'I-MISC', 'O', 'B-MISC', 'O', 'O', 'O', 'O', 'O', 'O', 'O', 'O', 'O', 'O', 'B-ORG', 'O', 'O', 'O', 'O', 'O', 'O', 'O', 'O', 'O', 'O', 'B-PERSON', 'I-PERSON', 'O', 'O', 'O', 'O', 'O', 'B-PERSON', 'I-PERSON', 'I-PERSON', 'O', 'O', 'B-PERSON', 'I-PERSON', 'O', 'O', 'B-PERSON', 'I-PERSON', 'I-PERSON', 'O', 'O', 'O', 'O', 'O', 'O', 'O', 'O', 'B-ORG', 'O', 'B-MISC', 'O', 'O', 'O', 'O', 'O', 'O', 'O', 'O', 'O', 'O', 'O', 'O', 'O', 'O', 'O', 'O', 'O', 'O', 'O', 'O', 'O', 'B-PERSON', 'O', 'O', 'O', 'O', 'B-ORG', 'I-MISC', 'O', 'O', 'O', 'O', 'O', 'O', 'O', 'O', 'B-ORG', 'I-ORG', 'O', 'O', 'O', 'O', 'O', 'O', 'O', 'O', 'B-ORG', 'O', 'B-MISC', 'O', 'O', 'O', 'O', 'O', 'O', 'O', 'O', 'B-PERSON', 'B-PERSON', 'O', 'O', 'O', 'O', 'O', 'O', 'O', 'O', 'O', 'O']\n",
            "['O', 'O', 'O', 'O', 'O', 'I-ORG', 'I-ORG', 'I-ORG', 'I-ORG', 'I-ORG', 'O', 'O', 'O', 'O', 'O', 'O', 'O', 'O', 'O', 'I-PERSON', 'O', 'O', 'O', 'O', 'O', 'O', 'O', 'O', 'O', 'O', 'O', 'O', 'O', 'O', 'O', 'O', 'O', 'O', 'O', 'O', 'O', 'O', 'O', 'O', 'O', 'O', 'O', 'O', 'O', 'O', 'O', 'O', 'O', 'O', 'O', 'O', 'O', 'O', 'B-PERSON', 'I-PERSON', 'I-PERSON', 'O', 'O', 'B-PERSON', 'I-PERSON', 'O', 'O', 'B-PERSON', 'I-PERSON', 'I-PERSON', 'O', 'O', 'O', 'O', 'O', 'O', 'O', 'O', 'O', 'O', 'O', 'O', 'O', 'O', 'O', 'O', 'O', 'O', 'O', 'O', 'O', 'O', 'O', 'O', 'O', 'O', 'O', 'O', 'O', 'O', 'O', 'O', 'O', 'O', 'O', 'O', 'O', 'O', 'O', 'O', 'O', 'O', 'O', 'O', 'O', 'O', 'O', 'O', 'B-ORG', 'O', 'O', 'O', 'O', 'O', 'O', 'O', 'O', 'O', 'O', 'O', 'O', 'O', 'O', 'O', 'O', 'O', 'O', 'O', 'O', 'O', 'O', 'O', 'O', 'O', 'O', 'O', 'O', 'O', 'O', 'O']\n",
            "art             O          O\n",
            "<unk>           O          O\n",
            "quadra          I-ORG      O\n",
            "scsi            I-ORG      O\n",
            "problems        I-ORG      O\n",
            "organization    I-ORG      I-ORG\n",
            "stratus         I-ORG      I-ORG\n",
            "computers       I-ORG      I-ORG\n",
            "inc.            I-ORG      I-ORG\n",
            "lines           I-ORG      I-ORG\n",
            "distribution    O          O\n",
            "world           O          O\n",
            "nntp            O          O\n",
            "posting         O          O\n",
            "host            O          O\n",
            "article         O          O\n",
            "<unk>           O          O\n",
            "van             I-PERSON   O\n",
            "der             I-PERSON   O\n",
            "linden          I-PERSON   I-PERSON\n",
            "writes          O          O\n",
            "like            O          O\n",
            "info            O          O\n",
            "anybody         O          O\n",
            "exabyte         B-PERSON   O\n",
            "tapedrive       O          O\n",
            "working         O          O\n",
            "quadra          I-MISC     O\n",
            "trying          O          O\n",
            "september       B-MISC     O\n",
            "replaced        O          O\n",
            "cabling         O          O\n",
            "inits           O          O\n",
            "nt              O          O\n",
            "know            O          O\n",
            "industry        O          O\n",
            "experts         O          O\n",
            "phoned          O          O\n",
            "tapedrive       O          O\n",
            "dealer          O          O\n",
            "apple           B-ORG      O\n",
            "dealer          O          O\n",
            "software        O          O\n",
            "dealer          O          O\n",
            "fault           O          O\n",
            "nt              O          O\n",
            "know            O          O\n",
            "thing           O          O\n",
            "said            O          O\n",
            "needed          O          O\n",
            "special         O          O\n",
            "quadra          B-PERSON   O\n",
            "scsi            I-PERSON   O\n",
            "terminator      O          O\n",
            "anybody         O          O\n",
            "know            O          O\n",
            "thanks          O          O\n",
            "article         O          O\n",
            "mark            B-PERSON   B-PERSON\n",
            "h.              I-PERSON   I-PERSON\n",
            "nodine          I-PERSON   I-PERSON\n",
            "wrote           O          O\n",
            "article         O          O\n",
            "bill            B-PERSON   B-PERSON\n",
            "johnston        I-PERSON   I-PERSON\n",
            "writes          O          O\n",
            "article         O          O\n",
            "mark            B-PERSON   B-PERSON\n",
            "h.              I-PERSON   I-PERSON\n",
            "nodine          I-PERSON   I-PERSON\n",
            "writes          O          O\n",
            "nt              O          O\n",
            "know            O          O\n",
            "specific        O          O\n",
            "problem         O          O\n",
            "mentioned       O          O\n",
            "message         O          O\n",
            "definitely      O          O\n",
            "scsi            B-ORG      O\n",
            "problems        O          O\n",
            "q700            B-MISC     O\n",
            "venerable       O          O\n",
            "jasmine         O          O\n",
            "megadrive       O          O\n",
            "cartridge       O          O\n",
            "drives          O          O\n",
            "solution        O          O\n",
            "silverlining    O          O\n",
            "loops           O          O\n",
            "involved        O          O\n",
            "blind           O          O\n",
            "writes          O          O\n",
            "worked          O          O\n",
            "drives          O          O\n",
            "fact            O          O\n",
            "loop            O          O\n",
            "worked          O          O\n",
            "macintosh       O          O\n",
            "software        O          O\n",
            "loop            O          O\n",
            "means           O          O\n",
            "doubt           O          O\n",
            "quadra          B-PERSON   O\n",
            "specific        O          O\n",
            "problem         O          O\n",
            "rid             O          O\n",
            "venerable       O          O\n",
            "bernoulli       B-ORG      O\n",
            "year            I-MISC     O\n",
            "cartridges      O          O\n",
            "purchased       O          O\n",
            "thing           O          O\n",
            "worth           O          O\n",
            "computer        O          O\n",
            "tech            O          O\n",
            "support         O          O\n",
            "guys            O          O\n",
            "ocean           B-ORG      O\n",
            "microsystems    I-ORG      B-ORG\n",
            "suggested       O          O\n",
            "party           O          O\n",
            "drivers         O          O\n",
            "fix             O          O\n",
            "problem         O          O\n",
            "case            O          O\n",
            "cartridges      O          O\n",
            "nt              O          O\n",
            "aux             B-ORG      O\n",
            "know            O          O\n",
            "megadrives      B-MISC     O\n",
            "worked          O          O\n",
            "perfectly       O          O\n",
            "mac             O          O\n",
            "plus            O          O\n",
            "powerbook       O          O\n",
            "reason          O          O\n",
            "assumed         O          O\n",
            "problem         O          O\n",
            "quadra          B-PERSON   O\n",
            "quadra          B-PERSON   O\n",
            "worked          O          O\n",
            "ok              O          O\n",
            "problem         O          O\n",
            "occurred        O          O\n",
            "ejected         O          O\n",
            "cartridge       O          O\n",
            "drive           O          O\n",
            "start           O          O\n",
            "popping         O          O\n",
            "dialog          O          O\n"
          ],
          "name": "stdout"
        }
      ]
    },
    {
      "cell_type": "code",
      "metadata": {
        "colab": {
          "base_uri": "https://localhost:8080/"
        },
        "id": "FtgOgmClb9qp",
        "outputId": "096a31fc-85b6-4890-85c8-7da7b7a73f10"
      },
      "source": [
        "neg_idx = y_test==1\n",
        "print(y_pred[neg_idx][:20])"
      ],
      "execution_count": null,
      "outputs": [
        {
          "output_type": "stream",
          "text": [
            "[[0.93985164]\n",
            " [0.96505076]\n",
            " [0.9508675 ]\n",
            " [0.9591978 ]\n",
            " [0.9921793 ]\n",
            " [0.9853513 ]\n",
            " [0.35582128]\n",
            " [0.9858087 ]\n",
            " [0.71300066]\n",
            " [0.3687348 ]\n",
            " [0.99865025]\n",
            " [0.60092634]\n",
            " [0.77743816]\n",
            " [0.9465676 ]\n",
            " [0.93626773]\n",
            " [0.84705675]\n",
            " [0.9578289 ]\n",
            " [0.9746558 ]\n",
            " [0.9705723 ]\n",
            " [0.9758438 ]]\n"
          ],
          "name": "stdout"
        }
      ]
    },
    {
      "cell_type": "markdown",
      "metadata": {
        "id": "FMoyXJ67Rum2"
      },
      "source": [
        "### train on fastText embeddings"
      ]
    },
    {
      "cell_type": "code",
      "metadata": {
        "colab": {
          "base_uri": "https://localhost:8080/"
        },
        "id": "YeHoJ8TYicGa",
        "outputId": "957fcae7-c711-4e7b-eba7-b0db04a4920f"
      },
      "source": [
        "lstm_model_ft = build_lstm_model(ft_embed_matrix, 300, 9, 'sparse_categorical_crossentropy')\n",
        "lstm_model_ft.summary()"
      ],
      "execution_count": null,
      "outputs": [
        {
          "output_type": "stream",
          "text": [
            "Model: \"model_3\"\n",
            "_________________________________________________________________\n",
            "Layer (type)                 Output Shape              Param #   \n",
            "=================================================================\n",
            "input (InputLayer)           [(None, 150)]             0         \n",
            "_________________________________________________________________\n",
            "embedding_5 (Embedding)      (None, 150, 300)          10500000  \n",
            "_________________________________________________________________\n",
            "lstm (Bidirectional)         (None, 150, 128)          186880    \n",
            "_________________________________________________________________\n",
            "time_distributed_3 (TimeDist (None, 150, 9)            1161      \n",
            "=================================================================\n",
            "Total params: 10,688,041\n",
            "Trainable params: 188,041\n",
            "Non-trainable params: 10,500,000\n",
            "_________________________________________________________________\n"
          ],
          "name": "stdout"
        }
      ]
    },
    {
      "cell_type": "code",
      "metadata": {
        "id": "KQ64YQHpicGm"
      },
      "source": [
        "monitor_para = \"val_accuracy\"\n",
        "model_save_dir = \"lstm_ft/\"\n",
        "\n",
        "if not os.path.isdir(model_save_dir):\n",
        "    os.mkdir(model_save_dir)\n",
        "\n",
        "filepath = model_save_dir + \"%s-improve-{epoch:02d}-{%s:.4f}.hdf5\" % (monitor_para, monitor_para)\n",
        "\n",
        "log_history = LossHistory()\n",
        "checkpoint = ModelCheckpoint(filepath, monitor=monitor_para, verbose=1, save_best_only=True, mode='auto')\n",
        "early_stopping = EarlyStopping(monitor='val_loss', patience=3, min_delta=0, verbose=1, restore_best_weights=True)"
      ],
      "execution_count": null,
      "outputs": []
    },
    {
      "cell_type": "code",
      "metadata": {
        "colab": {
          "base_uri": "https://localhost:8080/"
        },
        "id": "XYe8Ebv6icGn",
        "outputId": "af88b2fa-157a-42f9-dfc4-ed31ac4853d2"
      },
      "source": [
        "BATCH_SIZE = 128\n",
        "EPOCHS = 10\n",
        "history = lstm_model_ft.fit(x_train_idx_padded, y_train_idx_padded,\n",
        "                             batch_size = BATCH_SIZE,\n",
        "                             epochs = EPOCHS,\n",
        "                             #class_weight = class_weights,\n",
        "                             callbacks = [checkpoint, early_stopping, log_history],\n",
        "                             validation_data = (x_test_idx_padded, y_test_idx_padded)\n",
        "                             )"
      ],
      "execution_count": null,
      "outputs": [
        {
          "output_type": "stream",
          "text": [
            "Epoch 1/10\n",
            "118/118 [==============================] - 170s 1s/step - loss: 0.3701 - accuracy: 0.8269 - val_loss: 0.3553 - val_accuracy: 0.8333\n",
            "\n",
            "Epoch 00001: val_accuracy improved from -inf to 0.83329, saving model to lstm_ft/val_accuracy-improve-01-0.8333.hdf5\n",
            "Epoch 2/10\n",
            "118/118 [==============================] - 170s 1s/step - loss: 0.3627 - accuracy: 0.8300 - val_loss: 0.3479 - val_accuracy: 0.8373\n",
            "\n",
            "Epoch 00002: val_accuracy improved from 0.83329 to 0.83729, saving model to lstm_ft/val_accuracy-improve-02-0.8373.hdf5\n",
            "Epoch 3/10\n",
            "118/118 [==============================] - 171s 1s/step - loss: 0.3564 - accuracy: 0.8322 - val_loss: 0.3434 - val_accuracy: 0.8407\n",
            "\n",
            "Epoch 00003: val_accuracy improved from 0.83729 to 0.84074, saving model to lstm_ft/val_accuracy-improve-03-0.8407.hdf5\n",
            "Epoch 4/10\n",
            "118/118 [==============================] - 172s 1s/step - loss: 0.3522 - accuracy: 0.8339 - val_loss: 0.3400 - val_accuracy: 0.8414\n",
            "\n",
            "Epoch 00004: val_accuracy improved from 0.84074 to 0.84145, saving model to lstm_ft/val_accuracy-improve-04-0.8414.hdf5\n",
            "Epoch 5/10\n",
            "118/118 [==============================] - 171s 1s/step - loss: 0.3492 - accuracy: 0.8350 - val_loss: 0.3373 - val_accuracy: 0.8428\n",
            "\n",
            "Epoch 00005: val_accuracy improved from 0.84145 to 0.84282, saving model to lstm_ft/val_accuracy-improve-05-0.8428.hdf5\n",
            "Epoch 6/10\n",
            "118/118 [==============================] - 170s 1s/step - loss: 0.3461 - accuracy: 0.8362 - val_loss: 0.3346 - val_accuracy: 0.8413\n",
            "\n",
            "Epoch 00006: val_accuracy did not improve from 0.84282\n",
            "Epoch 7/10\n",
            "118/118 [==============================] - 171s 1s/step - loss: 0.3436 - accuracy: 0.8371 - val_loss: 0.3317 - val_accuracy: 0.8446\n",
            "\n",
            "Epoch 00007: val_accuracy improved from 0.84282 to 0.84465, saving model to lstm_ft/val_accuracy-improve-07-0.8446.hdf5\n",
            "Epoch 8/10\n",
            "118/118 [==============================] - 171s 1s/step - loss: 0.3415 - accuracy: 0.8382 - val_loss: 0.3306 - val_accuracy: 0.8418\n",
            "\n",
            "Epoch 00008: val_accuracy did not improve from 0.84465\n",
            "Epoch 9/10\n",
            "118/118 [==============================] - 171s 1s/step - loss: 0.3393 - accuracy: 0.8385 - val_loss: 0.3287 - val_accuracy: 0.8438\n",
            "\n",
            "Epoch 00009: val_accuracy did not improve from 0.84465\n",
            "Epoch 10/10\n",
            "118/118 [==============================] - 171s 1s/step - loss: 0.3378 - accuracy: 0.8392 - val_loss: 0.3260 - val_accuracy: 0.8447\n",
            "\n",
            "Epoch 00010: val_accuracy improved from 0.84465 to 0.84467, saving model to lstm_ft/val_accuracy-improve-10-0.8447.hdf5\n"
          ],
          "name": "stdout"
        }
      ]
    },
    {
      "cell_type": "code",
      "metadata": {
        "id": "7WG9xuzticGn"
      },
      "source": [
        "drive_folder = \"/content/drive/MyDrive/NLP/NLP_Ass2/models/\" + model_save_dir\n",
        "if not os.path.isdir(drive_folder):\n",
        "    os.mkdir(drive_folder)\n",
        "\n",
        "!cp /content/lstm_ft/val_accuracy-improve-10-0.8447.hdf5 $drive_folder"
      ],
      "execution_count": null,
      "outputs": []
    },
    {
      "cell_type": "code",
      "metadata": {
        "colab": {
          "base_uri": "https://localhost:8080/",
          "height": 388
        },
        "id": "6hR1EOtKrCFJ",
        "outputId": "79116efb-9aab-4873-e331-9715a8492c70"
      },
      "source": [
        "plt.figure(figsize=(10,6))\n",
        "plt.plot(log_history.losses, label=\"train Loss\")\n",
        "#plt.plot(log_history.val_losses, label=\"validation Loss\")\n",
        "plt.xlabel(\"Steps\")\n",
        "plt.ylabel(\"Loss\")\n",
        "plt.legend()\n",
        "plt.show()"
      ],
      "execution_count": null,
      "outputs": [
        {
          "output_type": "display_data",
          "data": {
            "image/png": "[encoded data removed]",
            "text/plain": [
              "<Figure size 720x432 with 1 Axes>"
            ]
          },
          "metadata": {
            "tags": [],
            "needs_background": "light"
          }
        }
      ]
    },
    {
      "cell_type": "code",
      "metadata": {
        "colab": {
          "base_uri": "https://localhost:8080/",
          "height": 388
        },
        "id": "bgMAxBWJsSu6",
        "outputId": "bec8d4c8-5256-4b92-e130-0e9a4e555de1"
      },
      "source": [
        "plt.figure(figsize=(10,6))\n",
        "plt.plot(log_history.accuracies, label=\"train accuracy\")\n",
        "plt.xlabel(\"Steps\")\n",
        "plt.ylabel(\"Accuracy\")\n",
        "plt.legend()\n",
        "plt.show()"
      ],
      "execution_count": null,
      "outputs": [
        {
          "output_type": "display_data",
          "data": {
            "image/png": "[encoded data removed]",
            "text/plain": [
              "<Figure size 720x432 with 1 Axes>"
            ]
          },
          "metadata": {
            "tags": [],
            "needs_background": "light"
          }
        }
      ]
    },
    {
      "cell_type": "code",
      "metadata": {
        "colab": {
          "base_uri": "https://localhost:8080/",
          "height": 348
        },
        "id": "oCeNXeNYvebc",
        "outputId": "ab09a3be-198b-4d1b-8c5b-883f66b6a6ee"
      },
      "source": [
        "hist_ft = pd.DataFrame(history.history)\n",
        "hist_ft"
      ],
      "execution_count": null,
      "outputs": [
        {
          "output_type": "execute_result",
          "data": {
            "text/html": [
              "<div>\n",
              "<style scoped>\n",
              "    .dataframe tbody tr th:only-of-type {\n",
              "        vertical-align: middle;\n",
              "    }\n",
              "\n",
              "    .dataframe tbody tr th {\n",
              "        vertical-align: top;\n",
              "    }\n",
              "\n",
              "    .dataframe thead th {\n",
              "        text-align: right;\n",
              "    }\n",
              "</style>\n",
              "<table border=\"1\" class=\"dataframe\">\n",
              "  <thead>\n",
              "    <tr style=\"text-align: right;\">\n",
              "      <th></th>\n",
              "      <th>loss</th>\n",
              "      <th>accuracy</th>\n",
              "      <th>val_loss</th>\n",
              "      <th>val_accuracy</th>\n",
              "    </tr>\n",
              "  </thead>\n",
              "  <tbody>\n",
              "    <tr>\n",
              "      <th>0</th>\n",
              "      <td>0.370114</td>\n",
              "      <td>0.826937</td>\n",
              "      <td>0.355265</td>\n",
              "      <td>0.833290</td>\n",
              "    </tr>\n",
              "    <tr>\n",
              "      <th>1</th>\n",
              "      <td>0.362663</td>\n",
              "      <td>0.830010</td>\n",
              "      <td>0.347950</td>\n",
              "      <td>0.837288</td>\n",
              "    </tr>\n",
              "    <tr>\n",
              "      <th>2</th>\n",
              "      <td>0.356423</td>\n",
              "      <td>0.832188</td>\n",
              "      <td>0.343369</td>\n",
              "      <td>0.840741</td>\n",
              "    </tr>\n",
              "    <tr>\n",
              "      <th>3</th>\n",
              "      <td>0.352202</td>\n",
              "      <td>0.833906</td>\n",
              "      <td>0.340019</td>\n",
              "      <td>0.841448</td>\n",
              "    </tr>\n",
              "    <tr>\n",
              "      <th>4</th>\n",
              "      <td>0.349236</td>\n",
              "      <td>0.834995</td>\n",
              "      <td>0.337299</td>\n",
              "      <td>0.842817</td>\n",
              "    </tr>\n",
              "    <tr>\n",
              "      <th>5</th>\n",
              "      <td>0.346058</td>\n",
              "      <td>0.836196</td>\n",
              "      <td>0.334602</td>\n",
              "      <td>0.841266</td>\n",
              "    </tr>\n",
              "    <tr>\n",
              "      <th>6</th>\n",
              "      <td>0.343556</td>\n",
              "      <td>0.837145</td>\n",
              "      <td>0.331699</td>\n",
              "      <td>0.844648</td>\n",
              "    </tr>\n",
              "    <tr>\n",
              "      <th>7</th>\n",
              "      <td>0.341457</td>\n",
              "      <td>0.838244</td>\n",
              "      <td>0.330600</td>\n",
              "      <td>0.841773</td>\n",
              "    </tr>\n",
              "    <tr>\n",
              "      <th>8</th>\n",
              "      <td>0.339345</td>\n",
              "      <td>0.838539</td>\n",
              "      <td>0.328731</td>\n",
              "      <td>0.843756</td>\n",
              "    </tr>\n",
              "    <tr>\n",
              "      <th>9</th>\n",
              "      <td>0.337773</td>\n",
              "      <td>0.839163</td>\n",
              "      <td>0.325996</td>\n",
              "      <td>0.844665</td>\n",
              "    </tr>\n",
              "  </tbody>\n",
              "</table>\n",
              "</div>"
            ],
            "text/plain": [
              "       loss  accuracy  val_loss  val_accuracy\n",
              "0  0.370114  0.826937  0.355265      0.833290\n",
              "1  0.362663  0.830010  0.347950      0.837288\n",
              "2  0.356423  0.832188  0.343369      0.840741\n",
              "3  0.352202  0.833906  0.340019      0.841448\n",
              "4  0.349236  0.834995  0.337299      0.842817\n",
              "5  0.346058  0.836196  0.334602      0.841266\n",
              "6  0.343556  0.837145  0.331699      0.844648\n",
              "7  0.341457  0.838244  0.330600      0.841773\n",
              "8  0.339345  0.838539  0.328731      0.843756\n",
              "9  0.337773  0.839163  0.325996      0.844665"
            ]
          },
          "metadata": {
            "tags": []
          },
          "execution_count": 244
        }
      ]
    },
    {
      "cell_type": "code",
      "metadata": {
        "colab": {
          "base_uri": "https://localhost:8080/",
          "height": 388
        },
        "id": "P2qo6sjCr2e7",
        "outputId": "9cf6afb9-38e5-414c-afe2-7326448e3189"
      },
      "source": [
        "plt.figure(figsize=(10,6))\n",
        "plt.plot(hist_ft['loss'], label=\"train Loss\")\n",
        "plt.plot(hist_ft['val_loss'], label=\"validation Loss\")\n",
        "plt.xlabel(\"Epoch\")\n",
        "plt.ylabel(\"Loss\")\n",
        "plt.legend()\n",
        "plt.show()"
      ],
      "execution_count": null,
      "outputs": [
        {
          "output_type": "display_data",
          "data": {
            "image/png": "[encoded data removed]",
            "text/plain": [
              "<Figure size 720x432 with 1 Axes>"
            ]
          },
          "metadata": {
            "tags": [],
            "needs_background": "light"
          }
        }
      ]
    },
    {
      "cell_type": "code",
      "metadata": {
        "colab": {
          "base_uri": "https://localhost:8080/",
          "height": 388
        },
        "id": "3blYp1iGr2e8",
        "outputId": "56fe384f-0b44-4a30-e832-07503732b7e4"
      },
      "source": [
        "plt.figure(figsize=(10,6))\n",
        "plt.plot(hist_ft['accuracy'], label=\"train accuracy\")\n",
        "plt.plot(hist_ft['val_accuracy'], label=\"validation accuracy\")\n",
        "plt.xlabel(\"Epoch\")\n",
        "plt.ylabel(\"Accuracy\")\n",
        "plt.legend()\n",
        "plt.show()"
      ],
      "execution_count": null,
      "outputs": [
        {
          "output_type": "display_data",
          "data": {
            "image/png": "[encoded data removed]",
            "text/plain": [
              "<Figure size 720x432 with 1 Axes>"
            ]
          },
          "metadata": {
            "tags": [],
            "needs_background": "light"
          }
        }
      ]
    },
    {
      "cell_type": "markdown",
      "metadata": {
        "id": "k8dyw5EA1nNZ"
      },
      "source": [
        "#### evaluate"
      ]
    },
    {
      "cell_type": "code",
      "metadata": {
        "colab": {
          "base_uri": "https://localhost:8080/"
        },
        "id": "xB8Y785mtU9B",
        "outputId": "a2641ee1-3aa1-446c-80b4-b0a4c51d7a40"
      },
      "source": [
        "y_test_pred = lstm_model_ft.predict(x_test_idx_padded)\n",
        "y_test_pred_idx = y_test_pred.argmax(axis=-1)\n",
        "\n",
        "y_test_pred.shape, y_test_pred_idx.shape"
      ],
      "execution_count": null,
      "outputs": [
        {
          "output_type": "execute_result",
          "data": {
            "text/plain": [
              "((3770, 150, 9), (3770, 150))"
            ]
          },
          "metadata": {
            "tags": []
          },
          "execution_count": 248
        }
      ]
    },
    {
      "cell_type": "code",
      "metadata": {
        "colab": {
          "base_uri": "https://localhost:8080/"
        },
        "id": "OE8BbO6ftU9B",
        "outputId": "f9376cb1-5886-4bb4-fa54-437ccf4a4cde"
      },
      "source": [
        "y_test_flatten = []\n",
        "y_pred_flatten = []\n",
        "\n",
        "for t_list,p_list in zip(y_test_idx, y_test_pred_idx):\n",
        "    l = min(MAX_SEQ_LEN, len(t_list))\n",
        "    y_test_flatten.extend(t_list[:l])\n",
        "    y_pred_flatten.extend(p_list[:l])\n",
        "\n",
        "len(y_test_flatten), len(y_pred_flatten)"
      ],
      "execution_count": null,
      "outputs": [
        {
          "output_type": "execute_result",
          "data": {
            "text/plain": [
              "(340903, 340903)"
            ]
          },
          "metadata": {
            "tags": []
          },
          "execution_count": 249
        }
      ]
    },
    {
      "cell_type": "code",
      "metadata": {
        "colab": {
          "base_uri": "https://localhost:8080/"
        },
        "id": "w1c0Xxv7tU9C",
        "outputId": "3a865277-c576-46a6-bc3b-3854cff627ac"
      },
      "source": [
        "print('\\nClassification Report:')\n",
        "print(classification_report(y_test_flatten, y_pred_flatten))"
      ],
      "execution_count": null,
      "outputs": [
        {
          "output_type": "stream",
          "text": [
            "\n",
            "Classification Report:\n",
            "              precision    recall  f1-score   support\n",
            "\n",
            "           0       0.84      0.23      0.36    264415\n",
            "           1       0.03      0.04      0.04     13608\n",
            "           2       0.04      0.05      0.05     11417\n",
            "           3       0.07      0.02      0.03     12478\n",
            "           4       0.06      0.02      0.03     18275\n",
            "           5       0.01      0.16      0.02      5246\n",
            "           6       0.00      0.03      0.01      1176\n",
            "           7       0.03      0.27      0.05      8049\n",
            "           8       0.03      0.23      0.05      6239\n",
            "\n",
            "    accuracy                           0.20    340903\n",
            "   macro avg       0.12      0.12      0.07    340903\n",
            "weighted avg       0.66      0.20      0.29    340903\n",
            "\n"
          ],
          "name": "stdout"
        }
      ]
    },
    {
      "cell_type": "code",
      "metadata": {
        "colab": {
          "base_uri": "https://localhost:8080/",
          "height": 538
        },
        "id": "f9WPyGjUtU9C",
        "outputId": "d69651cf-43c8-4aa0-b8ce-3e739efea41f"
      },
      "source": [
        "mat = confusion_matrix(y_test_flatten, y_pred_flatten)\n",
        "plt.figure(figsize=(12,8))\n",
        "sns.heatmap(mat.T, square = True, annot=True, fmt = \"d\",  xticklabels=possible_labels, yticklabels=possible_labels)\n",
        "plt.xlabel(\"true labels\")\n",
        "plt.ylabel(\"predicted label\")\n",
        "plt.show()"
      ],
      "execution_count": null,
      "outputs": [
        {
          "output_type": "display_data",
          "data": {
            "image/png": "[encoded data removed]",
            "text/plain": [
              "<Figure size 864x576 with 2 Axes>"
            ]
          },
          "metadata": {
            "tags": [],
            "needs_background": "light"
          }
        }
      ]
    },
    {
      "cell_type": "markdown",
      "metadata": {
        "id": "d18rmtiu9LQq"
      },
      "source": [
        "\n",
        "### train on Word2Vec embeddings"
      ]
    },
    {
      "cell_type": "code",
      "metadata": {
        "colab": {
          "base_uri": "https://localhost:8080/"
        },
        "id": "MQvtcP4s9LQ3",
        "outputId": "2ff01914-e703-4890-ebfd-4eb1540c2769"
      },
      "source": [
        "lstm_model_w2v = build_lstm_model(w2v_embed_matrix, 300, 9, 'sparse_categorical_crossentropy')\n",
        "lstm_model_w2v.summary()"
      ],
      "execution_count": null,
      "outputs": [
        {
          "output_type": "stream",
          "text": [
            "Model: \"model_6\"\n",
            "_________________________________________________________________\n",
            "Layer (type)                 Output Shape              Param #   \n",
            "=================================================================\n",
            "input (InputLayer)           [(None, 150)]             0         \n",
            "_________________________________________________________________\n",
            "embedding_8 (Embedding)      (None, 150, 300)          10500000  \n",
            "_________________________________________________________________\n",
            "lstm (Bidirectional)         (None, 150, 128)          186880    \n",
            "_________________________________________________________________\n",
            "time_distributed_6 (TimeDist (None, 150, 9)            1161      \n",
            "=================================================================\n",
            "Total params: 10,688,041\n",
            "Trainable params: 188,041\n",
            "Non-trainable params: 10,500,000\n",
            "_________________________________________________________________\n"
          ],
          "name": "stdout"
        }
      ]
    },
    {
      "cell_type": "code",
      "metadata": {
        "id": "GhxYABi79LQ4"
      },
      "source": [
        "monitor_para = \"val_accuracy\"\n",
        "model_save_dir = \"lstm_w2v/\"\n",
        "\n",
        "if not os.path.isdir(model_save_dir):\n",
        "    os.mkdir(model_save_dir)\n",
        "\n",
        "filepath = model_save_dir + \"%s-improve-{epoch:02d}-{%s:.4f}.hdf5\" % (monitor_para, monitor_para)\n",
        "\n",
        "log_history = LossHistory()\n",
        "checkpoint = ModelCheckpoint(filepath, monitor=monitor_para, verbose=1, save_best_only=True, mode='auto')\n",
        "early_stopping = EarlyStopping(monitor='val_loss', patience=3, min_delta=0, verbose=1, restore_best_weights=True)"
      ],
      "execution_count": null,
      "outputs": []
    },
    {
      "cell_type": "code",
      "metadata": {
        "colab": {
          "base_uri": "https://localhost:8080/"
        },
        "id": "vuyrlBRO9LQ5",
        "outputId": "ca52c9f6-6bfc-47f7-f977-8651197e3e4a"
      },
      "source": [
        "BATCH_SIZE = 128\n",
        "EPOCHS = 5\n",
        "history = lstm_model_w2v.fit(x_train_idx_padded, y_train_idx_padded,\n",
        "                             batch_size = BATCH_SIZE,\n",
        "                             epochs = EPOCHS,\n",
        "                             #class_weight = class_weights,\n",
        "                             callbacks = [checkpoint, early_stopping, log_history],\n",
        "                             validation_data = (x_test_idx_padded, y_test_idx_padded)\n",
        "                             )"
      ],
      "execution_count": null,
      "outputs": [
        {
          "output_type": "stream",
          "text": [
            "Epoch 1/5\n",
            "118/118 [==============================] - 175s 1s/step - loss: 3.6289 - accuracy: 0.7337 - val_loss: 0.5824 - val_accuracy: 0.7775\n",
            "\n",
            "Epoch 00001: val_accuracy improved from -inf to 0.77751, saving model to lstm_w2v/val_accuracy-improve-01-0.7775.hdf5\n",
            "Epoch 2/5\n",
            "118/118 [==============================] - 168s 1s/step - loss: 0.5386 - accuracy: 0.7782 - val_loss: 0.4471 - val_accuracy: 0.8034\n",
            "\n",
            "Epoch 00002: val_accuracy improved from 0.77751 to 0.80336, saving model to lstm_w2v/val_accuracy-improve-02-0.8034.hdf5\n",
            "Epoch 3/5\n",
            "118/118 [==============================] - 168s 1s/step - loss: 0.4490 - accuracy: 0.8003 - val_loss: 0.4180 - val_accuracy: 0.8134\n",
            "\n",
            "Epoch 00003: val_accuracy improved from 0.80336 to 0.81342, saving model to lstm_w2v/val_accuracy-improve-03-0.8134.hdf5\n",
            "Epoch 4/5\n",
            "118/118 [==============================] - 169s 1s/step - loss: 0.4263 - accuracy: 0.8086 - val_loss: 0.4031 - val_accuracy: 0.8186\n",
            "\n",
            "Epoch 00004: val_accuracy improved from 0.81342 to 0.81862, saving model to lstm_w2v/val_accuracy-improve-04-0.8186.hdf5\n",
            "Epoch 5/5\n",
            "118/118 [==============================] - 171s 1s/step - loss: 0.4093 - accuracy: 0.8125 - val_loss: 0.3974 - val_accuracy: 0.8219\n",
            "\n",
            "Epoch 00005: val_accuracy improved from 0.81862 to 0.82194, saving model to lstm_w2v/val_accuracy-improve-05-0.8219.hdf5\n"
          ],
          "name": "stdout"
        }
      ]
    },
    {
      "cell_type": "code",
      "metadata": {
        "id": "MN74EM7X9LQ5"
      },
      "source": [
        "drive_folder = \"/content/drive/MyDrive/NLP/Project/models/\" + model_save_dir\n",
        "if not os.path.isdir(drive_folder):\n",
        "    os.mkdir(drive_folder)\n",
        "\n",
        "!cp /content/lstm_w2v/val_accuracy-improve-06-0.8671.hdf5 $drive_folder"
      ],
      "execution_count": null,
      "outputs": []
    },
    {
      "cell_type": "code",
      "metadata": {
        "colab": {
          "base_uri": "https://localhost:8080/",
          "height": 388
        },
        "id": "8xIjMet69LQ5",
        "outputId": "fd8b8f74-5c3e-493e-85cd-439b92f95b60"
      },
      "source": [
        "plt.figure(figsize=(10,6))\n",
        "plt.plot(log_history.losses, label=\"train Loss\")\n",
        "#plt.plot(log_history.val_losses, label=\"validation Loss\")\n",
        "plt.xlabel(\"Steps\")\n",
        "plt.ylabel(\"Loss\")\n",
        "plt.legend()\n",
        "plt.show()"
      ],
      "execution_count": null,
      "outputs": [
        {
          "output_type": "display_data",
          "data": {
            "image/png": "[encoded data removed]",
            "text/plain": [
              "<Figure size 720x432 with 1 Axes>"
            ]
          },
          "metadata": {
            "tags": [],
            "needs_background": "light"
          }
        }
      ]
    },
    {
      "cell_type": "code",
      "metadata": {
        "colab": {
          "base_uri": "https://localhost:8080/",
          "height": 388
        },
        "id": "U0YwF91C9LQ6",
        "outputId": "7fa396ff-5c91-498d-a7ff-89a6ad98ada9"
      },
      "source": [
        "plt.figure(figsize=(10,6))\n",
        "plt.plot(log_history.accuracies, label=\"train accuracy\")\n",
        "plt.xlabel(\"Steps\")\n",
        "plt.ylabel(\"Accuracy\")\n",
        "plt.legend()\n",
        "plt.show()"
      ],
      "execution_count": null,
      "outputs": [
        {
          "output_type": "display_data",
          "data": {
            "image/png": "[encoded data removed]",
            "text/plain": [
              "<Figure size 720x432 with 1 Axes>"
            ]
          },
          "metadata": {
            "tags": [],
            "needs_background": "light"
          }
        }
      ]
    },
    {
      "cell_type": "code",
      "metadata": {
        "colab": {
          "base_uri": "https://localhost:8080/",
          "height": 318
        },
        "id": "E4MTpcWC9LQ6",
        "outputId": "01c4ef4d-9422-4542-9cf6-5e8939ab7b3a"
      },
      "source": [
        "hist_w2v = pd.DataFrame(history.history)\n",
        "hist_w2v"
      ],
      "execution_count": null,
      "outputs": [
        {
          "output_type": "execute_result",
          "data": {
            "text/html": [
              "<div>\n",
              "<style scoped>\n",
              "    .dataframe tbody tr th:only-of-type {\n",
              "        vertical-align: middle;\n",
              "    }\n",
              "\n",
              "    .dataframe tbody tr th {\n",
              "        vertical-align: top;\n",
              "    }\n",
              "\n",
              "    .dataframe thead th {\n",
              "        text-align: right;\n",
              "    }\n",
              "</style>\n",
              "<table border=\"1\" class=\"dataframe\">\n",
              "  <thead>\n",
              "    <tr style=\"text-align: right;\">\n",
              "      <th></th>\n",
              "      <th>loss</th>\n",
              "      <th>accuracy</th>\n",
              "      <th>val_loss</th>\n",
              "      <th>val_accuracy</th>\n",
              "    </tr>\n",
              "  </thead>\n",
              "  <tbody>\n",
              "    <tr>\n",
              "      <th>0</th>\n",
              "      <td>1.155980</td>\n",
              "      <td>0.830505</td>\n",
              "      <td>0.404795</td>\n",
              "      <td>0.844735</td>\n",
              "    </tr>\n",
              "    <tr>\n",
              "      <th>1</th>\n",
              "      <td>0.363984</td>\n",
              "      <td>0.854175</td>\n",
              "      <td>0.456955</td>\n",
              "      <td>0.832211</td>\n",
              "    </tr>\n",
              "    <tr>\n",
              "      <th>2</th>\n",
              "      <td>0.351928</td>\n",
              "      <td>0.857946</td>\n",
              "      <td>0.353166</td>\n",
              "      <td>0.850660</td>\n",
              "    </tr>\n",
              "    <tr>\n",
              "      <th>3</th>\n",
              "      <td>0.346971</td>\n",
              "      <td>0.857340</td>\n",
              "      <td>0.358914</td>\n",
              "      <td>0.854026</td>\n",
              "    </tr>\n",
              "    <tr>\n",
              "      <th>4</th>\n",
              "      <td>0.342683</td>\n",
              "      <td>0.860774</td>\n",
              "      <td>0.362760</td>\n",
              "      <td>0.847697</td>\n",
              "    </tr>\n",
              "    <tr>\n",
              "      <th>5</th>\n",
              "      <td>0.341434</td>\n",
              "      <td>0.859394</td>\n",
              "      <td>0.330429</td>\n",
              "      <td>0.867089</td>\n",
              "    </tr>\n",
              "    <tr>\n",
              "      <th>6</th>\n",
              "      <td>0.340885</td>\n",
              "      <td>0.860303</td>\n",
              "      <td>0.366448</td>\n",
              "      <td>0.852680</td>\n",
              "    </tr>\n",
              "    <tr>\n",
              "      <th>7</th>\n",
              "      <td>0.340587</td>\n",
              "      <td>0.859832</td>\n",
              "      <td>0.489938</td>\n",
              "      <td>0.776596</td>\n",
              "    </tr>\n",
              "    <tr>\n",
              "      <th>8</th>\n",
              "      <td>0.346300</td>\n",
              "      <td>0.859057</td>\n",
              "      <td>0.331504</td>\n",
              "      <td>0.862375</td>\n",
              "    </tr>\n",
              "  </tbody>\n",
              "</table>\n",
              "</div>"
            ],
            "text/plain": [
              "       loss  accuracy  val_loss  val_accuracy\n",
              "0  1.155980  0.830505  0.404795      0.844735\n",
              "1  0.363984  0.854175  0.456955      0.832211\n",
              "2  0.351928  0.857946  0.353166      0.850660\n",
              "3  0.346971  0.857340  0.358914      0.854026\n",
              "4  0.342683  0.860774  0.362760      0.847697\n",
              "5  0.341434  0.859394  0.330429      0.867089\n",
              "6  0.340885  0.860303  0.366448      0.852680\n",
              "7  0.340587  0.859832  0.489938      0.776596\n",
              "8  0.346300  0.859057  0.331504      0.862375"
            ]
          },
          "metadata": {
            "tags": []
          },
          "execution_count": 68
        }
      ]
    },
    {
      "cell_type": "code",
      "metadata": {
        "colab": {
          "base_uri": "https://localhost:8080/",
          "height": 388
        },
        "id": "sK9_2zUk9LQ7",
        "outputId": "2f3d7b71-5d78-4dd9-99a3-96d7ba439c3f"
      },
      "source": [
        "plt.figure(figsize=(10,6))\n",
        "plt.plot(hist_w2v['loss'], label=\"train Loss\")\n",
        "plt.plot(hist_w2v['val_loss'], label=\"validation Loss\")\n",
        "plt.xlabel(\"Epoch\")\n",
        "plt.ylabel(\"Loss\")\n",
        "plt.legend()\n",
        "plt.show()"
      ],
      "execution_count": null,
      "outputs": [
        {
          "output_type": "display_data",
          "data": {
            "image/png": "[encoded data removed]",
            "text/plain": [
              "<Figure size 720x432 with 1 Axes>"
            ]
          },
          "metadata": {
            "tags": [],
            "needs_background": "light"
          }
        }
      ]
    },
    {
      "cell_type": "code",
      "metadata": {
        "colab": {
          "base_uri": "https://localhost:8080/",
          "height": 388
        },
        "id": "blpRYW9a9LQ7",
        "outputId": "4096d160-c421-454e-b311-9678f9b3c799"
      },
      "source": [
        "plt.figure(figsize=(10,6))\n",
        "plt.plot(hist_w2v['accuracy'], label=\"train accuracy\")\n",
        "plt.plot(hist_w2v['val_accuracy'], label=\"validation accuracy\")\n",
        "plt.xlabel(\"Epoch\")\n",
        "plt.ylabel(\"Accuracy\")\n",
        "plt.legend()\n",
        "plt.show()"
      ],
      "execution_count": null,
      "outputs": [
        {
          "output_type": "display_data",
          "data": {
            "image/png": "[encoded data removed]",
            "text/plain": [
              "<Figure size 720x432 with 1 Axes>"
            ]
          },
          "metadata": {
            "tags": [],
            "needs_background": "light"
          }
        }
      ]
    },
    {
      "cell_type": "code",
      "metadata": {
        "id": "MNxQqEQpR4V1"
      },
      "source": [
        ""
      ],
      "execution_count": null,
      "outputs": []
    },
    {
      "cell_type": "markdown",
      "metadata": {
        "id": "UyRqt9XQ4OJ_"
      },
      "source": [
        "#### evaluate"
      ]
    },
    {
      "cell_type": "code",
      "metadata": {
        "colab": {
          "base_uri": "https://localhost:8080/"
        },
        "id": "Gva6Y3TJ4OJ_",
        "outputId": "a2641ee1-3aa1-446c-80b4-b0a4c51d7a40"
      },
      "source": [
        "y_test_pred = lstm_model_w2v.predict(x_test_idx_padded)\n",
        "y_test_pred_idx = y_test_pred.argmax(axis=-1)\n",
        "\n",
        "y_test_pred.shape, y_test_pred_idx.shape"
      ],
      "execution_count": null,
      "outputs": [
        {
          "output_type": "execute_result",
          "data": {
            "text/plain": [
              "((3770, 150, 9), (3770, 150))"
            ]
          },
          "metadata": {
            "tags": []
          },
          "execution_count": 248
        }
      ]
    },
    {
      "cell_type": "code",
      "metadata": {
        "colab": {
          "base_uri": "https://localhost:8080/"
        },
        "id": "rl266eo14OKA",
        "outputId": "f9376cb1-5886-4bb4-fa54-437ccf4a4cde"
      },
      "source": [
        "y_test_flatten = []\n",
        "y_pred_flatten = []\n",
        "\n",
        "for t_list,p_list in zip(y_test_idx, y_test_pred_idx):\n",
        "    l = min(MAX_SEQ_LEN, len(t_list))\n",
        "    y_test_flatten.extend(t_list[:l])\n",
        "    y_pred_flatten.extend(p_list[:l])\n",
        "\n",
        "len(y_test_flatten), len(y_pred_flatten)"
      ],
      "execution_count": null,
      "outputs": [
        {
          "output_type": "execute_result",
          "data": {
            "text/plain": [
              "(340903, 340903)"
            ]
          },
          "metadata": {
            "tags": []
          },
          "execution_count": 249
        }
      ]
    },
    {
      "cell_type": "code",
      "metadata": {
        "colab": {
          "base_uri": "https://localhost:8080/"
        },
        "id": "RdibLY3i4OKA",
        "outputId": "3a865277-c576-46a6-bc3b-3854cff627ac"
      },
      "source": [
        "print('\\nClassification Report:')\n",
        "print(classification_report(y_test_flatten, y_pred_flatten))"
      ],
      "execution_count": null,
      "outputs": [
        {
          "output_type": "stream",
          "text": [
            "\n",
            "Classification Report:\n",
            "              precision    recall  f1-score   support\n",
            "\n",
            "           0       0.84      0.23      0.36    264415\n",
            "           1       0.03      0.04      0.04     13608\n",
            "           2       0.04      0.05      0.05     11417\n",
            "           3       0.07      0.02      0.03     12478\n",
            "           4       0.06      0.02      0.03     18275\n",
            "           5       0.01      0.16      0.02      5246\n",
            "           6       0.00      0.03      0.01      1176\n",
            "           7       0.03      0.27      0.05      8049\n",
            "           8       0.03      0.23      0.05      6239\n",
            "\n",
            "    accuracy                           0.20    340903\n",
            "   macro avg       0.12      0.12      0.07    340903\n",
            "weighted avg       0.66      0.20      0.29    340903\n",
            "\n"
          ],
          "name": "stdout"
        }
      ]
    },
    {
      "cell_type": "code",
      "metadata": {
        "colab": {
          "base_uri": "https://localhost:8080/",
          "height": 538
        },
        "id": "aI0chg944OKA",
        "outputId": "d69651cf-43c8-4aa0-b8ce-3e739efea41f"
      },
      "source": [
        "mat = confusion_matrix(y_test_flatten, y_pred_flatten)\n",
        "plt.figure(figsize=(12,8))\n",
        "sns.heatmap(mat.T, square = True, annot=True, fmt = \"d\",  xticklabels=possible_labels, yticklabels=possible_labels)\n",
        "plt.xlabel(\"true labels\")\n",
        "plt.ylabel(\"predicted label\")\n",
        "plt.show()"
      ],
      "execution_count": null,
      "outputs": [
        {
          "output_type": "display_data",
          "data": {
            "image/png": "[encoded data removed]",
            "text/plain": [
              "<Figure size 864x576 with 2 Axes>"
            ]
          },
          "metadata": {
            "tags": [],
            "needs_background": "light"
          }
        }
      ]
    },
    {
      "cell_type": "markdown",
      "metadata": {
        "id": "UlFrKsY-SB5u"
      },
      "source": [
        "# BERT based NER model"
      ]
    },
    {
      "cell_type": "code",
      "metadata": {
        "colab": {
          "base_uri": "https://localhost:8080/",
          "height": 321
        },
        "id": "OiZPJ37S8QLG",
        "outputId": "4cfcdc6e-8884-4bed-f982-74f8e221558e"
      },
      "source": [
        "import logging\n",
        "from simpletransformers.ner import NERModel, NERArgs"
      ],
      "execution_count": null,
      "outputs": [
        {
          "output_type": "error",
          "ename": "ModuleNotFoundError",
          "evalue": "ignored",
          "traceback": [
            "\u001b[0;31m---------------------------------------------------------------------------\u001b[0m",
            "\u001b[0;31mModuleNotFoundError\u001b[0m                       Traceback (most recent call last)",
            "\u001b[0;32m<ipython-input-282-38b2bcc1e98e>\u001b[0m in \u001b[0;36m<module>\u001b[0;34m()\u001b[0m\n\u001b[1;32m      1\u001b[0m \u001b[0;32mimport\u001b[0m \u001b[0mlogging\u001b[0m\u001b[0;34m\u001b[0m\u001b[0;34m\u001b[0m\u001b[0m\n\u001b[0;32m----> 2\u001b[0;31m \u001b[0;32mfrom\u001b[0m \u001b[0msimpletransformers\u001b[0m\u001b[0;34m.\u001b[0m\u001b[0mner\u001b[0m \u001b[0;32mimport\u001b[0m \u001b[0mNERModel\u001b[0m\u001b[0;34m,\u001b[0m \u001b[0mNERArgs\u001b[0m\u001b[0;34m\u001b[0m\u001b[0;34m\u001b[0m\u001b[0m\n\u001b[0m",
            "\u001b[0;31mModuleNotFoundError\u001b[0m: No module named 'simpletransformers'",
            "",
            "\u001b[0;31m---------------------------------------------------------------------------\u001b[0;32m\nNOTE: If your import is failing due to a missing package, you can\nmanually install dependencies using either !pip or !apt.\n\nTo view examples of installing some common dependencies, click the\n\"Open Examples\" button below.\n\u001b[0;31m---------------------------------------------------------------------------\u001b[0m\n"
          ]
        }
      ]
    },
    {
      "cell_type": "code",
      "metadata": {
        "id": "pSv0GVz08eN-"
      },
      "source": [
        "logging.basicConfig(level=logging.INFO)\n",
        "transformers_logger = logging.getLogger(\"transformers\")\n",
        "transformers_logger.setLevel(logging.WARNING)"
      ],
      "execution_count": null,
      "outputs": []
    },
    {
      "cell_type": "code",
      "metadata": {
        "id": "gH9_7HaGFoMY"
      },
      "source": [
        "\n",
        "\n",
        "train_data = [\n",
        "    [0, \"Harry\", \"B-PER\"],\n",
        "    [0, \"Potter\", \"I-PER\"],\n",
        "    [0, \"was\", \"O\"],\n",
        "    [0, \"a\", \"O\"],\n",
        "    [0, \"student\", \"B-MISC\"],\n",
        "    [0, \"at\", \"O\"],\n",
        "    [0, \"Hogwarts\", \"B-LOC\"],\n",
        "    [1, \"Albus\", \"B-PER\"],\n",
        "    [1, \"Dumbledore\", \"I-PER\"],\n",
        "    [1, \"founded\", \"O\"],\n",
        "    [1, \"the\", \"O\"],\n",
        "    [1, \"Order\", \"B-ORG\"],\n",
        "    [1, \"of\", \"I-ORG\"],\n",
        "    [1, \"the\", \"I-ORG\"],\n",
        "    [1, \"Phoenix\", \"I-ORG\"],\n",
        "]\n",
        "train_data = pd.DataFrame(\n",
        "    train_data, columns=[\"sentence_id\", \"words\", \"labels\"]\n",
        ")\n",
        "\n",
        "eval_data = [\n",
        "    [0, \"Sirius\", \"B-PER\"],\n",
        "    [0, \"Black\", \"I-PER\"],\n",
        "    [0, \"was\", \"O\"],\n",
        "    [0, \"a\", \"O\"],\n",
        "    [0, \"prisoner\", \"B-MISC\"],\n",
        "    [0, \"at\", \"O\"],\n",
        "    [0, \"Azkaban\", \"B-LOC\"],\n",
        "    [1, \"Lord\", \"B-PER\"],\n",
        "    [1, \"Voldemort\", \"I-PER\"],\n",
        "    [1, \"founded\", \"O\"],\n",
        "    [1, \"the\", \"O\"],\n",
        "    [1, \"Death\", \"B-ORG\"],\n",
        "    [1, \"Eaters\", \"I-ORG\"],\n",
        "]\n",
        "eval_data = pd.DataFrame(\n",
        "    eval_data, columns=[\"sentence_id\", \"words\", \"labels\"]\n",
        ")\n",
        "\n",
        "# Configure the model\n",
        "model_args = NERArgs()\n",
        "model_args.train_batch_size = 16\n",
        "model_args.evaluate_during_training = True\n",
        "\n",
        "model = NERModel(\n",
        "    \"roberta\", \"roberta-base\", args=model_args\n",
        ")\n",
        "\n",
        "# Train the model\n",
        "model.train_model(train_data, eval_data=eval_data)\n",
        "\n",
        "# Evaluate the model\n",
        "result, model_outputs, preds_list = model.eval_model(eval_data)\n",
        "\n",
        "# Make predictions with the model\n",
        "predictions, raw_outputs = model.predict([\"Hermione was the best in her class\"])\n"
      ],
      "execution_count": null,
      "outputs": []
    },
    {
      "cell_type": "code",
      "metadata": {
        "id": "flb3Q7DqSDXq"
      },
      "source": [
        ""
      ],
      "execution_count": null,
      "outputs": []
    }
  ]
}